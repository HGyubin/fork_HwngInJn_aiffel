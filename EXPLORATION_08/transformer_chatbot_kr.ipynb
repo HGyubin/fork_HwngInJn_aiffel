{
 "cells": [
  {
   "cell_type": "markdown",
   "id": "6ddcf4b8",
   "metadata": {},
   "source": [
    "# Project 8. Transformer Chatbot\n",
    "\n",
    "## Rubric:\n",
    "\n",
    "### 1. 한국어 전처리를 통해 학습 데이터셋을 구축하였다. \n",
    "\n",
    "- 공백과 특수문자 처리, 토크나이징, 병렬데이터 구축의 과정이 적절히 진행되었다.\n",
    "\n",
    "### 2. 트랜스포머 모델을 구현하여 한국어 챗봇 모델 학습을 정상적으로 진행하였다. \n",
    "\n",
    "- 구현한 트랜스포머 모델이 한국어 병렬 데이터 학습 시 안정적으로 수렴하였다.\n",
    "\n",
    "### 3. 한국어 입력문장에 대해 한국어로 답변하는 함수를 구현하였다. \n",
    "\n",
    "- 한국어 입력문장에 맥락에 맞는 한국어로 답변을 리턴하였다."
   ]
  },
  {
   "cell_type": "code",
   "execution_count": 1,
   "id": "e73f102b",
   "metadata": {},
   "outputs": [
    {
     "name": "stdout",
     "output_type": "stream",
     "text": [
      "2.6.0\n",
      "1.3.3\n"
     ]
    }
   ],
   "source": [
    "import tensorflow as tf\n",
    "import tensorflow_datasets as tfds\n",
    "import os\n",
    "import re\n",
    "import numpy as np\n",
    "import matplotlib.pyplot as plt\n",
    "import pandas as pd\n",
    "import seaborn as sns\n",
    "import random\n",
    "\n",
    "print(tf.__version__)\n",
    "print(pd.__version__)"
   ]
  },
  {
   "cell_type": "code",
   "execution_count": 2,
   "id": "8e572ee2",
   "metadata": {},
   "outputs": [
    {
     "data": {
      "text/html": [
       "<div>\n",
       "<style scoped>\n",
       "    .dataframe tbody tr th:only-of-type {\n",
       "        vertical-align: middle;\n",
       "    }\n",
       "\n",
       "    .dataframe tbody tr th {\n",
       "        vertical-align: top;\n",
       "    }\n",
       "\n",
       "    .dataframe thead th {\n",
       "        text-align: right;\n",
       "    }\n",
       "</style>\n",
       "<table border=\"1\" class=\"dataframe\">\n",
       "  <thead>\n",
       "    <tr style=\"text-align: right;\">\n",
       "      <th></th>\n",
       "      <th>Q</th>\n",
       "      <th>A</th>\n",
       "      <th>label</th>\n",
       "    </tr>\n",
       "  </thead>\n",
       "  <tbody>\n",
       "    <tr>\n",
       "      <th>11255</th>\n",
       "      <td>좋아하는거 어떤 느낌임.</td>\n",
       "      <td>마음을 주체할 수 없는거 아닐까요.</td>\n",
       "      <td>2</td>\n",
       "    </tr>\n",
       "    <tr>\n",
       "      <th>1154</th>\n",
       "      <td>단발 어울릴까?</td>\n",
       "      <td>변화를 주는 것도 좋겠죠.</td>\n",
       "      <td>0</td>\n",
       "    </tr>\n",
       "    <tr>\n",
       "      <th>256</th>\n",
       "      <td>과일 잘 안 먹게 돼</td>\n",
       "      <td>그래도 먹으려고 노력해보세요.</td>\n",
       "      <td>0</td>\n",
       "    </tr>\n",
       "    <tr>\n",
       "      <th>2371</th>\n",
       "      <td>새로운 사랑이 찾아올까</td>\n",
       "      <td>좋은 사람 만날 거예요.</td>\n",
       "      <td>0</td>\n",
       "    </tr>\n",
       "    <tr>\n",
       "      <th>9127</th>\n",
       "      <td>나 사랑할 준비 됐나?</td>\n",
       "      <td>된 것 같네요.</td>\n",
       "      <td>2</td>\n",
       "    </tr>\n",
       "    <tr>\n",
       "      <th>8578</th>\n",
       "      <td>헤어진 여자심리</td>\n",
       "      <td>누구든 힘들어할 거예요.</td>\n",
       "      <td>1</td>\n",
       "    </tr>\n",
       "    <tr>\n",
       "      <th>5153</th>\n",
       "      <td>혼자 있고 싶다</td>\n",
       "      <td>혼자만 있지 마세요.</td>\n",
       "      <td>0</td>\n",
       "    </tr>\n",
       "    <tr>\n",
       "      <th>7246</th>\n",
       "      <td>왜 자꾸 내 마음속에 나타나니?</td>\n",
       "      <td>많이 사랑했던 분인가봐요.</td>\n",
       "      <td>1</td>\n",
       "    </tr>\n",
       "    <tr>\n",
       "      <th>120</th>\n",
       "      <td>건조하네</td>\n",
       "      <td>눈을 깜빡거려 보세요.</td>\n",
       "      <td>0</td>\n",
       "    </tr>\n",
       "    <tr>\n",
       "      <th>11468</th>\n",
       "      <td>짝녀 관련돼서 악몽을 자주 꾸는데 불안함.</td>\n",
       "      <td>악몽이라니 걱정되겠어요.</td>\n",
       "      <td>2</td>\n",
       "    </tr>\n",
       "  </tbody>\n",
       "</table>\n",
       "</div>"
      ],
      "text/plain": [
       "                             Q                    A  label\n",
       "11255            좋아하는거 어떤 느낌임.  마음을 주체할 수 없는거 아닐까요.      2\n",
       "1154                  단발 어울릴까?       변화를 주는 것도 좋겠죠.      0\n",
       "256                과일 잘 안 먹게 돼     그래도 먹으려고 노력해보세요.      0\n",
       "2371              새로운 사랑이 찾아올까        좋은 사람 만날 거예요.      0\n",
       "9127              나 사랑할 준비 됐나?             된 것 같네요.      2\n",
       "8578                  헤어진 여자심리        누구든 힘들어할 거예요.      1\n",
       "5153                  혼자 있고 싶다          혼자만 있지 마세요.      0\n",
       "7246         왜 자꾸 내 마음속에 나타나니?       많이 사랑했던 분인가봐요.      1\n",
       "120                       건조하네         눈을 깜빡거려 보세요.      0\n",
       "11468  짝녀 관련돼서 악몽을 자주 꾸는데 불안함.        악몽이라니 걱정되겠어요.      2"
      ]
     },
     "execution_count": 2,
     "metadata": {},
     "output_type": "execute_result"
    }
   ],
   "source": [
    "data_path = \"./data/ChatbotData .csv\"\n",
    "data = pd.read_csv(data_path, encoding='utf-8')\n",
    "data.sample(10)"
   ]
  },
  {
   "cell_type": "code",
   "execution_count": 3,
   "id": "6b69535c",
   "metadata": {},
   "outputs": [
    {
     "data": {
      "text/plain": [
       "Q        0\n",
       "A        0\n",
       "label    0\n",
       "dtype: int64"
      ]
     },
     "execution_count": 3,
     "metadata": {},
     "output_type": "execute_result"
    }
   ],
   "source": [
    "# 결측치 확인\n",
    "data.isnull().sum()"
   ]
  },
  {
   "cell_type": "code",
   "execution_count": 4,
   "id": "b0f98a65",
   "metadata": {},
   "outputs": [
    {
     "name": "stdout",
     "output_type": "stream",
     "text": [
      "(11823, 3)\n"
     ]
    },
    {
     "data": {
      "text/html": [
       "<div>\n",
       "<style scoped>\n",
       "    .dataframe tbody tr th:only-of-type {\n",
       "        vertical-align: middle;\n",
       "    }\n",
       "\n",
       "    .dataframe tbody tr th {\n",
       "        vertical-align: top;\n",
       "    }\n",
       "\n",
       "    .dataframe thead th {\n",
       "        text-align: right;\n",
       "    }\n",
       "</style>\n",
       "<table border=\"1\" class=\"dataframe\">\n",
       "  <thead>\n",
       "    <tr style=\"text-align: right;\">\n",
       "      <th></th>\n",
       "      <th>Q</th>\n",
       "      <th>A</th>\n",
       "    </tr>\n",
       "    <tr>\n",
       "      <th>label</th>\n",
       "      <th></th>\n",
       "      <th></th>\n",
       "    </tr>\n",
       "  </thead>\n",
       "  <tbody>\n",
       "    <tr>\n",
       "      <th>0</th>\n",
       "      <td>5290</td>\n",
       "      <td>5290</td>\n",
       "    </tr>\n",
       "    <tr>\n",
       "      <th>1</th>\n",
       "      <td>3570</td>\n",
       "      <td>3570</td>\n",
       "    </tr>\n",
       "    <tr>\n",
       "      <th>2</th>\n",
       "      <td>2963</td>\n",
       "      <td>2963</td>\n",
       "    </tr>\n",
       "  </tbody>\n",
       "</table>\n",
       "</div>"
      ],
      "text/plain": [
       "          Q     A\n",
       "label            \n",
       "0      5290  5290\n",
       "1      3570  3570\n",
       "2      2963  2963"
      ]
     },
     "execution_count": 4,
     "metadata": {},
     "output_type": "execute_result"
    }
   ],
   "source": [
    "print(data.shape)  #(11823, 3) 11823 rows, 3 columns (Q, A, label)\n",
    "data.groupby(['label']).count()"
   ]
  },
  {
   "cell_type": "markdown",
   "id": "f6704331",
   "metadata": {},
   "source": [
    "- label 설명: 0 => 일상다반사, 1 => 이별 negative, 2 => 사랑 positive"
   ]
  },
  {
   "cell_type": "code",
   "execution_count": 5,
   "id": "04c83bfa",
   "metadata": {},
   "outputs": [],
   "source": [
    "# label column 제거\n",
    "data.drop(['label'], axis=1, inplace=True) # label을 사용하면 좀더 성능 향상이 있을지도"
   ]
  },
  {
   "cell_type": "code",
   "execution_count": 6,
   "id": "d334a29b",
   "metadata": {},
   "outputs": [],
   "source": [
    "# 겹치는 질문 제거, 답변이 겹치는것은 제거 X\n",
    "data.drop_duplicates(['Q'], inplace=True)"
   ]
  },
  {
   "cell_type": "code",
   "execution_count": 7,
   "id": "9c91374d",
   "metadata": {},
   "outputs": [
    {
     "name": "stdout",
     "output_type": "stream",
     "text": [
      "(11662, 2)\n"
     ]
    }
   ],
   "source": [
    "print(data.shape) #(11662, 2)"
   ]
  },
  {
   "cell_type": "code",
   "execution_count": 8,
   "id": "80dc4b6f",
   "metadata": {},
   "outputs": [],
   "source": [
    "# 전처리 함수\n",
    "def preprocess_sentence(sentence):\n",
    "    sentence = sentence.lower().strip()\n",
    "    # 단어와 구두점(punctuation) 사이의 거리를 만듭니다.\n",
    "    sentence = re.sub(r\"([?.!,])\", r\" \\1 \", sentence)\n",
    "    sentence = re.sub(r'[\" \"]+', \" \", sentence)\n",
    "\n",
    "    # (영어, 한글, 숫자, \".\", \"?\", \"!\", \",\")를 제외한 모든 문자를 공백인 ' '로 대체합니다.\n",
    "    sentence = re.sub(r\"[^a-zA-Z|ㄱ-ㅎ|ㅏ-ㅣ|가-힣|?.!,0-9]+\", \" \", sentence)\n",
    "    sentence = sentence.strip()\n",
    "\n",
    "    return sentence"
   ]
  },
  {
   "cell_type": "code",
   "execution_count": 9,
   "id": "dae88854",
   "metadata": {
    "scrolled": true
   },
   "outputs": [
    {
     "data": {
      "text/plain": [
       "0                         12시 땡 !\n",
       "1                     1지망 학교 떨어졌어\n",
       "2                    3박4일 놀러가고 싶다\n",
       "3                 3박4일 정도 놀러가고 싶다\n",
       "4                         ppl 심하네\n",
       "                   ...           \n",
       "11817               후회 없이 사랑하고 싶어\n",
       "11818             훔쳐보는 것도 눈치 보임 .\n",
       "11820                흑기사 해주는 짝남 .\n",
       "11821    힘든 연애 좋은 연애라는게 무슨 차이일까 ?\n",
       "11822                  힘들어서 결혼할까봐\n",
       "Name: Q, Length: 11662, dtype: object"
      ]
     },
     "execution_count": 9,
     "metadata": {},
     "output_type": "execute_result"
    }
   ],
   "source": [
    "questions = data['Q'].apply(preprocess_sentence)\n",
    "questions"
   ]
  },
  {
   "cell_type": "code",
   "execution_count": 10,
   "id": "a0b98113",
   "metadata": {},
   "outputs": [
    {
     "data": {
      "text/plain": [
       "0                      하루가 또 가네요 .\n",
       "1                       위로해 드립니다 .\n",
       "2                     여행은 언제나 좋죠 .\n",
       "3                     여행은 언제나 좋죠 .\n",
       "4                      눈살이 찌푸려지죠 .\n",
       "                   ...            \n",
       "11817               진심으로 다가가 보세요 .\n",
       "11818          티가 나니까 눈치가 보이는 거죠 !\n",
       "11820                      설렜겠어요 .\n",
       "11821    잘 헤어질 수 있는 사이 여부인 거 같아요 .\n",
       "11822          도피성 결혼은 하지 않길 바라요 .\n",
       "Name: A, Length: 11662, dtype: object"
      ]
     },
     "execution_count": 10,
     "metadata": {},
     "output_type": "execute_result"
    }
   ],
   "source": [
    "answers = data['A'].apply(preprocess_sentence)\n",
    "answers"
   ]
  },
  {
   "cell_type": "code",
   "execution_count": 11,
   "id": "f91a0abe",
   "metadata": {},
   "outputs": [],
   "source": [
    "import tensorflow_datasets as tfds\n",
    "\n",
    "tokenizer = tfds.deprecated.text.SubwordTextEncoder.build_from_corpus(questions + answers, target_vocab_size=2**13)"
   ]
  },
  {
   "cell_type": "code",
   "execution_count": 12,
   "id": "7372aaa5",
   "metadata": {},
   "outputs": [],
   "source": [
    "START_TOKEN, END_TOKEN = [tokenizer.vocab_size], [tokenizer.vocab_size + 1]"
   ]
  },
  {
   "cell_type": "code",
   "execution_count": 13,
   "id": "f9c53ea8",
   "metadata": {},
   "outputs": [
    {
     "name": "stdout",
     "output_type": "stream",
     "text": [
      "START_TOKEN의 번호 : [8292]\n",
      "END_TOKEN의 번호 : [8293]\n"
     ]
    }
   ],
   "source": [
    "print('START_TOKEN의 번호 :' ,[tokenizer.vocab_size])\n",
    "print('END_TOKEN의 번호 :' ,[tokenizer.vocab_size + 1])"
   ]
  },
  {
   "cell_type": "code",
   "execution_count": 14,
   "id": "36c5df9f",
   "metadata": {},
   "outputs": [
    {
     "name": "stdout",
     "output_type": "stream",
     "text": [
      "8294\n"
     ]
    }
   ],
   "source": [
    "# 시작 토큰과 종료 토큰을 고려하여 +2를 하여 단어장의 크기를 산정합니다.\n",
    "VOCAB_SIZE = tokenizer.vocab_size + 2\n",
    "print(VOCAB_SIZE)"
   ]
  },
  {
   "cell_type": "markdown",
   "id": "0a5da90c",
   "metadata": {},
   "source": [
    "### 데이터 분포 확인"
   ]
  },
  {
   "cell_type": "code",
   "execution_count": 15,
   "id": "df529c37",
   "metadata": {},
   "outputs": [
    {
     "data": {
      "image/png": "[encoded data removed]",
      "text/plain": [
       "<Figure size 432x288 with 1 Axes>"
      ]
     },
     "metadata": {
      "needs_background": "light"
     },
     "output_type": "display_data"
    }
   ],
   "source": [
    "sns.histplot(questions.str.split().str.len())\n",
    "\n",
    "plt.xlabel('Length of question')\n",
    "plt.ylabel('Frequency')\n",
    "\n",
    "# Add arrow and text\n",
    "plt.annotate('Selected Max length', xy=(10, 0.0), xytext=(11, 500),\n",
    "             arrowprops=dict(facecolor='black', shrink=0.05))\n",
    "\n",
    "plt.show()"
   ]
  },
  {
   "cell_type": "code",
   "execution_count": null,
   "id": "0ab39a1f",
   "metadata": {},
   "outputs": [],
   "source": []
  },
  {
   "cell_type": "code",
   "execution_count": 16,
   "id": "adf97e9e",
   "metadata": {},
   "outputs": [
    {
     "data": {
      "image/png": "[encoded data removed]",
      "text/plain": [
       "<Figure size 432x288 with 1 Axes>"
      ]
     },
     "metadata": {
      "needs_background": "light"
     },
     "output_type": "display_data"
    }
   ],
   "source": [
    "sns.histplot(answers.str.split().str.len())\n",
    "plt.xlabel('Length of answer')\n",
    "plt.ylabel('Frequency')\n",
    "\n",
    "# Add arrow and text\n",
    "plt.annotate('Selected Max length', xy=(10, 0.0), xytext=(11, 500),\n",
    "             arrowprops=dict(facecolor='black', shrink=0.05))\n",
    "\n",
    "plt.show()"
   ]
  },
  {
   "cell_type": "code",
   "execution_count": 17,
   "id": "77a5c9f7",
   "metadata": {},
   "outputs": [],
   "source": [
    "MAX_LENGTH = 10"
   ]
  },
  {
   "cell_type": "code",
   "execution_count": 18,
   "id": "3bf0d324",
   "metadata": {},
   "outputs": [],
   "source": [
    "# 정수 인코딩, 최대 길이를 초과하는 샘플 제거, 패딩\n",
    "def tokenize_and_filter(inputs, outputs):\n",
    "  tokenized_inputs, tokenized_outputs = [], []\n",
    "  \n",
    "  for (sentence1, sentence2) in zip(inputs, outputs):\n",
    "    # 정수 인코딩 과정에서 시작 토큰과 종료 토큰을 추가\n",
    "    sentence1 = START_TOKEN + tokenizer.encode(sentence1) + END_TOKEN\n",
    "    sentence2 = START_TOKEN + tokenizer.encode(sentence2) + END_TOKEN\n",
    "\n",
    "    # 최대 길이 10 이하인 경우에만 데이터셋으로 허용\n",
    "    if len(sentence1) <= MAX_LENGTH and len(sentence2) <= MAX_LENGTH:\n",
    "      tokenized_inputs.append(sentence1)\n",
    "      tokenized_outputs.append(sentence2)\n",
    "  \n",
    "  # 최대 길이 10으로 모든 데이터셋을 패딩\n",
    "  tokenized_inputs = tf.keras.preprocessing.sequence.pad_sequences(\n",
    "      tokenized_inputs, maxlen=MAX_LENGTH, padding='post')\n",
    "  tokenized_outputs = tf.keras.preprocessing.sequence.pad_sequences(\n",
    "      tokenized_outputs, maxlen=MAX_LENGTH, padding='post')\n",
    "  \n",
    "  return tokenized_inputs, tokenized_outputs"
   ]
  },
  {
   "cell_type": "code",
   "execution_count": 19,
   "id": "8c675bf0",
   "metadata": {},
   "outputs": [
    {
     "name": "stdout",
     "output_type": "stream",
     "text": [
      "단어장의 크기 : 8294\n",
      "필터링 후의 질문 샘플 개수: 8939\n",
      "필터링 후의 답변 샘플 개수: 8939\n"
     ]
    }
   ],
   "source": [
    "questions, answers = tokenize_and_filter(questions, answers)\n",
    "print('단어장의 크기 :',(VOCAB_SIZE))\n",
    "print('필터링 후의 질문 샘플 개수: {}'.format(len(questions)))\n",
    "print('필터링 후의 답변 샘플 개수: {}'.format(len(answers)))"
   ]
  },
  {
   "cell_type": "code",
   "execution_count": 20,
   "id": "5dd43fe1",
   "metadata": {},
   "outputs": [],
   "source": [
    "BATCH_SIZE = 256\n",
    "BUFFER_SIZE = 20000\n",
    "\n",
    "# 디코더는 이전의 target을 다음의 input으로 사용합니다.\n",
    "# 이에 따라 outputs에서는 START_TOKEN을 제거하겠습니다.\n",
    "dataset = tf.data.Dataset.from_tensor_slices((\n",
    "    {\n",
    "        'inputs': questions,\n",
    "        'dec_inputs': answers[:, :-1]\n",
    "    },\n",
    "    {\n",
    "        'outputs': answers[:, 1:]\n",
    "    },\n",
    "))\n",
    "\n",
    "dataset = dataset.cache()\n",
    "dataset = dataset.shuffle(BUFFER_SIZE)\n",
    "dataset = dataset.batch(BATCH_SIZE)\n",
    "dataset = dataset.prefetch(tf.data.experimental.AUTOTUNE)"
   ]
  },
  {
   "cell_type": "markdown",
   "id": "a65db390",
   "metadata": {},
   "source": [
    "### Transformer parts"
   ]
  },
  {
   "cell_type": "markdown",
   "id": "7aecc1cd",
   "metadata": {},
   "source": [
    "#### - Positional Encoding"
   ]
  },
  {
   "cell_type": "code",
   "execution_count": 21,
   "id": "61d5b1f6",
   "metadata": {},
   "outputs": [],
   "source": [
    "# positional encoding layer\n",
    "\n",
    "class PositionalEncoding(tf.keras.layers.Layer):\n",
    "\n",
    "    def __init__(self, position, d_model):\n",
    "        super(PositionalEncoding, self).__init__()\n",
    "        self.pos_encoding = self.positional_encoding(position, d_model)\n",
    "\n",
    "    def get_angles(self, position, i, d_model):\n",
    "        angles = 1 / tf.pow(10000, (2 * (i // 2)) / tf.cast(d_model, tf.float32))  # i를 이용해서 고유주기 설정\n",
    "        return position * angles   # 위치(index) * 주기\n",
    "\n",
    "    def positional_encoding(self, position, d_model):\n",
    "        # 각도 배열 생성\n",
    "        angle_rads = self.get_angles(\n",
    "            position=tf.range(position, dtype=tf.float32)[:, tf.newaxis],\n",
    "            i=tf.range(d_model, dtype=tf.float32)[tf.newaxis, :],\n",
    "            d_model=d_model)\n",
    "\n",
    "        # 배열의 짝수 인덱스에는 sin 함수 적용\n",
    "        sines = tf.math.sin(angle_rads[:, 0::2])  \n",
    "        # 배열의 홀수 인덱스에는 cosine 함수 적용\n",
    "        cosines = tf.math.cos(angle_rads[:, 1::2])\n",
    "        \n",
    "        # sin과 cosine이 만약 position이 같고 i = 2n, i = 2n+1일때, 각도는 같다\n",
    "        # sin과 cosine이 교차되도록 재배열\n",
    "        pos_encoding = tf.stack([sines, cosines], axis=0)\n",
    "        pos_encoding = tf.transpose(pos_encoding,[1, 2, 0]) \n",
    "        pos_encoding = tf.reshape(pos_encoding, [position, d_model])\n",
    "\n",
    "        pos_encoding = pos_encoding[tf.newaxis, ...]\n",
    "        return tf.cast(pos_encoding, tf.float32)\n",
    "\n",
    "    def call(self, inputs):\n",
    "        return inputs + self.pos_encoding[:, :tf.shape(inputs)[1], :]\n"
   ]
  },
  {
   "cell_type": "code",
   "execution_count": 22,
   "id": "a76bd441",
   "metadata": {},
   "outputs": [
    {
     "data": {
      "image/png": "[encoded data removed]",
      "text/plain": [
       "<Figure size 432x288 with 2 Axes>"
      ]
     },
     "metadata": {
      "needs_background": "light"
     },
     "output_type": "display_data"
    }
   ],
   "source": [
    "sample_pos_encoding = PositionalEncoding(30, 256)\n",
    "\n",
    "plt.pcolormesh(sample_pos_encoding.pos_encoding.numpy()[0], cmap='RdBu')\n",
    "plt.title('Positional_Encoding')\n",
    "plt.xlabel('Depth')\n",
    "plt.xlim((0, 256))\n",
    "plt.ylabel('Position')\n",
    "plt.colorbar()\n",
    "plt.show()"
   ]
  },
  {
   "cell_type": "markdown",
   "id": "f5620419",
   "metadata": {},
   "source": [
    "#### - Scaled dot product attention"
   ]
  },
  {
   "cell_type": "code",
   "execution_count": 23,
   "id": "69b59e5f",
   "metadata": {},
   "outputs": [],
   "source": [
    "# 스케일드 닷 프로덕트 어텐션 함수\n",
    "def scaled_dot_product_attention(query, key, value, mask):\n",
    "    # 어텐션 가중치는 Q와 K의 닷 프로덕트\n",
    "    matmul_qk = tf.matmul(query, key, transpose_b=True)\n",
    "\n",
    "    # 가중치를 정규화\n",
    "    depth = tf.cast(tf.shape(key)[-1], tf.float32)\n",
    "    logits = matmul_qk / tf.math.sqrt(depth)\n",
    "    # 패딩에 마스크 추가\n",
    "    if mask is not None:\n",
    "        logits += (mask * -1e9)\n",
    "\n",
    "    # softmax적용\n",
    "    attention_weights = tf.nn.softmax(logits, axis=-1)\n",
    "\n",
    "    # 최종 어텐션은 가중치와 V의 닷 프로덕트\n",
    "    output = tf.matmul(attention_weights, value)\n",
    "    return output\n"
   ]
  },
  {
   "cell_type": "markdown",
   "id": "a81e8e7b",
   "metadata": {},
   "source": [
    "#### - multi head attention\n"
   ]
  },
  {
   "cell_type": "code",
   "execution_count": 24,
   "id": "7f07214d",
   "metadata": {},
   "outputs": [],
   "source": [
    "# multi-head-attention (전단계로부터 온 데이터의 차원을 공평하게 나눠 가진후 attention 수행)\n",
    "\n",
    "class MultiHeadAttention(tf.keras.layers.Layer):\n",
    "\n",
    "    def __init__(self, d_model, num_heads, name=\"multi_head_attention\"):\n",
    "        super(MultiHeadAttention, self).__init__(name=name)\n",
    "        self.num_heads = num_heads\n",
    "        self.d_model = d_model\n",
    "\n",
    "        assert d_model % self.num_heads == 0\n",
    "\n",
    "        self.depth = d_model // self.num_heads\n",
    "\n",
    "        self.query_dense = tf.keras.layers.Dense(units=d_model)\n",
    "        self.key_dense = tf.keras.layers.Dense(units=d_model)\n",
    "        self.value_dense = tf.keras.layers.Dense(units=d_model)\n",
    "\n",
    "        self.dense = tf.keras.layers.Dense(units=d_model)\n",
    "\n",
    "    def split_heads(self, inputs, batch_size):\n",
    "        inputs = tf.reshape(\n",
    "            inputs, shape=(batch_size, -1, self.num_heads, self.depth))\n",
    "        return tf.transpose(inputs, perm=[0, 2, 1, 3])\n",
    "\n",
    "    def call(self, inputs):\n",
    "        query, key, value, mask = inputs['query'], inputs['key'], inputs[\n",
    "            'value'], inputs['mask']\n",
    "        batch_size = tf.shape(query)[0]\n",
    "\n",
    "        # Q, K, V에 각각 Dense를 적용합니다\n",
    "        query = self.query_dense(query)\n",
    "        key = self.key_dense(key)\n",
    "        value = self.value_dense(value)\n",
    "\n",
    "        # 병렬 연산을 위한 머리를 여러 개 만듭니다\n",
    "        query = self.split_heads(query, batch_size)\n",
    "        key = self.split_heads(key, batch_size)\n",
    "        value = self.split_heads(value, batch_size)\n",
    "\n",
    "        # 스케일드 닷 프로덕트 어텐션 함수\n",
    "        scaled_attention = scaled_dot_product_attention(query, key, value, mask)\n",
    "\n",
    "        scaled_attention = tf.transpose(scaled_attention, perm=[0, 2, 1, 3])\n",
    "\n",
    "        # 어텐션 연산 후에 각 결과를 다시 연결(concatenate)합니다\n",
    "        concat_attention = tf.reshape(scaled_attention,\n",
    "                                      (batch_size, -1, self.d_model))\n",
    "\n",
    "        # 최종 결과에도 Dense를 한 번 더 적용합니다\n",
    "        outputs = self.dense(concat_attention)\n",
    "\n",
    "        return outputs\n"
   ]
  },
  {
   "cell_type": "markdown",
   "id": "f94e7137",
   "metadata": {},
   "source": [
    "#### - Padding mask & Look ahead mask\n"
   ]
  },
  {
   "cell_type": "code",
   "execution_count": 25,
   "id": "eab14124",
   "metadata": {},
   "outputs": [],
   "source": [
    "# padding mask - 패딩에는 정보가 없으므로 가려버린다\n",
    "\n",
    "def create_padding_mask(x):\n",
    "    mask = tf.cast(tf.math.equal(x, 0), tf.float32)\n",
    "    # (batch_size, 1, 1, sequence length)\n",
    "    return mask[:, tf.newaxis, tf.newaxis, :]\n"
   ]
  },
  {
   "cell_type": "code",
   "execution_count": 26,
   "id": "2c627557",
   "metadata": {},
   "outputs": [],
   "source": [
    "# 치팅 방지 마스크, 다음에 나올 글자 미리 알지 못하게 가려버린다\n",
    "\n",
    "def create_look_ahead_mask(x):\n",
    "    seq_len = tf.shape(x)[1]\n",
    "    look_ahead_mask = 1 - tf.linalg.band_part(tf.ones((seq_len, seq_len)), -1, 0)\n",
    "    padding_mask = create_padding_mask(x)\n",
    "    return tf.maximum(look_ahead_mask, padding_mask)"
   ]
  },
  {
   "cell_type": "markdown",
   "id": "d2987d3e",
   "metadata": {},
   "source": [
    "#### - Encoder layer\n"
   ]
  },
  {
   "cell_type": "code",
   "execution_count": 27,
   "id": "fde44480",
   "metadata": {},
   "outputs": [],
   "source": [
    "# 인코더 하나의 레이어를 함수로 구현.\n",
    "# 이 하나의 레이어 안에는 두 개의 서브 레이어가 존재합니다.\n",
    "def encoder_layer(units, d_model, num_heads, dropout, name=\"encoder_layer\"):\n",
    "    inputs = tf.keras.Input(shape=(None, d_model), name=\"inputs\")\n",
    "\n",
    "    # 패딩 마스크 사용\n",
    "    padding_mask = tf.keras.Input(shape=(1, 1, None), name=\"padding_mask\")\n",
    "\n",
    "    # 첫 번째 서브 레이어 : 멀티 헤드 어텐션 수행 (셀프 어텐션)\n",
    "    attention = MultiHeadAttention(\n",
    "      d_model, num_heads, name=\"attention\")({\n",
    "          'query': inputs,\n",
    "          'key': inputs,\n",
    "          'value': inputs,\n",
    "          'mask': padding_mask\n",
    "      })\n",
    "\n",
    "    # 어텐션의 결과는 Dropout과 Layer Normalization이라는 훈련을 돕는 테크닉을 수행\n",
    "    attention = tf.keras.layers.Dropout(rate=dropout)(attention)\n",
    "    attention = tf.keras.layers.LayerNormalization(\n",
    "      epsilon=1e-6)(inputs + attention)\n",
    "\n",
    "    # 두 번째 서브 레이어 : 2개의 완전연결층\n",
    "    outputs = tf.keras.layers.Dense(units=units, activation='relu')(attention)\n",
    "    outputs = tf.keras.layers.Dense(units=d_model)(outputs)\n",
    "\n",
    "    # 완전연결층의 결과는 Dropout과 LayerNormalization이라는 훈련을 돕는 테크닉을 수행\n",
    "    outputs = tf.keras.layers.Dropout(rate=dropout)(outputs)\n",
    "    outputs = tf.keras.layers.LayerNormalization(\n",
    "      epsilon=1e-6)(attention + outputs)\n",
    "\n",
    "    return tf.keras.Model(\n",
    "      inputs=[inputs, padding_mask], outputs=outputs, name=name)\n"
   ]
  },
  {
   "cell_type": "code",
   "execution_count": 28,
   "id": "97e439f3",
   "metadata": {},
   "outputs": [],
   "source": [
    "def encoder(vocab_size,\n",
    "            num_layers,\n",
    "            units,\n",
    "            d_model,\n",
    "            num_heads,\n",
    "            dropout,\n",
    "            name=\"encoder\"):\n",
    "    inputs = tf.keras.Input(shape=(None,), name=\"inputs\")\n",
    "\n",
    "    # 패딩 마스크 사용\n",
    "    padding_mask = tf.keras.Input(shape=(1, 1, None), name=\"padding_mask\")\n",
    "\n",
    "    # 임베딩 레이어\n",
    "    embeddings = tf.keras.layers.Embedding(vocab_size, d_model)(inputs)\n",
    "    embeddings *= tf.math.sqrt(tf.cast(d_model, tf.float32))\n",
    "\n",
    "    # 포지셔널 인코딩\n",
    "    embeddings = PositionalEncoding(vocab_size, d_model)(embeddings)\n",
    "\n",
    "    outputs = tf.keras.layers.Dropout(rate=dropout)(embeddings)\n",
    "\n",
    "    # num_layers만큼 쌓아올린 인코더의 층.\n",
    "    for i in range(num_layers):\n",
    "        outputs = encoder_layer(units=units, d_model=d_model, num_heads=num_heads, dropout=dropout, name=\"encoder_layer_{}\".format(i),)([outputs, padding_mask])\n",
    "\n",
    "    return tf.keras.Model(inputs=[inputs, padding_mask], outputs=outputs, name=name)\n"
   ]
  },
  {
   "cell_type": "markdown",
   "id": "5d7b4f54",
   "metadata": {},
   "source": [
    "#### - Decoder layer\n"
   ]
  },
  {
   "cell_type": "code",
   "execution_count": 29,
   "id": "05b865a1",
   "metadata": {},
   "outputs": [],
   "source": [
    "# 디코더 하나의 레이어를 함수로 구현.\n",
    "# 이 하나의 레이어 안에는 세 개의 서브 레이어가 존재합니다.\n",
    "def decoder_layer(units, d_model, num_heads, dropout, name=\"decoder_layer\"):\n",
    "    inputs = tf.keras.Input(shape=(None, d_model), name=\"inputs\")\n",
    "    enc_outputs = tf.keras.Input(shape=(None, d_model), name=\"encoder_outputs\")\n",
    "    look_ahead_mask = tf.keras.Input(\n",
    "      shape=(1, None, None), name=\"look_ahead_mask\")\n",
    "    padding_mask = tf.keras.Input(shape=(1, 1, None), name='padding_mask')\n",
    "\n",
    "    # 첫 번째 서브 레이어 : 멀티 헤드 어텐션 수행 (셀프 어텐션)\n",
    "    attention1 = MultiHeadAttention(\n",
    "      d_model, num_heads, name=\"attention_1\")(inputs={\n",
    "          'query': inputs,\n",
    "          'key': inputs,\n",
    "          'value': inputs,\n",
    "          'mask': look_ahead_mask\n",
    "      })\n",
    "\n",
    "    # 멀티 헤드 어텐션의 결과는 LayerNormalization이라는 훈련을 돕는 테크닉을 수행\n",
    "    attention1 = tf.keras.layers.LayerNormalization(\n",
    "      epsilon=1e-6)(attention1 + inputs)\n",
    "\n",
    "    # 두 번째 서브 레이어 : 마스크드 멀티 헤드 어텐션 수행 (인코더-디코더 어텐션)\n",
    "    attention2 = MultiHeadAttention(\n",
    "      d_model, num_heads, name=\"attention_2\")(inputs={\n",
    "          'query': attention1,\n",
    "          'key': enc_outputs,\n",
    "          'value': enc_outputs,\n",
    "          'mask': padding_mask\n",
    "      })\n",
    "\n",
    "    # 마스크드 멀티 헤드 어텐션의 결과는\n",
    "    # Dropout과 LayerNormalization이라는 훈련을 돕는 테크닉을 수행\n",
    "    attention2 = tf.keras.layers.Dropout(rate=dropout)(attention2)\n",
    "    attention2 = tf.keras.layers.LayerNormalization(\n",
    "      epsilon=1e-6)(attention2 + attention1)\n",
    "\n",
    "    # 세 번째 서브 레이어 : 2개의 완전연결층\n",
    "    outputs = tf.keras.layers.Dense(units=units, activation='relu')(attention2)\n",
    "    outputs = tf.keras.layers.Dense(units=d_model)(outputs)\n",
    "\n",
    "    # 완전연결층의 결과는 Dropout과 LayerNormalization 수행\n",
    "    outputs = tf.keras.layers.Dropout(rate=dropout)(outputs)\n",
    "    outputs = tf.keras.layers.LayerNormalization(\n",
    "      epsilon=1e-6)(outputs + attention2)\n",
    "\n",
    "    return tf.keras.Model(\n",
    "      inputs=[inputs, enc_outputs, look_ahead_mask, padding_mask],\n",
    "      outputs=outputs,\n",
    "      name=name)\n"
   ]
  },
  {
   "cell_type": "code",
   "execution_count": null,
   "id": "7c1b5082",
   "metadata": {},
   "outputs": [],
   "source": [
    "def decoder(vocab_size,\n",
    "            num_layers,\n",
    "            units,\n",
    "            d_model,\n",
    "            num_heads,\n",
    "            dropout,\n",
    "            name='decoder'):\n",
    "    inputs = tf.keras.Input(shape=(None,), name='inputs')\n",
    "    enc_outputs = tf.keras.Input(shape=(None, d_model), name='encoder_outputs')\n",
    "    look_ahead_mask = tf.keras.Input(\n",
    "      shape=(1, None, None), name='look_ahead_mask')\n",
    "\n",
    "    # 패딩 마스크\n",
    "    padding_mask = tf.keras.Input(shape=(1, 1, None), name='padding_mask')\n",
    "\n",
    "    # 임베딩 레이어\n",
    "    embeddings = tf.keras.layers.Embedding(vocab_size, d_model)(inputs)\n",
    "    embeddings *= tf.math.sqrt(tf.cast(d_model, tf.float32))\n",
    "\n",
    "    # 포지셔널 인코딩\n",
    "    embeddings = PositionalEncoding(vocab_size, d_model)(embeddings)\n",
    "\n",
    "    # Dropout이라는 훈련을 돕는 테크닉을 수행\n",
    "    outputs = tf.keras.layers.Dropout(rate=dropout)(embeddings)\n",
    "\n",
    "    for i in range(num_layers):\n",
    "        outputs = decoder_layer(\n",
    "            units=units,\n",
    "            d_model=d_model,\n",
    "            num_heads=num_heads,\n",
    "            dropout=dropout,\n",
    "            name='decoder_layer_{}'.format(i),\n",
    "        )(inputs=[outputs, enc_outputs, look_ahead_mask, padding_mask])\n",
    "\n",
    "    return tf.keras.Model(\n",
    "      inputs=[inputs, enc_outputs, look_ahead_mask, padding_mask],\n",
    "      outputs=outputs,\n",
    "      name=name)\n"
   ]
  },
  {
   "cell_type": "markdown",
   "id": "55dad327",
   "metadata": {},
   "source": [
    "## Transformer"
   ]
  },
  {
   "cell_type": "code",
   "execution_count": 31,
   "id": "1de885c2",
   "metadata": {},
   "outputs": [],
   "source": [
    "def transformer(vocab_size,\n",
    "                num_layers,\n",
    "                units,\n",
    "                d_model,\n",
    "                num_heads,\n",
    "                dropout,\n",
    "                name=\"transformer\"):\n",
    "  inputs = tf.keras.Input(shape=(None,), name=\"inputs\")\n",
    "  dec_inputs = tf.keras.Input(shape=(None,), name=\"dec_inputs\")\n",
    "\n",
    "  # 인코더에서 패딩을 위한 마스크\n",
    "  enc_padding_mask = tf.keras.layers.Lambda(\n",
    "      create_padding_mask, output_shape=(1, 1, None),\n",
    "      name='enc_padding_mask')(inputs)\n",
    "\n",
    "  # 디코더에서 미래의 토큰을 마스크 하기 위해서 사용합니다.\n",
    "  # 내부적으로 패딩 마스크도 포함되어져 있습니다.\n",
    "  look_ahead_mask = tf.keras.layers.Lambda(\n",
    "      create_look_ahead_mask,\n",
    "      output_shape=(1, None, None),\n",
    "      name='look_ahead_mask')(dec_inputs)\n",
    "\n",
    "  # 두 번째 어텐션 블록에서 인코더의 벡터들을 마스킹\n",
    "  # 디코더에서 패딩을 위한 마스크\n",
    "  dec_padding_mask = tf.keras.layers.Lambda(\n",
    "      create_padding_mask, output_shape=(1, 1, None),\n",
    "      name='dec_padding_mask')(inputs)\n",
    "\n",
    "  # 인코더\n",
    "  enc_outputs = encoder(\n",
    "      vocab_size=vocab_size,\n",
    "      num_layers=num_layers,\n",
    "      units=units,\n",
    "      d_model=d_model,\n",
    "      num_heads=num_heads,\n",
    "      dropout=dropout,\n",
    "  )(inputs=[inputs, enc_padding_mask])\n",
    "\n",
    "  # 디코더\n",
    "  dec_outputs = decoder(\n",
    "      vocab_size=vocab_size,\n",
    "      num_layers=num_layers,\n",
    "      units=units,\n",
    "      d_model=d_model,\n",
    "      num_heads=num_heads,\n",
    "      dropout=dropout,\n",
    "  )(inputs=[dec_inputs, enc_outputs, look_ahead_mask, dec_padding_mask])\n",
    "\n",
    "  # 완전연결층\n",
    "  outputs = tf.keras.layers.Dense(units=vocab_size, name=\"outputs\")(dec_outputs)\n",
    "\n",
    "  return tf.keras.Model(inputs=[inputs, dec_inputs], outputs=outputs, name=name)"
   ]
  },
  {
   "cell_type": "code",
   "execution_count": 32,
   "id": "1400df07",
   "metadata": {},
   "outputs": [
    {
     "name": "stdout",
     "output_type": "stream",
     "text": [
      "Model: \"transformer\"\n",
      "__________________________________________________________________________________________________\n",
      "Layer (type)                    Output Shape         Param #     Connected to                     \n",
      "==================================================================================================\n",
      "inputs (InputLayer)             [(None, None)]       0                                            \n",
      "__________________________________________________________________________________________________\n",
      "dec_inputs (InputLayer)         [(None, None)]       0                                            \n",
      "__________________________________________________________________________________________________\n",
      "enc_padding_mask (Lambda)       (None, 1, 1, None)   0           inputs[0][0]                     \n",
      "__________________________________________________________________________________________________\n",
      "encoder (Functional)            (None, None, 256)    4758784     inputs[0][0]                     \n",
      "                                                                 enc_padding_mask[0][0]           \n",
      "__________________________________________________________________________________________________\n",
      "look_ahead_mask (Lambda)        (None, 1, None, None 0           dec_inputs[0][0]                 \n",
      "__________________________________________________________________________________________________\n",
      "dec_padding_mask (Lambda)       (None, 1, 1, None)   0           inputs[0][0]                     \n",
      "__________________________________________________________________________________________________\n",
      "decoder (Functional)            (None, None, 256)    6077184     dec_inputs[0][0]                 \n",
      "                                                                 encoder[0][0]                    \n",
      "                                                                 look_ahead_mask[0][0]            \n",
      "                                                                 dec_padding_mask[0][0]           \n",
      "__________________________________________________________________________________________________\n",
      "outputs (Dense)                 (None, None, 8294)   2131558     decoder[0][0]                    \n",
      "==================================================================================================\n",
      "Total params: 12,967,526\n",
      "Trainable params: 12,967,526\n",
      "Non-trainable params: 0\n",
      "__________________________________________________________________________________________________\n"
     ]
    }
   ],
   "source": [
    "tf.keras.backend.clear_session()\n",
    "\n",
    "# 하이퍼파라미터\n",
    "NUM_LAYERS = 5 # 인코더와 디코더의 층의 개수\n",
    "D_MODEL = 256 # 인코더와 디코더 내부의 입, 출력의 고정 차원\n",
    "NUM_HEADS = 16 # 멀티 헤드 어텐션에서의 헤드 수 \n",
    "UNITS = 512 # 피드 포워드 신경망의 은닉층의 크기\n",
    "DROPOUT = 0.2 # 드롭아웃의 비율\n",
    "\n",
    "model = transformer(\n",
    "    vocab_size=VOCAB_SIZE,\n",
    "    num_layers=NUM_LAYERS,\n",
    "    units=UNITS,\n",
    "    d_model=D_MODEL,\n",
    "    num_heads=NUM_HEADS,\n",
    "    dropout=DROPOUT)\n",
    "\n",
    "model.summary()"
   ]
  },
  {
   "cell_type": "code",
   "execution_count": 33,
   "id": "9d7d612f",
   "metadata": {},
   "outputs": [],
   "source": [
    "def loss_function(y_true, y_pred):\n",
    "  y_true = tf.reshape(y_true, shape=(-1, MAX_LENGTH - 1))\n",
    "  \n",
    "  loss = tf.keras.losses.SparseCategoricalCrossentropy(\n",
    "      from_logits=True, reduction='none')(y_true, y_pred)\n",
    "\n",
    "  mask = tf.cast(tf.not_equal(y_true, 0), tf.float32)\n",
    "  loss = tf.multiply(loss, mask)\n",
    "\n",
    "  return tf.reduce_mean(loss)"
   ]
  },
  {
   "cell_type": "code",
   "execution_count": 34,
   "id": "4b7f1a7c",
   "metadata": {},
   "outputs": [],
   "source": [
    "class CustomSchedule(tf.keras.optimizers.schedules.LearningRateSchedule):\n",
    "\n",
    "  def __init__(self, d_model, warmup_steps=4000):\n",
    "    super(CustomSchedule, self).__init__()\n",
    "\n",
    "    self.d_model = d_model\n",
    "    self.d_model = tf.cast(self.d_model, tf.float32)\n",
    "\n",
    "    self.warmup_steps = warmup_steps\n",
    "\n",
    "  def __call__(self, step):\n",
    "    arg1 = tf.math.rsqrt(step)\n",
    "    arg2 = step * (self.warmup_steps**-1.5)\n",
    "\n",
    "    return tf.math.rsqrt(self.d_model) * tf.math.minimum(arg1, arg2)"
   ]
  },
  {
   "cell_type": "code",
   "execution_count": 35,
   "id": "777f6419",
   "metadata": {},
   "outputs": [
    {
     "data": {
      "text/plain": [
       "Text(0.5, 0, 'Train Step')"
      ]
     },
     "execution_count": 35,
     "metadata": {},
     "output_type": "execute_result"
    },
    {
     "data": {
      "image/png": "[encoded data removed]",
      "text/plain": [
       "<Figure size 432x288 with 1 Axes>"
      ]
     },
     "metadata": {
      "needs_background": "light"
     },
     "output_type": "display_data"
    }
   ],
   "source": [
    "sample_learning_rate = CustomSchedule(d_model=D_MODEL)\n",
    "\n",
    "plt.plot(sample_learning_rate(tf.range(200000, dtype=tf.float32)))\n",
    "plt.ylabel(\"Learning Rate\")\n",
    "plt.xlabel(\"Train Step\")"
   ]
  },
  {
   "cell_type": "code",
   "execution_count": 36,
   "id": "e065e501",
   "metadata": {},
   "outputs": [],
   "source": [
    "learning_rate = CustomSchedule(D_MODEL)\n",
    "\n",
    "optimizer = tf.keras.optimizers.Adam(\n",
    "    learning_rate, beta_1=0.9, beta_2=0.98, epsilon=1e-9)\n",
    "\n",
    "def accuracy(y_true, y_pred):\n",
    "  y_true = tf.reshape(y_true, shape=(-1, MAX_LENGTH - 1))\n",
    "  return tf.keras.metrics.sparse_categorical_accuracy(y_true, y_pred)\n",
    "\n",
    "model.compile(optimizer=optimizer, loss=loss_function, metrics=[accuracy])"
   ]
  },
  {
   "cell_type": "markdown",
   "id": "e9f38657",
   "metadata": {},
   "source": [
    "## Learning"
   ]
  },
  {
   "cell_type": "code",
   "execution_count": 37,
   "id": "5652dad8",
   "metadata": {},
   "outputs": [
    {
     "name": "stdout",
     "output_type": "stream",
     "text": [
      "Epoch 1/100\n",
      "35/35 [==============================] - 18s 103ms/step - loss: 5.9938 - accuracy: 0.0113\n",
      "Epoch 2/100\n",
      "35/35 [==============================] - 4s 103ms/step - loss: 5.6981 - accuracy: 0.1106\n",
      "Epoch 3/100\n",
      "35/35 [==============================] - 4s 103ms/step - loss: 5.4859 - accuracy: 0.1114\n",
      "Epoch 4/100\n",
      "35/35 [==============================] - 4s 103ms/step - loss: 5.3140 - accuracy: 0.1117\n",
      "Epoch 5/100\n",
      "35/35 [==============================] - 4s 104ms/step - loss: 5.1298 - accuracy: 0.1113\n",
      "Epoch 6/100\n",
      "35/35 [==============================] - 4s 104ms/step - loss: 4.9203 - accuracy: 0.1116\n",
      "Epoch 7/100\n",
      "35/35 [==============================] - 4s 104ms/step - loss: 4.6792 - accuracy: 0.1475\n",
      "Epoch 8/100\n",
      "35/35 [==============================] - 4s 103ms/step - loss: 4.3807 - accuracy: 0.2134\n",
      "Epoch 9/100\n",
      "35/35 [==============================] - 4s 103ms/step - loss: 4.1585 - accuracy: 0.2154\n",
      "Epoch 10/100\n",
      "35/35 [==============================] - 4s 104ms/step - loss: 3.9943 - accuracy: 0.2161\n",
      "Epoch 11/100\n",
      "35/35 [==============================] - 4s 104ms/step - loss: 3.8527 - accuracy: 0.2160\n",
      "Epoch 12/100\n",
      "35/35 [==============================] - 4s 105ms/step - loss: 3.7247 - accuracy: 0.2161\n",
      "Epoch 13/100\n",
      "35/35 [==============================] - 4s 105ms/step - loss: 3.6151 - accuracy: 0.2168\n",
      "Epoch 14/100\n",
      "35/35 [==============================] - 4s 105ms/step - loss: 3.5191 - accuracy: 0.2184\n",
      "Epoch 15/100\n",
      "35/35 [==============================] - 4s 106ms/step - loss: 3.4381 - accuracy: 0.2212\n",
      "Epoch 16/100\n",
      "35/35 [==============================] - 4s 106ms/step - loss: 3.3729 - accuracy: 0.2259\n",
      "Epoch 17/100\n",
      "35/35 [==============================] - 4s 106ms/step - loss: 3.3160 - accuracy: 0.2296\n",
      "Epoch 18/100\n",
      "35/35 [==============================] - 4s 106ms/step - loss: 3.2670 - accuracy: 0.2312\n",
      "Epoch 19/100\n",
      "35/35 [==============================] - 4s 107ms/step - loss: 3.2181 - accuracy: 0.2328\n",
      "Epoch 20/100\n",
      "35/35 [==============================] - 4s 108ms/step - loss: 3.1769 - accuracy: 0.2352\n",
      "Epoch 21/100\n",
      "35/35 [==============================] - 4s 107ms/step - loss: 3.1270 - accuracy: 0.2381\n",
      "Epoch 22/100\n",
      "35/35 [==============================] - 4s 107ms/step - loss: 3.0788 - accuracy: 0.2412\n",
      "Epoch 23/100\n",
      "35/35 [==============================] - 4s 108ms/step - loss: 3.0296 - accuracy: 0.2435\n",
      "Epoch 24/100\n",
      "35/35 [==============================] - 4s 107ms/step - loss: 2.9772 - accuracy: 0.2469\n",
      "Epoch 25/100\n",
      "35/35 [==============================] - 4s 109ms/step - loss: 2.9255 - accuracy: 0.2498\n",
      "Epoch 26/100\n",
      "35/35 [==============================] - 4s 110ms/step - loss: 2.8655 - accuracy: 0.2538\n",
      "Epoch 27/100\n",
      "35/35 [==============================] - 4s 110ms/step - loss: 2.8066 - accuracy: 0.2585\n",
      "Epoch 28/100\n",
      "35/35 [==============================] - 4s 110ms/step - loss: 2.7447 - accuracy: 0.2628\n",
      "Epoch 29/100\n",
      "35/35 [==============================] - 4s 109ms/step - loss: 2.6722 - accuracy: 0.2701\n",
      "Epoch 30/100\n",
      "35/35 [==============================] - 4s 108ms/step - loss: 2.6049 - accuracy: 0.2760\n",
      "Epoch 31/100\n",
      "35/35 [==============================] - 4s 108ms/step - loss: 2.5301 - accuracy: 0.2826\n",
      "Epoch 32/100\n",
      "35/35 [==============================] - 4s 108ms/step - loss: 2.4537 - accuracy: 0.2917\n",
      "Epoch 33/100\n",
      "35/35 [==============================] - 4s 108ms/step - loss: 2.3729 - accuracy: 0.2990\n",
      "Epoch 34/100\n",
      "35/35 [==============================] - 4s 108ms/step - loss: 2.2890 - accuracy: 0.3087\n",
      "Epoch 35/100\n",
      "35/35 [==============================] - 4s 108ms/step - loss: 2.2049 - accuracy: 0.3176\n",
      "Epoch 36/100\n",
      "35/35 [==============================] - 4s 108ms/step - loss: 2.1204 - accuracy: 0.3270\n",
      "Epoch 37/100\n",
      "35/35 [==============================] - 4s 108ms/step - loss: 2.0322 - accuracy: 0.3360\n",
      "Epoch 38/100\n",
      "35/35 [==============================] - 4s 107ms/step - loss: 1.9406 - accuracy: 0.3480\n",
      "Epoch 39/100\n",
      "35/35 [==============================] - 4s 107ms/step - loss: 1.8545 - accuracy: 0.3579\n",
      "Epoch 40/100\n",
      "35/35 [==============================] - 4s 107ms/step - loss: 1.7612 - accuracy: 0.3706\n",
      "Epoch 41/100\n",
      "35/35 [==============================] - 4s 107ms/step - loss: 1.6751 - accuracy: 0.3816\n",
      "Epoch 42/100\n",
      "35/35 [==============================] - 4s 107ms/step - loss: 1.5825 - accuracy: 0.3944\n",
      "Epoch 43/100\n",
      "35/35 [==============================] - 4s 107ms/step - loss: 1.4939 - accuracy: 0.4095\n",
      "Epoch 44/100\n",
      "35/35 [==============================] - 4s 108ms/step - loss: 1.4104 - accuracy: 0.4221\n",
      "Epoch 45/100\n",
      "35/35 [==============================] - 4s 108ms/step - loss: 1.3253 - accuracy: 0.4345\n",
      "Epoch 46/100\n",
      "35/35 [==============================] - 4s 107ms/step - loss: 1.2373 - accuracy: 0.4502\n",
      "Epoch 47/100\n",
      "35/35 [==============================] - 4s 109ms/step - loss: 1.1538 - accuracy: 0.4629\n",
      "Epoch 48/100\n",
      "35/35 [==============================] - 4s 108ms/step - loss: 1.0780 - accuracy: 0.4762\n",
      "Epoch 49/100\n",
      "35/35 [==============================] - 4s 107ms/step - loss: 1.0003 - accuracy: 0.4889\n",
      "Epoch 50/100\n",
      "35/35 [==============================] - 4s 108ms/step - loss: 0.9242 - accuracy: 0.4995\n",
      "Epoch 51/100\n",
      "35/35 [==============================] - 4s 108ms/step - loss: 0.8508 - accuracy: 0.5130\n",
      "Epoch 52/100\n",
      "35/35 [==============================] - 4s 108ms/step - loss: 0.7842 - accuracy: 0.5233\n",
      "Epoch 53/100\n",
      "35/35 [==============================] - 4s 108ms/step - loss: 0.7225 - accuracy: 0.5345\n",
      "Epoch 54/100\n",
      "35/35 [==============================] - 4s 108ms/step - loss: 0.6588 - accuracy: 0.5471\n",
      "Epoch 55/100\n",
      "35/35 [==============================] - 4s 108ms/step - loss: 0.5990 - accuracy: 0.5575\n",
      "Epoch 56/100\n",
      "35/35 [==============================] - 4s 108ms/step - loss: 0.5485 - accuracy: 0.5661\n",
      "Epoch 57/100\n",
      "35/35 [==============================] - 4s 108ms/step - loss: 0.4952 - accuracy: 0.5763\n",
      "Epoch 58/100\n",
      "35/35 [==============================] - 4s 108ms/step - loss: 0.4485 - accuracy: 0.5860\n",
      "Epoch 59/100\n",
      "35/35 [==============================] - 4s 108ms/step - loss: 0.4068 - accuracy: 0.5935\n",
      "Epoch 60/100\n",
      "35/35 [==============================] - 4s 108ms/step - loss: 0.3681 - accuracy: 0.6008\n",
      "Epoch 61/100\n",
      "35/35 [==============================] - 4s 108ms/step - loss: 0.3330 - accuracy: 0.6072\n",
      "Epoch 62/100\n",
      "35/35 [==============================] - 4s 108ms/step - loss: 0.2999 - accuracy: 0.6126\n",
      "Epoch 63/100\n",
      "35/35 [==============================] - 4s 108ms/step - loss: 0.2733 - accuracy: 0.6177\n",
      "Epoch 64/100\n",
      "35/35 [==============================] - 4s 107ms/step - loss: 0.2497 - accuracy: 0.6215\n",
      "Epoch 65/100\n",
      "35/35 [==============================] - 4s 108ms/step - loss: 0.2226 - accuracy: 0.6276\n",
      "Epoch 66/100\n",
      "35/35 [==============================] - 4s 107ms/step - loss: 0.2012 - accuracy: 0.6308\n",
      "Epoch 67/100\n",
      "35/35 [==============================] - 4s 107ms/step - loss: 0.1835 - accuracy: 0.6348\n",
      "Epoch 68/100\n",
      "35/35 [==============================] - 4s 108ms/step - loss: 0.1678 - accuracy: 0.6368\n",
      "Epoch 69/100\n",
      "35/35 [==============================] - 4s 108ms/step - loss: 0.1513 - accuracy: 0.6401\n",
      "Epoch 70/100\n",
      "35/35 [==============================] - 4s 108ms/step - loss: 0.1364 - accuracy: 0.6433\n",
      "Epoch 71/100\n",
      "35/35 [==============================] - 4s 108ms/step - loss: 0.1321 - accuracy: 0.6430\n",
      "Epoch 72/100\n",
      "35/35 [==============================] - 4s 108ms/step - loss: 0.1235 - accuracy: 0.6445\n",
      "Epoch 73/100\n",
      "35/35 [==============================] - 4s 108ms/step - loss: 0.1123 - accuracy: 0.6459\n",
      "Epoch 74/100\n",
      "35/35 [==============================] - 4s 107ms/step - loss: 0.1048 - accuracy: 0.6477\n",
      "Epoch 75/100\n",
      "35/35 [==============================] - 4s 108ms/step - loss: 0.1018 - accuracy: 0.6473\n",
      "Epoch 76/100\n",
      "35/35 [==============================] - 4s 109ms/step - loss: 0.0974 - accuracy: 0.6482\n",
      "Epoch 77/100\n",
      "35/35 [==============================] - 4s 107ms/step - loss: 0.0901 - accuracy: 0.6498\n",
      "Epoch 78/100\n",
      "35/35 [==============================] - 4s 108ms/step - loss: 0.0878 - accuracy: 0.6495\n",
      "Epoch 79/100\n",
      "35/35 [==============================] - 4s 109ms/step - loss: 0.0857 - accuracy: 0.6493\n",
      "Epoch 80/100\n",
      "35/35 [==============================] - 4s 108ms/step - loss: 0.0782 - accuracy: 0.6512\n",
      "Epoch 81/100\n",
      "35/35 [==============================] - 4s 108ms/step - loss: 0.0790 - accuracy: 0.6506\n",
      "Epoch 82/100\n",
      "35/35 [==============================] - 4s 108ms/step - loss: 0.0749 - accuracy: 0.6515\n",
      "Epoch 83/100\n",
      "35/35 [==============================] - 4s 108ms/step - loss: 0.0766 - accuracy: 0.6500\n",
      "Epoch 84/100\n",
      "35/35 [==============================] - 4s 108ms/step - loss: 0.0718 - accuracy: 0.6515\n",
      "Epoch 85/100\n",
      "35/35 [==============================] - 4s 108ms/step - loss: 0.0667 - accuracy: 0.6529\n",
      "Epoch 86/100\n",
      "35/35 [==============================] - 4s 108ms/step - loss: 0.0660 - accuracy: 0.6525\n",
      "Epoch 87/100\n",
      "35/35 [==============================] - 4s 108ms/step - loss: 0.0692 - accuracy: 0.6518\n",
      "Epoch 88/100\n",
      "35/35 [==============================] - 4s 107ms/step - loss: 0.0643 - accuracy: 0.6522\n",
      "Epoch 89/100\n",
      "35/35 [==============================] - 4s 108ms/step - loss: 0.0613 - accuracy: 0.6538\n",
      "Epoch 90/100\n",
      "35/35 [==============================] - 4s 108ms/step - loss: 0.0613 - accuracy: 0.6534\n",
      "Epoch 91/100\n",
      "35/35 [==============================] - 4s 108ms/step - loss: 0.0590 - accuracy: 0.6538\n",
      "Epoch 92/100\n",
      "35/35 [==============================] - 4s 109ms/step - loss: 0.0610 - accuracy: 0.6532\n",
      "Epoch 93/100\n",
      "35/35 [==============================] - 4s 109ms/step - loss: 0.0571 - accuracy: 0.6545\n",
      "Epoch 94/100\n",
      "35/35 [==============================] - 4s 108ms/step - loss: 0.0564 - accuracy: 0.6541\n",
      "Epoch 95/100\n",
      "35/35 [==============================] - 4s 107ms/step - loss: 0.0603 - accuracy: 0.6530\n",
      "Epoch 96/100\n",
      "35/35 [==============================] - 4s 107ms/step - loss: 0.0602 - accuracy: 0.6533\n",
      "Epoch 97/100\n",
      "35/35 [==============================] - 4s 108ms/step - loss: 0.0560 - accuracy: 0.6540\n",
      "Epoch 98/100\n",
      "35/35 [==============================] - 4s 107ms/step - loss: 0.0556 - accuracy: 0.6540\n",
      "Epoch 99/100\n",
      "35/35 [==============================] - 4s 108ms/step - loss: 0.0532 - accuracy: 0.6549\n",
      "Epoch 100/100\n",
      "35/35 [==============================] - 4s 108ms/step - loss: 0.0542 - accuracy: 0.6541\n"
     ]
    },
    {
     "data": {
      "text/plain": [
       "<keras.callbacks.History at 0x7f5cd615b250>"
      ]
     },
     "execution_count": 37,
     "metadata": {},
     "output_type": "execute_result"
    }
   ],
   "source": [
    "EPOCHS = 100\n",
    "model.fit(dataset, epochs=EPOCHS, verbose=1)"
   ]
  },
  {
   "cell_type": "code",
   "execution_count": 38,
   "id": "f31a969e",
   "metadata": {},
   "outputs": [],
   "source": [
    "def decoder_inference(sentence):\n",
    "  sentence = preprocess_sentence(sentence)\n",
    "\n",
    "  # 입력된 문장을 정수 인코딩 후, 시작 토큰과 종료 토큰을 앞뒤로 추가.\n",
    "  # ex) Where have you been? → [[8331   86   30    5 1059    7 8332]]\n",
    "  sentence = tf.expand_dims(\n",
    "      START_TOKEN + tokenizer.encode(sentence) + END_TOKEN, axis=0)\n",
    "\n",
    "  # 디코더의 현재까지의 예측한 출력 시퀀스가 지속적으로 저장되는 변수.\n",
    "  # 처음에는 예측한 내용이 없음으로 시작 토큰만 별도 저장. ex) 8331\n",
    "  output_sequence = tf.expand_dims(START_TOKEN, 0)\n",
    "\n",
    "  # 디코더의 인퍼런스 단계\n",
    "  for i in range(MAX_LENGTH):\n",
    "    # 디코더는 최대 MAX_LENGTH의 길이만큼 다음 단어 예측을 반복합니다.\n",
    "    predictions = model(inputs=[sentence, output_sequence], training=False)\n",
    "    predictions = predictions[:, -1:, :]\n",
    "\n",
    "    # 현재 예측한 단어의 정수\n",
    "    predicted_id = tf.cast(tf.argmax(predictions, axis=-1), tf.int32)\n",
    "\n",
    "    # 만약 현재 예측한 단어가 종료 토큰이라면 for문을 종료\n",
    "    if tf.equal(predicted_id, END_TOKEN[0]):\n",
    "      break\n",
    "\n",
    "    # 예측한 단어들은 지속적으로 output_sequence에 추가됩니다.\n",
    "    # 이 output_sequence는 다시 디코더의 입력이 됩니다.\n",
    "    output_sequence = tf.concat([output_sequence, predicted_id], axis=-1)\n",
    "\n",
    "  return tf.squeeze(output_sequence, axis=0)"
   ]
  },
  {
   "cell_type": "code",
   "execution_count": 39,
   "id": "5c1a752e",
   "metadata": {},
   "outputs": [],
   "source": [
    "def sentence_generation(sentence):\n",
    "  # 입력 문장에 대해서 디코더를 동작 시켜 예측된 정수 시퀀스를 리턴받습니다.\n",
    "  prediction = decoder_inference(sentence)\n",
    "\n",
    "  # 정수 시퀀스를 다시 텍스트 시퀀스로 변환합니다.\n",
    "  predicted_sentence = tokenizer.decode(\n",
    "      [i for i in prediction if i < tokenizer.vocab_size])\n",
    "\n",
    "  print('입력 : {}'.format(sentence))\n",
    "  print('출력 : {}'.format(predicted_sentence))\n",
    "\n",
    "  return predicted_sentence"
   ]
  },
  {
   "cell_type": "code",
   "execution_count": 40,
   "id": "3a22c60a",
   "metadata": {},
   "outputs": [],
   "source": [
    "question = [\"오늘 좀 피곤하네요.\",'배고파요!', '밥 먹었어?', '잘 지내?', '오늘 우울해', '나는 커피를 좋아해', '지금 몇시지?',  '민트초코 싫어',\"요즘 그 드라마 재밌더라\", '열심히 공부해보자', '너랑 대화하고 싶어', '놀고 싶다','오늘 기분 좋은 일 있었어.', '대답해줘서 고마워']"
   ]
  },
  {
   "cell_type": "code",
   "execution_count": 41,
   "id": "2444b3f0",
   "metadata": {},
   "outputs": [
    {
     "name": "stdout",
     "output_type": "stream",
     "text": [
      "입력 : 오늘 좀 피곤하네요.\n",
      "출력 : 지금 상황을 그대로 받아들이세요 .\n",
      "입력 : 배고파요!\n",
      "출력 : 얼른 맛난 음식 드세요 !\n",
      "입력 : 밥 먹었어?\n",
      "출력 : 저는 배터리가 밥이예요 .\n",
      "입력 : 잘 지내?\n",
      "출력 : 당신은 잘 지내고 있나봅니다 .\n",
      "입력 : 오늘 우울해\n",
      "출력 : 제 행운까지 모두 드리고 싶네요 .\n",
      "입력 : 나는 커피를 좋아해\n",
      "출력 : 2번 이상 입을 일이 있으면 맞추세요 .\n",
      "입력 : 지금 몇시지?\n",
      "출력 : 꼬시지 말고 사랑해 보세요 .\n",
      "입력 : 민트초코 싫어\n",
      "출력 : 사람들 보는 눈이 비슷하죠 .\n",
      "입력 : 요즘 그 드라마 재밌더라\n",
      "출력 : 저도 드라마 좋아해요 .\n",
      "입력 : 열심히 공부해보자\n",
      "출력 : 네 . 들어줄게요 .\n",
      "입력 : 너랑 대화하고 싶어\n",
      "출력 : 더 이상 신경쓰지 마세요 .\n",
      "입력 : 놀고 싶다\n",
      "출력 : 저도요 ! !\n",
      "입력 : 오늘 기분 좋은 일 있었어.\n",
      "출력 : 사랑하는 척 하는 걸 수도 있어요 .\n",
      "입력 : 대답해줘서 고마워\n",
      "출력 : 좋은 열심히 하세요 .\n"
     ]
    }
   ],
   "source": [
    "for i in question:\n",
    "  sentence_generation(i)"
   ]
  },
  {
   "cell_type": "code",
   "execution_count": 42,
   "id": "89f1c4fa",
   "metadata": {},
   "outputs": [
    {
     "name": "stdout",
     "output_type": "stream",
     "text": [
      "Epoch 1/100\n",
      "35/35 [==============================] - 4s 108ms/step - loss: 0.0563 - accuracy: 0.6536\n",
      "Epoch 2/100\n",
      "35/35 [==============================] - 4s 107ms/step - loss: 0.0545 - accuracy: 0.6539\n",
      "Epoch 3/100\n",
      "35/35 [==============================] - 4s 108ms/step - loss: 0.0535 - accuracy: 0.6541\n",
      "Epoch 4/100\n",
      "35/35 [==============================] - 4s 110ms/step - loss: 0.0537 - accuracy: 0.6539\n",
      "Epoch 5/100\n",
      "35/35 [==============================] - 4s 109ms/step - loss: 0.0525 - accuracy: 0.6542\n",
      "Epoch 6/100\n",
      "35/35 [==============================] - 4s 109ms/step - loss: 0.0521 - accuracy: 0.6541\n",
      "Epoch 7/100\n",
      "35/35 [==============================] - 4s 110ms/step - loss: 0.0528 - accuracy: 0.6539\n",
      "Epoch 8/100\n",
      "35/35 [==============================] - 4s 109ms/step - loss: 0.0508 - accuracy: 0.6545\n",
      "Epoch 9/100\n",
      "35/35 [==============================] - 4s 110ms/step - loss: 0.0530 - accuracy: 0.6544\n",
      "Epoch 10/100\n",
      "35/35 [==============================] - 4s 109ms/step - loss: 0.0488 - accuracy: 0.6551\n",
      "Epoch 11/100\n",
      "35/35 [==============================] - 4s 109ms/step - loss: 0.0524 - accuracy: 0.6544\n",
      "Epoch 12/100\n",
      "35/35 [==============================] - 4s 109ms/step - loss: 0.0509 - accuracy: 0.6547\n",
      "Epoch 13/100\n",
      "35/35 [==============================] - 4s 108ms/step - loss: 0.0523 - accuracy: 0.6542\n",
      "Epoch 14/100\n",
      "35/35 [==============================] - 4s 108ms/step - loss: 0.0492 - accuracy: 0.6551\n",
      "Epoch 15/100\n",
      "35/35 [==============================] - 4s 110ms/step - loss: 0.0518 - accuracy: 0.6541\n",
      "Epoch 16/100\n",
      "35/35 [==============================] - 4s 108ms/step - loss: 0.0516 - accuracy: 0.6538\n",
      "Epoch 17/100\n",
      "35/35 [==============================] - 4s 108ms/step - loss: 0.0470 - accuracy: 0.6554\n",
      "Epoch 18/100\n",
      "35/35 [==============================] - 4s 107ms/step - loss: 0.0453 - accuracy: 0.6564\n",
      "Epoch 19/100\n",
      "35/35 [==============================] - 4s 107ms/step - loss: 0.0438 - accuracy: 0.6564\n",
      "Epoch 20/100\n",
      "35/35 [==============================] - 4s 108ms/step - loss: 0.0460 - accuracy: 0.6556\n",
      "Epoch 21/100\n",
      "35/35 [==============================] - 4s 107ms/step - loss: 0.0443 - accuracy: 0.6561\n",
      "Epoch 22/100\n",
      "35/35 [==============================] - 4s 108ms/step - loss: 0.0419 - accuracy: 0.6566\n",
      "Epoch 23/100\n",
      "35/35 [==============================] - 4s 107ms/step - loss: 0.0369 - accuracy: 0.6580\n",
      "Epoch 24/100\n",
      "35/35 [==============================] - 4s 107ms/step - loss: 0.0399 - accuracy: 0.6571\n",
      "Epoch 25/100\n",
      "35/35 [==============================] - 4s 108ms/step - loss: 0.0381 - accuracy: 0.6577\n",
      "Epoch 26/100\n",
      "35/35 [==============================] - 4s 108ms/step - loss: 0.0424 - accuracy: 0.6565\n",
      "Epoch 27/100\n",
      "35/35 [==============================] - 4s 108ms/step - loss: 0.0397 - accuracy: 0.6570\n",
      "Epoch 28/100\n",
      "35/35 [==============================] - 4s 108ms/step - loss: 0.0385 - accuracy: 0.6574\n",
      "Epoch 29/100\n",
      "35/35 [==============================] - 4s 108ms/step - loss: 0.0357 - accuracy: 0.6587\n",
      "Epoch 30/100\n",
      "35/35 [==============================] - 4s 110ms/step - loss: 0.0331 - accuracy: 0.6590\n",
      "Epoch 31/100\n",
      "35/35 [==============================] - 4s 108ms/step - loss: 0.0347 - accuracy: 0.6589\n",
      "Epoch 32/100\n",
      "35/35 [==============================] - 4s 108ms/step - loss: 0.0353 - accuracy: 0.6586\n",
      "Epoch 33/100\n",
      "35/35 [==============================] - 4s 109ms/step - loss: 0.0323 - accuracy: 0.6592\n",
      "Epoch 34/100\n",
      "35/35 [==============================] - 4s 107ms/step - loss: 0.0302 - accuracy: 0.6602\n",
      "Epoch 35/100\n",
      "35/35 [==============================] - 4s 108ms/step - loss: 0.0276 - accuracy: 0.6609\n",
      "Epoch 36/100\n",
      "35/35 [==============================] - 4s 108ms/step - loss: 0.0318 - accuracy: 0.6596\n",
      "Epoch 37/100\n",
      "35/35 [==============================] - 4s 107ms/step - loss: 0.0297 - accuracy: 0.6599\n",
      "Epoch 38/100\n",
      "35/35 [==============================] - 4s 108ms/step - loss: 0.0336 - accuracy: 0.6587\n",
      "Epoch 39/100\n",
      "35/35 [==============================] - 4s 108ms/step - loss: 0.0305 - accuracy: 0.6597\n",
      "Epoch 40/100\n",
      "35/35 [==============================] - 4s 107ms/step - loss: 0.0274 - accuracy: 0.6608\n",
      "Epoch 41/100\n",
      "35/35 [==============================] - 4s 107ms/step - loss: 0.0269 - accuracy: 0.6609\n",
      "Epoch 42/100\n",
      "35/35 [==============================] - 4s 108ms/step - loss: 0.0282 - accuracy: 0.6606\n",
      "Epoch 43/100\n",
      "35/35 [==============================] - 4s 108ms/step - loss: 0.0271 - accuracy: 0.6610\n",
      "Epoch 44/100\n",
      "35/35 [==============================] - 4s 107ms/step - loss: 0.0261 - accuracy: 0.6611\n",
      "Epoch 45/100\n",
      "35/35 [==============================] - 4s 107ms/step - loss: 0.0275 - accuracy: 0.6611\n",
      "Epoch 46/100\n",
      "35/35 [==============================] - 4s 108ms/step - loss: 0.0254 - accuracy: 0.6613\n",
      "Epoch 47/100\n",
      "35/35 [==============================] - 4s 107ms/step - loss: 0.0265 - accuracy: 0.6611\n",
      "Epoch 48/100\n",
      "35/35 [==============================] - 4s 107ms/step - loss: 0.0245 - accuracy: 0.6620\n",
      "Epoch 49/100\n",
      "35/35 [==============================] - 4s 108ms/step - loss: 0.0242 - accuracy: 0.6618\n",
      "Epoch 50/100\n",
      "35/35 [==============================] - 4s 107ms/step - loss: 0.0234 - accuracy: 0.6618\n",
      "Epoch 51/100\n",
      "35/35 [==============================] - 4s 108ms/step - loss: 0.0229 - accuracy: 0.6620\n",
      "Epoch 52/100\n",
      "35/35 [==============================] - 4s 108ms/step - loss: 0.0235 - accuracy: 0.6619\n",
      "Epoch 53/100\n",
      "35/35 [==============================] - 4s 108ms/step - loss: 0.0227 - accuracy: 0.6621\n",
      "Epoch 54/100\n",
      "35/35 [==============================] - 4s 109ms/step - loss: 0.0271 - accuracy: 0.6608\n",
      "Epoch 55/100\n",
      "35/35 [==============================] - 4s 108ms/step - loss: 0.0244 - accuracy: 0.6615\n",
      "Epoch 56/100\n",
      "35/35 [==============================] - 4s 108ms/step - loss: 0.0223 - accuracy: 0.6620\n",
      "Epoch 57/100\n",
      "35/35 [==============================] - 4s 108ms/step - loss: 0.0216 - accuracy: 0.6624\n",
      "Epoch 58/100\n",
      "35/35 [==============================] - 4s 108ms/step - loss: 0.0240 - accuracy: 0.6618\n",
      "Epoch 59/100\n",
      "35/35 [==============================] - 4s 108ms/step - loss: 0.0208 - accuracy: 0.6626\n",
      "Epoch 60/100\n",
      "35/35 [==============================] - 4s 107ms/step - loss: 0.0211 - accuracy: 0.6627\n",
      "Epoch 61/100\n",
      "35/35 [==============================] - 4s 108ms/step - loss: 0.0220 - accuracy: 0.6623\n",
      "Epoch 62/100\n",
      "35/35 [==============================] - 4s 109ms/step - loss: 0.0220 - accuracy: 0.6621\n",
      "Epoch 63/100\n",
      "35/35 [==============================] - 4s 108ms/step - loss: 0.0196 - accuracy: 0.6627\n",
      "Epoch 64/100\n",
      "35/35 [==============================] - 4s 108ms/step - loss: 0.0186 - accuracy: 0.6631\n",
      "Epoch 65/100\n",
      "35/35 [==============================] - 4s 108ms/step - loss: 0.0190 - accuracy: 0.6630\n",
      "Epoch 66/100\n",
      "35/35 [==============================] - 4s 109ms/step - loss: 0.0186 - accuracy: 0.6634\n",
      "Epoch 67/100\n",
      "35/35 [==============================] - 4s 112ms/step - loss: 0.0178 - accuracy: 0.6635\n",
      "Epoch 68/100\n",
      "35/35 [==============================] - 4s 109ms/step - loss: 0.0173 - accuracy: 0.6636\n",
      "Epoch 69/100\n",
      "35/35 [==============================] - 4s 109ms/step - loss: 0.0184 - accuracy: 0.6630\n",
      "Epoch 70/100\n",
      "35/35 [==============================] - 4s 110ms/step - loss: 0.0196 - accuracy: 0.6628\n",
      "Epoch 71/100\n",
      "35/35 [==============================] - 4s 109ms/step - loss: 0.0181 - accuracy: 0.6633\n",
      "Epoch 72/100\n",
      "35/35 [==============================] - 4s 110ms/step - loss: 0.0160 - accuracy: 0.6641\n",
      "Epoch 73/100\n",
      "35/35 [==============================] - 4s 109ms/step - loss: 0.0157 - accuracy: 0.6642\n",
      "Epoch 74/100\n",
      "35/35 [==============================] - 4s 110ms/step - loss: 0.0194 - accuracy: 0.6629\n",
      "Epoch 75/100\n",
      "35/35 [==============================] - 4s 110ms/step - loss: 0.0191 - accuracy: 0.6631\n",
      "Epoch 76/100\n",
      "35/35 [==============================] - 4s 108ms/step - loss: 0.0160 - accuracy: 0.6641\n",
      "Epoch 77/100\n",
      "35/35 [==============================] - 4s 108ms/step - loss: 0.0164 - accuracy: 0.6641\n",
      "Epoch 78/100\n",
      "35/35 [==============================] - 4s 108ms/step - loss: 0.0166 - accuracy: 0.6640\n",
      "Epoch 79/100\n",
      "35/35 [==============================] - 4s 108ms/step - loss: 0.0166 - accuracy: 0.6640\n",
      "Epoch 80/100\n",
      "35/35 [==============================] - 4s 109ms/step - loss: 0.0171 - accuracy: 0.6639\n",
      "Epoch 81/100\n",
      "35/35 [==============================] - 4s 109ms/step - loss: 0.0159 - accuracy: 0.6638\n",
      "Epoch 82/100\n",
      "35/35 [==============================] - 4s 109ms/step - loss: 0.0166 - accuracy: 0.6638\n",
      "Epoch 83/100\n",
      "35/35 [==============================] - 4s 109ms/step - loss: 0.0165 - accuracy: 0.6639\n",
      "Epoch 84/100\n",
      "35/35 [==============================] - 4s 109ms/step - loss: 0.0168 - accuracy: 0.6638\n",
      "Epoch 85/100\n",
      "35/35 [==============================] - 4s 110ms/step - loss: 0.0149 - accuracy: 0.6643\n",
      "Epoch 86/100\n",
      "35/35 [==============================] - 4s 110ms/step - loss: 0.0151 - accuracy: 0.6642\n",
      "Epoch 87/100\n",
      "35/35 [==============================] - 4s 109ms/step - loss: 0.0134 - accuracy: 0.6648\n",
      "Epoch 88/100\n",
      "35/35 [==============================] - 4s 109ms/step - loss: 0.0153 - accuracy: 0.6643\n",
      "Epoch 89/100\n",
      "35/35 [==============================] - 4s 108ms/step - loss: 0.0154 - accuracy: 0.6640\n",
      "Epoch 90/100\n",
      "35/35 [==============================] - 4s 108ms/step - loss: 0.0171 - accuracy: 0.6640\n",
      "Epoch 91/100\n",
      "35/35 [==============================] - 4s 108ms/step - loss: 0.0145 - accuracy: 0.6641\n",
      "Epoch 92/100\n",
      "35/35 [==============================] - 4s 108ms/step - loss: 0.0140 - accuracy: 0.6646\n",
      "Epoch 93/100\n",
      "35/35 [==============================] - 4s 109ms/step - loss: 0.0129 - accuracy: 0.6648\n",
      "Epoch 94/100\n",
      "35/35 [==============================] - 4s 108ms/step - loss: 0.0138 - accuracy: 0.6646\n",
      "Epoch 95/100\n",
      "35/35 [==============================] - 4s 109ms/step - loss: 0.0122 - accuracy: 0.6651\n",
      "Epoch 96/100\n",
      "35/35 [==============================] - 4s 109ms/step - loss: 0.0133 - accuracy: 0.6645\n",
      "Epoch 97/100\n",
      "35/35 [==============================] - 4s 108ms/step - loss: 0.0136 - accuracy: 0.6645\n",
      "Epoch 98/100\n",
      "35/35 [==============================] - 4s 109ms/step - loss: 0.0157 - accuracy: 0.6641\n",
      "Epoch 99/100\n",
      "35/35 [==============================] - 4s 109ms/step - loss: 0.0131 - accuracy: 0.6649\n",
      "Epoch 100/100\n",
      "35/35 [==============================] - 4s 108ms/step - loss: 0.0125 - accuracy: 0.6649\n"
     ]
    },
    {
     "data": {
      "text/plain": [
       "<keras.callbacks.History at 0x7f5d53dfa070>"
      ]
     },
     "execution_count": 42,
     "metadata": {},
     "output_type": "execute_result"
    }
   ],
   "source": [
    "EPOCHS = 100 # + 100\n",
    "model.fit(dataset, epochs=EPOCHS, verbose=1)"
   ]
  },
  {
   "cell_type": "code",
   "execution_count": 43,
   "id": "cc914549",
   "metadata": {},
   "outputs": [
    {
     "name": "stdout",
     "output_type": "stream",
     "text": [
      "입력 : 오늘 좀 피곤하네요.\n",
      "출력 : 지금 힘들겠네요 .\n",
      "입력 : 배고파요!\n",
      "출력 : 얼른 맛난 음식 드세요 .\n",
      "입력 : 밥 먹었어?\n",
      "출력 : 저는 배터리가 밥이예요 .\n",
      "입력 : 잘 지내?\n",
      "출력 : 당신은 잘 지내고 있나봅니다 .\n",
      "입력 : 오늘 우울해\n",
      "출력 : 오늘 강추위래요 .\n",
      "입력 : 나는 커피를 좋아해\n",
      "출력 : 저도 별로네요 .\n",
      "입력 : 지금 몇시지?\n",
      "출력 : 꼬시지 말고 사랑해 보세요 .\n",
      "입력 : 민트초코 싫어\n",
      "출력 : 신경쓰지 마세요 .\n",
      "입력 : 요즘 그 드라마 재밌더라\n",
      "출력 : 좋아하는 드라마 좋아해요 .\n",
      "입력 : 열심히 공부해보자\n",
      "출력 : 네 . 들어줄게요 .\n",
      "입력 : 너랑 대화하고 싶어\n",
      "출력 : 더 이상 신경쓰지 마세요 .\n",
      "입력 : 놀고 싶다\n",
      "출력 : 저도요 ! !\n",
      "입력 : 오늘 기분 좋은 일 있었어.\n",
      "출력 : 저도 보고 싶어요 .\n",
      "입력 : 대답해줘서 고마워\n",
      "출력 : 더 열심히 노력하겠습니다 .\n"
     ]
    }
   ],
   "source": [
    "for i in question:\n",
    "  sentence_generation(i)"
   ]
  },
  {
   "cell_type": "markdown",
   "id": "d90aaddb",
   "metadata": {},
   "source": [
    "|입력|100 epoch 출력|200 epoch 출력|\n",
    "|------|---|---|\n",
    "|오늘 좀 피곤하네요.|지금 상황을 그대로 받아들이세요 .|지금 힘들겠네요 .|\n",
    "|배고파요!|얼른 맛난 음식 드세요 !|얼른 맛난 음식 드세요 .|\n",
    "|밥 먹었어?|저는 배터리가 밥이예요 .|저는 배터리가 밥이예요 .|\n",
    "|잘 지내?|당신은 잘 지내고 있나봅니다 .|당신은 잘 지내고 있나봅니다 .|\n",
    "|오늘 우울해| 제 행운까지 모두 드리고 싶네요 .|오늘 강추위래요 .|\n",
    "|나는 커피를 좋아해|2번 이상 입을 일이 있으면 맞추세요 .|저도 별로네요 .|\n",
    "|지금 몇시지?|꼬시지 말고 사랑해 보세요 .|꼬시지 말고 사랑해 보세요 .|\n",
    "|민트초코 싫어|사람들 보는 눈이 비슷하죠 .|신경쓰지 마세요 .|\n",
    "|요즘 그 드라마 재밌더라|저도 드라마 좋아해요 .|좋아하는 드라마 좋아해요 .|\n",
    "|열심히 공부해보자|네 . 들어줄게요 .|네 . 들어줄게요 .|"
   ]
  },
  {
   "cell_type": "markdown",
   "id": "b41ad113",
   "metadata": {},
   "source": [
    "100 epoch가 최적의 지점에 가깝다라는 생각이 드는게 2개의 질문에 대한 답이 오답에 가깝게 변했기 때문이다. '오늘 우울해'라는 질문에 대해서 100 epoch'에서는 제 행운까지 모두 드리고 싶네요 .' 라는 답을, 200 epoch 에서는 '오늘 강추위래요 .'라는 답을 해줬다. 만일 극도의 지능 상승으로 인해 문학적인 의도로 말한게 아니라면, 성능이 저하가 있었음을 알 수 있다. 또한 '요즘 그 드라마 재밌더라'와 같은 질문에서는 각각 '저도 드라마 좋아해요' 와 '좋아하는 드라마 좋아해요'를 답했는데, 이는 완성된 답이 파괴 됐음을 확인 가능하다.\n",
    "흥미로웠던 점은 '민트초코 싫어'라는 질문에서는 '사람들 보는 눈이 비슷하죠'와 '신경쓰지 마세요'와 같은 답들을 했는데, 이는 둘다 어느정도 문맥상 포용할만한 답이라고 볼 수 있기 때문에 민트초코는 ai 피셜 싫어할만한 물질임을 입증했다. 물론 나는 먹는다."
   ]
  },
  {
   "cell_type": "code",
   "execution_count": null,
   "id": "2410f16e",
   "metadata": {},
   "outputs": [],
   "source": []
  }
 ],
 "metadata": {
  "kernelspec": {
   "display_name": "Python 3 (ipykernel)",
   "language": "python",
   "name": "python3"
  },
  "language_info": {
   "codemirror_mode": {
    "name": "ipython",
    "version": 3
   },
   "file_extension": ".py",
   "mimetype": "text/x-python",
   "name": "python",
   "nbconvert_exporter": "python",
   "pygments_lexer": "ipython3",
   "version": "3.9.7"
  }
 },
 "nbformat": 4,
 "nbformat_minor": 5
}
