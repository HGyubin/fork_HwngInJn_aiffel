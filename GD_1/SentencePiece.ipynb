{
 "cells": [
  {
   "cell_type": "markdown",
   "id": "713fd9cf",
   "metadata": {},
   "source": [
    "# SentencePiece\n",
    "\n",
    "## Rubric\n",
    "1. SentencePiece를 이용하여 모델을 만들기까지의 과정이 정상적으로 진행되었는가?\t\n",
    "코퍼스 분석, 전처리, SentencePiece 적용, 토크나이저 구현 및 동작이 빠짐없이 진행되었는가?\n",
    "2. SentencePiece를 통해 만든 Tokenizer가 자연어처리 모델과 결합하여 동작하는가?\t\n",
    "SentencePiece 토크나이저가 적용된 Text Classifier 모델이 정상적으로 수렴하여 80% 이상의 test accuracy가 확인되었다.\n",
    "3. SentencePiece의 성능을 다각도로 비교분석하였는가?\t\n",
    "SentencePiece 토크나이저를 활용했을 때의 성능을 다른 토크나이저 혹은 SentencePiece의 다른 옵션의 경우와 비교하여 분석을 체계적으로 진행하였다.\n"
   ]
  },
  {
   "cell_type": "code",
   "execution_count": 1,
   "id": "418f710c",
   "metadata": {},
   "outputs": [],
   "source": [
    "import tensorflow as tf\n",
    "import numpy as np\n",
    "import matplotlib as plt\n",
    "import konlpy\n"
   ]
  },
  {
   "cell_type": "code",
   "execution_count": 2,
   "id": "c7533285",
   "metadata": {},
   "outputs": [],
   "source": [
    "import pandas as pd\n",
    "import sentencepiece as spm\n",
    "import urllib.request\n",
    "import csv\n",
    "import numpy as np\n",
    "import matplotlib.pyplot as plt\n",
    "import tensorflow as tf\n",
    "from tensorflow import keras"
   ]
  },
  {
   "cell_type": "markdown",
   "id": "32725729",
   "metadata": {},
   "source": [
    "## Data - Naver movie review (Korean Corpus)\n",
    "\n",
    "### Download, Corpus analysis"
   ]
  },
  {
   "cell_type": "code",
   "execution_count": 3,
   "id": "de5c4064",
   "metadata": {},
   "outputs": [
    {
     "data": {
      "text/plain": [
       "('ratings.txt', <http.client.HTTPMessage at 0x7feb7b177130>)"
      ]
     },
     "execution_count": 3,
     "metadata": {},
     "output_type": "execute_result"
    }
   ],
   "source": [
    "urllib.request.urlretrieve(\"https://raw.githubusercontent.com/e9t/nsmc/master/ratings.txt\", filename=\"ratings.txt\")"
   ]
  },
  {
   "cell_type": "code",
   "execution_count": 4,
   "id": "9ada13f2",
   "metadata": {},
   "outputs": [
    {
     "data": {
      "text/html": [
       "<div>\n",
       "<style scoped>\n",
       "    .dataframe tbody tr th:only-of-type {\n",
       "        vertical-align: middle;\n",
       "    }\n",
       "\n",
       "    .dataframe tbody tr th {\n",
       "        vertical-align: top;\n",
       "    }\n",
       "\n",
       "    .dataframe thead th {\n",
       "        text-align: right;\n",
       "    }\n",
       "</style>\n",
       "<table border=\"1\" class=\"dataframe\">\n",
       "  <thead>\n",
       "    <tr style=\"text-align: right;\">\n",
       "      <th></th>\n",
       "      <th>id</th>\n",
       "      <th>document</th>\n",
       "      <th>label</th>\n",
       "    </tr>\n",
       "  </thead>\n",
       "  <tbody>\n",
       "    <tr>\n",
       "      <th>0</th>\n",
       "      <td>8112052</td>\n",
       "      <td>어릴때보고 지금다시봐도 재밌어요ㅋㅋ</td>\n",
       "      <td>1</td>\n",
       "    </tr>\n",
       "    <tr>\n",
       "      <th>1</th>\n",
       "      <td>8132799</td>\n",
       "      <td>디자인을 배우는 학생으로, 외국디자이너와 그들이 일군 전통을 통해 발전해가는 문화산...</td>\n",
       "      <td>1</td>\n",
       "    </tr>\n",
       "    <tr>\n",
       "      <th>2</th>\n",
       "      <td>4655635</td>\n",
       "      <td>폴리스스토리 시리즈는 1부터 뉴까지 버릴께 하나도 없음.. 최고.</td>\n",
       "      <td>1</td>\n",
       "    </tr>\n",
       "    <tr>\n",
       "      <th>100000</th>\n",
       "      <td>6826470</td>\n",
       "      <td>이런영화로 관객들한테 돈벌고싶소?</td>\n",
       "      <td>0</td>\n",
       "    </tr>\n",
       "    <tr>\n",
       "      <th>100001</th>\n",
       "      <td>6239594</td>\n",
       "      <td>작품 선구안이 없다는게 배우 김태희의 최대 약점.</td>\n",
       "      <td>0</td>\n",
       "    </tr>\n",
       "    <tr>\n",
       "      <th>100002</th>\n",
       "      <td>8946612</td>\n",
       "      <td>사극?? 로멘스?? 퓨젼??</td>\n",
       "      <td>0</td>\n",
       "    </tr>\n",
       "  </tbody>\n",
       "</table>\n",
       "</div>"
      ],
      "text/plain": [
       "             id                                           document  label\n",
       "0       8112052                                어릴때보고 지금다시봐도 재밌어요ㅋㅋ      1\n",
       "1       8132799  디자인을 배우는 학생으로, 외국디자이너와 그들이 일군 전통을 통해 발전해가는 문화산...      1\n",
       "2       4655635               폴리스스토리 시리즈는 1부터 뉴까지 버릴께 하나도 없음.. 최고.      1\n",
       "100000  6826470                                 이런영화로 관객들한테 돈벌고싶소?      0\n",
       "100001  6239594                        작품 선구안이 없다는게 배우 김태희의 최대 약점.      0\n",
       "100002  8946612                                    사극?? 로멘스?? 퓨젼??      0"
      ]
     },
     "execution_count": 4,
     "metadata": {},
     "output_type": "execute_result"
    }
   ],
   "source": [
    "df = pd.read_table('ratings.txt') \n",
    "\n",
    "# label이 0인 데이터 중 상위 3개 선택\n",
    "label_0 = df[df['label'] == 0].head(3)\n",
    "\n",
    "# label이 1인 데이터 중 상위 3개 선택\n",
    "label_1 = df[df['label'] == 1].head(3)\n",
    "\n",
    "# 두 데이터프레임을 합치기\n",
    "result = pd.concat([label_1, label_0])\n",
    "\n",
    "result\n",
    "\n",
    "# 3 columns: 'id', 'document', 'label'\n",
    "# 2 labels: '0 : negative', '1 : positive'\n",
    "# 100000 positives, 100000 negatives"
   ]
  },
  {
   "cell_type": "code",
   "execution_count": 5,
   "id": "e5954524",
   "metadata": {},
   "outputs": [
    {
     "name": "stdout",
     "output_type": "stream",
     "text": [
      "200000\n"
     ]
    }
   ],
   "source": [
    "print(len(df))"
   ]
  },
  {
   "cell_type": "code",
   "execution_count": 6,
   "id": "5dc95f8c",
   "metadata": {},
   "outputs": [
    {
     "data": {
      "text/plain": [
       "id          0\n",
       "document    8\n",
       "label       0\n",
       "dtype: int64"
      ]
     },
     "execution_count": 6,
     "metadata": {},
     "output_type": "execute_result"
    }
   ],
   "source": [
    "df.isnull().sum()\n",
    "\n",
    "# 8 missing documents"
   ]
  },
  {
   "cell_type": "markdown",
   "id": "39f6d4c8",
   "metadata": {},
   "source": [
    "### Preprocess"
   ]
  },
  {
   "cell_type": "code",
   "execution_count": 7,
   "id": "38e4fd3a",
   "metadata": {},
   "outputs": [
    {
     "name": "stdout",
     "output_type": "stream",
     "text": [
      "<bound method NDFrame._add_numeric_operations.<locals>.sum of            id  document  label\n",
      "0       False     False  False\n",
      "1       False     False  False\n",
      "2       False     False  False\n",
      "3       False     False  False\n",
      "4       False     False  False\n",
      "...       ...       ...    ...\n",
      "199995  False     False  False\n",
      "199996  False     False  False\n",
      "199997  False     False  False\n",
      "199998  False     False  False\n",
      "199999  False     False  False\n",
      "\n",
      "[199992 rows x 3 columns]>\n"
     ]
    }
   ],
   "source": [
    "df = df.dropna(how='any')\n",
    "print(df.isnull().sum)"
   ]
  },
  {
   "cell_type": "code",
   "execution_count": 8,
   "id": "e9095943",
   "metadata": {},
   "outputs": [],
   "source": [
    "cleaned_corpus = df.drop_duplicates(['document'])   "
   ]
  },
  {
   "cell_type": "code",
   "execution_count": 9,
   "id": "7b789ac7",
   "metadata": {},
   "outputs": [
    {
     "name": "stdout",
     "output_type": "stream",
     "text": [
      "중복 제거 후 데이터 개수 : 194543\n"
     ]
    }
   ],
   "source": [
    "print('중복 제거 후 데이터 개수 :', len(cleaned_corpus))"
   ]
  },
  {
   "cell_type": "code",
   "execution_count": 10,
   "id": "c15fe607",
   "metadata": {},
   "outputs": [
    {
     "name": "stdout",
     "output_type": "stream",
     "text": [
      "전처리 전 데이터 개수 : 200000\n",
      "전처리 후 데이터 개수 : 194543\n",
      "전처리 후 남은 데이터 양(%) 97.2715\n"
     ]
    }
   ],
   "source": [
    "print('전처리 전 데이터 개수 : 200000')\n",
    "print('전처리 후 데이터 개수 :', len(cleaned_corpus)) \n",
    "print('전처리 후 남은 데이터 양(%)', (len(cleaned_corpus)/200000)*100)"
   ]
  },
  {
   "cell_type": "code",
   "execution_count": 11,
   "id": "8c1b2b5d",
   "metadata": {},
   "outputs": [
    {
     "name": "stdout",
     "output_type": "stream",
     "text": [
      "전처리 후 긍정 데이터:  97266\n",
      "전처리 후 부정 데이터:  97277\n"
     ]
    }
   ],
   "source": [
    "print('전처리 후 긍정 데이터: ', len(cleaned_corpus[cleaned_corpus['label'] == 1]))\n",
    "print('전처리 후 부정 데이터: ', len(cleaned_corpus[cleaned_corpus['label'] == 0]))\n",
    "\n",
    "# (negative data - positive data) = 11 <- negelectable difference"
   ]
  },
  {
   "cell_type": "markdown",
   "id": "3b1e29bb",
   "metadata": {},
   "source": [
    "## Corpus length preprocess"
   ]
  },
  {
   "cell_type": "code",
   "execution_count": 12,
   "id": "68f23f79",
   "metadata": {},
   "outputs": [],
   "source": [
    "review = cleaned_corpus['document']"
   ]
  },
  {
   "cell_type": "code",
   "execution_count": 13,
   "id": "a8c52e59",
   "metadata": {},
   "outputs": [
    {
     "data": {
      "text/plain": [
       "0                                       어릴때보고 지금다시봐도 재밌어요ㅋㅋ\n",
       "1         디자인을 배우는 학생으로, 외국디자이너와 그들이 일군 전통을 통해 발전해가는 문화산...\n",
       "2                      폴리스스토리 시리즈는 1부터 뉴까지 버릴께 하나도 없음.. 최고.\n",
       "3         와.. 연기가 진짜 개쩔구나.. 지루할거라고 생각했는데 몰입해서 봤다.. 그래 이런...\n",
       "4                               안개 자욱한 밤하늘에 떠 있는 초승달 같은 영화.\n",
       "                                ...                        \n",
       "199995                                       포켓 몬스터 짜가 ㅡㅡ;;\n",
       "199996                                                쓰.레.기\n",
       "199997                    완전 사이코영화. 마지막은 더욱더 이 영화의질을 떨어트린다.\n",
       "199998                  왜난 재미없었지 ㅠㅠ 라따뚜이 보고나서 스머프 봐서 그런가 ㅋㅋ\n",
       "199999                                      포풍저그가나가신다영차영차영차\n",
       "Name: document, Length: 194543, dtype: object"
      ]
     },
     "execution_count": 13,
     "metadata": {},
     "output_type": "execute_result"
    }
   ],
   "source": [
    "review"
   ]
  },
  {
   "cell_type": "code",
   "execution_count": 14,
   "id": "b0da33c9",
   "metadata": {},
   "outputs": [
    {
     "name": "stdout",
     "output_type": "stream",
     "text": [
      "문장의 최단 길이: 1\n",
      "문장의 최장 길이: 142\n",
      "문장의 평균 길이: 36\n"
     ]
    },
    {
     "name": "stderr",
     "output_type": "stream",
     "text": [
      "/tmp/ipykernel_774/3860419660.py:19: DeprecationWarning: `np.int` is a deprecated alias for the builtin `int`. To silence this warning, use `int` by itself. Doing this will not modify any behavior and is safe. When replacing `np.int`, you may wish to use e.g. `np.int64` or `np.int32` to specify the precision. If you wish to review your current use, check the release note link for additional information.\n",
      "Deprecated in NumPy 1.20; for more details and guidance: https://numpy.org/devdocs/release/1.20.0-notes.html#deprecations\n",
      "  sentence_length = np.zeros((max_len), dtype=np.int)\n"
     ]
    },
    {
     "data": {
      "image/png": "[encoded data removed]",
      "text/plain": [
       "<Figure size 432x288 with 1 Axes>"
      ]
     },
     "metadata": {
      "needs_background": "light"
     },
     "output_type": "display_data"
    }
   ],
   "source": [
    "min_len = 999\n",
    "max_len = 0\n",
    "sum_len = 0\n",
    "\n",
    "for sen in review:\n",
    "    length = len(sen)\n",
    "    if min_len > length: \n",
    "        min_len = length\n",
    "        \n",
    "    if max_len < length: \n",
    "        max_len = length\n",
    "    \n",
    "    sum_len += length\n",
    "\n",
    "print(\"문장의 최단 길이:\", min_len)\n",
    "print(\"문장의 최장 길이:\", max_len)\n",
    "print(\"문장의 평균 길이:\", sum_len // len(review))\n",
    "\n",
    "sentence_length = np.zeros((max_len), dtype=np.int)\n",
    "\n",
    "for sen in review:\n",
    "    sentence_length[len(sen)-1] += 1\n",
    "\n",
    "plt.bar(range(max_len), sentence_length, width=1.0)\n",
    "plt.title(\"Sentence Length Distribution\")\n",
    "plt.show()"
   ]
  },
  {
   "cell_type": "code",
   "execution_count": 15,
   "id": "328e7694",
   "metadata": {},
   "outputs": [
    {
     "name": "stdout",
     "output_type": "stream",
     "text": [
      "굿\n",
      "핡\n",
      "휴\n",
      "시\n",
      "ㅋ\n",
      "ㅇ\n",
      "‥\n",
      "O\n",
      "갑\n",
      "ㅎ\n",
      ".\n",
      "올\n",
      "헷\n",
      "g\n",
      "♥\n",
      "짱\n",
      "ㅆ\n",
      "굳\n",
      "잼\n",
      "ㅁ\n",
      "?\n",
      "애\n",
      "흠\n",
      "!\n",
      "찜\n",
      "b\n",
      ",\n",
      "1\n",
      "9\n",
      "♬\n",
      "ㅗ\n",
      "ㄳ\n",
      "ㄴ\n",
      "호\n",
      "a\n",
      "d\n",
      "f\n",
      "음\n",
      "헐\n",
      "캬\n",
      "린\n",
      "업\n",
      "乃\n",
      "ㅠ\n",
      ";\n",
      "·\n",
      "k\n",
      "움\n",
      "ㄱ\n",
      "쩜\n",
      "-\n",
      "군\n",
      "ㅉ\n",
      "훗\n",
      "z\n",
      "쨩\n",
      "뿌\n",
      "♡\n",
      "하\n",
      "h\n",
      "ㅍ\n",
      "꽉\n",
      "토\n",
      "귯\n",
      "아\n",
      "오\n",
      "ㅣ\n",
      "봐\n",
      "웅\n",
      "네\n",
      "ㅂ\n",
      "꿈\n",
      "헉\n",
      "와\n",
      "뻑\n",
      "걍\n",
      "헝\n",
      "우\n",
      "즛\n",
      "풉\n",
      "4\n",
      "쀍\n",
      "ㄹ\n",
      "삼\n",
      "쒯\n",
      "즐\n",
      "함\n",
      "0\n",
      "진\n",
      "악\n",
      "풋\n",
      "쩝\n",
      "욜\n",
      "ㄷ\n",
      "흐\n",
      "싫\n",
      "ㅜ\n",
      "잏\n",
      "허\n",
      "엿\n",
      "쉣\n"
     ]
    }
   ],
   "source": [
    "def check_sentence_with_length(raw, length):\n",
    "    count = 0\n",
    "    \n",
    "    for sen in raw:\n",
    "        if len(sen) == length:\n",
    "            print(sen)\n",
    "            count += 1\n",
    "            if count > 100: return\n",
    "\n",
    "check_sentence_with_length(review, 1) # check review of length == 1 -> useless == noise"
   ]
  },
  {
   "cell_type": "code",
   "execution_count": 16,
   "id": "9e59f30a",
   "metadata": {},
   "outputs": [
    {
     "name": "stdout",
     "output_type": "stream",
     "text": [
      "Data Size: 194543\n",
      "문장의 최단 길이: 1\n",
      "문장의 최장 길이: 142\n",
      "문장의 평균 길이: 36\n",
      "문장의 중간 길이: 27\n"
     ]
    },
    {
     "name": "stderr",
     "output_type": "stream",
     "text": [
      "/tmp/ipykernel_774/882900508.py:29: DeprecationWarning: `np.int` is a deprecated alias for the builtin `int`. To silence this warning, use `int` by itself. Doing this will not modify any behavior and is safe. When replacing `np.int`, you may wish to use e.g. `np.int64` or `np.int32` to specify the precision. If you wish to review your current use, check the release note link for additional information.\n",
      "Deprecated in NumPy 1.20; for more details and guidance: https://numpy.org/devdocs/release/1.20.0-notes.html#deprecations\n",
      "  sentence_length = np.zeros((max_len), dtype=np.int)\n"
     ]
    },
    {
     "data": {
      "image/png": "[encoded data removed]",
      "text/plain": [
       "<Figure size 432x288 with 1 Axes>"
      ]
     },
     "metadata": {
      "needs_background": "light"
     },
     "output_type": "display_data"
    }
   ],
   "source": [
    "import numpy as np\n",
    "import matplotlib.pyplot as plt\n",
    "\n",
    "min_len = 999\n",
    "max_len = 0\n",
    "sum_len = 0\n",
    "\n",
    "# cleaned_corpus = list(set(review))  # set를 사용해서 중복을 제거합니다.\n",
    "print(\"Data Size:\", len(review)) \n",
    "\n",
    "lengths = []  # 문장 길이를 저장할 리스트\n",
    "\n",
    "for sen in review:\n",
    "    length = len(sen)\n",
    "    lengths.append(length)  # 문장 길이를 리스트에 추가\n",
    "    if min_len > length: min_len = length\n",
    "    if max_len < length: max_len = length\n",
    "    sum_len += length\n",
    "\n",
    "print(\"문장의 최단 길이:\", min_len)\n",
    "print(\"문장의 최장 길이:\", max_len)\n",
    "print(\"문장의 평균 길이:\", sum_len // len(review))\n",
    "\n",
    "# 중간값 계산\n",
    "sorted_lengths = sorted(lengths)\n",
    "median = sorted_lengths[len(sorted_lengths) // 2] if len(sorted_lengths) % 2 == 1 else (sorted_lengths[(len(sorted_lengths) - 1) // 2] + sorted_lengths[len(sorted_lengths) // 2]) / 2\n",
    "print(\"문장의 중간 길이:\", median)\n",
    "\n",
    "sentence_length = np.zeros((max_len), dtype=np.int)\n",
    "\n",
    "for sen in review:   # 중복이 제거된 코퍼스 기준\n",
    "    sentence_length[len(sen)-1] += 1\n",
    "\n",
    "plt.bar(range(max_len), sentence_length, width=1.0)\n",
    "plt.title(\"Sentence Length Distribution\")\n",
    "plt.show()\n"
   ]
  },
  {
   "cell_type": "code",
   "execution_count": 17,
   "id": "c4eec05c",
   "metadata": {},
   "outputs": [],
   "source": [
    "def below_threshold_len(max_len, nested_list):\n",
    "    cnt = 0\n",
    "    for s in nested_list:\n",
    "        if(len(s) <= max_len):\n",
    "            cnt = cnt + 1\n",
    "    print('전체 샘플 중 길이가 %s 이하인 샘플의 비율: %s'%(max_len, (cnt / len(nested_list))*100))"
   ]
  },
  {
   "cell_type": "code",
   "execution_count": 18,
   "id": "8368984e",
   "metadata": {},
   "outputs": [
    {
     "name": "stdout",
     "output_type": "stream",
     "text": [
      "전체 샘플 중 길이가 36 이하인 샘플의 비율: 66.08616090016089\n",
      "전체 샘플 중 길이가 142 이하인 샘플의 비율: 100.0\n",
      "전체 샘플 중 길이가 27 이하인 샘플의 비율: 50.20124085677716\n",
      "전체 샘플 중 길이가 50 이하인 샘플의 비율: 82.05640912291884\n",
      "전체 샘플 중 길이가 70 이하인 샘플의 비율: 88.66523082300571\n"
     ]
    }
   ],
   "source": [
    "below_threshold_len(36, review)  \n",
    "below_threshold_len(142, review)   \n",
    "below_threshold_len(27, review) \n",
    "below_threshold_len(50, review)  \n",
    "below_threshold_len(70, review)  \n"
   ]
  },
  {
   "cell_type": "code",
   "execution_count": 19,
   "id": "d7f925bd",
   "metadata": {},
   "outputs": [
    {
     "name": "stderr",
     "output_type": "stream",
     "text": [
      "/tmp/ipykernel_774/1199963188.py:10: DeprecationWarning: `np.int` is a deprecated alias for the builtin `int`. To silence this warning, use `int` by itself. Doing this will not modify any behavior and is safe. When replacing `np.int`, you may wish to use e.g. `np.int64` or `np.int32` to specify the precision. If you wish to review your current use, check the release note link for additional information.\n",
      "Deprecated in NumPy 1.20; for more details and guidance: https://numpy.org/devdocs/release/1.20.0-notes.html#deprecations\n",
      "  sentence_length = np.zeros((max_len), dtype=np.int)\n"
     ]
    },
    {
     "data": {
      "image/png": "[encoded data removed]",
      "text/plain": [
       "<Figure size 432x288 with 1 Axes>"
      ]
     },
     "metadata": {
      "needs_background": "light"
     },
     "output_type": "display_data"
    }
   ],
   "source": [
    "import numpy as np\n",
    "import matplotlib.pyplot as plt\n",
    "\n",
    "max_len = 70\n",
    "\n",
    "# 데이터프레임 조건부 슬라이싱: 문장 길이가 5 이상, max_len 미만인 행만 선택\n",
    "train_data = df[(df['document'].str.len() < max_len) & (df['document'].str.len() > 5)]\n",
    "\n",
    "# 분포도를 그립니다.\n",
    "sentence_length = np.zeros((max_len), dtype=np.int)\n",
    "\n",
    "for sen in train_data['document']:\n",
    "    sentence_length[len(sen)-1] += 1\n",
    "\n",
    "plt.bar(range(max_len), sentence_length, width=1.0)\n",
    "plt.title(\"Sentence Length Distribution\")\n",
    "plt.show()\n"
   ]
  },
  {
   "cell_type": "code",
   "execution_count": 20,
   "id": "8e611b53",
   "metadata": {},
   "outputs": [
    {
     "name": "stdout",
     "output_type": "stream",
     "text": [
      "전처리 전 데이터 개수 : 199992\n",
      "전처리 후 데이터 개수 : 169532\n",
      "전처리 후 남은 데이터 양(%) 84.76939077563102\n"
     ]
    }
   ],
   "source": [
    "print('전처리 전 데이터 개수 :', len(df))\n",
    "print('전처리 후 데이터 개수 :', len(train_data))\n",
    "print('전처리 후 남은 데이터 양(%)', (len(train_data)/len(df))*100)"
   ]
  },
  {
   "cell_type": "markdown",
   "id": "89bb8ccb",
   "metadata": {},
   "source": [
    "### Step 1. SentencePiece 설치하기"
   ]
  },
  {
   "cell_type": "code",
   "execution_count": 21,
   "id": "5d3dba13",
   "metadata": {},
   "outputs": [
    {
     "name": "stdout",
     "output_type": "stream",
     "text": [
      "Requirement already satisfied: sentencepiece in /opt/conda/lib/python3.9/site-packages (0.1.96)\n",
      "\u001b[33mWARNING: Running pip as the 'root' user can result in broken permissions and conflicting behaviour with the system package manager. It is recommended to use a virtual environment instead: https://pip.pypa.io/warnings/venv\u001b[0m\n"
     ]
    }
   ],
   "source": [
    "!pip install sentencepiece"
   ]
  },
  {
   "cell_type": "markdown",
   "id": "f402697e",
   "metadata": {},
   "source": [
    "### Step 2. SentencePiece 모델 학습"
   ]
  },
  {
   "cell_type": "code",
   "execution_count": 22,
   "id": "d4bca840",
   "metadata": {},
   "outputs": [
    {
     "name": "stderr",
     "output_type": "stream",
     "text": [
      "sentencepiece_trainer.cc(177) LOG(INFO) Running command: --input=/aiffel/aiffel/sp_tokenizer/data/korean-english-park.train.ko.temp --model_prefix=korean_spm --vocab_size=8000\n",
      "sentencepiece_trainer.cc(77) LOG(INFO) Starts training with : \n",
      "trainer_spec {\n",
      "  input: /aiffel/aiffel/sp_tokenizer/data/korean-english-park.train.ko.temp\n",
      "  input_format: \n",
      "  model_prefix: korean_spm\n",
      "  model_type: UNIGRAM\n",
      "  vocab_size: 8000\n",
      "  self_test_sample_size: 0\n",
      "  character_coverage: 0.9995\n",
      "  input_sentence_size: 0\n",
      "  shuffle_input_sentence: 1\n",
      "  seed_sentencepiece_size: 1000000\n",
      "  shrinking_factor: 0.75\n",
      "  max_sentence_length: 4192\n",
      "  num_threads: 16\n",
      "  num_sub_iterations: 2\n",
      "  max_sentencepiece_length: 16\n",
      "  split_by_unicode_script: 1\n",
      "  split_by_number: 1\n",
      "  split_by_whitespace: 1\n",
      "  split_digits: 0\n",
      "  treat_whitespace_as_suffix: 0\n",
      "  allow_whitespace_only_pieces: 0\n",
      "  required_chars: \n",
      "  byte_fallback: 0\n",
      "  vocabulary_output_piece_score: 1\n",
      "  train_extremely_large_corpus: 0\n",
      "  hard_vocab_limit: 1\n",
      "  use_all_vocab: 0\n",
      "  unk_id: 0\n",
      "  bos_id: 1\n",
      "  eos_id: 2\n",
      "  pad_id: -1\n",
      "  unk_piece: <unk>\n",
      "  bos_piece: <s>\n",
      "  eos_piece: </s>\n",
      "  pad_piece: <pad>\n",
      "  unk_surface:  ⁇ \n",
      "}\n",
      "normalizer_spec {\n",
      "  name: nmt_nfkc\n",
      "  add_dummy_prefix: 1\n",
      "  remove_extra_whitespaces: 1\n",
      "  escape_whitespaces: 1\n",
      "  normalization_rule_tsv: \n",
      "}\n",
      "denormalizer_spec {}\n",
      "trainer_interface.cc(329) LOG(INFO) SentenceIterator is not specified. Using MultiFileSentenceIterator.\n",
      "trainer_interface.cc(178) LOG(INFO) Loading corpus: /aiffel/aiffel/sp_tokenizer/data/korean-english-park.train.ko.temp\n",
      "trainer_interface.cc(385) LOG(INFO) Loaded all 169532 sentences\n",
      "trainer_interface.cc(400) LOG(INFO) Adding meta_piece: <unk>\n",
      "trainer_interface.cc(400) LOG(INFO) Adding meta_piece: <s>\n",
      "trainer_interface.cc(400) LOG(INFO) Adding meta_piece: </s>\n",
      "trainer_interface.cc(405) LOG(INFO) Normalizing sentences...\n",
      "trainer_interface.cc(466) LOG(INFO) all chars count=4822393\n",
      "trainer_interface.cc(477) LOG(INFO) Done: 99.95% characters are covered.\n",
      "trainer_interface.cc(487) LOG(INFO) Alphabet size=1739\n",
      "trainer_interface.cc(488) LOG(INFO) Final character coverage=0.9995\n",
      "trainer_interface.cc(520) LOG(INFO) Done! preprocessed 169532 sentences.\n",
      "unigram_model_trainer.cc(139) LOG(INFO) Making suffix array...\n",
      "unigram_model_trainer.cc(143) LOG(INFO) Extracting frequent sub strings...\n",
      "unigram_model_trainer.cc(194) LOG(INFO) Initialized 275231 seed sentencepieces\n",
      "trainer_interface.cc(526) LOG(INFO) Tokenizing input sentences with whitespace: 169532\n",
      "trainer_interface.cc(537) LOG(INFO) Done! 317176\n",
      "unigram_model_trainer.cc(489) LOG(INFO) Using 317176 sentences for EM training\n",
      "unigram_model_trainer.cc(505) LOG(INFO) EM sub_iter=0 size=140731 obj=15.2874 num_tokens=747689 num_tokens/piece=5.31289\n",
      "unigram_model_trainer.cc(505) LOG(INFO) EM sub_iter=1 size=130447 obj=14.2096 num_tokens=752476 num_tokens/piece=5.76844\n",
      "unigram_model_trainer.cc(505) LOG(INFO) EM sub_iter=0 size=97789 obj=14.3058 num_tokens=783797 num_tokens/piece=8.01519\n",
      "unigram_model_trainer.cc(505) LOG(INFO) EM sub_iter=1 size=97630 obj=14.2507 num_tokens=785024 num_tokens/piece=8.04081\n",
      "unigram_model_trainer.cc(505) LOG(INFO) EM sub_iter=0 size=73217 obj=14.4895 num_tokens=824654 num_tokens/piece=11.2631\n",
      "unigram_model_trainer.cc(505) LOG(INFO) EM sub_iter=1 size=73210 obj=14.4272 num_tokens=824727 num_tokens/piece=11.2652\n",
      "unigram_model_trainer.cc(505) LOG(INFO) EM sub_iter=0 size=54907 obj=14.6891 num_tokens=862652 num_tokens/piece=15.7111\n",
      "unigram_model_trainer.cc(505) LOG(INFO) EM sub_iter=1 size=54907 obj=14.6266 num_tokens=862657 num_tokens/piece=15.7112\n",
      "unigram_model_trainer.cc(505) LOG(INFO) EM sub_iter=0 size=41180 obj=14.9245 num_tokens=903620 num_tokens/piece=21.9432\n",
      "unigram_model_trainer.cc(505) LOG(INFO) EM sub_iter=1 size=41180 obj=14.8598 num_tokens=903634 num_tokens/piece=21.9435\n",
      "unigram_model_trainer.cc(505) LOG(INFO) EM sub_iter=0 size=30885 obj=15.186 num_tokens=945630 num_tokens/piece=30.6178\n",
      "unigram_model_trainer.cc(505) LOG(INFO) EM sub_iter=1 size=30885 obj=15.1187 num_tokens=945621 num_tokens/piece=30.6175\n",
      "unigram_model_trainer.cc(505) LOG(INFO) EM sub_iter=0 size=23163 obj=15.4804 num_tokens=988663 num_tokens/piece=42.6829\n",
      "unigram_model_trainer.cc(505) LOG(INFO) EM sub_iter=1 size=23163 obj=15.4071 num_tokens=988715 num_tokens/piece=42.6851\n",
      "unigram_model_trainer.cc(505) LOG(INFO) EM sub_iter=0 size=17372 obj=15.7995 num_tokens=1034043 num_tokens/piece=59.5235\n",
      "unigram_model_trainer.cc(505) LOG(INFO) EM sub_iter=1 size=17372 obj=15.7179 num_tokens=1034057 num_tokens/piece=59.5243\n",
      "unigram_model_trainer.cc(505) LOG(INFO) EM sub_iter=0 size=13029 obj=16.1511 num_tokens=1082453 num_tokens/piece=83.0803\n",
      "unigram_model_trainer.cc(505) LOG(INFO) EM sub_iter=1 size=13029 obj=16.0585 num_tokens=1082525 num_tokens/piece=83.0858\n",
      "unigram_model_trainer.cc(505) LOG(INFO) EM sub_iter=0 size=9771 obj=16.5371 num_tokens=1135566 num_tokens/piece=116.218\n",
      "unigram_model_trainer.cc(505) LOG(INFO) EM sub_iter=1 size=9771 obj=16.4228 num_tokens=1135760 num_tokens/piece=116.238\n",
      "unigram_model_trainer.cc(505) LOG(INFO) EM sub_iter=0 size=8800 obj=16.6052 num_tokens=1155285 num_tokens/piece=131.282\n",
      "unigram_model_trainer.cc(505) LOG(INFO) EM sub_iter=1 size=8800 obj=16.5659 num_tokens=1155436 num_tokens/piece=131.3\n",
      "trainer_interface.cc(615) LOG(INFO) Saving model: korean_spm.model\n",
      "trainer_interface.cc(626) LOG(INFO) Saving vocabs: korean_spm.vocab\n"
     ]
    },
    {
     "name": "stdout",
     "output_type": "stream",
     "text": [
      "-rw-r--r-- 1 root root 375117 Aug 15 15:52 korean_spm_8k.model\r\n",
      "-rw-r--r-- 1 root root 144553 Aug 15 15:52 korean_spm_8k.vocab\r\n",
      "-rw-r--r-- 1 root root 370461 Aug 16 03:20 korean_spm_bpe.model\r\n",
      "-rw-r--r-- 1 root root 115663 Aug 16 03:20 korean_spm_bpe.vocab\r\n",
      "-rw-r--r-- 1 root root 375114 Aug 16 06:15 korean_spm.model\r\n",
      "-rw-r--r-- 1 root root 144553 Aug 16 06:15 korean_spm.vocab\r\n"
     ]
    }
   ],
   "source": [
    "import sentencepiece as spm\n",
    "import os\n",
    "temp_file = os.getenv('HOME')+'/aiffel/sp_tokenizer/data/korean-english-park.train.ko.temp'\n",
    "\n",
    "vocab_size = 8000\n",
    "\n",
    "with open(temp_file, 'w') as f:\n",
    "    for row in train_data['document']:   # 이전에 나왔던 정제했던 corpus를 활용해서 진행해야 합니다.\n",
    "        f.write(str(row) + '\\n')\n",
    "\n",
    "spm.SentencePieceTrainer.Train(\n",
    "    '--input={} --model_prefix=korean_spm --vocab_size={}'.format(temp_file, vocab_size)    \n",
    ")\n",
    "#위 Train에서  --model_type = unigram이 디폴트 적용되어 있습니다. --model_type = bpe로 옵션을 주어 변경할 수 있습니다.\n",
    "\n",
    "!ls -l korean_spm*"
   ]
  },
  {
   "cell_type": "code",
   "execution_count": 23,
   "id": "dec9e043",
   "metadata": {},
   "outputs": [
    {
     "data": {
      "text/html": [
       "<div>\n",
       "<style scoped>\n",
       "    .dataframe tbody tr th:only-of-type {\n",
       "        vertical-align: middle;\n",
       "    }\n",
       "\n",
       "    .dataframe tbody tr th {\n",
       "        vertical-align: top;\n",
       "    }\n",
       "\n",
       "    .dataframe thead th {\n",
       "        text-align: right;\n",
       "    }\n",
       "</style>\n",
       "<table border=\"1\" class=\"dataframe\">\n",
       "  <thead>\n",
       "    <tr style=\"text-align: right;\">\n",
       "      <th></th>\n",
       "      <th>0</th>\n",
       "      <th>1</th>\n",
       "    </tr>\n",
       "  </thead>\n",
       "  <tbody>\n",
       "    <tr>\n",
       "      <th>0</th>\n",
       "      <td>&lt;unk&gt;</td>\n",
       "      <td>0.00000</td>\n",
       "    </tr>\n",
       "    <tr>\n",
       "      <th>1</th>\n",
       "      <td>&lt;s&gt;</td>\n",
       "      <td>0.00000</td>\n",
       "    </tr>\n",
       "    <tr>\n",
       "      <th>2</th>\n",
       "      <td>&lt;/s&gt;</td>\n",
       "      <td>0.00000</td>\n",
       "    </tr>\n",
       "    <tr>\n",
       "      <th>3</th>\n",
       "      <td>▁</td>\n",
       "      <td>-3.28398</td>\n",
       "    </tr>\n",
       "    <tr>\n",
       "      <th>4</th>\n",
       "      <td>.</td>\n",
       "      <td>-3.47757</td>\n",
       "    </tr>\n",
       "    <tr>\n",
       "      <th>5</th>\n",
       "      <td>..</td>\n",
       "      <td>-4.26398</td>\n",
       "    </tr>\n",
       "    <tr>\n",
       "      <th>6</th>\n",
       "      <td>이</td>\n",
       "      <td>-4.42282</td>\n",
       "    </tr>\n",
       "    <tr>\n",
       "      <th>7</th>\n",
       "      <td>▁영화</td>\n",
       "      <td>-4.43600</td>\n",
       "    </tr>\n",
       "    <tr>\n",
       "      <th>8</th>\n",
       "      <td>...</td>\n",
       "      <td>-4.49564</td>\n",
       "    </tr>\n",
       "    <tr>\n",
       "      <th>9</th>\n",
       "      <td>가</td>\n",
       "      <td>-4.71026</td>\n",
       "    </tr>\n",
       "  </tbody>\n",
       "</table>\n",
       "</div>"
      ],
      "text/plain": [
       "       0        1\n",
       "0  <unk>  0.00000\n",
       "1    <s>  0.00000\n",
       "2   </s>  0.00000\n",
       "3      ▁ -3.28398\n",
       "4      . -3.47757\n",
       "5     .. -4.26398\n",
       "6      이 -4.42282\n",
       "7    ▁영화 -4.43600\n",
       "8    ... -4.49564\n",
       "9      가 -4.71026"
      ]
     },
     "execution_count": 23,
     "metadata": {},
     "output_type": "execute_result"
    }
   ],
   "source": [
    "vocab_list = pd.read_csv('korean_spm.vocab', sep='\\t', header=None, quoting=csv.QUOTE_NONE)\n",
    "vocab_list[:10]"
   ]
  },
  {
   "cell_type": "code",
   "execution_count": 24,
   "id": "36033ce0",
   "metadata": {},
   "outputs": [
    {
     "name": "stdout",
     "output_type": "stream",
     "text": [
      "subword의 개수 : 8000\n"
     ]
    },
    {
     "data": {
      "text/html": [
       "<div>\n",
       "<style scoped>\n",
       "    .dataframe tbody tr th:only-of-type {\n",
       "        vertical-align: middle;\n",
       "    }\n",
       "\n",
       "    .dataframe tbody tr th {\n",
       "        vertical-align: top;\n",
       "    }\n",
       "\n",
       "    .dataframe thead th {\n",
       "        text-align: right;\n",
       "    }\n",
       "</style>\n",
       "<table border=\"1\" class=\"dataframe\">\n",
       "  <thead>\n",
       "    <tr style=\"text-align: right;\">\n",
       "      <th></th>\n",
       "      <th>0</th>\n",
       "      <th>1</th>\n",
       "    </tr>\n",
       "  </thead>\n",
       "  <tbody>\n",
       "    <tr>\n",
       "      <th>7335</th>\n",
       "      <td>▁사기꾼</td>\n",
       "      <td>-11.10140</td>\n",
       "    </tr>\n",
       "    <tr>\n",
       "      <th>6782</th>\n",
       "      <td>칼</td>\n",
       "      <td>-10.87380</td>\n",
       "    </tr>\n",
       "    <tr>\n",
       "      <th>2550</th>\n",
       "      <td>▁디즈니</td>\n",
       "      <td>-9.61903</td>\n",
       "    </tr>\n",
       "    <tr>\n",
       "      <th>3613</th>\n",
       "      <td>▁이후로</td>\n",
       "      <td>-9.97919</td>\n",
       "    </tr>\n",
       "    <tr>\n",
       "      <th>1245</th>\n",
       "      <td>월</td>\n",
       "      <td>-8.93188</td>\n",
       "    </tr>\n",
       "    <tr>\n",
       "      <th>7816</th>\n",
       "      <td>돗</td>\n",
       "      <td>-12.74010</td>\n",
       "    </tr>\n",
       "    <tr>\n",
       "      <th>30</th>\n",
       "      <td>▁진짜</td>\n",
       "      <td>-5.75571</td>\n",
       "    </tr>\n",
       "    <tr>\n",
       "      <th>231</th>\n",
       "      <td>▁가장</td>\n",
       "      <td>-7.51624</td>\n",
       "    </tr>\n",
       "    <tr>\n",
       "      <th>7943</th>\n",
       "      <td>녔</td>\n",
       "      <td>-14.18450</td>\n",
       "    </tr>\n",
       "    <tr>\n",
       "      <th>5661</th>\n",
       "      <td>▁울었어요</td>\n",
       "      <td>-10.52950</td>\n",
       "    </tr>\n",
       "  </tbody>\n",
       "</table>\n",
       "</div>"
      ],
      "text/plain": [
       "          0         1\n",
       "7335   ▁사기꾼 -11.10140\n",
       "6782      칼 -10.87380\n",
       "2550   ▁디즈니  -9.61903\n",
       "3613   ▁이후로  -9.97919\n",
       "1245      월  -8.93188\n",
       "7816      돗 -12.74010\n",
       "30      ▁진짜  -5.75571\n",
       "231     ▁가장  -7.51624\n",
       "7943      녔 -14.18450\n",
       "5661  ▁울었어요 -10.52950"
      ]
     },
     "execution_count": 24,
     "metadata": {},
     "output_type": "execute_result"
    }
   ],
   "source": [
    "print('subword의 개수 :', len(vocab_list))\n",
    "vocab_list.sample(10)"
   ]
  },
  {
   "cell_type": "code",
   "execution_count": 25,
   "id": "3f7e1780",
   "metadata": {},
   "outputs": [],
   "source": [
    "def test_performance(model):\n",
    "    s = spm.SentencePieceProcessor()\n",
    "    s.Load(model)\n",
    "\n",
    "    # SentencePiece를 활용한 sentence -> encoding\n",
    "    tokensIDs = s.EncodeAsIds('아버지가방에들어가신다.')\n",
    "    print(tokensIDs)\n",
    "\n",
    "    # SentencePiece를 활용한 sentence -> encoded pieces\n",
    "    print(s.SampleEncodeAsPieces('아버지가방에들어가신다.',1, 0.0))\n",
    "\n",
    "    # SentencePiece를 활용한 encoding -> sentence 복원\n",
    "    print(s.DecodeIds(tokensIDs))"
   ]
  },
  {
   "cell_type": "code",
   "execution_count": 26,
   "id": "b63ba606",
   "metadata": {},
   "outputs": [
    {
     "name": "stdout",
     "output_type": "stream",
     "text": [
      "korean_spm\n",
      "[1637, 9, 470, 15, 1354, 9, 143, 16, 4]\n",
      "['▁아버지', '가', '방', '에', '들어', '가', '신', '다', '.']\n",
      "아버지가방에들어가신다.\n"
     ]
    }
   ],
   "source": [
    "print('korean_spm')\n",
    "test_performance(model='korean_spm.model')\n"
   ]
  },
  {
   "cell_type": "markdown",
   "id": "ae68f343",
   "metadata": {},
   "source": [
    "### Step 3. Tokenizer 함수 작성"
   ]
  },
  {
   "cell_type": "code",
   "execution_count": 27,
   "id": "4ba061d2",
   "metadata": {},
   "outputs": [],
   "source": [
    "def sp_tokenize(s, corpus, spm):\n",
    "\n",
    "    tensor = []\n",
    "\n",
    "    for sen in corpus:\n",
    "        tensor.append(s.EncodeAsIds(sen))\n",
    "\n",
    "    with open(\"./{}.vocab\".format(spm), 'r') as f: \n",
    "        vocab = f.readlines()\n",
    "\n",
    "    word_index = {}\n",
    "    index_word = {}\n",
    "\n",
    "    for idx, line in enumerate(vocab):\n",
    "        word = line.split(\"\\t\")[0]\n",
    "\n",
    "        word_index.update({idx:word})\n",
    "        index_word.update({word:idx})\n",
    "\n",
    "    tensor = tf.keras.preprocessing.sequence.pad_sequences(tensor, padding='pre', maxlen=max_len)\n",
    "\n",
    "    return tensor, word_index, index_word"
   ]
  },
  {
   "cell_type": "code",
   "execution_count": 28,
   "id": "eac13f82",
   "metadata": {},
   "outputs": [
    {
     "name": "stdout",
     "output_type": "stream",
     "text": [
      "[[   0    0    0    0    0    0    0    0    0    0    0    0    0    0\n",
      "     0    0    0    0    0    0    0    0    0    0    0    0    0    0\n",
      "     0    0    0    0    0    0    0    0    0    0    0    0    0    0\n",
      "     0    0    0    0    0    0    0    0    0    0    0    0    0    0\n",
      "     0    0    0    0    0    0    0    0  500 3371   14 1182 2776    4]\n",
      " [   0    0    0    0    0    0    0    0    0    0    0    0    0    0\n",
      "     0    0    0    0    0    0    0    0    0    0    0    0    0    0\n",
      "     0    0    0    0    0    0    0    0    0    0    0    0    0    0\n",
      "     0    0    0    0    0    0    0    0    0    0    0    0    0    0\n",
      "     0    0    0    0 1631 2133  232  587    9    3   17 7940  819    8]]\n"
     ]
    }
   ],
   "source": [
    "s = spm.SentencePieceProcessor()\n",
    "\n",
    "s.Load('korean_spm.model') \n",
    "\n",
    "my_corpus = ['나는 밥을 먹었습니다.', '그러나 여전히 ㅠㅠ 배가 고픕니다...']\n",
    "tensor, word_index, index_word = sp_tokenize(s, my_corpus, 'korean_spm')           \n",
    "print(tensor)\n",
    "# pre-paddings & token indexes"
   ]
  },
  {
   "cell_type": "markdown",
   "id": "1302adbf",
   "metadata": {},
   "source": [
    "### Step 4. 네이버 영화리뷰 감정 분석 문제에 SentencePiece 적용해 보기"
   ]
  },
  {
   "cell_type": "code",
   "execution_count": 29,
   "id": "94cca527",
   "metadata": {},
   "outputs": [],
   "source": [
    "tensor, word_index, index_word = sp_tokenize(s, train_data['document'], 'korean_spm')"
   ]
  },
  {
   "cell_type": "code",
   "execution_count": 30,
   "id": "bace8cbd",
   "metadata": {},
   "outputs": [],
   "source": [
    "from sklearn.model_selection import train_test_split\n",
    "\n",
    "filtered_label = np.array(train_data['label'])\n",
    "x_train, x_temp, y_train, y_temp = train_test_split(tensor, filtered_label, test_size=0.3, random_state=42)\n",
    "x_val, x_test, y_val, y_test = train_test_split(x_temp, y_temp, test_size=0.5, random_state=42)\n",
    "\n",
    "# train: 70%, val: 15%, test: 15%"
   ]
  },
  {
   "cell_type": "code",
   "execution_count": 31,
   "id": "969e7e7f",
   "metadata": {},
   "outputs": [
    {
     "name": "stdout",
     "output_type": "stream",
     "text": [
      "118672 25430 25430\n",
      "118672 25430 25430\n"
     ]
    }
   ],
   "source": [
    "print(len(x_train), len(x_test), len(x_val))\n",
    "print(len(y_train), len(y_test), len(y_val))"
   ]
  },
  {
   "cell_type": "code",
   "execution_count": 32,
   "id": "6928f051",
   "metadata": {},
   "outputs": [
    {
     "name": "stdout",
     "output_type": "stream",
     "text": [
      "Model: \"lstm_model\"\n",
      "_________________________________________________________________\n",
      "Layer (type)                 Output Shape              Param #   \n",
      "=================================================================\n",
      "embedding (Embedding)        multiple                  128000    \n",
      "_________________________________________________________________\n",
      "lstm (LSTM)                  multiple                  74240     \n",
      "_________________________________________________________________\n",
      "dense (Dense)                multiple                  16512     \n",
      "_________________________________________________________________\n",
      "dense_1 (Dense)              multiple                  129       \n",
      "=================================================================\n",
      "Total params: 218,881\n",
      "Trainable params: 218,881\n",
      "Non-trainable params: 0\n",
      "_________________________________________________________________\n"
     ]
    }
   ],
   "source": [
    "import tensorflow as tf\n",
    "from tensorflow.keras.layers import Embedding, LSTM, Dense\n",
    "\n",
    "class LSTMModel(tf.keras.Model):\n",
    "    def __init__(self, vocab_size, word_vector_dim):\n",
    "        super(LSTMModel, self).__init__()\n",
    "        \n",
    "        self.embedding = Embedding(vocab_size, word_vector_dim)\n",
    "        self.lstm = LSTM(128)\n",
    "        self.dense1 = Dense(128, activation='relu') \n",
    "        self.dense2 = Dense(1, activation='sigmoid')\n",
    "        \n",
    "    def call(self, x):\n",
    "        x = self.embedding(x)\n",
    "        x = self.lstm(x)\n",
    "        x = self.dense1(x)  \n",
    "        return self.dense2(x)\n",
    "\n",
    "\n",
    "model_spm = LSTMModel(vocab_size, word_vector_dim = 16)\n",
    "model_spm.build((None, None)) \n",
    "model_spm.summary()\n"
   ]
  },
  {
   "cell_type": "code",
   "execution_count": 33,
   "id": "83244813",
   "metadata": {},
   "outputs": [],
   "source": [
    "# set early stopping\n",
    "\n",
    "es = keras.callbacks.EarlyStopping(monitor='val_loss', mode='min', verbose=1, patience=2)"
   ]
  },
  {
   "cell_type": "code",
   "execution_count": 34,
   "id": "48c60df5",
   "metadata": {},
   "outputs": [
    {
     "name": "stdout",
     "output_type": "stream",
     "text": [
      "Epoch 1/20\n",
      "1855/1855 [==============================] - 16s 7ms/step - loss: 0.4026 - accuracy: 0.8153 - val_loss: 0.3493 - val_accuracy: 0.8486\n",
      "Epoch 2/20\n",
      "1855/1855 [==============================] - 12s 7ms/step - loss: 0.3196 - accuracy: 0.8616 - val_loss: 0.3361 - val_accuracy: 0.8533\n",
      "Epoch 3/20\n",
      "1855/1855 [==============================] - 13s 7ms/step - loss: 0.2873 - accuracy: 0.8741 - val_loss: 0.3331 - val_accuracy: 0.8549\n",
      "Epoch 4/20\n",
      "1855/1855 [==============================] - 12s 7ms/step - loss: 0.2623 - accuracy: 0.8863 - val_loss: 0.3378 - val_accuracy: 0.8518\n",
      "Epoch 5/20\n",
      "1855/1855 [==============================] - 12s 7ms/step - loss: 0.2376 - accuracy: 0.8978 - val_loss: 0.3634 - val_accuracy: 0.8493\n",
      "Epoch 00005: early stopping\n"
     ]
    }
   ],
   "source": [
    "model_spm.compile(optimizer='adam',\n",
    "              loss='binary_crossentropy',\n",
    "              metrics=['accuracy'])\n",
    "              \n",
    "epochs=20\n",
    "batch_size=64\n",
    "\n",
    "history_spm = model_spm.fit(x_train,\n",
    "                    y_train,\n",
    "                    epochs=epochs,\n",
    "                    batch_size=batch_size,\n",
    "                    validation_data=(x_val,y_val),\n",
    "                    callbacks=es,\n",
    "                    verbose=1)"
   ]
  },
  {
   "cell_type": "code",
   "execution_count": 35,
   "id": "1364fd00",
   "metadata": {},
   "outputs": [
    {
     "name": "stdout",
     "output_type": "stream",
     "text": [
      "795/795 - 2s - loss: 0.3827 - accuracy: 0.8468\n",
      "spm acc: 84.68 %\n"
     ]
    }
   ],
   "source": [
    "results = model_spm.evaluate(x_test,  y_test, verbose=2)\n",
    "print('spm acc:', round(results[1] * 100,2), '%' )"
   ]
  },
  {
   "cell_type": "code",
   "execution_count": 36,
   "id": "bfd27fd9",
   "metadata": {},
   "outputs": [
    {
     "data": {
      "image/png": "[encoded data removed]",
      "text/plain": [
       "<Figure size 864x288 with 2 Axes>"
      ]
     },
     "metadata": {
      "needs_background": "light"
     },
     "output_type": "display_data"
    }
   ],
   "source": [
    "class HistoryPlotter:\n",
    "    def __init__(self, history):\n",
    "        self.history = history\n",
    "\n",
    "    def plot(self):\n",
    "        # Accuracy\n",
    "        plt.figure(figsize=(12, 4))\n",
    "\n",
    "        plt.subplot(1, 2, 1)\n",
    "        plt.plot(self.history.history['accuracy'], label='Train Accuracy')\n",
    "        plt.plot(self.history.history['val_accuracy'], label='Validation Accuracy')\n",
    "        plt.legend()\n",
    "        plt.title('Accuracy')\n",
    "\n",
    "        # Loss\n",
    "        plt.subplot(1, 2, 2)\n",
    "        plt.plot(self.history.history['loss'], label='Train Loss')\n",
    "        plt.plot(self.history.history['val_loss'], label='Validation Loss')\n",
    "        plt.legend()\n",
    "        plt.title('Loss')\n",
    "\n",
    "        plt.tight_layout()\n",
    "        plt.show()\n",
    "\n",
    "\n",
    "plotter = HistoryPlotter(history_spm)\n",
    "plotter.plot()"
   ]
  },
  {
   "cell_type": "markdown",
   "id": "b9e4810d",
   "metadata": {},
   "source": [
    "## Use different Tokenizer"
   ]
  },
  {
   "cell_type": "markdown",
   "id": "b9acc1ec",
   "metadata": {},
   "source": [
    "### SentencePiece BPE(byte-pair-encoding) mode"
   ]
  },
  {
   "cell_type": "code",
   "execution_count": 37,
   "id": "95edb418",
   "metadata": {},
   "outputs": [
    {
     "name": "stderr",
     "output_type": "stream",
     "text": [
      "sentencepiece_trainer.cc(177) LOG(INFO) Running command: --input=/aiffel/aiffel/sp_tokenizer/data/korean-english-park.train.ko.temp --model_prefix=korean_spm_bpe --vocab_size=8000 --model_type=bpe\n",
      "sentencepiece_trainer.cc(77) LOG(INFO) Starts training with : \n",
      "trainer_spec {\n",
      "  input: /aiffel/aiffel/sp_tokenizer/data/korean-english-park.train.ko.temp\n",
      "  input_format: \n",
      "  model_prefix: korean_spm_bpe\n",
      "  model_type: BPE\n",
      "  vocab_size: 8000\n",
      "  self_test_sample_size: 0\n",
      "  character_coverage: 0.9995\n",
      "  input_sentence_size: 0\n",
      "  shuffle_input_sentence: 1\n",
      "  seed_sentencepiece_size: 1000000\n",
      "  shrinking_factor: 0.75\n",
      "  max_sentence_length: 4192\n",
      "  num_threads: 16\n",
      "  num_sub_iterations: 2\n",
      "  max_sentencepiece_length: 16\n",
      "  split_by_unicode_script: 1\n",
      "  split_by_number: 1\n",
      "  split_by_whitespace: 1\n",
      "  split_digits: 0\n",
      "  treat_whitespace_as_suffix: 0\n",
      "  allow_whitespace_only_pieces: 0\n",
      "  required_chars: \n",
      "  byte_fallback: 0\n",
      "  vocabulary_output_piece_score: 1\n",
      "  train_extremely_large_corpus: 0\n",
      "  hard_vocab_limit: 1\n",
      "  use_all_vocab: 0\n",
      "  unk_id: 0\n",
      "  bos_id: 1\n",
      "  eos_id: 2\n",
      "  pad_id: -1\n",
      "  unk_piece: <unk>\n",
      "  bos_piece: <s>\n",
      "  eos_piece: </s>\n",
      "  pad_piece: <pad>\n",
      "  unk_surface:  ⁇ \n",
      "}\n",
      "normalizer_spec {\n",
      "  name: nmt_nfkc\n",
      "  add_dummy_prefix: 1\n",
      "  remove_extra_whitespaces: 1\n",
      "  escape_whitespaces: 1\n",
      "  normalization_rule_tsv: \n",
      "}\n",
      "denormalizer_spec {}\n",
      "trainer_interface.cc(329) LOG(INFO) SentenceIterator is not specified. Using MultiFileSentenceIterator.\n",
      "trainer_interface.cc(178) LOG(INFO) Loading corpus: /aiffel/aiffel/sp_tokenizer/data/korean-english-park.train.ko.temp\n",
      "trainer_interface.cc(385) LOG(INFO) Loaded all 169532 sentences\n",
      "trainer_interface.cc(400) LOG(INFO) Adding meta_piece: <unk>\n",
      "trainer_interface.cc(400) LOG(INFO) Adding meta_piece: <s>\n",
      "trainer_interface.cc(400) LOG(INFO) Adding meta_piece: </s>\n",
      "trainer_interface.cc(405) LOG(INFO) Normalizing sentences...\n",
      "trainer_interface.cc(466) LOG(INFO) all chars count=4822393\n",
      "trainer_interface.cc(477) LOG(INFO) Done: 99.95% characters are covered.\n",
      "trainer_interface.cc(487) LOG(INFO) Alphabet size=1739\n",
      "trainer_interface.cc(488) LOG(INFO) Final character coverage=0.9995\n",
      "trainer_interface.cc(520) LOG(INFO) Done! preprocessed 169532 sentences.\n",
      "trainer_interface.cc(526) LOG(INFO) Tokenizing input sentences with whitespace: 169532\n",
      "trainer_interface.cc(537) LOG(INFO) Done! 317176\n",
      "bpe_model_trainer.cc(167) LOG(INFO) Updating active symbols. max_freq=74112 min_freq=82\n",
      "bpe_model_trainer.cc(258) LOG(INFO) Added: freq=10312 size=20 all=104581 active=9905 piece=▁없\n",
      "bpe_model_trainer.cc(258) LOG(INFO) Added: freq=7900 size=40 all=107650 active=12974 piece=▁만\n",
      "bpe_model_trainer.cc(258) LOG(INFO) Added: freq=5516 size=60 all=111898 active=17222 piece=▁수\n",
      "bpe_model_trainer.cc(258) LOG(INFO) Added: freq=4644 size=80 all=116266 active=21590 piece=▁말\n",
      "bpe_model_trainer.cc(258) LOG(INFO) Added: freq=3756 size=100 all=118406 active=23730 piece=▁자\n",
      "bpe_model_trainer.cc(167) LOG(INFO) Updating active symbols. max_freq=3698 min_freq=69\n",
      "bpe_model_trainer.cc(258) LOG(INFO) Added: freq=3290 size=120 all=122122 active=9481 piece=▁역\n",
      "bpe_model_trainer.cc(258) LOG(INFO) Added: freq=2876 size=140 all=124003 active=11362 piece=▁좀\n",
      "bpe_model_trainer.cc(258) LOG(INFO) Added: freq=2599 size=160 all=126569 active=13928 piece=▁영\n",
      "bpe_model_trainer.cc(258) LOG(INFO) Added: freq=2334 size=180 all=129441 active=16800 piece=▁되\n",
      "bpe_model_trainer.cc(258) LOG(INFO) Added: freq=2148 size=200 all=131179 active=18538 piece=▁3\n",
      "bpe_model_trainer.cc(167) LOG(INFO) Updating active symbols. max_freq=2141 min_freq=60\n",
      "bpe_model_trainer.cc(258) LOG(INFO) Added: freq=1999 size=220 all=133699 active=9061 piece=▁한국\n",
      "bpe_model_trainer.cc(258) LOG(INFO) Added: freq=1859 size=240 all=135595 active=10957 piece=▁도\n",
      "bpe_model_trainer.cc(258) LOG(INFO) Added: freq=1685 size=260 all=138065 active=13427 piece=▁로\n",
      "bpe_model_trainer.cc(258) LOG(INFO) Added: freq=1575 size=280 all=140367 active=15728 piece=▁구\n",
      "bpe_model_trainer.cc(258) LOG(INFO) Added: freq=1493 size=300 all=142359 active=17720 piece=▁위\n",
      "bpe_model_trainer.cc(167) LOG(INFO) Updating active symbols. max_freq=1487 min_freq=54\n",
      "bpe_model_trainer.cc(258) LOG(INFO) Added: freq=1418 size=320 all=144182 active=8870 piece=▁공포\n",
      "bpe_model_trainer.cc(258) LOG(INFO) Added: freq=1325 size=340 all=146526 active=11214 piece=▁여자\n",
      "bpe_model_trainer.cc(258) LOG(INFO) Added: freq=1229 size=360 all=148718 active=13406 piece=▁낮\n",
      "bpe_model_trainer.cc(258) LOG(INFO) Added: freq=1177 size=380 all=150601 active=15289 piece=▁단\n",
      "bpe_model_trainer.cc(258) LOG(INFO) Added: freq=1130 size=400 all=152532 active=17220 piece=아서\n",
      "bpe_model_trainer.cc(167) LOG(INFO) Updating active symbols. max_freq=1128 min_freq=50\n",
      "bpe_model_trainer.cc(258) LOG(INFO) Added: freq=1084 size=420 all=154005 active=8986 piece=▁절\n",
      "bpe_model_trainer.cc(258) LOG(INFO) Added: freq=1040 size=440 all=155645 active=10626 piece=▁극장\n",
      "bpe_model_trainer.cc(258) LOG(INFO) Added: freq=986 size=460 all=157110 active=12091 piece=▁좋다\n",
      "bpe_model_trainer.cc(258) LOG(INFO) Added: freq=931 size=480 all=158599 active=13580 piece=▁재밌다\n",
      "bpe_model_trainer.cc(258) LOG(INFO) Added: freq=902 size=500 all=160181 active=15162 piece=준다\n",
      "bpe_model_trainer.cc(167) LOG(INFO) Updating active symbols. max_freq=902 min_freq=46\n",
      "bpe_model_trainer.cc(258) LOG(INFO) Added: freq=880 size=520 all=161456 active=9208 piece=▁아주\n",
      "bpe_model_trainer.cc(258) LOG(INFO) Added: freq=844 size=540 all=162623 active=10375 piece=▁프\n",
      "bpe_model_trainer.cc(258) LOG(INFO) Added: freq=800 size=560 all=164660 active=12412 piece=▁찍\n",
      "bpe_model_trainer.cc(258) LOG(INFO) Added: freq=778 size=580 all=166529 active=14281 piece=▁내용이\n",
      "bpe_model_trainer.cc(258) LOG(INFO) Added: freq=757 size=600 all=168092 active=15844 piece=▁오랜\n",
      "bpe_model_trainer.cc(167) LOG(INFO) Updating active symbols. max_freq=756 min_freq=43\n",
      "bpe_model_trainer.cc(258) LOG(INFO) Added: freq=742 size=620 all=169609 active=9909 piece=▁어디\n",
      "bpe_model_trainer.cc(258) LOG(INFO) Added: freq=714 size=640 all=171626 active=11926 piece=내용\n",
      "bpe_model_trainer.cc(258) LOG(INFO) Added: freq=695 size=660 all=173144 active=13444 piece=▁나는\n",
      "bpe_model_trainer.cc(258) LOG(INFO) Added: freq=669 size=680 all=174355 active=14655 piece=▁네\n",
      "bpe_model_trainer.cc(258) LOG(INFO) Added: freq=645 size=700 all=176359 active=16659 piece=▁천\n",
      "bpe_model_trainer.cc(167) LOG(INFO) Updating active symbols. max_freq=644 min_freq=40\n",
      "bpe_model_trainer.cc(258) LOG(INFO) Added: freq=628 size=720 all=177873 active=10268 piece=▁디\n",
      "bpe_model_trainer.cc(258) LOG(INFO) Added: freq=612 size=740 all=178783 active=11178 piece=▁아쉬\n",
      "bpe_model_trainer.cc(258) LOG(INFO) Added: freq=598 size=760 all=179619 active=12014 piece=▁자체\n",
      "bpe_model_trainer.cc(258) LOG(INFO) Added: freq=587 size=780 all=180996 active=13391 piece=▁모습\n",
      "bpe_model_trainer.cc(258) LOG(INFO) Added: freq=571 size=800 all=182693 active=15088 piece=▁재미가\n",
      "bpe_model_trainer.cc(167) LOG(INFO) Updating active symbols. max_freq=570 min_freq=38\n",
      "bpe_model_trainer.cc(258) LOG(INFO) Added: freq=561 size=820 all=183836 active=10264 piece=구만\n",
      "bpe_model_trainer.cc(258) LOG(INFO) Added: freq=551 size=840 all=185184 active=11612 piece=▁OOO\n",
      "bpe_model_trainer.cc(258) LOG(INFO) Added: freq=537 size=860 all=186794 active=13222 piece=디오\n",
      "bpe_model_trainer.cc(258) LOG(INFO) Added: freq=526 size=880 all=187928 active=14356 piece=▁아름답\n",
      "bpe_model_trainer.cc(258) LOG(INFO) Added: freq=513 size=900 all=189165 active=15593 piece=이네요\n",
      "bpe_model_trainer.cc(167) LOG(INFO) Updating active symbols. max_freq=512 min_freq=36\n",
      "bpe_model_trainer.cc(258) LOG(INFO) Added: freq=500 size=920 all=190842 active=10983 piece=▁무엇\n",
      "bpe_model_trainer.cc(258) LOG(INFO) Added: freq=488 size=940 all=191917 active=12058 piece=▁시나리오\n",
      "bpe_model_trainer.cc(258) LOG(INFO) Added: freq=476 size=960 all=192981 active=13122 piece=▁진정\n",
      "bpe_model_trainer.cc(258) LOG(INFO) Added: freq=465 size=980 all=194281 active=14422 piece=▁예술\n",
      "bpe_model_trainer.cc(258) LOG(INFO) Added: freq=457 size=1000 all=195274 active=15415 piece=말이\n",
      "bpe_model_trainer.cc(167) LOG(INFO) Updating active symbols. max_freq=457 min_freq=34\n",
      "bpe_model_trainer.cc(258) LOG(INFO) Added: freq=444 size=1020 all=196431 active=10802 piece=봤다\n",
      "bpe_model_trainer.cc(258) LOG(INFO) Added: freq=428 size=1040 all=197944 active=12315 piece=▁잡\n",
      "bpe_model_trainer.cc(258) LOG(INFO) Added: freq=416 size=1060 all=198887 active=13258 piece=▁색\n",
      "bpe_model_trainer.cc(258) LOG(INFO) Added: freq=406 size=1080 all=199722 active=14093 piece=▁없이\n",
      "bpe_model_trainer.cc(258) LOG(INFO) Added: freq=399 size=1100 all=200856 active=15227 piece=▁안되는\n",
      "bpe_model_trainer.cc(167) LOG(INFO) Updating active symbols. max_freq=398 min_freq=33\n",
      "bpe_model_trainer.cc(258) LOG(INFO) Added: freq=391 size=1120 all=201905 active=11069 piece=멜로\n",
      "bpe_model_trainer.cc(258) LOG(INFO) Added: freq=381 size=1140 all=203213 active=12377 piece=았음\n",
      "bpe_model_trainer.cc(258) LOG(INFO) Added: freq=375 size=1160 all=204148 active=13312 piece=▁....\n",
      "bpe_model_trainer.cc(258) LOG(INFO) Added: freq=369 size=1180 all=204981 active=14145 piece=▁생각이\n",
      "bpe_model_trainer.cc(258) LOG(INFO) Added: freq=361 size=1200 all=205946 active=15109 piece=적이고\n",
      "bpe_model_trainer.cc(167) LOG(INFO) Updating active symbols. max_freq=360 min_freq=31\n",
      "bpe_model_trainer.cc(258) LOG(INFO) Added: freq=354 size=1220 all=206691 active=10946 piece=▁맛\n",
      "bpe_model_trainer.cc(258) LOG(INFO) Added: freq=350 size=1240 all=207724 active=11979 piece=▁갈수록\n",
      "bpe_model_trainer.cc(258) LOG(INFO) Added: freq=344 size=1260 all=208638 active=12893 piece=보게\n",
      "bpe_model_trainer.cc(258) LOG(INFO) Added: freq=337 size=1280 all=209938 active=14193 piece=다시\n",
      "bpe_model_trainer.cc(258) LOG(INFO) Added: freq=328 size=1300 all=210941 active=15196 piece=▁화려\n",
      "bpe_model_trainer.cc(167) LOG(INFO) Updating active symbols. max_freq=328 min_freq=30\n",
      "bpe_model_trainer.cc(258) LOG(INFO) Added: freq=324 size=1320 all=211928 active=11509 piece=워요\n",
      "bpe_model_trainer.cc(258) LOG(INFO) Added: freq=318 size=1340 all=213125 active=12706 piece=자가\n",
      "bpe_model_trainer.cc(258) LOG(INFO) Added: freq=311 size=1360 all=214097 active=13678 piece=▁-_-\n",
      "bpe_model_trainer.cc(258) LOG(INFO) Added: freq=305 size=1380 all=215086 active=14667 piece=부분\n",
      "bpe_model_trainer.cc(258) LOG(INFO) Added: freq=300 size=1400 all=216443 active=16024 piece=졌다\n",
      "bpe_model_trainer.cc(167) LOG(INFO) Updating active symbols. max_freq=300 min_freq=29\n",
      "bpe_model_trainer.cc(258) LOG(INFO) Added: freq=297 size=1420 all=217342 active=11663 piece=▁더럽게\n",
      "bpe_model_trainer.cc(258) LOG(INFO) Added: freq=293 size=1440 all=218001 active=12322 piece=▁중간에\n",
      "bpe_model_trainer.cc(258) LOG(INFO) Added: freq=288 size=1460 all=219318 active=13639 piece=▁이영화를\n",
      "bpe_model_trainer.cc(258) LOG(INFO) Added: freq=284 size=1480 all=220212 active=14533 piece=▁봐서\n",
      "bpe_model_trainer.cc(258) LOG(INFO) Added: freq=280 size=1500 all=221304 active=15625 piece=▁없네\n",
      "bpe_model_trainer.cc(167) LOG(INFO) Updating active symbols. max_freq=280 min_freq=28\n",
      "bpe_model_trainer.cc(258) LOG(INFO) Added: freq=275 size=1520 all=222319 active=12070 piece=만으로도\n",
      "bpe_model_trainer.cc(258) LOG(INFO) Added: freq=269 size=1540 all=223365 active=13116 piece=▁흑\n",
      "bpe_model_trainer.cc(258) LOG(INFO) Added: freq=266 size=1560 all=223892 active=13643 piece=들아\n",
      "bpe_model_trainer.cc(258) LOG(INFO) Added: freq=261 size=1580 all=225040 active=14791 piece=▁어울\n",
      "bpe_model_trainer.cc(258) LOG(INFO) Added: freq=256 size=1600 all=225843 active=15594 piece=▁자연\n",
      "bpe_model_trainer.cc(167) LOG(INFO) Updating active symbols. max_freq=256 min_freq=27\n",
      "bpe_model_trainer.cc(258) LOG(INFO) Added: freq=252 size=1620 all=226879 active=12299 piece=▁있어\n",
      "bpe_model_trainer.cc(258) LOG(INFO) Added: freq=248 size=1640 all=227893 active=13313 piece=▁관람\n",
      "bpe_model_trainer.cc(258) LOG(INFO) Added: freq=243 size=1660 all=228810 active=14230 piece=▁까\n",
      "bpe_model_trainer.cc(258) LOG(INFO) Added: freq=240 size=1680 all=229397 active=14817 piece=▁리얼\n",
      "bpe_model_trainer.cc(258) LOG(INFO) Added: freq=237 size=1700 all=230124 active=15544 piece=그리고\n",
      "bpe_model_trainer.cc(167) LOG(INFO) Updating active symbols. max_freq=237 min_freq=26\n",
      "bpe_model_trainer.cc(258) LOG(INFO) Added: freq=234 size=1720 all=231146 active=12432 piece=▁핵\n",
      "bpe_model_trainer.cc(258) LOG(INFO) Added: freq=230 size=1740 all=232195 active=13480 piece=났다\n",
      "bpe_model_trainer.cc(258) LOG(INFO) Added: freq=228 size=1760 all=232999 active=14284 piece=▁쳐\n",
      "bpe_model_trainer.cc(258) LOG(INFO) Added: freq=225 size=1780 all=233890 active=15175 piece=▁써\n",
      "bpe_model_trainer.cc(258) LOG(INFO) Added: freq=223 size=1800 all=234716 active=16001 piece=▁머리\n",
      "bpe_model_trainer.cc(167) LOG(INFO) Updating active symbols. max_freq=223 min_freq=25\n",
      "bpe_model_trainer.cc(258) LOG(INFO) Added: freq=220 size=1820 all=235546 active=12522 piece=그러\n",
      "bpe_model_trainer.cc(258) LOG(INFO) Added: freq=218 size=1840 all=236340 active=13316 piece=▁희망\n",
      "bpe_model_trainer.cc(258) LOG(INFO) Added: freq=215 size=1860 all=236872 active=13848 piece=▁안된다\n",
      "bpe_model_trainer.cc(258) LOG(INFO) Added: freq=211 size=1880 all=237259 active=14235 piece=▁혹\n",
      "bpe_model_trainer.cc(258) LOG(INFO) Added: freq=209 size=1900 all=237829 active=14805 piece=▁ᄏᄏᄏᄏᄏᄏᄏᄏᄏᄏᄏᄏ\n",
      "bpe_model_trainer.cc(167) LOG(INFO) Updating active symbols. max_freq=208 min_freq=25\n",
      "bpe_model_trainer.cc(258) LOG(INFO) Added: freq=205 size=1920 all=238629 active=12684 piece=▁중에\n",
      "bpe_model_trainer.cc(258) LOG(INFO) Added: freq=203 size=1940 all=239430 active=13485 piece=▁명작이다\n",
      "bpe_model_trainer.cc(258) LOG(INFO) Added: freq=199 size=1960 all=240402 active=14457 piece=좋다\n",
      "bpe_model_trainer.cc(258) LOG(INFO) Added: freq=197 size=1980 all=241286 active=15341 piece=역시\n",
      "bpe_model_trainer.cc(258) LOG(INFO) Added: freq=195 size=2000 all=241983 active=16038 piece=▁참고\n",
      "bpe_model_trainer.cc(167) LOG(INFO) Updating active symbols. max_freq=195 min_freq=24\n",
      "bpe_model_trainer.cc(258) LOG(INFO) Added: freq=192 size=2020 all=242689 active=12778 piece=어로\n",
      "bpe_model_trainer.cc(258) LOG(INFO) Added: freq=190 size=2040 all=243309 active=13398 piece=▁케이블\n",
      "bpe_model_trainer.cc(258) LOG(INFO) Added: freq=187 size=2060 all=244120 active=14209 piece=.2\n",
      "bpe_model_trainer.cc(258) LOG(INFO) Added: freq=186 size=2080 all=244959 active=15048 piece=것같다\n",
      "bpe_model_trainer.cc(258) LOG(INFO) Added: freq=184 size=2100 all=245763 active=15852 piece=▁재미없네\n",
      "bpe_model_trainer.cc(167) LOG(INFO) Updating active symbols. max_freq=183 min_freq=23\n",
      "bpe_model_trainer.cc(258) LOG(INFO) Added: freq=181 size=2120 all=246386 active=12904 piece=▁북\n",
      "bpe_model_trainer.cc(258) LOG(INFO) Added: freq=179 size=2140 all=247221 active=13739 piece=▁바람\n",
      "bpe_model_trainer.cc(258) LOG(INFO) Added: freq=177 size=2160 all=247936 active=14454 piece=▁팔\n",
      "bpe_model_trainer.cc(258) LOG(INFO) Added: freq=176 size=2180 all=248427 active=14945 piece=됩니다\n",
      "bpe_model_trainer.cc(258) LOG(INFO) Added: freq=174 size=2200 all=249327 active=15845 piece=▁속편\n",
      "bpe_model_trainer.cc(167) LOG(INFO) Updating active symbols. max_freq=174 min_freq=23\n",
      "bpe_model_trainer.cc(258) LOG(INFO) Added: freq=173 size=2220 all=250166 active=13271 piece=▁재밌었는데\n",
      "bpe_model_trainer.cc(258) LOG(INFO) Added: freq=171 size=2240 all=250885 active=13990 piece=걸까\n",
      "bpe_model_trainer.cc(258) LOG(INFO) Added: freq=170 size=2260 all=251885 active=14990 piece=수있는\n",
      "bpe_model_trainer.cc(258) LOG(INFO) Added: freq=168 size=2280 all=252244 active=15349 piece=▁예쁜\n",
      "bpe_model_trainer.cc(258) LOG(INFO) Added: freq=166 size=2300 all=253065 active=16170 piece=아주\n",
      "bpe_model_trainer.cc(167) LOG(INFO) Updating active symbols. max_freq=166 min_freq=22\n",
      "bpe_model_trainer.cc(258) LOG(INFO) Added: freq=165 size=2320 all=253938 active=13425 piece=하지마\n",
      "bpe_model_trainer.cc(258) LOG(INFO) Added: freq=163 size=2340 all=254914 active=14401 piece=▁오락\n",
      "bpe_model_trainer.cc(258) LOG(INFO) Added: freq=162 size=2360 all=255696 active=15183 piece=▁기대를\n",
      "bpe_model_trainer.cc(258) LOG(INFO) Added: freq=160 size=2380 all=256069 active=15556 piece=▁아마\n",
      "bpe_model_trainer.cc(258) LOG(INFO) Added: freq=159 size=2400 all=256628 active=16115 piece=▁처음이다\n",
      "bpe_model_trainer.cc(167) LOG(INFO) Updating active symbols. max_freq=158 min_freq=22\n",
      "bpe_model_trainer.cc(258) LOG(INFO) Added: freq=157 size=2420 all=257558 active=13756 piece=▁아저씨\n",
      "bpe_model_trainer.cc(258) LOG(INFO) Added: freq=155 size=2440 all=258292 active=14490 piece=세계\n",
      "bpe_model_trainer.cc(258) LOG(INFO) Added: freq=153 size=2460 all=258990 active=15188 piece=겼다\n",
      "bpe_model_trainer.cc(258) LOG(INFO) Added: freq=152 size=2480 all=259803 active=16001 piece=지않은\n",
      "bpe_model_trainer.cc(258) LOG(INFO) Added: freq=150 size=2500 all=260487 active=16685 piece=▁밤\n",
      "bpe_model_trainer.cc(167) LOG(INFO) Updating active symbols. max_freq=150 min_freq=21\n",
      "bpe_model_trainer.cc(258) LOG(INFO) Added: freq=149 size=2520 all=261022 active=13535 piece=▁비극\n",
      "bpe_model_trainer.cc(258) LOG(INFO) Added: freq=148 size=2540 all=261871 active=14384 piece=아까워\n",
      "bpe_model_trainer.cc(258) LOG(INFO) Added: freq=147 size=2560 all=262520 active=15033 piece=▁세상에\n",
      "bpe_model_trainer.cc(258) LOG(INFO) Added: freq=146 size=2580 all=263095 active=15608 piece=▁했던\n",
      "bpe_model_trainer.cc(258) LOG(INFO) Added: freq=145 size=2600 all=263829 active=16342 piece=▁스포\n",
      "bpe_model_trainer.cc(167) LOG(INFO) Updating active symbols. max_freq=145 min_freq=20\n",
      "bpe_model_trainer.cc(258) LOG(INFO) Added: freq=144 size=2620 all=264483 active=13821 piece=본영화\n",
      "bpe_model_trainer.cc(258) LOG(INFO) Added: freq=142 size=2640 all=264934 active=14272 piece=▁덜\n",
      "bpe_model_trainer.cc(258) LOG(INFO) Added: freq=141 size=2660 all=265926 active=15264 piece=▁살짝\n",
      "bpe_model_trainer.cc(258) LOG(INFO) Added: freq=139 size=2680 all=266600 active=15938 piece=▁넣\n",
      "bpe_model_trainer.cc(258) LOG(INFO) Added: freq=138 size=2700 all=267057 active=16395 piece=▁찡\n",
      "bpe_model_trainer.cc(167) LOG(INFO) Updating active symbols. max_freq=138 min_freq=20\n",
      "bpe_model_trainer.cc(258) LOG(INFO) Added: freq=137 size=2720 all=267705 active=13972 piece=었을\n",
      "bpe_model_trainer.cc(258) LOG(INFO) Added: freq=136 size=2740 all=268398 active=14665 piece=▁경찰\n",
      "bpe_model_trainer.cc(258) LOG(INFO) Added: freq=135 size=2760 all=269025 active=15292 piece=▁넘어\n",
      "bpe_model_trainer.cc(258) LOG(INFO) Added: freq=134 size=2780 all=269664 active=15931 piece=▁방금\n",
      "bpe_model_trainer.cc(258) LOG(INFO) Added: freq=133 size=2800 all=270424 active=16691 piece=▁반전도\n",
      "bpe_model_trainer.cc(167) LOG(INFO) Updating active symbols. max_freq=133 min_freq=20\n",
      "bpe_model_trainer.cc(258) LOG(INFO) Added: freq=131 size=2820 all=270946 active=14035 piece=▁꽝\n",
      "bpe_model_trainer.cc(258) LOG(INFO) Added: freq=130 size=2840 all=271800 active=14888 piece=▁미드\n",
      "bpe_model_trainer.cc(258) LOG(INFO) Added: freq=129 size=2860 all=272287 active=15375 piece=이리\n",
      "bpe_model_trainer.cc(258) LOG(INFO) Added: freq=128 size=2880 all=272799 active=15887 piece=봤던\n",
      "bpe_model_trainer.cc(258) LOG(INFO) Added: freq=128 size=2900 all=273534 active=16622 piece=▁떨어지는\n",
      "bpe_model_trainer.cc(167) LOG(INFO) Updating active symbols. max_freq=127 min_freq=19\n",
      "bpe_model_trainer.cc(258) LOG(INFO) Added: freq=127 size=2920 all=274110 active=14241 piece=▁베스트\n",
      "bpe_model_trainer.cc(258) LOG(INFO) Added: freq=126 size=2940 all=274679 active=14810 piece=▁뛰어난\n",
      "bpe_model_trainer.cc(258) LOG(INFO) Added: freq=125 size=2960 all=275233 active=15364 piece=▁오히려\n",
      "bpe_model_trainer.cc(258) LOG(INFO) Added: freq=124 size=2980 all=275645 active=15776 piece=▁마세요\n",
      "bpe_model_trainer.cc(258) LOG(INFO) Added: freq=123 size=3000 all=276035 active=16166 piece=▁반개도\n",
      "bpe_model_trainer.cc(167) LOG(INFO) Updating active symbols. max_freq=123 min_freq=19\n",
      "bpe_model_trainer.cc(258) LOG(INFO) Added: freq=122 size=3020 all=276492 active=14256 piece=하더라\n",
      "bpe_model_trainer.cc(258) LOG(INFO) Added: freq=121 size=3040 all=276979 active=14743 piece=▁좋을\n",
      "bpe_model_trainer.cc(258) LOG(INFO) Added: freq=120 size=3060 all=277698 active=15462 piece=▁믿을\n",
      "bpe_model_trainer.cc(258) LOG(INFO) Added: freq=119 size=3080 all=278126 active=15890 piece=▁연예\n",
      "bpe_model_trainer.cc(258) LOG(INFO) Added: freq=118 size=3100 all=278721 active=16485 piece=▁자막\n",
      "bpe_model_trainer.cc(167) LOG(INFO) Updating active symbols. max_freq=118 min_freq=18\n",
      "bpe_model_trainer.cc(258) LOG(INFO) Added: freq=117 size=3120 all=279215 active=14393 piece=이를\n",
      "bpe_model_trainer.cc(258) LOG(INFO) Added: freq=116 size=3140 all=279655 active=14833 piece=봐요\n",
      "bpe_model_trainer.cc(258) LOG(INFO) Added: freq=116 size=3160 all=280094 active=15272 piece=▁지루했다\n",
      "bpe_model_trainer.cc(258) LOG(INFO) Added: freq=115 size=3180 all=280750 active=15928 piece=구하고\n",
      "bpe_model_trainer.cc(258) LOG(INFO) Added: freq=114 size=3200 all=281416 active=16594 piece=안에\n",
      "bpe_model_trainer.cc(167) LOG(INFO) Updating active symbols. max_freq=114 min_freq=18\n",
      "bpe_model_trainer.cc(258) LOG(INFO) Added: freq=113 size=3220 all=281949 active=14547 piece=시에\n",
      "bpe_model_trainer.cc(258) LOG(INFO) Added: freq=112 size=3240 all=282509 active=15107 piece=씨가\n",
      "bpe_model_trainer.cc(258) LOG(INFO) Added: freq=111 size=3260 all=283190 active=15788 piece=▁떠나\n",
      "bpe_model_trainer.cc(258) LOG(INFO) Added: freq=110 size=3280 all=283696 active=16294 piece=▁역할\n",
      "bpe_model_trainer.cc(258) LOG(INFO) Added: freq=109 size=3300 all=284136 active=16734 piece=▁발견\n",
      "bpe_model_trainer.cc(167) LOG(INFO) Updating active symbols. max_freq=109 min_freq=18\n",
      "bpe_model_trainer.cc(258) LOG(INFO) Added: freq=108 size=3320 all=284570 active=14610 piece=▁발전\n",
      "bpe_model_trainer.cc(258) LOG(INFO) Added: freq=107 size=3340 all=285311 active=15351 piece=학년\n",
      "bpe_model_trainer.cc(258) LOG(INFO) Added: freq=106 size=3360 all=285642 active=15682 piece=▁l\n",
      "bpe_model_trainer.cc(258) LOG(INFO) Added: freq=106 size=3380 all=286130 active=16170 piece=▁핵노잼\n",
      "bpe_model_trainer.cc(258) LOG(INFO) Added: freq=105 size=3400 all=286700 active=16740 piece=▁홍보\n",
      "bpe_model_trainer.cc(167) LOG(INFO) Updating active symbols. max_freq=105 min_freq=17\n",
      "bpe_model_trainer.cc(258) LOG(INFO) Added: freq=104 size=3420 all=287089 active=14694 piece=성의\n",
      "bpe_model_trainer.cc(258) LOG(INFO) Added: freq=104 size=3440 all=287639 active=15244 piece=▁재밌을\n",
      "bpe_model_trainer.cc(258) LOG(INFO) Added: freq=103 size=3460 all=288266 active=15871 piece=▁북한\n",
      "bpe_model_trainer.cc(258) LOG(INFO) Added: freq=102 size=3480 all=288800 active=16405 piece=▁갠\n",
      "bpe_model_trainer.cc(258) LOG(INFO) Added: freq=102 size=3500 all=289463 active=17068 piece=가지고\n",
      "bpe_model_trainer.cc(167) LOG(INFO) Updating active symbols. max_freq=102 min_freq=17\n",
      "bpe_model_trainer.cc(258) LOG(INFO) Added: freq=101 size=3520 all=290026 active=14960 piece=하신\n",
      "bpe_model_trainer.cc(258) LOG(INFO) Added: freq=100 size=3540 all=290380 active=15314 piece=감도\n",
      "bpe_model_trainer.cc(258) LOG(INFO) Added: freq=100 size=3560 all=291069 active=16003 piece=었을까\n",
      "bpe_model_trainer.cc(258) LOG(INFO) Added: freq=99 size=3580 all=291525 active=16459 piece=100\n",
      "bpe_model_trainer.cc(258) LOG(INFO) Added: freq=99 size=3600 all=291887 active=16821 piece=▁이런영화를\n",
      "bpe_model_trainer.cc(167) LOG(INFO) Updating active symbols. max_freq=98 min_freq=17\n",
      "bpe_model_trainer.cc(258) LOG(INFO) Added: freq=98 size=3620 all=292652 active=15352 piece=▁아픈\n",
      "bpe_model_trainer.cc(258) LOG(INFO) Added: freq=97 size=3640 all=293142 active=15842 piece=▁박진\n",
      "bpe_model_trainer.cc(258) LOG(INFO) Added: freq=96 size=3660 all=293583 active=16283 piece=▁뱀\n",
      "bpe_model_trainer.cc(258) LOG(INFO) Added: freq=96 size=3680 all=294023 active=16723 piece=▁보지마라\n",
      "bpe_model_trainer.cc(258) LOG(INFO) Added: freq=95 size=3700 all=294746 active=17446 piece=▁빈약\n",
      "bpe_model_trainer.cc(167) LOG(INFO) Updating active symbols. max_freq=95 min_freq=16\n",
      "bpe_model_trainer.cc(258) LOG(INFO) Added: freq=94 size=3720 all=294964 active=14936 piece=▁웰\n",
      "bpe_model_trainer.cc(258) LOG(INFO) Added: freq=94 size=3740 all=295380 active=15352 piece=▁봤을까\n",
      "bpe_model_trainer.cc(258) LOG(INFO) Added: freq=93 size=3760 all=295921 active=15893 piece=▁못할\n",
      "bpe_model_trainer.cc(258) LOG(INFO) Added: freq=92 size=3780 all=296135 active=16107 piece=▁업\n",
      "bpe_model_trainer.cc(258) LOG(INFO) Added: freq=92 size=3800 all=296751 active=16723 piece=스타일\n",
      "bpe_model_trainer.cc(167) LOG(INFO) Updating active symbols. max_freq=92 min_freq=16\n",
      "bpe_model_trainer.cc(258) LOG(INFO) Added: freq=91 size=3820 all=297191 active=15222 piece=이러\n",
      "bpe_model_trainer.cc(258) LOG(INFO) Added: freq=91 size=3840 all=297767 active=15798 piece=▁보여줬\n",
      "bpe_model_trainer.cc(258) LOG(INFO) Added: freq=90 size=3860 all=298101 active=16132 piece=레인\n",
      "bpe_model_trainer.cc(258) LOG(INFO) Added: freq=90 size=3880 all=298555 active=16586 piece=▁추억이\n",
      "bpe_model_trainer.cc(258) LOG(INFO) Added: freq=89 size=3900 all=299162 active=17193 piece=임새\n",
      "bpe_model_trainer.cc(167) LOG(INFO) Updating active symbols. max_freq=89 min_freq=16\n",
      "bpe_model_trainer.cc(258) LOG(INFO) Added: freq=89 size=3920 all=299514 active=15286 piece=▁최고였다\n",
      "bpe_model_trainer.cc(258) LOG(INFO) Added: freq=88 size=3940 all=300069 active=15841 piece=▁가슴에\n",
      "bpe_model_trainer.cc(258) LOG(INFO) Added: freq=87 size=3960 all=300684 active=16456 piece=어리\n",
      "bpe_model_trainer.cc(258) LOG(INFO) Added: freq=87 size=3980 all=301213 active=16985 piece=▁완전히\n",
      "bpe_model_trainer.cc(258) LOG(INFO) Added: freq=86 size=4000 all=301726 active=17498 piece=세기\n",
      "bpe_model_trainer.cc(167) LOG(INFO) Updating active symbols. max_freq=86 min_freq=16\n",
      "bpe_model_trainer.cc(258) LOG(INFO) Added: freq=86 size=4020 all=302203 active=15540 piece=▁관객을\n",
      "bpe_model_trainer.cc(258) LOG(INFO) Added: freq=86 size=4040 all=302384 active=15721 piece=▁크리스마스\n",
      "bpe_model_trainer.cc(258) LOG(INFO) Added: freq=85 size=4060 all=302988 active=16325 piece=▁내면\n",
      "bpe_model_trainer.cc(258) LOG(INFO) Added: freq=85 size=4080 all=303408 active=16745 piece=▁우리는\n",
      "bpe_model_trainer.cc(258) LOG(INFO) Added: freq=84 size=4100 all=303835 active=17172 piece=▁끝났\n",
      "bpe_model_trainer.cc(167) LOG(INFO) Updating active symbols. max_freq=84 min_freq=15\n",
      "bpe_model_trainer.cc(258) LOG(INFO) Added: freq=84 size=4120 all=304127 active=15460 piece=▁싶어요\n",
      "bpe_model_trainer.cc(258) LOG(INFO) Added: freq=83 size=4140 all=304653 active=15986 piece=▁말았\n",
      "bpe_model_trainer.cc(258) LOG(INFO) Added: freq=83 size=4160 all=305074 active=16407 piece=▁여운을\n",
      "bpe_model_trainer.cc(258) LOG(INFO) Added: freq=82 size=4180 all=305437 active=16770 piece=미네\n",
      "bpe_model_trainer.cc(258) LOG(INFO) Added: freq=82 size=4200 all=306067 active=17400 piece=▁커플\n",
      "bpe_model_trainer.cc(167) LOG(INFO) Updating active symbols. max_freq=82 min_freq=15\n",
      "bpe_model_trainer.cc(258) LOG(INFO) Added: freq=81 size=4220 all=306442 active=15656 piece=11\n",
      "bpe_model_trainer.cc(258) LOG(INFO) Added: freq=81 size=4240 all=306940 active=16154 piece=듭니다\n",
      "bpe_model_trainer.cc(258) LOG(INFO) Added: freq=80 size=4260 all=307173 active=16387 piece=▁F\n",
      "bpe_model_trainer.cc(258) LOG(INFO) Added: freq=80 size=4280 all=307788 active=17002 piece=▁못봐\n",
      "bpe_model_trainer.cc(258) LOG(INFO) Added: freq=80 size=4300 all=308308 active=17522 piece=▁반전은\n",
      "bpe_model_trainer.cc(167) LOG(INFO) Updating active symbols. max_freq=80 min_freq=15\n",
      "bpe_model_trainer.cc(258) LOG(INFO) Added: freq=79 size=4320 all=308755 active=15860 piece=웃기\n",
      "bpe_model_trainer.cc(258) LOG(INFO) Added: freq=79 size=4340 all=309249 active=16354 piece=▁어쩔수\n",
      "bpe_model_trainer.cc(258) LOG(INFO) Added: freq=78 size=4360 all=309555 active=16660 piece=모두\n",
      "bpe_model_trainer.cc(258) LOG(INFO) Added: freq=78 size=4380 all=310171 active=17276 piece=▁욕망\n",
      "bpe_model_trainer.cc(258) LOG(INFO) Added: freq=78 size=4400 all=310453 active=17558 piece=▁믿고보는\n",
      "bpe_model_trainer.cc(167) LOG(INFO) Updating active symbols. max_freq=78 min_freq=15\n",
      "bpe_model_trainer.cc(258) LOG(INFO) Added: freq=77 size=4420 all=310890 active=15954 piece=▁남은\n",
      "bpe_model_trainer.cc(258) LOG(INFO) Added: freq=77 size=4440 all=311290 active=16354 piece=▁됩니다\n",
      "bpe_model_trainer.cc(258) LOG(INFO) Added: freq=76 size=4460 all=311546 active=16610 piece=▁컬\n",
      "bpe_model_trainer.cc(258) LOG(INFO) Added: freq=76 size=4480 all=312119 active=17183 piece=▁지겨\n",
      "bpe_model_trainer.cc(258) LOG(INFO) Added: freq=75 size=4500 all=312348 active=17412 piece=그만\n",
      "bpe_model_trainer.cc(167) LOG(INFO) Updating active symbols. max_freq=75 min_freq=15\n",
      "bpe_model_trainer.cc(258) LOG(INFO) Added: freq=75 size=4520 all=312981 active=16201 piece=▁웃고\n",
      "bpe_model_trainer.cc(258) LOG(INFO) Added: freq=75 size=4540 all=313370 active=16590 piece=▁사람들의\n",
      "bpe_model_trainer.cc(258) LOG(INFO) Added: freq=74 size=4560 all=313794 active=17014 piece=쳐서\n",
      "bpe_model_trainer.cc(258) LOG(INFO) Added: freq=74 size=4580 all=314087 active=17307 piece=▁이보다\n",
      "bpe_model_trainer.cc(258) LOG(INFO) Added: freq=73 size=4600 all=314552 active=17772 piece=이며\n",
      "bpe_model_trainer.cc(167) LOG(INFO) Updating active symbols. max_freq=73 min_freq=14\n",
      "bpe_model_trainer.cc(258) LOG(INFO) Added: freq=73 size=4620 all=315157 active=16282 piece=있네요\n",
      "bpe_model_trainer.cc(258) LOG(INFO) Added: freq=73 size=4640 all=315308 active=16433 piece=▁개연성도\n",
      "bpe_model_trainer.cc(258) LOG(INFO) Added: freq=72 size=4660 all=315549 active=16674 piece=무시\n",
      "bpe_model_trainer.cc(258) LOG(INFO) Added: freq=72 size=4680 all=316102 active=17227 piece=▁아닙\n",
      "bpe_model_trainer.cc(258) LOG(INFO) Added: freq=72 size=4700 all=316565 active=17690 piece=▁소재도\n",
      "bpe_model_trainer.cc(167) LOG(INFO) Updating active symbols. max_freq=72 min_freq=14\n",
      "bpe_model_trainer.cc(258) LOG(INFO) Added: freq=71 size=4720 all=316824 active=16084 piece=▁V\n",
      "bpe_model_trainer.cc(258) LOG(INFO) Added: freq=71 size=4740 all=317323 active=16583 piece=▁아놀\n",
      "bpe_model_trainer.cc(258) LOG(INFO) Added: freq=71 size=4760 all=317657 active=16917 piece=▁시간때\n",
      "bpe_model_trainer.cc(258) LOG(INFO) Added: freq=70 size=4780 all=317985 active=17245 piece=드로\n",
      "bpe_model_trainer.cc(258) LOG(INFO) Added: freq=70 size=4800 all=318663 active=17923 piece=▁다크\n",
      "bpe_model_trainer.cc(167) LOG(INFO) Updating active symbols. max_freq=70 min_freq=14\n",
      "bpe_model_trainer.cc(258) LOG(INFO) Added: freq=70 size=4820 all=319019 active=16274 piece=▁놀랍다\n",
      "bpe_model_trainer.cc(258) LOG(INFO) Added: freq=69 size=4840 all=319210 active=16465 piece=▁낯\n",
      "bpe_model_trainer.cc(258) LOG(INFO) Added: freq=69 size=4860 all=319726 active=16981 piece=갑니다\n",
      "bpe_model_trainer.cc(258) LOG(INFO) Added: freq=69 size=4880 all=320017 active=17272 piece=▁현실성\n",
      "bpe_model_trainer.cc(258) LOG(INFO) Added: freq=68 size=4900 all=320297 active=17552 piece=부작\n",
      "bpe_model_trainer.cc(167) LOG(INFO) Updating active symbols. max_freq=68 min_freq=14\n",
      "bpe_model_trainer.cc(258) LOG(INFO) Added: freq=68 size=4920 all=320887 active=16578 piece=▁비밀\n",
      "bpe_model_trainer.cc(258) LOG(INFO) Added: freq=68 size=4940 all=321277 active=16968 piece=▁반드시\n",
      "bpe_model_trainer.cc(258) LOG(INFO) Added: freq=67 size=4960 all=321663 active=17354 piece=리와\n",
      "bpe_model_trainer.cc(258) LOG(INFO) Added: freq=67 size=4980 all=322350 active=18041 piece=▁몇몇\n",
      "bpe_model_trainer.cc(258) LOG(INFO) Added: freq=67 size=5000 all=322706 active=18397 piece=▁만화책\n",
      "bpe_model_trainer.cc(167) LOG(INFO) Updating active symbols. max_freq=67 min_freq=14\n",
      "bpe_model_trainer.cc(258) LOG(INFO) Added: freq=66 size=5020 all=322887 active=16300 piece=▁숀\n",
      "bpe_model_trainer.cc(258) LOG(INFO) Added: freq=66 size=5040 all=323573 active=16986 piece=찬란\n",
      "bpe_model_trainer.cc(258) LOG(INFO) Added: freq=66 size=5060 all=323942 active=17355 piece=▁나머지\n",
      "bpe_model_trainer.cc(258) LOG(INFO) Added: freq=66 size=5080 all=324048 active=17461 piece=▁시나리오가\n",
      "bpe_model_trainer.cc(258) LOG(INFO) Added: freq=65 size=5100 all=324702 active=18115 piece=▁김혜\n",
      "bpe_model_trainer.cc(167) LOG(INFO) Updating active symbols. max_freq=65 min_freq=13\n",
      "bpe_model_trainer.cc(258) LOG(INFO) Added: freq=65 size=5120 all=324997 active=16517 piece=▁무섭게\n",
      "bpe_model_trainer.cc(258) LOG(INFO) Added: freq=65 size=5140 all=325138 active=16658 piece=▁장난하냐\n",
      "bpe_model_trainer.cc(258) LOG(INFO) Added: freq=64 size=5160 all=325576 active=17096 piece=▁로드\n",
      "bpe_model_trainer.cc(258) LOG(INFO) Added: freq=64 size=5180 all=325785 active=17305 piece=▁스타뎀\n",
      "bpe_model_trainer.cc(258) LOG(INFO) Added: freq=64 size=5200 all=326003 active=17523 piece=▁에피소드\n",
      "bpe_model_trainer.cc(167) LOG(INFO) Updating active symbols. max_freq=64 min_freq=13\n",
      "bpe_model_trainer.cc(258) LOG(INFO) Added: freq=63 size=5220 all=326429 active=16710 piece=없게\n",
      "bpe_model_trainer.cc(258) LOG(INFO) Added: freq=63 size=5240 all=326880 active=17161 piece=프리오\n",
      "bpe_model_trainer.cc(258) LOG(INFO) Added: freq=63 size=5260 all=326998 active=17279 piece=▁오래전에\n",
      "bpe_model_trainer.cc(258) LOG(INFO) Added: freq=62 size=5280 all=327496 active=17777 piece=킬링\n",
      "bpe_model_trainer.cc(258) LOG(INFO) Added: freq=62 size=5300 all=327797 active=18078 piece=▁줄리\n",
      "bpe_model_trainer.cc(167) LOG(INFO) Updating active symbols. max_freq=62 min_freq=13\n",
      "bpe_model_trainer.cc(258) LOG(INFO) Added: freq=62 size=5320 all=327958 active=16543 piece=▁적당히\n",
      "bpe_model_trainer.cc(258) LOG(INFO) Added: freq=61 size=5340 all=328249 active=16834 piece=겨서\n",
      "bpe_model_trainer.cc(258) LOG(INFO) Added: freq=61 size=5360 all=328771 active=17356 piece=▁박신\n",
      "bpe_model_trainer.cc(258) LOG(INFO) Added: freq=61 size=5380 all=329179 active=17764 piece=▁;;;\n",
      "bpe_model_trainer.cc(258) LOG(INFO) Added: freq=61 size=5400 all=329288 active=17873 piece=▁감명깊게\n",
      "bpe_model_trainer.cc(167) LOG(INFO) Updating active symbols. max_freq=61 min_freq=13\n",
      "bpe_model_trainer.cc(258) LOG(INFO) Added: freq=60 size=5420 all=329597 active=16766 piece=정쩡\n",
      "bpe_model_trainer.cc(258) LOG(INFO) Added: freq=60 size=5440 all=329950 active=17119 piece=▁손발\n",
      "bpe_model_trainer.cc(258) LOG(INFO) Added: freq=60 size=5460 all=330425 active=17594 piece=해지고\n",
      "bpe_model_trainer.cc(258) LOG(INFO) Added: freq=60 size=5480 all=330629 active=17798 piece=▁아닙니다\n",
      "bpe_model_trainer.cc(258) LOG(INFO) Added: freq=59 size=5500 all=331003 active=18172 piece=상영\n",
      "bpe_model_trainer.cc(167) LOG(INFO) Updating active symbols. max_freq=59 min_freq=13\n",
      "bpe_model_trainer.cc(258) LOG(INFO) Added: freq=59 size=5520 all=331470 active=16953 piece=모르고\n",
      "bpe_model_trainer.cc(258) LOG(INFO) Added: freq=59 size=5540 all=331882 active=17365 piece=▁빛나는\n",
      "bpe_model_trainer.cc(258) LOG(INFO) Added: freq=59 size=5560 all=332047 active=17530 piece=▁어색하고\n",
      "bpe_model_trainer.cc(258) LOG(INFO) Added: freq=58 size=5580 all=332445 active=17928 piece=▁깊게\n",
      "bpe_model_trainer.cc(258) LOG(INFO) Added: freq=58 size=5600 all=332820 active=18303 piece=▁나네요\n",
      "bpe_model_trainer.cc(167) LOG(INFO) Updating active symbols. max_freq=58 min_freq=13\n",
      "bpe_model_trainer.cc(258) LOG(INFO) Added: freq=58 size=5620 all=332919 active=16739 piece=▁잼있네요\n",
      "bpe_model_trainer.cc(258) LOG(INFO) Added: freq=57 size=5640 all=333147 active=16967 piece=만족\n",
      "bpe_model_trainer.cc(258) LOG(INFO) Added: freq=57 size=5660 all=333759 active=17579 piece=▁몽환\n",
      "bpe_model_trainer.cc(258) LOG(INFO) Added: freq=57 size=5680 all=334053 active=17873 piece=인들이\n",
      "bpe_model_trainer.cc(258) LOG(INFO) Added: freq=57 size=5700 all=334158 active=17978 piece=▁친구랑\n",
      "bpe_model_trainer.cc(167) LOG(INFO) Updating active symbols. max_freq=57 min_freq=13\n",
      "bpe_model_trainer.cc(258) LOG(INFO) Added: freq=56 size=5720 all=334309 active=16857 piece=보긴\n",
      "bpe_model_trainer.cc(258) LOG(INFO) Added: freq=56 size=5740 all=334800 active=17348 piece=▁보단\n",
      "bpe_model_trainer.cc(258) LOG(INFO) Added: freq=56 size=5760 all=335239 active=17787 piece=▁가득한\n",
      "bpe_model_trainer.cc(258) LOG(INFO) Added: freq=56 size=5780 all=335383 active=17931 piece=시나리오\n",
      "bpe_model_trainer.cc(258) LOG(INFO) Added: freq=55 size=5800 all=335714 active=18262 piece=다르\n",
      "bpe_model_trainer.cc(167) LOG(INFO) Updating active symbols. max_freq=55 min_freq=12\n",
      "bpe_model_trainer.cc(258) LOG(INFO) Added: freq=55 size=5820 all=336253 active=17280 piece=▁부산\n",
      "bpe_model_trainer.cc(258) LOG(INFO) Added: freq=55 size=5840 all=336596 active=17623 piece=발연기\n",
      "bpe_model_trainer.cc(258) LOG(INFO) Added: freq=55 size=5860 all=336910 active=17937 piece=▁장난치\n",
      "bpe_model_trainer.cc(258) LOG(INFO) Added: freq=54 size=5880 all=337113 active=18140 piece=▁맴\n",
      "bpe_model_trainer.cc(258) LOG(INFO) Added: freq=54 size=5900 all=337683 active=18710 piece=판이\n",
      "bpe_model_trainer.cc(167) LOG(INFO) Updating active symbols. max_freq=54 min_freq=12\n",
      "bpe_model_trainer.cc(258) LOG(INFO) Added: freq=54 size=5920 all=337951 active=17119 piece=건가요\n",
      "bpe_model_trainer.cc(258) LOG(INFO) Added: freq=54 size=5940 all=338295 active=17463 piece=▁세상이\n",
      "bpe_model_trainer.cc(258) LOG(INFO) Added: freq=54 size=5960 all=338363 active=17531 piece=▁생각했는데\n",
      "bpe_model_trainer.cc(258) LOG(INFO) Added: freq=53 size=5980 all=338876 active=18044 piece=어스\n",
      "bpe_model_trainer.cc(258) LOG(INFO) Added: freq=53 size=6000 all=339285 active=18453 piece=▁어떨\n",
      "bpe_model_trainer.cc(167) LOG(INFO) Updating active symbols. max_freq=53 min_freq=12\n",
      "bpe_model_trainer.cc(258) LOG(INFO) Added: freq=53 size=6020 all=339635 active=17303 piece=하니까\n",
      "bpe_model_trainer.cc(258) LOG(INFO) Added: freq=53 size=6040 all=339827 active=17495 piece=너무너무\n",
      "bpe_model_trainer.cc(258) LOG(INFO) Added: freq=53 size=6060 all=340042 active=17710 piece=▁재밌었습니다\n",
      "bpe_model_trainer.cc(258) LOG(INFO) Added: freq=52 size=6080 all=340415 active=18083 piece=모를\n",
      "bpe_model_trainer.cc(258) LOG(INFO) Added: freq=52 size=6100 all=341016 active=18684 piece=잘생\n",
      "bpe_model_trainer.cc(167) LOG(INFO) Updating active symbols. max_freq=52 min_freq=12\n",
      "bpe_model_trainer.cc(258) LOG(INFO) Added: freq=52 size=6120 all=341340 active=17336 piece=▁멋짐\n",
      "bpe_model_trainer.cc(258) LOG(INFO) Added: freq=52 size=6140 all=341579 active=17575 piece=▁힘을\n",
      "bpe_model_trainer.cc(258) LOG(INFO) Added: freq=52 size=6160 all=341971 active=17967 piece=▁보았던\n",
      "bpe_model_trainer.cc(258) LOG(INFO) Added: freq=52 size=6180 all=342111 active=18107 piece=▁언제까지\n",
      "bpe_model_trainer.cc(258) LOG(INFO) Added: freq=51 size=6200 all=342287 active=18283 piece=▁앙\n",
      "bpe_model_trainer.cc(167) LOG(INFO) Updating active symbols. max_freq=51 min_freq=12\n",
      "bpe_model_trainer.cc(258) LOG(INFO) Added: freq=51 size=6220 all=342835 active=17644 piece=인에\n",
      "bpe_model_trainer.cc(258) LOG(INFO) Added: freq=51 size=6240 all=343080 active=17889 piece=▁잊고\n",
      "trainer_interface.cc(615) LOG(INFO) Saving model: korean_spm_bpe.model\n",
      "trainer_interface.cc(626) LOG(INFO) Saving vocabs: korean_spm_bpe.vocab\n"
     ]
    },
    {
     "name": "stdout",
     "output_type": "stream",
     "text": [
      "-rw-r--r-- 1 root root 370461 Aug 16 06:17 korean_spm_bpe.model\r\n",
      "-rw-r--r-- 1 root root 115663 Aug 16 06:17 korean_spm_bpe.vocab\r\n"
     ]
    }
   ],
   "source": [
    "spm.SentencePieceTrainer.Train(\n",
    "    '--input={} --model_prefix=korean_spm_bpe --vocab_size={} --model_type=bpe'.format(temp_file, vocab_size)    \n",
    ")\n",
    "\n",
    "!ls -l korean_spm_bpe*"
   ]
  },
  {
   "cell_type": "code",
   "execution_count": 38,
   "id": "0eae9906",
   "metadata": {},
   "outputs": [
    {
     "data": {
      "text/html": [
       "<div>\n",
       "<style scoped>\n",
       "    .dataframe tbody tr th:only-of-type {\n",
       "        vertical-align: middle;\n",
       "    }\n",
       "\n",
       "    .dataframe tbody tr th {\n",
       "        vertical-align: top;\n",
       "    }\n",
       "\n",
       "    .dataframe thead th {\n",
       "        text-align: right;\n",
       "    }\n",
       "</style>\n",
       "<table border=\"1\" class=\"dataframe\">\n",
       "  <thead>\n",
       "    <tr style=\"text-align: right;\">\n",
       "      <th></th>\n",
       "      <th>0</th>\n",
       "      <th>1</th>\n",
       "    </tr>\n",
       "  </thead>\n",
       "  <tbody>\n",
       "    <tr>\n",
       "      <th>0</th>\n",
       "      <td>&lt;unk&gt;</td>\n",
       "      <td>0</td>\n",
       "    </tr>\n",
       "    <tr>\n",
       "      <th>1</th>\n",
       "      <td>&lt;s&gt;</td>\n",
       "      <td>0</td>\n",
       "    </tr>\n",
       "    <tr>\n",
       "      <th>2</th>\n",
       "      <td>&lt;/s&gt;</td>\n",
       "      <td>0</td>\n",
       "    </tr>\n",
       "    <tr>\n",
       "      <th>3</th>\n",
       "      <td>..</td>\n",
       "      <td>0</td>\n",
       "    </tr>\n",
       "    <tr>\n",
       "      <th>4</th>\n",
       "      <td>영화</td>\n",
       "      <td>-1</td>\n",
       "    </tr>\n",
       "    <tr>\n",
       "      <th>5</th>\n",
       "      <td>▁영화</td>\n",
       "      <td>-2</td>\n",
       "    </tr>\n",
       "    <tr>\n",
       "      <th>6</th>\n",
       "      <td>▁이</td>\n",
       "      <td>-3</td>\n",
       "    </tr>\n",
       "    <tr>\n",
       "      <th>7</th>\n",
       "      <td>...</td>\n",
       "      <td>-4</td>\n",
       "    </tr>\n",
       "    <tr>\n",
       "      <th>8</th>\n",
       "      <td>▁아</td>\n",
       "      <td>-5</td>\n",
       "    </tr>\n",
       "    <tr>\n",
       "      <th>9</th>\n",
       "      <td>▁재</td>\n",
       "      <td>-6</td>\n",
       "    </tr>\n",
       "  </tbody>\n",
       "</table>\n",
       "</div>"
      ],
      "text/plain": [
       "       0  1\n",
       "0  <unk>  0\n",
       "1    <s>  0\n",
       "2   </s>  0\n",
       "3     ..  0\n",
       "4     영화 -1\n",
       "5    ▁영화 -2\n",
       "6     ▁이 -3\n",
       "7    ... -4\n",
       "8     ▁아 -5\n",
       "9     ▁재 -6"
      ]
     },
     "execution_count": 38,
     "metadata": {},
     "output_type": "execute_result"
    }
   ],
   "source": [
    "vocab_list_bpe = pd.read_csv('korean_spm_bpe.vocab', sep='\\t', header=None, quoting=csv.QUOTE_NONE)\n",
    "vocab_list_bpe[:10]"
   ]
  },
  {
   "cell_type": "code",
   "execution_count": 39,
   "id": "659a4f54",
   "metadata": {},
   "outputs": [
    {
     "name": "stdout",
     "output_type": "stream",
     "text": [
      "subword의 개수 : 8000\n"
     ]
    },
    {
     "data": {
      "text/html": [
       "<div>\n",
       "<style scoped>\n",
       "    .dataframe tbody tr th:only-of-type {\n",
       "        vertical-align: middle;\n",
       "    }\n",
       "\n",
       "    .dataframe tbody tr th {\n",
       "        vertical-align: top;\n",
       "    }\n",
       "\n",
       "    .dataframe thead th {\n",
       "        text-align: right;\n",
       "    }\n",
       "</style>\n",
       "<table border=\"1\" class=\"dataframe\">\n",
       "  <thead>\n",
       "    <tr style=\"text-align: right;\">\n",
       "      <th></th>\n",
       "      <th>0</th>\n",
       "      <th>1</th>\n",
       "    </tr>\n",
       "  </thead>\n",
       "  <tbody>\n",
       "    <tr>\n",
       "      <th>242</th>\n",
       "      <td>▁도</td>\n",
       "      <td>-239</td>\n",
       "    </tr>\n",
       "    <tr>\n",
       "      <th>323</th>\n",
       "      <td>▁유치</td>\n",
       "      <td>-320</td>\n",
       "    </tr>\n",
       "    <tr>\n",
       "      <th>4390</th>\n",
       "      <td>▁dvd</td>\n",
       "      <td>-4387</td>\n",
       "    </tr>\n",
       "    <tr>\n",
       "      <th>871</th>\n",
       "      <td>▁이딴</td>\n",
       "      <td>-868</td>\n",
       "    </tr>\n",
       "    <tr>\n",
       "      <th>1018</th>\n",
       "      <td>▁태</td>\n",
       "      <td>-1015</td>\n",
       "    </tr>\n",
       "    <tr>\n",
       "      <th>4120</th>\n",
       "      <td>▁보지말</td>\n",
       "      <td>-4117</td>\n",
       "    </tr>\n",
       "    <tr>\n",
       "      <th>2674</th>\n",
       "      <td>눈물</td>\n",
       "      <td>-2671</td>\n",
       "    </tr>\n",
       "    <tr>\n",
       "      <th>3598</th>\n",
       "      <td>▁히어로</td>\n",
       "      <td>-3595</td>\n",
       "    </tr>\n",
       "    <tr>\n",
       "      <th>3828</th>\n",
       "      <td>▁고통</td>\n",
       "      <td>-3825</td>\n",
       "    </tr>\n",
       "    <tr>\n",
       "      <th>2472</th>\n",
       "      <td>▁슬프고</td>\n",
       "      <td>-2469</td>\n",
       "    </tr>\n",
       "  </tbody>\n",
       "</table>\n",
       "</div>"
      ],
      "text/plain": [
       "         0     1\n",
       "242     ▁도  -239\n",
       "323    ▁유치  -320\n",
       "4390  ▁dvd -4387\n",
       "871    ▁이딴  -868\n",
       "1018    ▁태 -1015\n",
       "4120  ▁보지말 -4117\n",
       "2674    눈물 -2671\n",
       "3598  ▁히어로 -3595\n",
       "3828   ▁고통 -3825\n",
       "2472  ▁슬프고 -2469"
      ]
     },
     "execution_count": 39,
     "metadata": {},
     "output_type": "execute_result"
    }
   ],
   "source": [
    "print('subword의 개수 :', len(vocab_list_bpe))\n",
    "vocab_list_bpe.sample(10)"
   ]
  },
  {
   "cell_type": "code",
   "execution_count": 40,
   "id": "04ce921c",
   "metadata": {},
   "outputs": [
    {
     "name": "stdout",
     "output_type": "stream",
     "text": [
      "korean_spm_bpe\n",
      "[5824, 934, 6549, 6274, 1525, 6270, 6378, 6264, 6262]\n",
      "['▁아버', '지가', '방', '에', '들어', '가', '신', '다', '.']\n",
      "아버지가방에들어가신다.\n"
     ]
    }
   ],
   "source": [
    "print('korean_spm_bpe')\n",
    "test_performance(model='korean_spm_bpe.model')"
   ]
  },
  {
   "cell_type": "code",
   "execution_count": 41,
   "id": "83a57cf7",
   "metadata": {},
   "outputs": [
    {
     "name": "stdout",
     "output_type": "stream",
     "text": [
      "[[   0    0    0    0    0    0    0    0    0    0    0    0    0    0\n",
      "     0    0    0    0    0    0    0    0    0    0    0    0    0    0\n",
      "     0    0    0    0    0    0    0    0    0    0    0    0    0    0\n",
      "     0    0    0    0    0    0    0    0    0    0    0    0    0    0\n",
      "     0    0    0    0    0    0    0    0  662 3163 6292  555  826 6262]\n",
      " [   0    0    0    0    0    0    0    0    0    0    0    0    0    0\n",
      "     0    0    0    0    0    0    0    0    0    0    0    0    0    0\n",
      "     0    0    0    0    0    0    0    0    0    0    0    0    0    0\n",
      "     0    0    0    0    0    0    0    0    0    0    0    0    0    0\n",
      "     0    0    0    0    0 1734 2189  303  339 6270  166 7630   15    7]]\n"
     ]
    }
   ],
   "source": [
    "s_bpe = spm.SentencePieceProcessor()\n",
    "\n",
    "s_bpe.Load('korean_spm_bpe.model') \n",
    "\n",
    "my_corpus = ['나는 밥을 먹었습니다.', '그러나 여전히 ㅠㅠ 배가 고픕니다...']\n",
    "tensor, word_index, index_word = sp_tokenize(s_bpe, my_corpus, 'korean_spm_bpe')           \n",
    "print(tensor)"
   ]
  },
  {
   "cell_type": "code",
   "execution_count": 42,
   "id": "99f7b619",
   "metadata": {},
   "outputs": [],
   "source": [
    "tensor_bpe, word_index_bpe, index_word_bpe = sp_tokenize(s_bpe, train_data['document'], 'korean_spm_bpe')"
   ]
  },
  {
   "cell_type": "code",
   "execution_count": 43,
   "id": "efe4bc7c",
   "metadata": {},
   "outputs": [],
   "source": [
    "filtered_label = np.array(train_data['label'])\n",
    "x_train_bpe, x_temp, y_train_bpe, y_temp = train_test_split(tensor_bpe, filtered_label, test_size=0.3, random_state=42)\n",
    "x_val_bpe, x_test_bpe, y_val_bpe, y_test_bpe = train_test_split(x_temp, y_temp, test_size=0.5, random_state=42)\n"
   ]
  },
  {
   "cell_type": "code",
   "execution_count": 44,
   "id": "b8ca5893",
   "metadata": {},
   "outputs": [
    {
     "name": "stdout",
     "output_type": "stream",
     "text": [
      "Model: \"lstm_model_1\"\n",
      "_________________________________________________________________\n",
      "Layer (type)                 Output Shape              Param #   \n",
      "=================================================================\n",
      "embedding_1 (Embedding)      multiple                  128000    \n",
      "_________________________________________________________________\n",
      "lstm_1 (LSTM)                multiple                  74240     \n",
      "_________________________________________________________________\n",
      "dense_2 (Dense)              multiple                  16512     \n",
      "_________________________________________________________________\n",
      "dense_3 (Dense)              multiple                  129       \n",
      "=================================================================\n",
      "Total params: 218,881\n",
      "Trainable params: 218,881\n",
      "Non-trainable params: 0\n",
      "_________________________________________________________________\n"
     ]
    }
   ],
   "source": [
    "model_spm_bpe = LSTMModel(vocab_size, word_vector_dim = 16)\n",
    "model_spm_bpe.build((None, None)) \n",
    "model_spm_bpe.summary()"
   ]
  },
  {
   "cell_type": "code",
   "execution_count": 45,
   "id": "5b686dca",
   "metadata": {},
   "outputs": [
    {
     "name": "stdout",
     "output_type": "stream",
     "text": [
      "Epoch 1/20\n",
      "1855/1855 [==============================] - 14s 7ms/step - loss: 0.3965 - accuracy: 0.8179 - val_loss: 0.3466 - val_accuracy: 0.8483\n",
      "Epoch 2/20\n",
      "1855/1855 [==============================] - 12s 7ms/step - loss: 0.3169 - accuracy: 0.8627 - val_loss: 0.3330 - val_accuracy: 0.8511\n",
      "Epoch 3/20\n",
      "1855/1855 [==============================] - 12s 7ms/step - loss: 0.2810 - accuracy: 0.8786 - val_loss: 0.3259 - val_accuracy: 0.8585\n",
      "Epoch 4/20\n",
      "1855/1855 [==============================] - 12s 7ms/step - loss: 0.2527 - accuracy: 0.8920 - val_loss: 0.3401 - val_accuracy: 0.8569\n",
      "Epoch 5/20\n",
      "1855/1855 [==============================] - 12s 7ms/step - loss: 0.2258 - accuracy: 0.9054 - val_loss: 0.3455 - val_accuracy: 0.8527\n",
      "Epoch 00005: early stopping\n"
     ]
    }
   ],
   "source": [
    "model_spm_bpe.compile(optimizer='adam',\n",
    "              loss='binary_crossentropy',\n",
    "              metrics=['accuracy'])\n",
    "              \n",
    "epochs=20\n",
    "batch_size=64\n",
    "\n",
    "history_spm_bpe = model_spm_bpe.fit(x_train_bpe,\n",
    "                    y_train_bpe,\n",
    "                    epochs=epochs,\n",
    "                    batch_size=batch_size,\n",
    "                    validation_data=(x_val_bpe,y_val_bpe),\n",
    "                    callbacks=es,\n",
    "                    verbose=1)"
   ]
  },
  {
   "cell_type": "code",
   "execution_count": 46,
   "id": "a1fd92b4",
   "metadata": {},
   "outputs": [
    {
     "name": "stdout",
     "output_type": "stream",
     "text": [
      "795/795 - 2s - loss: 0.3530 - accuracy: 0.8494\n",
      "spm_bpe acc: 84.94 %\n"
     ]
    }
   ],
   "source": [
    "results = model_spm_bpe.evaluate(x_test_bpe,  y_test_bpe, verbose=2)\n",
    "print('spm_bpe acc:', round(results[1] * 100,2), '%' )"
   ]
  },
  {
   "cell_type": "code",
   "execution_count": 47,
   "id": "c4477d47",
   "metadata": {},
   "outputs": [
    {
     "data": {
      "image/png": "[encoded data removed]",
      "text/plain": [
       "<Figure size 864x288 with 2 Axes>"
      ]
     },
     "metadata": {
      "needs_background": "light"
     },
     "output_type": "display_data"
    }
   ],
   "source": [
    "plotter = HistoryPlotter(history_spm_bpe)\n",
    "plotter.plot()"
   ]
  },
  {
   "cell_type": "markdown",
   "id": "b406ecb8",
   "metadata": {},
   "source": [
    "## MeCab"
   ]
  },
  {
   "cell_type": "code",
   "execution_count": 48,
   "id": "e816a7e1",
   "metadata": {},
   "outputs": [],
   "source": [
    "from konlpy.tag import Mecab\n",
    "import numpy as np\n",
    "from collections import Counter\n",
    "from sklearn.model_selection import train_test_split\n",
    "\n",
    "tokenizer = Mecab()\n",
    "stopwords = ['의','가','이','은','들','는','좀','잘','걍','과','도','를','으로','자','에','와','한','하다']\n",
    "\n",
    "def data_load(num_words=8000):\n",
    "    \n",
    "    x_train, x_val, y_train, y_val = train_test_split(df['document'], df['label'], test_size=0.2)\n",
    "    x_train, x_test, y_train, y_test = train_test_split(x_train, y_train, test_size=0.2)\n",
    "    \n",
    "    def tokenize(data):\n",
    "        result = []\n",
    "        for sentence in data:\n",
    "            temp = tokenizer.morphs(sentence)\n",
    "            temp = [word for word in temp if not word in stopwords] \n",
    "            result.append(temp)\n",
    "        return result\n",
    "   \n",
    "    X_train = tokenize(x_train)\n",
    "    X_test = tokenize(x_test)\n",
    "    X_val = tokenize(x_val)\n",
    "                                                         \n",
    "    words = np.concatenate(X_train).tolist()\n",
    "    counter = Counter(words)\n",
    "    counter = counter.most_common(10000-4)\n",
    "    vocab = ['<PAD>', '<BOS>', '<UNK>', '<UNUSED>'] + [key for key, _ in counter]\n",
    "    word_to_index = {word:index for index, word in enumerate(vocab)}\n",
    "        \n",
    "    def wordlist_to_indexlist(wordlist):\n",
    "        return [word_to_index[word] if word in word_to_index else word_to_index['<UNK>'] for word in wordlist]\n",
    "        \n",
    "    X_train = list(map(wordlist_to_indexlist, X_train))\n",
    "    X_test = list(map(wordlist_to_indexlist, X_test))\n",
    "    X_val = list(map(wordlist_to_indexlist, X_val))\n",
    "                                                                                                             \n",
    "    return X_train, y_train, X_test, y_test, X_val, y_val, word_to_index"
   ]
  },
  {
   "cell_type": "code",
   "execution_count": 49,
   "id": "8cf7b567",
   "metadata": {},
   "outputs": [],
   "source": [
    "x_train, y_train, x_test, y_test, x_val, y_val, word_to_index = data_load()"
   ]
  },
  {
   "cell_type": "code",
   "execution_count": 50,
   "id": "75e72964",
   "metadata": {},
   "outputs": [],
   "source": [
    "index_to_word = { index: word for word, index in word_to_index.items() }"
   ]
  },
  {
   "cell_type": "code",
   "execution_count": 51,
   "id": "3cca9937",
   "metadata": {},
   "outputs": [
    {
     "data": {
      "text/plain": [
       "((127994, 70), (31999, 70), (39999, 70))"
      ]
     },
     "execution_count": 51,
     "metadata": {},
     "output_type": "execute_result"
    }
   ],
   "source": [
    "import tensorflow as tf\n",
    "\n",
    "x_train = tf.keras.preprocessing.sequence.pad_sequences(x_train,\n",
    "                                                        value=word_to_index[\"<PAD>\"],\n",
    "                                                        padding='pre',\n",
    "                                                        maxlen=70)\n",
    "\n",
    "x_test = tf.keras.preprocessing.sequence.pad_sequences(x_test,\n",
    "                                                       value=word_to_index[\"<PAD>\"],\n",
    "                                                       padding='pre',\n",
    "                                                       maxlen=70)\n",
    "\n",
    "x_val = tf.keras.preprocessing.sequence.pad_sequences(x_val,\n",
    "                                                      value=word_to_index[\"<PAD>\"],\n",
    "                                                      padding='pre',\n",
    "                                                      maxlen=70)\n",
    "\n",
    "x_train.shape, x_test.shape, x_val.shape"
   ]
  },
  {
   "cell_type": "code",
   "execution_count": 52,
   "id": "b1b76a75",
   "metadata": {},
   "outputs": [],
   "source": [
    "vocab_size = len(word_to_index)\n",
    "word_vector_dim = 16"
   ]
  },
  {
   "cell_type": "code",
   "execution_count": 54,
   "id": "755fb7c8",
   "metadata": {},
   "outputs": [],
   "source": [
    "def filter_by_length(data, labels, min_len=5, max_len=70):\n",
    "    filtered_data = []\n",
    "    filtered_labels = []\n",
    "    \n",
    "    for sentence, label in zip(data, labels):\n",
    "        if min_len <= len(sentence) <= max_len:\n",
    "            filtered_data.append(sentence)\n",
    "            filtered_labels.append(label)\n",
    "    \n",
    "    return filtered_data, filtered_labels\n",
    "\n",
    "# 데이터 로드 함수 내에서 X_train, X_test, X_val 생성 후에 필터링을 적용 \n",
    "X_train, y_train = filter_by_length(x_train, y_train)\n",
    "X_test, y_test = filter_by_length(x_test, y_test)\n",
    "X_val, y_val = filter_by_length(x_val, y_val)"
   ]
  },
  {
   "cell_type": "code",
   "execution_count": 55,
   "id": "69189564",
   "metadata": {},
   "outputs": [
    {
     "name": "stdout",
     "output_type": "stream",
     "text": [
      "Model: \"lstm_model_2\"\n",
      "_________________________________________________________________\n",
      "Layer (type)                 Output Shape              Param #   \n",
      "=================================================================\n",
      "embedding_2 (Embedding)      multiple                  160000    \n",
      "_________________________________________________________________\n",
      "lstm_2 (LSTM)                multiple                  74240     \n",
      "_________________________________________________________________\n",
      "dense_4 (Dense)              multiple                  16512     \n",
      "_________________________________________________________________\n",
      "dense_5 (Dense)              multiple                  129       \n",
      "=================================================================\n",
      "Total params: 250,881\n",
      "Trainable params: 250,881\n",
      "Non-trainable params: 0\n",
      "_________________________________________________________________\n"
     ]
    }
   ],
   "source": [
    "model_mecab = LSTMModel(vocab_size, word_vector_dim = 16)\n",
    "model_mecab.build((None, None)) \n",
    "model_mecab.summary()"
   ]
  },
  {
   "cell_type": "code",
   "execution_count": 57,
   "id": "816cab47",
   "metadata": {},
   "outputs": [
    {
     "name": "stdout",
     "output_type": "stream",
     "text": [
      "Epoch 1/20\n",
      "2000/2000 [==============================] - 15s 7ms/step - loss: 0.3866 - accuracy: 0.8246 - val_loss: 0.3441 - val_accuracy: 0.8489\n",
      "Epoch 2/20\n",
      "2000/2000 [==============================] - 14s 7ms/step - loss: 0.3077 - accuracy: 0.8675 - val_loss: 0.3245 - val_accuracy: 0.8586\n",
      "Epoch 3/20\n",
      "2000/2000 [==============================] - 14s 7ms/step - loss: 0.2699 - accuracy: 0.8859 - val_loss: 0.3275 - val_accuracy: 0.8620\n",
      "Epoch 4/20\n",
      "2000/2000 [==============================] - 14s 7ms/step - loss: 0.2423 - accuracy: 0.8995 - val_loss: 0.3279 - val_accuracy: 0.8608\n",
      "Epoch 00004: early stopping\n"
     ]
    }
   ],
   "source": [
    "X_train = np.array(X_train)\n",
    "y_train = np.array(y_train)\n",
    "X_test = np.array(X_test)\n",
    "y_test = np.array(y_test)\n",
    "X_val = np.array(X_val)\n",
    "y_val = np.array(y_val)\n",
    "\n",
    "model_mecab.compile(optimizer='adam',\n",
    "              loss='binary_crossentropy',\n",
    "              metrics=['accuracy'])\n",
    "              \n",
    "epochs=20\n",
    "batch_size=64\n",
    "\n",
    "history_mecab = model_mecab.fit(X_train,\n",
    "                    y_train,\n",
    "                    epochs=epochs,\n",
    "                    batch_size=batch_size,\n",
    "                    validation_data=(X_val,y_val),\n",
    "                    callbacks=es,\n",
    "                    verbose=1)"
   ]
  },
  {
   "cell_type": "code",
   "execution_count": 58,
   "id": "d98df641",
   "metadata": {},
   "outputs": [
    {
     "name": "stdout",
     "output_type": "stream",
     "text": [
      "1000/1000 - 2s - loss: 0.3207 - accuracy: 0.8647\n",
      "mecab acc: 86.47 %\n"
     ]
    }
   ],
   "source": [
    "results = model_mecab.evaluate(X_test,  y_test, verbose=2)\n",
    "print('mecab acc:', round(results[1] * 100,2), '%' )"
   ]
  },
  {
   "cell_type": "code",
   "execution_count": 59,
   "id": "a3fa6404",
   "metadata": {},
   "outputs": [
    {
     "data": {
      "image/png": "[encoded data removed]",
      "text/plain": [
       "<Figure size 864x288 with 2 Axes>"
      ]
     },
     "metadata": {
      "needs_background": "light"
     },
     "output_type": "display_data"
    }
   ],
   "source": [
    "plotter = HistoryPlotter(history_mecab)\n",
    "plotter.plot()"
   ]
  },
  {
   "cell_type": "markdown",
   "id": "c25cc703",
   "metadata": {},
   "source": [
    "# Summary"
   ]
  },
  {
   "cell_type": "markdown",
   "id": "d3d6d096",
   "metadata": {},
   "source": [
    "- Dataset: Naver movie review(kor)\n",
    "- Preprocess:\n",
    "    - Max_len : 70, Min_len : 5\n",
    "    - after preprocess : 88.309% left\n",
    "- Tokenize methods: SentencePiece(unigram, bpe), MeCab\n",
    "    - vocabsize = 8000\n",
    "- Train, validation, Test = 70 : 15 : 15\n",
    "- Model: Embedding(16)-Lstm(128)-Dense(128)-Dense(sigmoid)"
   ]
  },
  {
   "cell_type": "markdown",
   "id": "5b6e1056",
   "metadata": {},
   "source": [
    "# Result"
   ]
  },
  {
   "cell_type": "code",
   "execution_count": 60,
   "id": "9a2ab0f3",
   "metadata": {},
   "outputs": [
    {
     "name": "stdout",
     "output_type": "stream",
     "text": [
      "Acc & Loss for unigram SentencePiece tokenizer - simple LSTM model\n"
     ]
    },
    {
     "data": {
      "image/png": "[encoded data removed]",
      "text/plain": [
       "<Figure size 864x288 with 2 Axes>"
      ]
     },
     "metadata": {
      "needs_background": "light"
     },
     "output_type": "display_data"
    },
    {
     "name": "stdout",
     "output_type": "stream",
     "text": [
      "Acc & Loss for byte-pair-encoding SentencePiece tokenizer - simple LSTM model\n"
     ]
    },
    {
     "data": {
      "image/png": "[encoded data removed]",
      "text/plain": [
       "<Figure size 864x288 with 2 Axes>"
      ]
     },
     "metadata": {
      "needs_background": "light"
     },
     "output_type": "display_data"
    },
    {
     "name": "stdout",
     "output_type": "stream",
     "text": [
      "Acc & Loss for MeCab tokenizer - simple LSTM model\n"
     ]
    },
    {
     "data": {
      "image/png": "[encoded data removed]",
      "text/plain": [
       "<Figure size 864x288 with 2 Axes>"
      ]
     },
     "metadata": {
      "needs_background": "light"
     },
     "output_type": "display_data"
    }
   ],
   "source": [
    "print('Acc & Loss for unigram SentencePiece tokenizer - simple LSTM model')\n",
    "plotter = HistoryPlotter(history_spm)\n",
    "plotter.plot()\n",
    "\n",
    "print('Acc & Loss for byte-pair-encoding SentencePiece tokenizer - simple LSTM model')\n",
    "plotter = HistoryPlotter(history_spm_bpe)\n",
    "plotter.plot()\n",
    "\n",
    "print('Acc & Loss for MeCab tokenizer - simple LSTM model')\n",
    "plotter = HistoryPlotter(history_mecab)\n",
    "plotter.plot()"
   ]
  },
  {
   "cell_type": "markdown",
   "id": "75ffbd60",
   "metadata": {},
   "source": [
    "| Tokenize(Method) | Test-Acc | Best val acc epoch|\n",
    "|-----------------------|----------|---|\n",
    "| spm - unigram               | 84.38 %  |2|\n",
    "| spm - bpe                   | 85.12 %  |2|\n",
    "| MeCab|86.47 %|1|"
   ]
  },
  {
   "cell_type": "code",
   "execution_count": null,
   "id": "141a4617",
   "metadata": {},
   "outputs": [],
   "source": []
  }
 ],
 "metadata": {
  "kernelspec": {
   "display_name": "Python 3 (ipykernel)",
   "language": "python",
   "name": "python3"
  },
  "language_info": {
   "codemirror_mode": {
    "name": "ipython",
    "version": 3
   },
   "file_extension": ".py",
   "mimetype": "text/x-python",
   "name": "python",
   "nbconvert_exporter": "python",
   "pygments_lexer": "ipython3",
   "version": "3.9.7"
  }
 },
 "nbformat": 4,
 "nbformat_minor": 5
}
