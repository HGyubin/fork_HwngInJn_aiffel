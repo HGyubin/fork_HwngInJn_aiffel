{
 "cells": [
  {
   "cell_type": "markdown",
   "id": "fab3671e",
   "metadata": {},
   "source": [
    "# Project 4: Naver movie sentiment classification\n",
    "\n",
    "\n",
    "- Rubric\n",
    "\n",
    "1. 다양한 방법으로 Text Classification 태스크를 성공적으로 구현하였다.\t3가지 이상의 모델이 성공적으로 시도됨\n",
    "2. gensim을 활용하여 자체학습된 혹은 사전학습된 임베딩 레이어를 분석하였다.\tgensim의 유사단어 찾기를 활용하여 자체학습한 임베딩과 사전학습 임베딩을 비교 분석함\n",
    "3. 한국어 Word2Vec을 활용하여 가시적인 성능향상을 달성했다.\t네이버 영화리뷰 데이터 감성분석 정확도를 85% 이상 달성함"
   ]
  },
  {
   "cell_type": "markdown",
   "id": "100a92f0",
   "metadata": {},
   "source": [
    "## Version check"
   ]
  },
  {
   "cell_type": "code",
   "execution_count": 1,
   "id": "c8524347",
   "metadata": {},
   "outputs": [
    {
     "name": "stdout",
     "output_type": "stream",
     "text": [
      "1.3.3\n",
      "0.5.2\n",
      "4.1.2\n"
     ]
    }
   ],
   "source": [
    "import pandas as pd\n",
    "import konlpy\n",
    "import gensim\n",
    "\n",
    "print(pd.__version__)\n",
    "print(konlpy.__version__)\n",
    "print(gensim.__version__)"
   ]
  },
  {
   "cell_type": "markdown",
   "id": "61eeecca",
   "metadata": {},
   "source": [
    "## 1) Data check"
   ]
  },
  {
   "cell_type": "code",
   "execution_count": 2,
   "id": "155e52fc",
   "metadata": {},
   "outputs": [
    {
     "data": {
      "text/html": [
       "<div>\n",
       "<style scoped>\n",
       "    .dataframe tbody tr th:only-of-type {\n",
       "        vertical-align: middle;\n",
       "    }\n",
       "\n",
       "    .dataframe tbody tr th {\n",
       "        vertical-align: top;\n",
       "    }\n",
       "\n",
       "    .dataframe thead th {\n",
       "        text-align: right;\n",
       "    }\n",
       "</style>\n",
       "<table border=\"1\" class=\"dataframe\">\n",
       "  <thead>\n",
       "    <tr style=\"text-align: right;\">\n",
       "      <th></th>\n",
       "      <th>id</th>\n",
       "      <th>document</th>\n",
       "      <th>label</th>\n",
       "    </tr>\n",
       "  </thead>\n",
       "  <tbody>\n",
       "    <tr>\n",
       "      <th>0</th>\n",
       "      <td>9976970</td>\n",
       "      <td>아 더빙.. 진짜 짜증나네요 목소리</td>\n",
       "      <td>0</td>\n",
       "    </tr>\n",
       "    <tr>\n",
       "      <th>1</th>\n",
       "      <td>3819312</td>\n",
       "      <td>흠...포스터보고 초딩영화줄....오버연기조차 가볍지 않구나</td>\n",
       "      <td>1</td>\n",
       "    </tr>\n",
       "    <tr>\n",
       "      <th>2</th>\n",
       "      <td>10265843</td>\n",
       "      <td>너무재밓었다그래서보는것을추천한다</td>\n",
       "      <td>0</td>\n",
       "    </tr>\n",
       "    <tr>\n",
       "      <th>3</th>\n",
       "      <td>9045019</td>\n",
       "      <td>교도소 이야기구먼 ..솔직히 재미는 없다..평점 조정</td>\n",
       "      <td>0</td>\n",
       "    </tr>\n",
       "    <tr>\n",
       "      <th>4</th>\n",
       "      <td>6483659</td>\n",
       "      <td>사이몬페그의 익살스런 연기가 돋보였던 영화!스파이더맨에서 늙어보이기만 했던 커스틴 ...</td>\n",
       "      <td>1</td>\n",
       "    </tr>\n",
       "  </tbody>\n",
       "</table>\n",
       "</div>"
      ],
      "text/plain": [
       "         id                                           document  label\n",
       "0   9976970                                아 더빙.. 진짜 짜증나네요 목소리      0\n",
       "1   3819312                  흠...포스터보고 초딩영화줄....오버연기조차 가볍지 않구나      1\n",
       "2  10265843                                  너무재밓었다그래서보는것을추천한다      0\n",
       "3   9045019                      교도소 이야기구먼 ..솔직히 재미는 없다..평점 조정      0\n",
       "4   6483659  사이몬페그의 익살스런 연기가 돋보였던 영화!스파이더맨에서 늙어보이기만 했던 커스틴 ...      1"
      ]
     },
     "execution_count": 2,
     "metadata": {},
     "output_type": "execute_result"
    }
   ],
   "source": [
    "# Read data\n",
    "\n",
    "train_data = pd.read_table('./data/ratings_train.txt')\n",
    "test_data = pd.read_table('./data/ratings_test.txt')\n",
    "\n",
    "train_data.head()"
   ]
  },
  {
   "cell_type": "code",
   "execution_count": 3,
   "id": "06814865",
   "metadata": {},
   "outputs": [
    {
     "name": "stdout",
     "output_type": "stream",
     "text": [
      "<class 'pandas.core.frame.DataFrame'>\n",
      "RangeIndex: 150000 entries, 0 to 149999\n",
      "Data columns (total 3 columns):\n",
      " #   Column    Non-Null Count   Dtype \n",
      "---  ------    --------------   ----- \n",
      " 0   id        150000 non-null  int64 \n",
      " 1   document  149995 non-null  object\n",
      " 2   label     150000 non-null  int64 \n",
      "dtypes: int64(2), object(1)\n",
      "memory usage: 3.4+ MB\n"
     ]
    }
   ],
   "source": [
    "train_data.info() # there are 5 nulls on document column"
   ]
  },
  {
   "cell_type": "markdown",
   "id": "ea3dc4ab",
   "metadata": {},
   "source": [
    "## 2) Create data loader\n",
    "* What it should contain\n",
    " #### data pre-pre-process part\n",
    " \n",
    "    - 데이터의 중복 제거\n",
    "    - NaN 결측치 제거\n",
    "    - 한국어 토크나이저로 토큰화\n",
    "    - 불용어(Stopwords) 제거\n",
    "    \n",
    " #### string to dictionary part\n",
    " \n",
    "    - 사전word_to_index 구성\n",
    "    - 텍스트 스트링을 사전 인덱스 스트링으로 변환\n",
    "    - X_train, y_train, X_test, y_test, word_to_index 리턴"
   ]
  },
  {
   "cell_type": "code",
   "execution_count": 4,
   "id": "fe05abe0",
   "metadata": {},
   "outputs": [],
   "source": [
    "# tools for tokenizer and stopwords\n",
    "from collections import Counter\n",
    "from konlpy.tag import Mecab\n",
    "import numpy as np\n",
    "\n",
    "tokenizer = Mecab()\n",
    "stopwords = ['의','가','이','은','들','는','좀','잘','걍','과','도','를','으로','자','에','와','한','하다']"
   ]
  },
  {
   "cell_type": "code",
   "execution_count": 5,
   "id": "6cfa56d1",
   "metadata": {},
   "outputs": [],
   "source": [
    "# data pre-pre-process part\n",
    "\n",
    "def process_data(data):\n",
    "    data.drop_duplicates(subset=['document'], inplace=True)  # 데이터 중복 제거\n",
    "    data = data.dropna(how = 'any')  # NaN 결측치 제거\n",
    "    processed_data = []   \n",
    "    for comment in data['document']:      # for each comments,\n",
    "        tokenized_comment = tokenizer.morphs(comment)  # 한국어 토크나이저로 토큰화\n",
    "        tokenized_comment = [token for token in tokenized_comment if not token in stopwords]  # 불용어(Stopwords) 제거\n",
    "        processed_data.append(tokenized_comment)   # gather processed data\n",
    "    return processed_data, np.array(list(data['label']))     # return words & target\n",
    "\n",
    "\n",
    "# string to dictionary part & load\n",
    "\n",
    "def load_data(train_data, test_data, num_words=10000):\n",
    "    \n",
    "    X_train, y_train = process_data(train_data)   # train data 전처리\n",
    "    X_test, y_test = process_data(test_data)      # test data 전처리\n",
    "    \n",
    "    words = np.concatenate(X_train).tolist()\n",
    "    counter = Counter(words)\n",
    "    counter = counter.most_common(num_words-4) # 가장 빈번한 단어 계산 + 특수 단어 4개 제외\n",
    "    vocab = ['<PAD>', '<BOS>', '<UNK>', '<UNUSED>'] + [key for key, _ in counter]\n",
    "    word_to_index = {word:index for index, word in enumerate(vocab)}\n",
    "    \n",
    "    def wordlist_to_indexlist(wordlist):    # 사전word_to_index 구성\n",
    "        return [word_to_index[word] if word in word_to_index else word_to_index['<UNK>'] for word in wordlist]  #unknown으로 반환\n",
    "        \n",
    "    X_train = list(map(wordlist_to_indexlist, X_train))\n",
    "    X_test = list(map(wordlist_to_indexlist, X_test))\n",
    "        \n",
    "    return X_train, y_train, X_test, y_test, word_to_index\n",
    "\n",
    "X_train, y_train, X_test, y_test, word_to_index = load_data(train_data, test_data)"
   ]
  },
  {
   "cell_type": "code",
   "execution_count": 6,
   "id": "26172f17",
   "metadata": {},
   "outputs": [
    {
     "name": "stdout",
     "output_type": "stream",
     "text": [
      "146182 49157\n",
      "146182 49157\n",
      "[('<PAD>', 0), ('<BOS>', 1), ('<UNK>', 2), ('<UNUSED>', 3), ('.', 4), ('영화', 5), ('다', 6), ('고', 7), ('하', 8), ('을', 9)]\n"
     ]
    }
   ],
   "source": [
    " # X_train : type -list, y_train : type - np.array\n",
    "\n",
    "print(len(X_train), len(X_test)) \n",
    "print(len(y_train), len(y_test))\n",
    "print(list(word_to_index.items())[:10]) # stopwords에 '다','하','을'이 없어서 살아남은걸 볼 수 있다"
   ]
  },
  {
   "cell_type": "markdown",
   "id": "49cb5625",
   "metadata": {},
   "source": [
    "## Word-index dict -> index-Word dict"
   ]
  },
  {
   "cell_type": "code",
   "execution_count": 7,
   "id": "53186373",
   "metadata": {},
   "outputs": [
    {
     "name": "stdout",
     "output_type": "stream",
     "text": [
      "[(0, '<PAD>'), (1, '<BOS>'), (2, '<UNK>'), (3, '<UNUSED>'), (4, '.'), (5, '영화'), (6, '다'), (7, '고'), (8, '하'), (9, '을')]\n"
     ]
    }
   ],
   "source": [
    "# key - contents 의 역전\n",
    "index_to_word = {index:word for word, index in word_to_index.items()}\n",
    "\n",
    "print(list(index_to_word.items())[:10]) "
   ]
  },
  {
   "cell_type": "markdown",
   "id": "5c8e3a09",
   "metadata": {},
   "source": [
    "## Encoding & Decoding functions for comments"
   ]
  },
  {
   "cell_type": "code",
   "execution_count": 8,
   "id": "4a67e5b6",
   "metadata": {},
   "outputs": [],
   "source": [
    "# 문장 1개를 활용할 딕셔너리와 함께 주면, 단어 인덱스 리스트 벡터로 변환해 주는 함수입니다. \n",
    "# 단, 모든 문장은 <BOS>로 시작하는 것으로 합니다. \n",
    "def get_encoded_sentence(sentence, word_to_index):\n",
    "    return [word_to_index['<BOS>']]+[word_to_index[word] if word in word_to_index else word_to_index['<UNK>'] for word in sentence.split()]\n",
    "\n",
    "# 여러 개의 문장 리스트를 한꺼번에 단어 인덱스 리스트 벡터로 encode해 주는 함수입니다. \n",
    "def get_encoded_sentences(sentences, word_to_index):\n",
    "    return [get_encoded_sentence(sentence, word_to_index) for sentence in sentences]\n",
    "\n",
    "# 숫자 벡터로 encode된 문장을 원래대로 decode하는 함수입니다. \n",
    "def get_decoded_sentence(encoded_sentence, index_to_word):\n",
    "    return ' '.join(index_to_word[index] if index in index_to_word else '<UNK>' for index in encoded_sentence[1:])  #[1:]를 통해 <BOS>를 제외\n",
    "\n",
    "# 여러 개의 숫자 벡터로 encode된 문장을 한꺼번에 원래대로 decode하는 함수입니다. \n",
    "def get_decoded_sentences(encoded_sentences, index_to_word):\n",
    "    return [get_decoded_sentence(encoded_sentence, index_to_word) for encoded_sentence in encoded_sentences]"
   ]
  },
  {
   "cell_type": "markdown",
   "id": "bacb05fc",
   "metadata": {},
   "source": [
    "## 3) Data analysis and engineering\n",
    "\n",
    "- 데이터셋 내 문장 길이 분포\n",
    "- 적절한 최대 문장 길이 지정\n",
    "- keras.preprocessing.sequence.pad_sequences 을 활용한 패딩 추가"
   ]
  },
  {
   "cell_type": "code",
   "execution_count": 9,
   "id": "25f73afa",
   "metadata": {},
   "outputs": [
    {
     "name": "stdout",
     "output_type": "stream",
     "text": [
      "max number of words:  116\n",
      "[(7, 12441), (8, 11822), (6, 11741), (9, 10907), (10, 10287), (5, 9580), (11, 9531), (12, 8928), (13, 8253), (14, 7868), (15, 7440), (4, 6936), (16, 6823), (17, 6258), (18, 5535), (3, 4951), (19, 4869), (20, 4312), (21, 3746), (22, 3136), (23, 2653), (2, 2554), (24, 2242), (25, 1993), (26, 1688), (27, 1512), (28, 1376), (29, 1270), (30, 1241), (31, 1108), (32, 1074), (1, 1015), (34, 951), (33, 947), (35, 927), (37, 854), (36, 814), (38, 763), (40, 728), (39, 714)]\n"
     ]
    },
    {
     "data": {
      "image/png": "[encoded data removed]",
      "text/plain": [
       "<Figure size 432x288 with 1 Axes>"
      ]
     },
     "metadata": {
      "needs_background": "light"
     },
     "output_type": "display_data"
    }
   ],
   "source": [
    "import seaborn as sns\n",
    "import matplotlib.pyplot as plt\n",
    "\n",
    "total_list = X_train + X_test\n",
    "words_in_X = [len(s) for s in total_list]\n",
    "print('max number of words: ', max(words_in_X))\n",
    "print(Counter(words_in_X).most_common(40))\n",
    "\n",
    "plt.title('word # in each sentence')\n",
    "sns.kdeplot(data= words_in_X)\n",
    "plt.annotate('Select Here', xy=(40, 0), xytext=(50, 0.01), arrowprops=dict(facecolor='black', shrink=0.05))\n",
    "plt.show()\n"
   ]
  },
  {
   "cell_type": "markdown",
   "id": "18eeb30e",
   "metadata": {},
   "source": [
    "- max token selection : 40"
   ]
  },
  {
   "cell_type": "code",
   "execution_count": 10,
   "id": "6899f6d0",
   "metadata": {},
   "outputs": [],
   "source": [
    "max_tokens = 40"
   ]
  },
  {
   "cell_type": "markdown",
   "id": "bfc6dcf3",
   "metadata": {},
   "source": [
    "### Set sentences into length of max_tokens"
   ]
  },
  {
   "cell_type": "code",
   "execution_count": 11,
   "id": "a1b5257c",
   "metadata": {},
   "outputs": [
    {
     "name": "stdout",
     "output_type": "stream",
     "text": [
      "(146182, 40)\n",
      "<class 'numpy.ndarray'>\n",
      "[[   0    0    0    0    0    0    0    0    0    0    0    0    0    0\n",
      "     0    0    0    0    0    0    0    0    0    0    0    0    0    0\n",
      "     0    0   32   74  919    4    4   39  228   20   33  748]\n",
      " [   0    0    0    0    0    0    0    0    0    0    0    0    0    0\n",
      "     0    0    0    0    0    0    0    0    0 1028    4   11  519  549\n",
      "   687    5  120    4   70 1639   52  925 1006   15   44  391]\n",
      " [   0    0    0    0    0    0    0    0    0    0    0    0    0    0\n",
      "     0    0    0    0    0    0    0    0    0    0    0    0    0    0\n",
      "     0    0    0    0    0    0    0    0    0   24  205    2]\n",
      " [   0    0    0    0    0    0    0    0    0    0    0    0    0    0\n",
      "     0    0    0    0    0    0    0    0    0    0    0    0    0 8409\n",
      "   158 3925    4    4  298   94   17    6    4    4   58 3479]\n",
      " [   0    0    0    0    0    0    0    0    0    0    0    0    0    0\n",
      "     0    0    0    2 8894 1108   52 2832   60    5   14 2758   41 1188\n",
      "    35  351   42   22   40   60    2    2  427 3102 1766    6]\n",
      " [   0    0    0    0    0    0    0    0    0    0    0    0    0    0\n",
      "     0    0  675    2    2  131  420  185 1547  712   65 1694  715   53\n",
      "   375  192  271    5    4   69    4   11 2179  122  750    4]\n",
      " [   0    0    0    0    0    0    0    0    0    0    0    0    0    0\n",
      "     0    0    0    0    0    0    0    0    0    0    0    0    0    0\n",
      "     0    0  253  381    9  384 2012   55   15  817    6    4]\n",
      " [   6  425  756    2    2   52 1532  290   99  250    4    4   28  855\n",
      "    29  353  652  540  509  583    6 3318    4 8895   22 1460 1460    4\n",
      "     4   71  304   17    6   52  104    8   77   22    2   43]\n",
      " [   0    0    0    0    0    0    0    0    0    0    0    0    0    0\n",
      "     0    0    0    0    0    0    0    0    0    0    0    0    0    0\n",
      "     0    0    0  128   17   23   94   16  290   27   48    5]\n",
      " [   0    0    0    0    0    0    0    0    0    0    0    0    0    0\n",
      "     0    0    0    0    0   63  656   58  240  760   18  574   89    2\n",
      "     4    4 1482  637  736   81   22   24    2   16   20   18]]\n"
     ]
    }
   ],
   "source": [
    "# 최대길이(max_tokens)에 맞춰서 긴 문장은 잘라내고, 부족한 것은 앞에 공백 덭대기\n",
    "from tensorflow.keras.preprocessing.sequence import pad_sequences\n",
    "\n",
    "X_train = pad_sequences(X_train, value=word_to_index[\"<PAD>\"], padding='pre', maxlen=max_tokens)\n",
    "\n",
    "X_test = pad_sequences(X_test, value=word_to_index[\"<PAD>\"], padding='pre', maxlen=max_tokens)\n",
    "\n",
    "print(X_train.shape)\n",
    "print(type(X_train))\n",
    "print(X_train[:10])\n",
    "# 'pre' 에 pad를 덭대는 이유는 rnn계열의 신경망은 나중에 들어오는 \n",
    "# input에 대해서 강하게 영향 받기 때문"
   ]
  },
  {
   "cell_type": "markdown",
   "id": "519f946f",
   "metadata": {},
   "source": [
    "## 4) 모델 구성 및 validation set 구성\n",
    "\n"
   ]
  },
  {
   "cell_type": "code",
   "execution_count": 12,
   "id": "4e2f5b15",
   "metadata": {},
   "outputs": [],
   "source": [
    "vocab_size = 10000       # 단어 주머니 10000개\n",
    "word_vector_dim = 50     # 각 토큰별 특성 갯수"
   ]
  },
  {
   "cell_type": "markdown",
   "id": "32407387",
   "metadata": {},
   "source": [
    "### 1. RNN model (LSTM)"
   ]
  },
  {
   "cell_type": "code",
   "execution_count": 13,
   "id": "033f2d9b",
   "metadata": {},
   "outputs": [],
   "source": [
    "import tensorflow as tf\n",
    "\n",
    "class RNN(tf.keras.Model):\n",
    "    def __init__(self):\n",
    "        super(RNN, self).__init__()\n",
    "        \n",
    "        self.embedding_layer = tf.keras.layers.Embedding(vocab_size, word_vector_dim)\n",
    "        self.lstm_layer = tf.keras.layers.LSTM(8)\n",
    "        self.dense_layer1 = tf.keras.layers.Dense(8, activation='relu')\n",
    "        self.dense_layer2 = tf.keras.layers.Dense(1, activation='sigmoid')\n",
    "        \n",
    "    def call(self, inputs):\n",
    "        x = self.embedding_layer(inputs)\n",
    "        x = self.lstm_layer(x)\n",
    "        x = self.dense_layer1(x)\n",
    "        x = self.dense_layer2(x)\n",
    "        return x"
   ]
  },
  {
   "cell_type": "markdown",
   "id": "b10b54c2",
   "metadata": {},
   "source": [
    "### 2. 1-D CNN model"
   ]
  },
  {
   "cell_type": "code",
   "execution_count": 14,
   "id": "bcc22da7",
   "metadata": {},
   "outputs": [],
   "source": [
    "class CNN(tf.keras.Model):\n",
    "    def __init__(self):\n",
    "        super(CNN, self).__init__()\n",
    "        \n",
    "        self.embedding_layer = tf.keras.layers.Embedding(vocab_size, word_vector_dim, input_shape=(None,))\n",
    "        self.conv1d_layer1 = tf.keras.layers.Conv1D(16, 6, strides=1, activation='relu')\n",
    "        self.maxpooling1d_layer = tf.keras.layers.MaxPooling1D(5)\n",
    "        self.conv1d_layer2 = tf.keras.layers.Conv1D(32, 6, strides=1, activation='relu')\n",
    "        self.globalmaxpooling1d_layer = tf.keras.layers.GlobalMaxPooling1D()\n",
    "        self.dense_layer1 = tf.keras.layers.Dense(32, activation='relu')\n",
    "        self.dense_layer2 = tf.keras.layers.Dense(1, activation='sigmoid')\n",
    "        \n",
    "    def call(self, inputs):\n",
    "        x = self.embedding_layer(inputs)\n",
    "        x = self.conv1d_layer1(x)\n",
    "        x = self.maxpooling1d_layer(x)\n",
    "        x = self.conv1d_layer2(x)\n",
    "        x = self.globalmaxpooling1d_layer(x)\n",
    "        x = self.dense_layer1(x)\n",
    "        x = self.dense_layer2(x)\n",
    "        return x"
   ]
  },
  {
   "cell_type": "markdown",
   "id": "a8daa195",
   "metadata": {},
   "source": [
    "### 3. GlobalMaxPooling1D"
   ]
  },
  {
   "cell_type": "code",
   "execution_count": 15,
   "id": "16818971",
   "metadata": {},
   "outputs": [],
   "source": [
    "class GlobalMaxPooling(tf.keras.Model):\n",
    "    def __init__(self):\n",
    "        super(GlobalMaxPooling, self).__init__()\n",
    "        \n",
    "        self.embedding_layer = tf.keras.layers.Embedding(vocab_size, word_vector_dim, input_shape=(None,))\n",
    "        self.globalmaxpooling1d_layer = tf.keras.layers.GlobalMaxPooling1D()\n",
    "        self.dense_layer1 = tf.keras.layers.Dense(8, activation='relu')\n",
    "        self.dense_layer2 = tf.keras.layers.Dense(1, activation='sigmoid')\n",
    "        \n",
    "    def call(self, inputs):\n",
    "        x = self.embedding_layer(inputs)\n",
    "        x = self.globalmaxpooling1d_layer(x)\n",
    "        x = self.dense_layer1(x)\n",
    "        x = self.dense_layer2(x)\n",
    "        return x"
   ]
  },
  {
   "cell_type": "markdown",
   "id": "b7a0dea3",
   "metadata": {},
   "source": [
    "### Validation set 구성\n",
    "훈련용 데이터셋 25000건 중 10000건을 분리하여 검증셋(validation set)으로 사용"
   ]
  },
  {
   "cell_type": "code",
   "execution_count": 16,
   "id": "cccb0184",
   "metadata": {},
   "outputs": [
    {
     "name": "stdout",
     "output_type": "stream",
     "text": [
      "(136182, 40)\n",
      "(136182,)\n"
     ]
    }
   ],
   "source": [
    "# validation set 10000건 분리\n",
    "X_val = X_train[:10000]   \n",
    "y_val = y_train[:10000]\n",
    "\n",
    "# validation set을 제외한 나머지 15000건\n",
    "partial_X_train = X_train[10000:]  \n",
    "partial_y_train = y_train[10000:]\n",
    "\n",
    "print(partial_X_train.shape)\n",
    "print(partial_y_train.shape)"
   ]
  },
  {
   "cell_type": "markdown",
   "id": "9b286a4f",
   "metadata": {},
   "source": [
    "## 5) 모델 훈련 개시"
   ]
  },
  {
   "cell_type": "code",
   "execution_count": 17,
   "id": "d263d158",
   "metadata": {},
   "outputs": [
    {
     "name": "stdout",
     "output_type": "stream",
     "text": [
      "Model: \"rnn\"\n",
      "_________________________________________________________________\n",
      "Layer (type)                 Output Shape              Param #   \n",
      "=================================================================\n",
      "embedding (Embedding)        multiple                  500000    \n",
      "_________________________________________________________________\n",
      "lstm (LSTM)                  multiple                  1888      \n",
      "_________________________________________________________________\n",
      "dense (Dense)                multiple                  72        \n",
      "_________________________________________________________________\n",
      "dense_1 (Dense)              multiple                  9         \n",
      "=================================================================\n",
      "Total params: 501,969\n",
      "Trainable params: 501,969\n",
      "Non-trainable params: 0\n",
      "_________________________________________________________________\n",
      "Model: \"cnn\"\n",
      "_________________________________________________________________\n",
      "Layer (type)                 Output Shape              Param #   \n",
      "=================================================================\n",
      "embedding_1 (Embedding)      multiple                  500000    \n",
      "_________________________________________________________________\n",
      "conv1d (Conv1D)              multiple                  4816      \n",
      "_________________________________________________________________\n",
      "max_pooling1d (MaxPooling1D) multiple                  0         \n",
      "_________________________________________________________________\n",
      "conv1d_1 (Conv1D)            multiple                  3104      \n",
      "_________________________________________________________________\n",
      "global_max_pooling1d (Global multiple                  0         \n",
      "_________________________________________________________________\n",
      "dense_2 (Dense)              multiple                  1056      \n",
      "_________________________________________________________________\n",
      "dense_3 (Dense)              multiple                  33        \n",
      "=================================================================\n",
      "Total params: 509,009\n",
      "Trainable params: 509,009\n",
      "Non-trainable params: 0\n",
      "_________________________________________________________________\n",
      "Model: \"global_max_pooling\"\n",
      "_________________________________________________________________\n",
      "Layer (type)                 Output Shape              Param #   \n",
      "=================================================================\n",
      "embedding_2 (Embedding)      multiple                  500000    \n",
      "_________________________________________________________________\n",
      "global_max_pooling1d_1 (Glob multiple                  0         \n",
      "_________________________________________________________________\n",
      "dense_4 (Dense)              multiple                  408       \n",
      "_________________________________________________________________\n",
      "dense_5 (Dense)              multiple                  9         \n",
      "=================================================================\n",
      "Total params: 500,417\n",
      "Trainable params: 500,417\n",
      "Non-trainable params: 0\n",
      "_________________________________________________________________\n"
     ]
    }
   ],
   "source": [
    "RNN_model = RNN()\n",
    "CNN_model = CNN()\n",
    "GlobalMaxPooling_model = GlobalMaxPooling()\n",
    "\n",
    "models = [RNN_model, CNN_model, GlobalMaxPooling_model]  # 모델 다발 생성\n",
    "\n",
    "for model in models:\n",
    "    model.build(input_shape=(512, 40))  # input_shape (batch size, token length)\n",
    "    model.summary()"
   ]
  },
  {
   "cell_type": "code",
   "execution_count": 18,
   "id": "f54823b9",
   "metadata": {},
   "outputs": [
    {
     "name": "stdout",
     "output_type": "stream",
     "text": [
      "Epoch 1/20\n",
      "266/266 [==============================] - 35s 7ms/step - loss: 0.4761 - accuracy: 0.7858 - val_loss: 0.3573 - val_accuracy: 0.8441\n",
      "Epoch 2/20\n",
      "266/266 [==============================] - 1s 5ms/step - loss: 0.3334 - accuracy: 0.8599 - val_loss: 0.3412 - val_accuracy: 0.8523\n",
      "Epoch 3/20\n",
      "266/266 [==============================] - 1s 5ms/step - loss: 0.3105 - accuracy: 0.8702 - val_loss: 0.3361 - val_accuracy: 0.8518\n",
      "Epoch 4/20\n",
      "266/266 [==============================] - 1s 5ms/step - loss: 0.2962 - accuracy: 0.8771 - val_loss: 0.3347 - val_accuracy: 0.8562\n",
      "Epoch 5/20\n",
      "266/266 [==============================] - 1s 6ms/step - loss: 0.2833 - accuracy: 0.8836 - val_loss: 0.3350 - val_accuracy: 0.8561\n",
      "Epoch 6/20\n",
      "266/266 [==============================] - 1s 6ms/step - loss: 0.2699 - accuracy: 0.8900 - val_loss: 0.3403 - val_accuracy: 0.8545\n",
      "Epoch 7/20\n",
      "266/266 [==============================] - 2s 6ms/step - loss: 0.2568 - accuracy: 0.8956 - val_loss: 0.3432 - val_accuracy: 0.8544\n",
      "Epoch 8/20\n",
      "266/266 [==============================] - 2s 6ms/step - loss: 0.2442 - accuracy: 0.9024 - val_loss: 0.3470 - val_accuracy: 0.8546\n",
      "Epoch 9/20\n",
      "266/266 [==============================] - 1s 6ms/step - loss: 0.2307 - accuracy: 0.9081 - val_loss: 0.3593 - val_accuracy: 0.8547\n",
      "Epoch 10/20\n",
      "266/266 [==============================] - 1s 6ms/step - loss: 0.2181 - accuracy: 0.9142 - val_loss: 0.3687 - val_accuracy: 0.8537\n",
      "Epoch 11/20\n",
      "266/266 [==============================] - 1s 5ms/step - loss: 0.2058 - accuracy: 0.9198 - val_loss: 0.3779 - val_accuracy: 0.8506\n",
      "Epoch 12/20\n",
      "266/266 [==============================] - 1s 6ms/step - loss: 0.1941 - accuracy: 0.9251 - val_loss: 0.3958 - val_accuracy: 0.8499\n",
      "Epoch 13/20\n",
      "266/266 [==============================] - 1s 6ms/step - loss: 0.1818 - accuracy: 0.9307 - val_loss: 0.4155 - val_accuracy: 0.8496\n",
      "Epoch 14/20\n",
      "266/266 [==============================] - 1s 6ms/step - loss: 0.1711 - accuracy: 0.9357 - val_loss: 0.4282 - val_accuracy: 0.8518\n",
      "Epoch 15/20\n",
      "266/266 [==============================] - 1s 5ms/step - loss: 0.1617 - accuracy: 0.9393 - val_loss: 0.4401 - val_accuracy: 0.8508\n",
      "Epoch 16/20\n",
      "266/266 [==============================] - 1s 5ms/step - loss: 0.1529 - accuracy: 0.9438 - val_loss: 0.4568 - val_accuracy: 0.8474\n",
      "Epoch 17/20\n",
      "266/266 [==============================] - 1s 5ms/step - loss: 0.1429 - accuracy: 0.9485 - val_loss: 0.4684 - val_accuracy: 0.8451\n",
      "Epoch 18/20\n",
      "266/266 [==============================] - 1s 5ms/step - loss: 0.1355 - accuracy: 0.9520 - val_loss: 0.4926 - val_accuracy: 0.8442\n",
      "Epoch 19/20\n",
      "266/266 [==============================] - 1s 5ms/step - loss: 0.1292 - accuracy: 0.9546 - val_loss: 0.5213 - val_accuracy: 0.8425\n",
      "Epoch 20/20\n",
      "266/266 [==============================] - 1s 6ms/step - loss: 0.1217 - accuracy: 0.9576 - val_loss: 0.5469 - val_accuracy: 0.8426\n",
      "Epoch 1/20\n",
      "266/266 [==============================] - 22s 7ms/step - loss: 0.4452 - accuracy: 0.7822 - val_loss: 0.3364 - val_accuracy: 0.8542\n",
      "Epoch 2/20\n",
      "266/266 [==============================] - 1s 5ms/step - loss: 0.3019 - accuracy: 0.8728 - val_loss: 0.3214 - val_accuracy: 0.8617\n",
      "Epoch 3/20\n",
      "266/266 [==============================] - 1s 5ms/step - loss: 0.2466 - accuracy: 0.9002 - val_loss: 0.3346 - val_accuracy: 0.8559\n",
      "Epoch 4/20\n",
      "266/266 [==============================] - 1s 5ms/step - loss: 0.1832 - accuracy: 0.9310 - val_loss: 0.3778 - val_accuracy: 0.8482\n",
      "Epoch 5/20\n",
      "266/266 [==============================] - 1s 5ms/step - loss: 0.1247 - accuracy: 0.9561 - val_loss: 0.4434 - val_accuracy: 0.8440\n",
      "Epoch 6/20\n",
      "266/266 [==============================] - 1s 5ms/step - loss: 0.0847 - accuracy: 0.9723 - val_loss: 0.5277 - val_accuracy: 0.8408\n",
      "Epoch 7/20\n",
      "266/266 [==============================] - 1s 5ms/step - loss: 0.0598 - accuracy: 0.9818 - val_loss: 0.6108 - val_accuracy: 0.8354\n",
      "Epoch 8/20\n",
      "266/266 [==============================] - 1s 5ms/step - loss: 0.0451 - accuracy: 0.9858 - val_loss: 0.6927 - val_accuracy: 0.8333\n",
      "Epoch 9/20\n",
      "266/266 [==============================] - 1s 5ms/step - loss: 0.0362 - accuracy: 0.9889 - val_loss: 0.7677 - val_accuracy: 0.8349\n",
      "Epoch 10/20\n",
      "266/266 [==============================] - 1s 5ms/step - loss: 0.0312 - accuracy: 0.9903 - val_loss: 0.8503 - val_accuracy: 0.8322\n",
      "Epoch 11/20\n",
      "266/266 [==============================] - 1s 5ms/step - loss: 0.0305 - accuracy: 0.9901 - val_loss: 0.8715 - val_accuracy: 0.8299\n",
      "Epoch 12/20\n",
      "266/266 [==============================] - 1s 5ms/step - loss: 0.0309 - accuracy: 0.9894 - val_loss: 0.9291 - val_accuracy: 0.8268\n",
      "Epoch 13/20\n",
      "266/266 [==============================] - 1s 5ms/step - loss: 0.0290 - accuracy: 0.9901 - val_loss: 0.9856 - val_accuracy: 0.8259\n",
      "Epoch 14/20\n",
      "266/266 [==============================] - 1s 5ms/step - loss: 0.0270 - accuracy: 0.9905 - val_loss: 1.0266 - val_accuracy: 0.8295\n",
      "Epoch 15/20\n",
      "266/266 [==============================] - 1s 5ms/step - loss: 0.0262 - accuracy: 0.9911 - val_loss: 1.0445 - val_accuracy: 0.8313\n",
      "Epoch 16/20\n",
      "266/266 [==============================] - 1s 5ms/step - loss: 0.0232 - accuracy: 0.9921 - val_loss: 1.1032 - val_accuracy: 0.8269\n",
      "Epoch 17/20\n",
      "266/266 [==============================] - 1s 5ms/step - loss: 0.0176 - accuracy: 0.9939 - val_loss: 1.1354 - val_accuracy: 0.8270\n",
      "Epoch 18/20\n",
      "266/266 [==============================] - 1s 5ms/step - loss: 0.0164 - accuracy: 0.9943 - val_loss: 1.1384 - val_accuracy: 0.8299\n",
      "Epoch 19/20\n",
      "266/266 [==============================] - 1s 5ms/step - loss: 0.0155 - accuracy: 0.9946 - val_loss: 1.2487 - val_accuracy: 0.8296\n",
      "Epoch 20/20\n",
      "266/266 [==============================] - 1s 5ms/step - loss: 0.0158 - accuracy: 0.9945 - val_loss: 1.1992 - val_accuracy: 0.8281\n",
      "Epoch 1/20\n",
      "266/266 [==============================] - 1s 4ms/step - loss: 0.5220 - accuracy: 0.7866 - val_loss: 0.3659 - val_accuracy: 0.8386\n",
      "Epoch 2/20\n",
      "266/266 [==============================] - 1s 4ms/step - loss: 0.3366 - accuracy: 0.8554 - val_loss: 0.3374 - val_accuracy: 0.8534\n",
      "Epoch 3/20\n",
      "266/266 [==============================] - 1s 4ms/step - loss: 0.2947 - accuracy: 0.8772 - val_loss: 0.3348 - val_accuracy: 0.8551\n",
      "Epoch 4/20\n",
      "266/266 [==============================] - 1s 4ms/step - loss: 0.2659 - accuracy: 0.8913 - val_loss: 0.3393 - val_accuracy: 0.8547\n",
      "Epoch 5/20\n",
      "266/266 [==============================] - 1s 4ms/step - loss: 0.2411 - accuracy: 0.9036 - val_loss: 0.3502 - val_accuracy: 0.8509\n",
      "Epoch 6/20\n",
      "266/266 [==============================] - 1s 3ms/step - loss: 0.2184 - accuracy: 0.9144 - val_loss: 0.3621 - val_accuracy: 0.8511\n",
      "Epoch 7/20\n",
      "266/266 [==============================] - 1s 3ms/step - loss: 0.1971 - accuracy: 0.9252 - val_loss: 0.3766 - val_accuracy: 0.8470\n",
      "Epoch 8/20\n",
      "266/266 [==============================] - 1s 3ms/step - loss: 0.1763 - accuracy: 0.9349 - val_loss: 0.3957 - val_accuracy: 0.8455\n",
      "Epoch 9/20\n",
      "266/266 [==============================] - 1s 3ms/step - loss: 0.1567 - accuracy: 0.9446 - val_loss: 0.4198 - val_accuracy: 0.8416\n",
      "Epoch 10/20\n",
      "266/266 [==============================] - 1s 3ms/step - loss: 0.1380 - accuracy: 0.9524 - val_loss: 0.4455 - val_accuracy: 0.8402\n",
      "Epoch 11/20\n",
      "266/266 [==============================] - 1s 3ms/step - loss: 0.1217 - accuracy: 0.9595 - val_loss: 0.4684 - val_accuracy: 0.8404\n",
      "Epoch 12/20\n",
      "266/266 [==============================] - 1s 3ms/step - loss: 0.1070 - accuracy: 0.9656 - val_loss: 0.4987 - val_accuracy: 0.8360\n",
      "Epoch 13/20\n",
      "266/266 [==============================] - 1s 4ms/step - loss: 0.0937 - accuracy: 0.9711 - val_loss: 0.5304 - val_accuracy: 0.8341\n",
      "Epoch 14/20\n",
      "266/266 [==============================] - 1s 4ms/step - loss: 0.0820 - accuracy: 0.9756 - val_loss: 0.5591 - val_accuracy: 0.8299\n",
      "Epoch 15/20\n",
      "266/266 [==============================] - 1s 4ms/step - loss: 0.0722 - accuracy: 0.9790 - val_loss: 0.5933 - val_accuracy: 0.8302\n",
      "Epoch 16/20\n",
      "266/266 [==============================] - 1s 3ms/step - loss: 0.0632 - accuracy: 0.9820 - val_loss: 0.6251 - val_accuracy: 0.8274\n",
      "Epoch 17/20\n",
      "266/266 [==============================] - 1s 4ms/step - loss: 0.0559 - accuracy: 0.9848 - val_loss: 0.6568 - val_accuracy: 0.8263\n",
      "Epoch 18/20\n"
     ]
    },
    {
     "name": "stdout",
     "output_type": "stream",
     "text": [
      "266/266 [==============================] - 1s 4ms/step - loss: 0.0493 - accuracy: 0.9868 - val_loss: 0.6956 - val_accuracy: 0.8238\n",
      "Epoch 19/20\n",
      "266/266 [==============================] - 1s 4ms/step - loss: 0.0435 - accuracy: 0.9880 - val_loss: 0.7273 - val_accuracy: 0.8247\n",
      "Epoch 20/20\n",
      "266/266 [==============================] - 1s 4ms/step - loss: 0.0384 - accuracy: 0.9898 - val_loss: 0.7622 - val_accuracy: 0.8217\n"
     ]
    }
   ],
   "source": [
    "epochs=20\n",
    "rnn_history = None\n",
    "cnn_history = None\n",
    "max_history = None\n",
    "for model in models:\n",
    "    \n",
    "    model.compile(optimizer='adam', loss='binary_crossentropy', metrics=['accuracy'])\n",
    "    history = model.fit(partial_X_train, partial_y_train, epochs=epochs, batch_size=512, validation_data=(X_val, y_val), verbose=1)\n",
    "    if model == RNN_model:\n",
    "        rnn_history = history.history.copy()\n",
    "    elif model == CNN_model:\n",
    "        cnn_history = history.history.copy()\n",
    "    else:\n",
    "        max_history = history.history.copy()"
   ]
  },
  {
   "cell_type": "markdown",
   "id": "f879d9ff",
   "metadata": {},
   "source": [
    "### 각 모델에 대한 평가 (evaluation)"
   ]
  },
  {
   "cell_type": "code",
   "execution_count": 19,
   "id": "d488c2eb",
   "metadata": {},
   "outputs": [
    {
     "name": "stdout",
     "output_type": "stream",
     "text": [
      "1537/1537 - 3s - loss: 0.5497 - accuracy: 0.8374\n",
      "1537/1537 - 3s - loss: 1.2616 - accuracy: 0.8217\n",
      "1537/1537 - 2s - loss: 0.7712 - accuracy: 0.8215\n",
      "RNN의 loss는 0.5497, accuracy는 83.74%\n",
      "CNN의 loss는 1.2616, accuracy는 82.17%\n",
      "GlobalMaxPooling의 loss는 0.7712, accuracy는 82.15%\n"
     ]
    }
   ],
   "source": [
    "loss = []\n",
    "accuracy = []\n",
    "i = 0\n",
    "\n",
    "for model in models:\n",
    "    results = model.evaluate(X_test, y_test, verbose=2)\n",
    "    loss.append(results[0])\n",
    "    accuracy.append(results[1])\n",
    "\n",
    "acc_per = np.array(accuracy) * 100\n",
    "\n",
    "for model in models:\n",
    "    model_name = type(model).__name__\n",
    "    print(f\"{model_name}의 loss는 {loss[i]:.4f}, accuracy는 {acc_per[i]:.2f}%\")\n",
    "    i += 1"
   ]
  },
  {
   "cell_type": "markdown",
   "id": "79885a5a",
   "metadata": {},
   "source": [
    "- RNN(LSTM) loss는 0.6051, accuracy는 83.97%\n",
    "- CNN(1-D) loss는 1.2218, accuracy는 82.23%\n",
    "- GlobalMaxPooling(1-D)의 loss는 0.7823, accuracy는 82.18%\n",
    "\n",
    "accuracy < 85% (need better model), or need to change parameters"
   ]
  },
  {
   "cell_type": "markdown",
   "id": "8e87322a",
   "metadata": {},
   "source": [
    "## 6) Loss, Accuracy 그래프 시각화"
   ]
  },
  {
   "cell_type": "code",
   "execution_count": 20,
   "id": "977f2ffa",
   "metadata": {},
   "outputs": [],
   "source": [
    "histories = [rnn_history, cnn_history, max_history]"
   ]
  },
  {
   "cell_type": "code",
   "execution_count": 21,
   "id": "0e196194",
   "metadata": {},
   "outputs": [
    {
     "data": {
      "image/png": "[encoded data removed]",
      "text/plain": [
       "<Figure size 720x360 with 2 Axes>"
      ]
     },
     "metadata": {
      "needs_background": "light"
     },
     "output_type": "display_data"
    },
    {
     "data": {
      "image/png": "[encoded data removed]",
      "text/plain": [
       "<Figure size 720x360 with 2 Axes>"
      ]
     },
     "metadata": {
      "needs_background": "light"
     },
     "output_type": "display_data"
    },
    {
     "data": {
      "image/png": "[encoded data removed]",
      "text/plain": [
       "<Figure size 720x360 with 2 Axes>"
      ]
     },
     "metadata": {
      "needs_background": "light"
     },
     "output_type": "display_data"
    }
   ],
   "source": [
    "titles = ['RNN', 'CNN', 'MaxPooling']\n",
    "for i, history in enumerate(histories):\n",
    "    acc = history['accuracy']\n",
    "    val_acc = history['val_accuracy']\n",
    "    loss = history['loss']\n",
    "    val_loss = history['val_loss']\n",
    "\n",
    "    epochs = range(1, len(acc) + 1)\n",
    "\n",
    "     # 그래프 크기를 조절\n",
    "    plt.figure(figsize=(10, 5))\n",
    "\n",
    "    \n",
    "    plt.subplot(1, 2, 1)\n",
    "    # \"bo\" 파란점\n",
    "    plt.plot(epochs, loss, 'bo', label='Training loss')\n",
    "    # \"b\" 파란선\n",
    "    plt.plot(epochs, val_loss, 'b', label='Validation loss')\n",
    "    plt.title(titles[i] + ' Training and validation loss')\n",
    "    plt.xlabel('Epochs')\n",
    "    plt.ylabel('Loss')\n",
    "    plt.xticks(range(1, len(epochs) + 1))  # 에포크를 정수로 표시\n",
    "    plt.legend()\n",
    "\n",
    "    plt.subplot(1, 2, 2)\n",
    "    # \"bo\" 파란점\n",
    "    plt.plot(epochs, acc, 'bo', label='Training accuracy')\n",
    "    # \"b\" 파란선\n",
    "    plt.plot(epochs, val_acc, 'b', label='Validation accuracy')\n",
    "    plt.title(titles[i] + ' Training and validation accuracy')\n",
    "    plt.xlabel('Epochs')\n",
    "    plt.ylabel('Accuracy')\n",
    "    plt.xticks(range(1, len(epochs) + 1))  # 에포크를 정수로 표시\n",
    "    plt.legend()\n",
    "\n",
    "    plt.tight_layout()\n",
    "    plt.show()\n"
   ]
  },
  {
   "cell_type": "markdown",
   "id": "88773555",
   "metadata": {},
   "source": [
    "이미 epoch 2~3 쯤에서 train과 validation이 이별하고 있다, 괴리가 커지고 있다, overfitting 되고 있다\n",
    "\n",
    "초기(epoch 2~3)에 높은 성능을 보여주다가 성능이 떨어지고 있다 -> 3 epoch만 해보고 성능 파악 필요"
   ]
  },
  {
   "cell_type": "markdown",
   "id": "7817be51",
   "metadata": {},
   "source": [
    "## 7) 학습된 Embedding 레이어 분석"
   ]
  },
  {
   "cell_type": "code",
   "execution_count": 22,
   "id": "3b0ed21a",
   "metadata": {},
   "outputs": [
    {
     "name": "stdout",
     "output_type": "stream",
     "text": [
      "embedding layer RNN :  (10000, 50)\n",
      "embedding layer CNN :  (10000, 50)\n",
      "embedding layer GlobalMaxPooling :  (10000, 50)\n"
     ]
    }
   ],
   "source": [
    "for model in models:\n",
    "    embedding_layer = model.layers[0]\n",
    "    weights = embedding_layer.get_weights()[0]\n",
    "    model_name = type(model).__name__\n",
    "    print('embedding layer', model_name , ': ',weights.shape)"
   ]
  },
  {
   "cell_type": "code",
   "execution_count": 23,
   "id": "a4a675f7",
   "metadata": {},
   "outputs": [],
   "source": [
    "def save_embedding_parameters(models, titles, index_to_word, vocab_size, word_vector_dim):\n",
    "    for i, model in enumerate(models):\n",
    "        # 학습한 Embedding 파라미터를 파일에 써서 저장합니다.\n",
    "        word2vec_file_path = f'./data/word2vec_{titles[i]}.txt'\n",
    "        f = open(word2vec_file_path, 'w')\n",
    "        f.write('{} {}\\n'.format(vocab_size-4, word_vector_dim))  # 몇개의 벡터를 얼마 사이즈로 기재할지 타이틀을 씁니다.\n",
    "\n",
    "        # 단어 개수(에서 특수문자 4개는 제외하고)만큼의 워드 벡터를 파일에 기록합니다.\n",
    "        vectors = model.get_weights()[0]\n",
    "        for i in range(4, vocab_size):\n",
    "            f.write('{} {}\\n'.format(index_to_word[i], ' '.join(map(str, list(vectors[i, :])))))\n",
    "        f.close()\n",
    "        \n",
    "save_embedding_parameters(models, titles, index_to_word, vocab_size, word_vector_dim)"
   ]
  },
  {
   "cell_type": "code",
   "execution_count": 24,
   "id": "719c8ed0",
   "metadata": {},
   "outputs": [
    {
     "name": "stdout",
     "output_type": "stream",
     "text": [
      "RNN <- 꿈\n",
      "[('아플', 0.8621363639831543), ('결정판', 0.8605970144271851), ('조직', 0.8495230674743652), ('얽힌', 0.8489258885383606), ('십쇼', 0.8487423658370972), ('비장', 0.8480411767959595), ('전두환', 0.8463990688323975), ('대표작', 0.8458964824676514), ('과자', 0.839668333530426), ('on', 0.8337781429290771)]\n",
      "CNN <- 꿈\n",
      "[('엉엉', 0.6910938024520874), ('!!!!!!!!!!', 0.678537130355835), ('느껴져서', 0.6593318581581116), ('탔', 0.64991295337677), ('~~~^^', 0.6471527218818665), ('통찰', 0.6401941776275635), ('채워', 0.6354902982711792), ('개꿀', 0.6334583163261414), ('고정', 0.628620982170105), ('..♥', 0.62813401222229)]\n",
      "MaxPooling <- 꿈\n",
      "[('베티', 0.7224622964859009), ('용감', 0.6940117478370667), ('트', 0.6931111216545105), ('우정', 0.6897616386413574), ('로맨스', 0.6882113218307495), ('그때', 0.687092661857605), ('애잔', 0.6858820915222168), ('엄청나', 0.6847228407859802), ('ost', 0.682385265827179), ('엑스맨', 0.6778723001480103)]\n"
     ]
    }
   ],
   "source": [
    "from gensim.models.keyedvectors import Word2VecKeyedVectors\n",
    "\n",
    "# 각 모델들이 생각하는 '꿈'과 근접한 단어들 찾기\n",
    "for title in titles:\n",
    "    word2vec_file_path = f'./data/word2vec_{title}.txt'\n",
    "    word_vectors = Word2VecKeyedVectors.load_word2vec_format(word2vec_file_path, binary=False)\n",
    "    print(title, '<- 꿈')  \n",
    "    print(word_vectors.similar_by_word(\"꿈\"))"
   ]
  },
  {
   "cell_type": "markdown",
   "id": "5366651c",
   "metadata": {},
   "source": [
    "- 통일성, 유사성이 떨어진다는것을 확인"
   ]
  },
  {
   "cell_type": "markdown",
   "id": "dc54e30e",
   "metadata": {},
   "source": [
    "## 8) 한국어 Word2Vec 임베딩 활용하여 성능 개선\n"
   ]
  },
  {
   "cell_type": "code",
   "execution_count": 25,
   "id": "b85a6dc1",
   "metadata": {},
   "outputs": [
    {
     "name": "stdout",
     "output_type": "stream",
     "text": [
      "pretrained embedding layer <- 꿈 \n",
      " [('인생', 0.7489830255508423), ('추억', 0.7478811144828796), ('악몽', 0.7333221435546875), ('운명', 0.7141579389572144), ('사랑', 0.7089294195175171), ('삶', 0.7056183815002441), ('세상', 0.7003714442253113), ('기쁨', 0.6934624910354614), ('마음', 0.6885642409324646), ('행복', 0.6853602528572083)]\n"
     ]
    }
   ],
   "source": [
    "from gensim.models import Word2Vec\n",
    "\n",
    "word2vec_file_path = './data/word2vec_ko.model'\n",
    "\n",
    "word_vectors = Word2Vec.load(word2vec_file_path)  # pretrained embedding model load\n",
    "print('pretrained embedding layer <- 꿈 \\n',word_vectors.wv.similar_by_word(\"꿈\"))"
   ]
  },
  {
   "cell_type": "code",
   "execution_count": 26,
   "id": "fc368da4",
   "metadata": {},
   "outputs": [
    {
     "data": {
      "text/plain": [
       "(100,)"
      ]
     },
     "execution_count": 26,
     "metadata": {},
     "output_type": "execute_result"
    }
   ],
   "source": [
    "vector = word_vectors.wv['꿈']\n",
    "vector.shape \n",
    "\n",
    "# 각 단어는 100개의 차원으로 vectorize 됨을 확인"
   ]
  },
  {
   "cell_type": "code",
   "execution_count": 27,
   "id": "d4fc1031",
   "metadata": {},
   "outputs": [],
   "source": [
    "from tensorflow.keras.initializers import Constant\n",
    "\n",
    "vocab_size = 10000    # 어휘 사전의 크기(10,000개의 단어)\n",
    "word_vector_dim = 100  # 워드 벡터의 차원수 \n",
    "embedding_matrix = np.random.rand(vocab_size, word_vector_dim)\n",
    "\n",
    "# embedding_matrix에 Word2Vec 워드 벡터를 단어 하나씩마다 차례차례 카피한다.\n",
    "for i in range(4,vocab_size):\n",
    "    if index_to_word[i] in word_vectors.wv:\n",
    "        embedding_matrix[i] = word_vectors.wv[index_to_word[i]]"
   ]
  },
  {
   "cell_type": "code",
   "execution_count": 28,
   "id": "29cbcafb",
   "metadata": {},
   "outputs": [
    {
     "data": {
      "text/plain": [
       "(10000, 100)"
      ]
     },
     "execution_count": 28,
     "metadata": {},
     "output_type": "execute_result"
    }
   ],
   "source": [
    "embedding_matrix.shape         "
   ]
  },
  {
   "cell_type": "code",
   "execution_count": 29,
   "id": "e61d257b",
   "metadata": {},
   "outputs": [
    {
     "name": "stdout",
     "output_type": "stream",
     "text": [
      ". \n",
      " [ 1.0148797  -0.50785506 -3.01209021  0.45532331  1.18936408  1.16196549\n",
      "  2.0690465  -0.4041273  -3.67824864  5.15002871 -4.90728283 -1.17444587\n",
      " -2.04329658 -0.27965945 -3.60060024  3.71831751  1.4845506   0.3471984\n",
      "  3.05809855 -2.98130846 -2.75871563  1.69519937 -0.62313354 -2.48172998\n",
      "  1.7739619   0.90663171  3.50179338 -4.62058544 -2.70127892  0.75214028\n",
      " -6.49481773  3.31358528  0.79373801  3.56094408  0.5049091   2.51798296\n",
      "  1.08281338  2.22650957 -0.54819411 -2.45683312  5.82740164 -0.48938593\n",
      "  7.21801424 -0.25775084 -0.69435704 -0.57397074 -0.9460867   3.64878941\n",
      " -0.61506265 -4.03338385  0.41044739 -0.03049513  0.09765369 -5.68309593\n",
      "  1.61000216  1.61402714 -0.35847089  0.99730688  1.03616691 -3.59692454\n",
      "  0.92260575  0.27273268  1.30361199 -0.35995319 -2.94048095 -1.03001702\n",
      "  3.20227623 -5.205935    2.38758183 -3.1253984   1.00584948 -1.81666231\n",
      "  4.36685753 -4.05125952 -0.36159644 -0.69638383  1.12456954 -0.62755346\n",
      "  0.2120384  -4.40245962 -2.05257916 -3.70964599 -0.58846456  0.15994826\n",
      "  1.86214948  0.41658938  2.62384629  2.27760291  0.24286105  2.43245959\n",
      "  0.93387848 -2.56353784  2.40364861  0.75417507  5.33042002 -0.97711253\n",
      "  1.52398312  3.5433259   2.85789919  0.83078951]\n"
     ]
    }
   ],
   "source": [
    "print(index_to_word[4], '\\n' ,embedding_matrix[4])    # '.' 이 벡터로 변한 형태"
   ]
  },
  {
   "cell_type": "code",
   "execution_count": 30,
   "id": "8b8a75af",
   "metadata": {},
   "outputs": [
    {
     "name": "stdout",
     "output_type": "stream",
     "text": [
      "영화 \n",
      " [-1.80073893 -1.1790098  -2.4066596   2.13841558 -0.3537603   1.37495267\n",
      " -4.89461184 -3.65171981  0.44114441  0.78153926 -2.69688797 -1.78128517\n",
      " -2.15146542 -4.81323624  2.74659181 -2.16203237 -0.11467794 -1.24311709\n",
      "  2.39793086 -1.10606277 -0.41043055  1.95003915  0.7821002   1.58999777\n",
      "  1.6447444  -2.12650347 -1.79815948  1.7535795   0.53717697 -1.21212101\n",
      " -4.46631622  4.54883242  1.33444095 -0.90702713  1.19318891  4.15632153\n",
      "  1.97583067 -0.94375622 -0.25927249  0.34935686  1.85628748 -3.32496452\n",
      "  1.12216246  1.28365242  3.92113757  3.8023994   2.76626897  0.67293745\n",
      "  2.28536439 -5.11317158  0.32525915 -3.3079958   5.30435133 -3.88137579\n",
      " -0.32960036 -1.95275044  3.88650751 -3.54703784 -0.21991685  0.82119733\n",
      " -0.94924921  3.54721069  1.32204795 -0.70640826  0.52253807  1.46832347\n",
      " -1.10186887  2.26294088 -0.72046852 -1.76620102  5.22375774  3.0748682\n",
      "  1.09775758  3.31917334 -0.41004229 -1.7022891  -0.78379875  0.82586575\n",
      " -0.54520637  1.23553824  2.02674007 -0.65244699  1.08660543  0.89776409\n",
      "  0.79283422  3.77706265  3.02748632  5.16600227  2.64616442  2.89268684\n",
      "  1.97094405 -3.37465429 -5.26565933 -1.10414851  2.35754704 -2.35708237\n",
      " -4.81723833  3.72902226  4.62329006  1.50046134]\n"
     ]
    }
   ],
   "source": [
    "print(index_to_word[5], '\\n' ,embedding_matrix[5])    # '영화' 가 벡터로 변한 형태"
   ]
  },
  {
   "cell_type": "code",
   "execution_count": 31,
   "id": "f992ac5c",
   "metadata": {},
   "outputs": [
    {
     "name": "stdout",
     "output_type": "stream",
     "text": [
      "Model: \"rnn_1\"\n",
      "_________________________________________________________________\n",
      "Layer (type)                 Output Shape              Param #   \n",
      "=================================================================\n",
      "embedding_3 (Embedding)      multiple                  1000000   \n",
      "_________________________________________________________________\n",
      "lstm_1 (LSTM)                multiple                  3488      \n",
      "_________________________________________________________________\n",
      "dense_6 (Dense)              multiple                  72        \n",
      "_________________________________________________________________\n",
      "dense_7 (Dense)              multiple                  9         \n",
      "=================================================================\n",
      "Total params: 1,003,569\n",
      "Trainable params: 1,003,569\n",
      "Non-trainable params: 0\n",
      "_________________________________________________________________\n",
      "Model: \"cnn_1\"\n",
      "_________________________________________________________________\n",
      "Layer (type)                 Output Shape              Param #   \n",
      "=================================================================\n",
      "embedding_4 (Embedding)      multiple                  1000000   \n",
      "_________________________________________________________________\n",
      "conv1d_2 (Conv1D)            multiple                  9616      \n",
      "_________________________________________________________________\n",
      "max_pooling1d_1 (MaxPooling1 multiple                  0         \n",
      "_________________________________________________________________\n",
      "conv1d_3 (Conv1D)            multiple                  3104      \n",
      "_________________________________________________________________\n",
      "global_max_pooling1d_2 (Glob multiple                  0         \n",
      "_________________________________________________________________\n",
      "dense_8 (Dense)              multiple                  1056      \n",
      "_________________________________________________________________\n",
      "dense_9 (Dense)              multiple                  33        \n",
      "=================================================================\n",
      "Total params: 1,013,809\n",
      "Trainable params: 1,013,809\n",
      "Non-trainable params: 0\n",
      "_________________________________________________________________\n",
      "Model: \"global_max_pooling_1\"\n",
      "_________________________________________________________________\n",
      "Layer (type)                 Output Shape              Param #   \n",
      "=================================================================\n",
      "embedding_5 (Embedding)      multiple                  1000000   \n",
      "_________________________________________________________________\n",
      "global_max_pooling1d_3 (Glob multiple                  0         \n",
      "_________________________________________________________________\n",
      "dense_10 (Dense)             multiple                  808       \n",
      "_________________________________________________________________\n",
      "dense_11 (Dense)             multiple                  9         \n",
      "=================================================================\n",
      "Total params: 1,000,817\n",
      "Trainable params: 1,000,817\n",
      "Non-trainable params: 0\n",
      "_________________________________________________________________\n"
     ]
    }
   ],
   "source": [
    "#RNN에 사전 훈련된 embedding layer 적용\n",
    "RNN_with_embedding = RNN()\n",
    "\n",
    "\n",
    "RNN_with_embedding.build(input_shape=(512, 40))  # input_shape (batch size, token length)\n",
    "RNN_with_embedding.summary()\n",
    "RNN_with_embedding.embedding_layer.set_weights([embedding_matrix])\n",
    "# 임베딩 레이어를 학습 불가능 상태로 설정합니다\n",
    "RNN_with_embedding.embedding_layer.trainable = False\n",
    "\n",
    "\n",
    "#CNN에 사전 훈련된 embedding layer 적용\n",
    "CNN_with_embedding = CNN()\n",
    "\n",
    "CNN_with_embedding.build(input_shape=(512, 40))  # input_shape (batch size, token length)\n",
    "CNN_with_embedding.summary()\n",
    "CNN_with_embedding.embedding_layer.set_weights([embedding_matrix])\n",
    "# 임베딩 레이어를 학습 불가능 상태로 설정합니다\n",
    "CNN_with_embedding.embedding_layer.trainable = False\n",
    "\n",
    "\n",
    "#GlobalMaxPooling에 사전 훈련된 embedding layer 적용\n",
    "Maxpooling_with_embedding = GlobalMaxPooling()\n",
    "\n",
    "Maxpooling_with_embedding.build(input_shape=(512, 40))  # input_shape (batch size, token length)\n",
    "Maxpooling_with_embedding.summary()\n",
    "# 사전 훈련된 임베딩을 임베딩 레이어에 적용합니다\n",
    "Maxpooling_with_embedding.embedding_layer.set_weights([embedding_matrix])\n",
    "# 임베딩 레이어를 학습 불가능 상태로 설정합니다\n",
    "Maxpooling_with_embedding.embedding_layer.trainable = False\n"
   ]
  },
  {
   "cell_type": "code",
   "execution_count": 32,
   "id": "cf5d871c",
   "metadata": {},
   "outputs": [
    {
     "name": "stdout",
     "output_type": "stream",
     "text": [
      "Epoch 1/40\n",
      "266/266 [==============================] - 3s 6ms/step - loss: 0.6231 - accuracy: 0.6472 - val_loss: 0.5377 - val_accuracy: 0.7353\n",
      "Epoch 2/40\n",
      "266/266 [==============================] - 1s 5ms/step - loss: 0.5092 - accuracy: 0.7548 - val_loss: 0.4863 - val_accuracy: 0.7698\n",
      "Epoch 3/40\n",
      "266/266 [==============================] - 1s 5ms/step - loss: 0.4785 - accuracy: 0.7748 - val_loss: 0.4693 - val_accuracy: 0.7800\n",
      "Epoch 4/40\n",
      "266/266 [==============================] - 1s 5ms/step - loss: 0.4625 - accuracy: 0.7840 - val_loss: 0.4531 - val_accuracy: 0.7891\n",
      "Epoch 5/40\n",
      "266/266 [==============================] - 1s 5ms/step - loss: 0.4496 - accuracy: 0.7922 - val_loss: 0.4470 - val_accuracy: 0.7917\n",
      "Epoch 6/40\n",
      "266/266 [==============================] - 1s 4ms/step - loss: 0.4398 - accuracy: 0.7977 - val_loss: 0.4402 - val_accuracy: 0.7961\n",
      "Epoch 7/40\n",
      "266/266 [==============================] - 1s 4ms/step - loss: 0.4334 - accuracy: 0.8011 - val_loss: 0.4347 - val_accuracy: 0.8000\n",
      "Epoch 8/40\n",
      "266/266 [==============================] - 1s 5ms/step - loss: 0.4271 - accuracy: 0.8051 - val_loss: 0.4399 - val_accuracy: 0.7958\n",
      "Epoch 9/40\n",
      "266/266 [==============================] - 1s 4ms/step - loss: 0.4239 - accuracy: 0.8063 - val_loss: 0.4246 - val_accuracy: 0.8043\n",
      "Epoch 10/40\n",
      "266/266 [==============================] - 1s 5ms/step - loss: 0.4183 - accuracy: 0.8098 - val_loss: 0.4218 - val_accuracy: 0.8065\n",
      "Epoch 11/40\n",
      "266/266 [==============================] - 1s 5ms/step - loss: 0.4145 - accuracy: 0.8110 - val_loss: 0.4192 - val_accuracy: 0.8062\n",
      "Epoch 12/40\n",
      "266/266 [==============================] - 1s 5ms/step - loss: 0.4111 - accuracy: 0.8137 - val_loss: 0.4147 - val_accuracy: 0.8111\n",
      "Epoch 13/40\n",
      "266/266 [==============================] - 1s 5ms/step - loss: 0.4082 - accuracy: 0.8156 - val_loss: 0.4138 - val_accuracy: 0.8129\n",
      "Epoch 14/40\n",
      "266/266 [==============================] - 1s 5ms/step - loss: 0.4054 - accuracy: 0.8170 - val_loss: 0.4093 - val_accuracy: 0.8125\n",
      "Epoch 15/40\n",
      "266/266 [==============================] - 1s 5ms/step - loss: 0.4032 - accuracy: 0.8184 - val_loss: 0.4086 - val_accuracy: 0.8142\n",
      "Epoch 16/40\n",
      "266/266 [==============================] - 1s 5ms/step - loss: 0.4010 - accuracy: 0.8197 - val_loss: 0.4081 - val_accuracy: 0.8123\n",
      "Epoch 17/40\n",
      "266/266 [==============================] - 1s 5ms/step - loss: 0.3996 - accuracy: 0.8201 - val_loss: 0.4052 - val_accuracy: 0.8148\n",
      "Epoch 18/40\n",
      "266/266 [==============================] - 1s 5ms/step - loss: 0.3978 - accuracy: 0.8214 - val_loss: 0.4055 - val_accuracy: 0.8155\n",
      "Epoch 19/40\n",
      "266/266 [==============================] - 1s 5ms/step - loss: 0.3962 - accuracy: 0.8222 - val_loss: 0.4047 - val_accuracy: 0.8167\n",
      "Epoch 20/40\n",
      "266/266 [==============================] - 1s 5ms/step - loss: 0.3946 - accuracy: 0.8230 - val_loss: 0.4021 - val_accuracy: 0.8186\n",
      "Epoch 21/40\n",
      "266/266 [==============================] - 1s 5ms/step - loss: 0.3928 - accuracy: 0.8244 - val_loss: 0.4053 - val_accuracy: 0.8162\n",
      "Epoch 22/40\n",
      "266/266 [==============================] - 1s 5ms/step - loss: 0.3911 - accuracy: 0.8247 - val_loss: 0.4051 - val_accuracy: 0.8160\n",
      "Epoch 23/40\n",
      "266/266 [==============================] - 1s 5ms/step - loss: 0.3902 - accuracy: 0.8249 - val_loss: 0.4017 - val_accuracy: 0.8203\n",
      "Epoch 24/40\n",
      "266/266 [==============================] - 1s 5ms/step - loss: 0.3902 - accuracy: 0.8255 - val_loss: 0.4023 - val_accuracy: 0.8155\n",
      "Epoch 25/40\n",
      "266/266 [==============================] - 1s 5ms/step - loss: 0.3884 - accuracy: 0.8271 - val_loss: 0.4060 - val_accuracy: 0.8167\n",
      "Epoch 26/40\n",
      "266/266 [==============================] - 1s 5ms/step - loss: 0.3869 - accuracy: 0.8275 - val_loss: 0.3986 - val_accuracy: 0.8216\n",
      "Epoch 27/40\n",
      "266/266 [==============================] - 1s 5ms/step - loss: 0.3855 - accuracy: 0.8280 - val_loss: 0.3996 - val_accuracy: 0.8221\n",
      "Epoch 28/40\n",
      "266/266 [==============================] - 1s 5ms/step - loss: 0.3854 - accuracy: 0.8286 - val_loss: 0.3992 - val_accuracy: 0.8209\n",
      "Epoch 29/40\n",
      "266/266 [==============================] - 1s 5ms/step - loss: 0.3834 - accuracy: 0.8292 - val_loss: 0.3973 - val_accuracy: 0.8209\n",
      "Epoch 30/40\n",
      "266/266 [==============================] - 1s 5ms/step - loss: 0.3827 - accuracy: 0.8299 - val_loss: 0.3971 - val_accuracy: 0.8243\n",
      "Epoch 31/40\n",
      "266/266 [==============================] - 1s 5ms/step - loss: 0.3819 - accuracy: 0.8303 - val_loss: 0.3986 - val_accuracy: 0.8219\n",
      "Epoch 32/40\n",
      "266/266 [==============================] - 1s 5ms/step - loss: 0.3824 - accuracy: 0.8301 - val_loss: 0.3976 - val_accuracy: 0.8223\n",
      "Epoch 33/40\n",
      "266/266 [==============================] - 1s 5ms/step - loss: 0.3811 - accuracy: 0.8312 - val_loss: 0.3967 - val_accuracy: 0.8194\n",
      "Epoch 34/40\n",
      "266/266 [==============================] - 1s 5ms/step - loss: 0.3801 - accuracy: 0.8314 - val_loss: 0.3948 - val_accuracy: 0.8214\n",
      "Epoch 35/40\n",
      "266/266 [==============================] - 1s 5ms/step - loss: 0.3788 - accuracy: 0.8318 - val_loss: 0.3923 - val_accuracy: 0.8246\n",
      "Epoch 36/40\n",
      "266/266 [==============================] - 1s 5ms/step - loss: 0.3778 - accuracy: 0.8324 - val_loss: 0.3927 - val_accuracy: 0.8245\n",
      "Epoch 37/40\n",
      "266/266 [==============================] - 1s 5ms/step - loss: 0.3773 - accuracy: 0.8326 - val_loss: 0.3921 - val_accuracy: 0.8260\n",
      "Epoch 38/40\n",
      "266/266 [==============================] - 1s 5ms/step - loss: 0.3766 - accuracy: 0.8331 - val_loss: 0.3942 - val_accuracy: 0.8204\n",
      "Epoch 39/40\n",
      "266/266 [==============================] - 1s 5ms/step - loss: 0.3762 - accuracy: 0.8337 - val_loss: 0.3926 - val_accuracy: 0.8245\n",
      "Epoch 40/40\n",
      "266/266 [==============================] - 1s 5ms/step - loss: 0.3748 - accuracy: 0.8341 - val_loss: 0.3915 - val_accuracy: 0.8227\n",
      "Epoch 1/40\n",
      "266/266 [==============================] - 2s 5ms/step - loss: 0.5873 - accuracy: 0.6825 - val_loss: 0.5293 - val_accuracy: 0.7373\n",
      "Epoch 2/40\n",
      "266/266 [==============================] - 1s 4ms/step - loss: 0.5026 - accuracy: 0.7548 - val_loss: 0.4957 - val_accuracy: 0.7594\n",
      "Epoch 3/40\n",
      "266/266 [==============================] - 1s 4ms/step - loss: 0.4711 - accuracy: 0.7747 - val_loss: 0.4795 - val_accuracy: 0.7705\n",
      "Epoch 4/40\n",
      "266/266 [==============================] - 1s 4ms/step - loss: 0.4518 - accuracy: 0.7859 - val_loss: 0.4664 - val_accuracy: 0.7791\n",
      "Epoch 5/40\n",
      "266/266 [==============================] - 1s 4ms/step - loss: 0.4355 - accuracy: 0.7964 - val_loss: 0.4562 - val_accuracy: 0.7833\n",
      "Epoch 6/40\n",
      "266/266 [==============================] - 1s 4ms/step - loss: 0.4239 - accuracy: 0.8033 - val_loss: 0.4564 - val_accuracy: 0.7837\n",
      "Epoch 7/40\n",
      "266/266 [==============================] - 1s 4ms/step - loss: 0.4159 - accuracy: 0.8071 - val_loss: 0.4498 - val_accuracy: 0.7886\n",
      "Epoch 8/40\n",
      "266/266 [==============================] - 1s 4ms/step - loss: 0.4076 - accuracy: 0.8118 - val_loss: 0.4474 - val_accuracy: 0.7915\n",
      "Epoch 9/40\n",
      "266/266 [==============================] - 1s 4ms/step - loss: 0.4010 - accuracy: 0.8152 - val_loss: 0.4430 - val_accuracy: 0.7934\n",
      "Epoch 10/40\n",
      "266/266 [==============================] - 1s 4ms/step - loss: 0.3957 - accuracy: 0.8183 - val_loss: 0.4411 - val_accuracy: 0.7962\n",
      "Epoch 11/40\n",
      "266/266 [==============================] - 1s 4ms/step - loss: 0.3905 - accuracy: 0.8210 - val_loss: 0.4490 - val_accuracy: 0.7902\n",
      "Epoch 12/40\n",
      "266/266 [==============================] - 1s 4ms/step - loss: 0.3858 - accuracy: 0.8227 - val_loss: 0.4417 - val_accuracy: 0.7967\n",
      "Epoch 13/40\n",
      "266/266 [==============================] - 1s 4ms/step - loss: 0.3822 - accuracy: 0.8256 - val_loss: 0.4422 - val_accuracy: 0.7960\n",
      "Epoch 14/40\n",
      "266/266 [==============================] - 1s 4ms/step - loss: 0.3804 - accuracy: 0.8264 - val_loss: 0.4417 - val_accuracy: 0.7955\n",
      "Epoch 15/40\n",
      "266/266 [==============================] - 1s 4ms/step - loss: 0.3749 - accuracy: 0.8298 - val_loss: 0.4433 - val_accuracy: 0.7928\n",
      "Epoch 16/40\n",
      "266/266 [==============================] - 1s 4ms/step - loss: 0.3725 - accuracy: 0.8304 - val_loss: 0.4415 - val_accuracy: 0.7997\n",
      "Epoch 17/40\n",
      "266/266 [==============================] - 1s 4ms/step - loss: 0.3694 - accuracy: 0.8328 - val_loss: 0.4477 - val_accuracy: 0.7988\n",
      "Epoch 18/40\n"
     ]
    },
    {
     "name": "stdout",
     "output_type": "stream",
     "text": [
      "266/266 [==============================] - 1s 4ms/step - loss: 0.3656 - accuracy: 0.8337 - val_loss: 0.4449 - val_accuracy: 0.7948\n",
      "Epoch 19/40\n",
      "266/266 [==============================] - 1s 4ms/step - loss: 0.3639 - accuracy: 0.8349 - val_loss: 0.4445 - val_accuracy: 0.7952\n",
      "Epoch 20/40\n",
      "266/266 [==============================] - 1s 4ms/step - loss: 0.3629 - accuracy: 0.8347 - val_loss: 0.4493 - val_accuracy: 0.7915\n",
      "Epoch 21/40\n",
      "266/266 [==============================] - 1s 4ms/step - loss: 0.3592 - accuracy: 0.8382 - val_loss: 0.4492 - val_accuracy: 0.7972\n",
      "Epoch 22/40\n",
      "266/266 [==============================] - 1s 4ms/step - loss: 0.3571 - accuracy: 0.8389 - val_loss: 0.4499 - val_accuracy: 0.7981\n",
      "Epoch 23/40\n",
      "266/266 [==============================] - 1s 4ms/step - loss: 0.3556 - accuracy: 0.8397 - val_loss: 0.4501 - val_accuracy: 0.7973\n",
      "Epoch 24/40\n",
      "266/266 [==============================] - 1s 4ms/step - loss: 0.3553 - accuracy: 0.8399 - val_loss: 0.4501 - val_accuracy: 0.7960\n",
      "Epoch 25/40\n",
      "266/266 [==============================] - 1s 4ms/step - loss: 0.3521 - accuracy: 0.8413 - val_loss: 0.4516 - val_accuracy: 0.7971\n",
      "Epoch 26/40\n",
      "266/266 [==============================] - 1s 4ms/step - loss: 0.3519 - accuracy: 0.8415 - val_loss: 0.4511 - val_accuracy: 0.8001\n",
      "Epoch 27/40\n",
      "266/266 [==============================] - 1s 4ms/step - loss: 0.3484 - accuracy: 0.8433 - val_loss: 0.4540 - val_accuracy: 0.7950\n",
      "Epoch 28/40\n",
      "266/266 [==============================] - 1s 4ms/step - loss: 0.3467 - accuracy: 0.8435 - val_loss: 0.4545 - val_accuracy: 0.7952\n",
      "Epoch 29/40\n",
      "266/266 [==============================] - 1s 4ms/step - loss: 0.3473 - accuracy: 0.8436 - val_loss: 0.4594 - val_accuracy: 0.7925\n",
      "Epoch 30/40\n",
      "266/266 [==============================] - 1s 4ms/step - loss: 0.3439 - accuracy: 0.8453 - val_loss: 0.4620 - val_accuracy: 0.7946\n",
      "Epoch 31/40\n",
      "266/266 [==============================] - 1s 4ms/step - loss: 0.3423 - accuracy: 0.8460 - val_loss: 0.4588 - val_accuracy: 0.7963\n",
      "Epoch 32/40\n",
      "266/266 [==============================] - 1s 4ms/step - loss: 0.3405 - accuracy: 0.8472 - val_loss: 0.4674 - val_accuracy: 0.7949\n",
      "Epoch 33/40\n",
      "266/266 [==============================] - 1s 4ms/step - loss: 0.3400 - accuracy: 0.8470 - val_loss: 0.4723 - val_accuracy: 0.7958\n",
      "Epoch 34/40\n",
      "266/266 [==============================] - 1s 4ms/step - loss: 0.3395 - accuracy: 0.8468 - val_loss: 0.4644 - val_accuracy: 0.7945\n",
      "Epoch 35/40\n",
      "266/266 [==============================] - 1s 4ms/step - loss: 0.3390 - accuracy: 0.8466 - val_loss: 0.4629 - val_accuracy: 0.7932\n",
      "Epoch 36/40\n",
      "266/266 [==============================] - 1s 4ms/step - loss: 0.3376 - accuracy: 0.8491 - val_loss: 0.4682 - val_accuracy: 0.7931\n",
      "Epoch 37/40\n",
      "266/266 [==============================] - 1s 4ms/step - loss: 0.3349 - accuracy: 0.8504 - val_loss: 0.4703 - val_accuracy: 0.7897\n",
      "Epoch 38/40\n",
      "266/266 [==============================] - 1s 4ms/step - loss: 0.3326 - accuracy: 0.8504 - val_loss: 0.4783 - val_accuracy: 0.7886\n",
      "Epoch 39/40\n",
      "266/266 [==============================] - 1s 4ms/step - loss: 0.3323 - accuracy: 0.8509 - val_loss: 0.4722 - val_accuracy: 0.7873\n",
      "Epoch 40/40\n",
      "266/266 [==============================] - 1s 4ms/step - loss: 0.3315 - accuracy: 0.8509 - val_loss: 0.4923 - val_accuracy: 0.7905\n",
      "Epoch 1/40\n",
      "266/266 [==============================] - 1s 3ms/step - loss: 0.7058 - accuracy: 0.5473 - val_loss: 0.6667 - val_accuracy: 0.5986\n",
      "Epoch 2/40\n",
      "266/266 [==============================] - 1s 2ms/step - loss: 0.6489 - accuracy: 0.6206 - val_loss: 0.6364 - val_accuracy: 0.6394\n",
      "Epoch 3/40\n",
      "266/266 [==============================] - 1s 3ms/step - loss: 0.6251 - accuracy: 0.6517 - val_loss: 0.6265 - val_accuracy: 0.6515\n",
      "Epoch 4/40\n",
      "266/266 [==============================] - 1s 3ms/step - loss: 0.6158 - accuracy: 0.6602 - val_loss: 0.6190 - val_accuracy: 0.6588\n",
      "Epoch 5/40\n",
      "266/266 [==============================] - 1s 2ms/step - loss: 0.6117 - accuracy: 0.6649 - val_loss: 0.6158 - val_accuracy: 0.6589\n",
      "Epoch 6/40\n",
      "266/266 [==============================] - 1s 2ms/step - loss: 0.6101 - accuracy: 0.6664 - val_loss: 0.6148 - val_accuracy: 0.6622\n",
      "Epoch 7/40\n",
      "266/266 [==============================] - 1s 2ms/step - loss: 0.6088 - accuracy: 0.6678 - val_loss: 0.6166 - val_accuracy: 0.6595\n",
      "Epoch 8/40\n",
      "266/266 [==============================] - 1s 3ms/step - loss: 0.6088 - accuracy: 0.6660 - val_loss: 0.6135 - val_accuracy: 0.6621\n",
      "Epoch 9/40\n",
      "266/266 [==============================] - 1s 3ms/step - loss: 0.6085 - accuracy: 0.6676 - val_loss: 0.6139 - val_accuracy: 0.6627\n",
      "Epoch 10/40\n",
      "266/266 [==============================] - 1s 3ms/step - loss: 0.6077 - accuracy: 0.6684 - val_loss: 0.6143 - val_accuracy: 0.6646\n",
      "Epoch 11/40\n",
      "266/266 [==============================] - 1s 2ms/step - loss: 0.6067 - accuracy: 0.6698 - val_loss: 0.6128 - val_accuracy: 0.6634\n",
      "Epoch 12/40\n",
      "266/266 [==============================] - 1s 2ms/step - loss: 0.6063 - accuracy: 0.6695 - val_loss: 0.6130 - val_accuracy: 0.6626\n",
      "Epoch 13/40\n",
      "266/266 [==============================] - 1s 2ms/step - loss: 0.6060 - accuracy: 0.6702 - val_loss: 0.6141 - val_accuracy: 0.6639\n",
      "Epoch 14/40\n",
      "266/266 [==============================] - 1s 3ms/step - loss: 0.6052 - accuracy: 0.6713 - val_loss: 0.6127 - val_accuracy: 0.6679\n",
      "Epoch 15/40\n",
      "266/266 [==============================] - 1s 3ms/step - loss: 0.6043 - accuracy: 0.6723 - val_loss: 0.6096 - val_accuracy: 0.6703\n",
      "Epoch 16/40\n",
      "266/266 [==============================] - 1s 3ms/step - loss: 0.6033 - accuracy: 0.6730 - val_loss: 0.6092 - val_accuracy: 0.6656\n",
      "Epoch 17/40\n",
      "266/266 [==============================] - 1s 2ms/step - loss: 0.6027 - accuracy: 0.6727 - val_loss: 0.6086 - val_accuracy: 0.6685\n",
      "Epoch 18/40\n",
      "266/266 [==============================] - 1s 3ms/step - loss: 0.6019 - accuracy: 0.6741 - val_loss: 0.6069 - val_accuracy: 0.6735\n",
      "Epoch 19/40\n",
      "266/266 [==============================] - 1s 3ms/step - loss: 0.6007 - accuracy: 0.6742 - val_loss: 0.6075 - val_accuracy: 0.6730\n",
      "Epoch 20/40\n",
      "266/266 [==============================] - 1s 3ms/step - loss: 0.6004 - accuracy: 0.6749 - val_loss: 0.6063 - val_accuracy: 0.6704\n",
      "Epoch 21/40\n",
      "266/266 [==============================] - 1s 3ms/step - loss: 0.5992 - accuracy: 0.6757 - val_loss: 0.6058 - val_accuracy: 0.6747\n",
      "Epoch 22/40\n",
      "266/266 [==============================] - 1s 2ms/step - loss: 0.5989 - accuracy: 0.6767 - val_loss: 0.6065 - val_accuracy: 0.6713\n",
      "Epoch 23/40\n",
      "266/266 [==============================] - 1s 2ms/step - loss: 0.5982 - accuracy: 0.6769 - val_loss: 0.6055 - val_accuracy: 0.6739\n",
      "Epoch 24/40\n",
      "266/266 [==============================] - 1s 3ms/step - loss: 0.5983 - accuracy: 0.6766 - val_loss: 0.6040 - val_accuracy: 0.6735\n",
      "Epoch 25/40\n",
      "266/266 [==============================] - 1s 2ms/step - loss: 0.5976 - accuracy: 0.6773 - val_loss: 0.6039 - val_accuracy: 0.6744\n",
      "Epoch 26/40\n",
      "266/266 [==============================] - 1s 2ms/step - loss: 0.5971 - accuracy: 0.6777 - val_loss: 0.6060 - val_accuracy: 0.6689\n",
      "Epoch 27/40\n",
      "266/266 [==============================] - 1s 2ms/step - loss: 0.5969 - accuracy: 0.6772 - val_loss: 0.6034 - val_accuracy: 0.6723\n",
      "Epoch 28/40\n",
      "266/266 [==============================] - 1s 3ms/step - loss: 0.5966 - accuracy: 0.6782 - val_loss: 0.6039 - val_accuracy: 0.6697\n",
      "Epoch 29/40\n",
      "266/266 [==============================] - 1s 3ms/step - loss: 0.5963 - accuracy: 0.6781 - val_loss: 0.6044 - val_accuracy: 0.6718\n",
      "Epoch 30/40\n",
      "266/266 [==============================] - 1s 3ms/step - loss: 0.5961 - accuracy: 0.6788 - val_loss: 0.6034 - val_accuracy: 0.6755\n",
      "Epoch 31/40\n",
      "266/266 [==============================] - 1s 3ms/step - loss: 0.5962 - accuracy: 0.6774 - val_loss: 0.6030 - val_accuracy: 0.6751\n",
      "Epoch 32/40\n",
      "266/266 [==============================] - 1s 2ms/step - loss: 0.5951 - accuracy: 0.6793 - val_loss: 0.6048 - val_accuracy: 0.6719\n",
      "Epoch 33/40\n",
      "266/266 [==============================] - 1s 3ms/step - loss: 0.5948 - accuracy: 0.6795 - val_loss: 0.6022 - val_accuracy: 0.6769\n",
      "Epoch 34/40\n",
      "266/266 [==============================] - 1s 2ms/step - loss: 0.5945 - accuracy: 0.6795 - val_loss: 0.6023 - val_accuracy: 0.6732\n",
      "Epoch 35/40\n"
     ]
    },
    {
     "name": "stdout",
     "output_type": "stream",
     "text": [
      "266/266 [==============================] - 1s 2ms/step - loss: 0.5942 - accuracy: 0.6803 - val_loss: 0.6023 - val_accuracy: 0.6777\n",
      "Epoch 36/40\n",
      "266/266 [==============================] - 1s 3ms/step - loss: 0.5943 - accuracy: 0.6799 - val_loss: 0.6007 - val_accuracy: 0.6801\n",
      "Epoch 37/40\n",
      "266/266 [==============================] - 1s 2ms/step - loss: 0.5941 - accuracy: 0.6804 - val_loss: 0.6007 - val_accuracy: 0.6762\n",
      "Epoch 38/40\n",
      "266/266 [==============================] - 1s 2ms/step - loss: 0.5935 - accuracy: 0.6809 - val_loss: 0.6021 - val_accuracy: 0.6748\n",
      "Epoch 39/40\n",
      "266/266 [==============================] - 1s 3ms/step - loss: 0.5936 - accuracy: 0.6805 - val_loss: 0.6010 - val_accuracy: 0.6793\n",
      "Epoch 40/40\n",
      "266/266 [==============================] - 1s 2ms/step - loss: 0.5931 - accuracy: 0.6810 - val_loss: 0.6041 - val_accuracy: 0.6740\n"
     ]
    }
   ],
   "source": [
    "embedded_models = [RNN_with_embedding, CNN_with_embedding, Maxpooling_with_embedding]\n",
    "\n",
    "epochs=40 \n",
    "e_rnn_history = None\n",
    "e_cnn_history = None\n",
    "e_max_history = None\n",
    "\n",
    "for model in embedded_models:\n",
    "    \n",
    "    model.compile(optimizer='adam', loss='binary_crossentropy', metrics=['accuracy'])\n",
    "    history = model.fit(partial_X_train, partial_y_train, epochs=epochs, batch_size=512, validation_data=(X_val, y_val), verbose=1)\n",
    "    if model == RNN_with_embedding:\n",
    "        e_rnn_history = history.history.copy()\n",
    "    elif model == CNN_with_embedding:\n",
    "        e_cnn_history = history.history.copy()\n",
    "    else:\n",
    "        e_max_history = history.history.copy()"
   ]
  },
  {
   "cell_type": "code",
   "execution_count": 33,
   "id": "ccc5dd84",
   "metadata": {},
   "outputs": [
    {
     "name": "stdout",
     "output_type": "stream",
     "text": [
      "1537/1537 - 3s - loss: 0.4031 - accuracy: 0.8177\n",
      "1537/1537 - 3s - loss: 0.4897 - accuracy: 0.7866\n",
      "1537/1537 - 2s - loss: 0.5980 - accuracy: 0.6754\n",
      "embedded RNN의 loss는 0.4031, accuracy는 81.77%\n",
      "embedded CNN의 loss는 0.4897, accuracy는 78.66%\n",
      "embedded GlobalMaxPooling의 loss는 0.5980, accuracy는 67.54%\n"
     ]
    }
   ],
   "source": [
    "loss = []\n",
    "accuracy = []\n",
    "i = 0\n",
    "\n",
    "for model in embedded_models:\n",
    "    results = model.evaluate(X_test, y_test, verbose=2)\n",
    "    loss.append(results[0])\n",
    "    accuracy.append(results[1])\n",
    "\n",
    "acc_per = np.array(accuracy) * 100\n",
    "\n",
    "for model in embedded_models:\n",
    "    model_name = type(model).__name__\n",
    "    print(f\"embedded {model_name}의 loss는 {loss[i]:.4f}, accuracy는 {acc_per[i]:.2f}%\")\n",
    "    i += 1"
   ]
  },
  {
   "cell_type": "markdown",
   "id": "049e8057",
   "metadata": {},
   "source": [
    "임베딩을 하고나서 오히려 동일조건 대비 40에포크 까지에서도 정확도가 모든 모델에서 떨어졌다\n",
    "\n",
    "validation을 확인해 봐야겠다"
   ]
  },
  {
   "cell_type": "code",
   "execution_count": 34,
   "id": "2c3b692b",
   "metadata": {},
   "outputs": [],
   "source": [
    "e_histories = [e_rnn_history, e_cnn_history, e_max_history]"
   ]
  },
  {
   "cell_type": "code",
   "execution_count": 35,
   "id": "84298361",
   "metadata": {},
   "outputs": [
    {
     "data": {
      "image/png": "[encoded data removed]",
      "text/plain": [
       "<Figure size 720x360 with 2 Axes>"
      ]
     },
     "metadata": {
      "needs_background": "light"
     },
     "output_type": "display_data"
    },
    {
     "data": {
      "image/png": "[encoded data removed]",
      "text/plain": [
       "<Figure size 720x360 with 2 Axes>"
      ]
     },
     "metadata": {
      "needs_background": "light"
     },
     "output_type": "display_data"
    },
    {
     "data": {
      "image/png": "[encoded data removed]",
      "text/plain": [
       "<Figure size 720x360 with 2 Axes>"
      ]
     },
     "metadata": {
      "needs_background": "light"
     },
     "output_type": "display_data"
    }
   ],
   "source": [
    "e_titles = ['e-RNN', 'e-CNN', 'e-MaxPooling']\n",
    "for i, history in enumerate(e_histories):\n",
    "    acc = history['accuracy']\n",
    "    val_acc = history['val_accuracy']\n",
    "    loss = history['loss']\n",
    "    val_loss = history['val_loss']\n",
    "\n",
    "    epochs = range(1, len(acc) + 1)\n",
    "\n",
    "     # 그래프 크기를 조절\n",
    "    plt.figure(figsize=(10, 5))\n",
    "\n",
    "    \n",
    "    plt.subplot(1, 2, 1)\n",
    "    # \"bo\" 파란점\n",
    "    plt.plot(epochs, loss, 'bo', label='Training loss')\n",
    "    # \"b\" 파란선\n",
    "    plt.plot(epochs, val_loss, 'b', label='Validation loss')\n",
    "    plt.title(e_titles[i] + ' Training and validation loss')\n",
    "    plt.xlabel('Epochs')\n",
    "    plt.ylabel('Loss')\n",
    "    plt.xticks(range(1, len(epochs) + 1))  # 에포크를 정수로 표시\n",
    "    plt.legend()\n",
    "\n",
    "    plt.subplot(1, 2, 2)\n",
    "    # \"bo\" 파란점\n",
    "    plt.plot(epochs, acc, 'bo', label='Training accuracy')\n",
    "    # \"b\" 파란선\n",
    "    plt.plot(epochs, val_acc, 'b', label='Validation accuracy')\n",
    "    plt.title(e_titles[i] + ' Training and validation accuracy')\n",
    "    plt.xlabel('Epochs')\n",
    "    plt.ylabel('Accuracy')\n",
    "    plt.xticks(range(1, len(epochs) + 1))  # 에포크를 정수로 표시\n",
    "    plt.legend()\n",
    "\n",
    "    plt.tight_layout()\n",
    "    plt.show()"
   ]
  },
  {
   "cell_type": "markdown",
   "id": "ab1eccec",
   "metadata": {},
   "source": [
    "embedded layer가 포함된 RNN과 GlobalMaxpooling 모델은 validation 이 train 을 잘 따라왔다. \n",
    "\n",
    "- 하지만 epoch가 커짐에 따라 overfitting 되지 않는다 뿐이지 성능은 가장 잘 학습된 'e-RNN'(RNN with pretrained embedded layer' 기준으로도 83%에 못 미치는 성능을 보였다.\n",
    "\n",
    "- 생각해볼점: embedded layer의 값이 변하지 않도록 강제하는 행위가 학습률을 떨어뜨린것 같은데, 이렇게 함으로써 train data나 test data나 pre-trained model의 validation set처럼 작용했던것이 아닐까, 혹은 저 pre-trained layer가 생성 될때는 복잡한 후반 과정이 있었는데, 내 모델은 그에 못 미치는 복잡도를 갖고 있기 때문에 모델이 pre-trained layer의 깊은 뜻(예를들면, 단어의 유사도)을 이해하지 못하는 것이 아닌가 싶은 생각이 든다."
   ]
  },
  {
   "cell_type": "markdown",
   "id": "3268f859",
   "metadata": {},
   "source": [
    "## ※ 가장 validation accuracy가 높았던 상황을 재현하고 성능을 알아보자"
   ]
  },
  {
   "cell_type": "markdown",
   "id": "521e115d",
   "metadata": {},
   "source": [
    "### (1) vanila models with 2 epochs"
   ]
  },
  {
   "cell_type": "code",
   "execution_count": 36,
   "id": "84954cd0",
   "metadata": {},
   "outputs": [
    {
     "name": "stdout",
     "output_type": "stream",
     "text": [
      "Epoch 1/2\n",
      "266/266 [==============================] - 3s 8ms/step - loss: 0.4492 - accuracy: 0.8056 - val_loss: 0.3420 - val_accuracy: 0.8514\n",
      "Epoch 2/2\n",
      "266/266 [==============================] - 2s 6ms/step - loss: 0.3250 - accuracy: 0.8623 - val_loss: 0.3340 - val_accuracy: 0.8547\n",
      "1537/1537 - 3s - loss: 0.3515 - accuracy: 0.8485\n",
      "Epoch 1/2\n",
      "266/266 [==============================] - 2s 6ms/step - loss: 0.4316 - accuracy: 0.7951 - val_loss: 0.3329 - val_accuracy: 0.8546\n",
      "Epoch 2/2\n",
      "266/266 [==============================] - 1s 5ms/step - loss: 0.2948 - accuracy: 0.8769 - val_loss: 0.3167 - val_accuracy: 0.8617\n",
      "1537/1537 - 3s - loss: 0.3320 - accuracy: 0.8581\n",
      "Epoch 1/2\n",
      "266/266 [==============================] - 2s 4ms/step - loss: 0.4755 - accuracy: 0.8029 - val_loss: 0.3456 - val_accuracy: 0.8484\n",
      "Epoch 2/2\n",
      "266/266 [==============================] - 1s 4ms/step - loss: 0.3175 - accuracy: 0.8652 - val_loss: 0.3313 - val_accuracy: 0.8556\n",
      "1537/1537 - 2s - loss: 0.3455 - accuracy: 0.8510\n",
      "RNN_with_2_epochs의 loss는 0.3515, accuracy는 84.85%\n",
      "CNN_with_2_epochs의 loss는 0.3320, accuracy는 85.81%\n",
      "GlobalMaxPooling_with_2_epochs의 loss는 0.3455, accuracy는 85.10%\n"
     ]
    }
   ],
   "source": [
    "epochs=2     \n",
    "\n",
    "RNN_model_2 = RNN()\n",
    "CNN_model_2 = CNN()\n",
    "GlobalMaxPooling_model_2 = GlobalMaxPooling()\n",
    "\n",
    "models_2 = [RNN_model_2, CNN_model_2, GlobalMaxPooling_model_2]  # 모델 다발 생성\n",
    "\n",
    "loss = []\n",
    "accuracy = []\n",
    "i = 0\n",
    "\n",
    "for model in models_2:\n",
    "    \n",
    "    model.compile(optimizer='adam', loss='binary_crossentropy', metrics=['accuracy'])\n",
    "    model.fit(partial_X_train, partial_y_train, epochs=epochs, batch_size=512, validation_data=(X_val, y_val), verbose=1)\n",
    "    results = model.evaluate(X_test, y_test, verbose=2)\n",
    "    loss.append(results[0])\n",
    "    accuracy.append(results[1])\n",
    "\n",
    "acc_per = np.array(accuracy) * 100\n",
    "\n",
    "for model in models_2:\n",
    "    model_name = type(model).__name__\n",
    "    print(f\"{model_name}_with_2_epochs의 loss는 {loss[i]:.4f}, accuracy는 {acc_per[i]:.2f}%\")\n",
    "    i += 1"
   ]
  },
  {
   "cell_type": "markdown",
   "id": "f350a8ba",
   "metadata": {},
   "source": [
    "### (2) vanila models with 3 epochs"
   ]
  },
  {
   "cell_type": "code",
   "execution_count": 37,
   "id": "71ca343c",
   "metadata": {},
   "outputs": [
    {
     "name": "stdout",
     "output_type": "stream",
     "text": [
      "Epoch 1/3\n",
      "266/266 [==============================] - 3s 8ms/step - loss: 0.4532 - accuracy: 0.7979 - val_loss: 0.3511 - val_accuracy: 0.8496\n",
      "Epoch 2/3\n",
      "266/266 [==============================] - 2s 6ms/step - loss: 0.3294 - accuracy: 0.8611 - val_loss: 0.3370 - val_accuracy: 0.8546\n",
      "Epoch 3/3\n",
      "266/266 [==============================] - 2s 6ms/step - loss: 0.3038 - accuracy: 0.8743 - val_loss: 0.3306 - val_accuracy: 0.8576\n",
      "1537/1537 - 3s - loss: 0.3456 - accuracy: 0.8507\n",
      "Epoch 1/3\n",
      "266/266 [==============================] - 2s 6ms/step - loss: 0.4298 - accuracy: 0.7952 - val_loss: 0.3273 - val_accuracy: 0.8567\n",
      "Epoch 2/3\n",
      "266/266 [==============================] - 1s 5ms/step - loss: 0.2924 - accuracy: 0.8774 - val_loss: 0.3196 - val_accuracy: 0.8614\n",
      "Epoch 3/3\n",
      "266/266 [==============================] - 1s 5ms/step - loss: 0.2305 - accuracy: 0.9079 - val_loss: 0.3347 - val_accuracy: 0.8619\n",
      "1537/1537 - 3s - loss: 0.3495 - accuracy: 0.8559\n",
      "Epoch 1/3\n",
      "266/266 [==============================] - 2s 4ms/step - loss: 0.5172 - accuracy: 0.7573 - val_loss: 0.3558 - val_accuracy: 0.8479\n",
      "Epoch 2/3\n",
      "266/266 [==============================] - 1s 4ms/step - loss: 0.3249 - accuracy: 0.8626 - val_loss: 0.3324 - val_accuracy: 0.8545\n",
      "Epoch 3/3\n",
      "266/266 [==============================] - 1s 4ms/step - loss: 0.2798 - accuracy: 0.8843 - val_loss: 0.3347 - val_accuracy: 0.8536\n",
      "1537/1537 - 2s - loss: 0.3477 - accuracy: 0.8501\n",
      "RNN_with_3_epochs의 loss는 0.3456, accuracy는 85.07%\n",
      "CNN_with_3_epochs의 loss는 0.3495, accuracy는 85.59%\n",
      "GlobalMaxPooling_with_3_epochs의 loss는 0.3477, accuracy는 85.01%\n"
     ]
    }
   ],
   "source": [
    "epochs=3      # 놀랍게도 바닐라 버전 epoch 2~3에서 높은 성능들을 보여줬었다.\n",
    "\n",
    "RNN_model_3 = RNN()\n",
    "CNN_model_3 = CNN()\n",
    "GlobalMaxPooling_model_3 = GlobalMaxPooling()\n",
    "\n",
    "models_3 = [RNN_model_3, CNN_model_3, GlobalMaxPooling_model_3]  # 모델 다발 생성\n",
    "\n",
    "loss = []\n",
    "accuracy = []\n",
    "i = 0\n",
    "\n",
    "for model in models_3:\n",
    "    \n",
    "    model.compile(optimizer='adam', loss='binary_crossentropy', metrics=['accuracy'])\n",
    "    model.fit(partial_X_train, partial_y_train, epochs=epochs, batch_size=512, validation_data=(X_val, y_val), verbose=1)\n",
    "    results = model.evaluate(X_test, y_test, verbose=2)\n",
    "    loss.append(results[0])\n",
    "    accuracy.append(results[1])\n",
    "\n",
    "acc_per = np.array(accuracy) * 100\n",
    "\n",
    "for model in models_3:\n",
    "    model_name = type(model).__name__\n",
    "    print(f\"{model_name}_with_3_epochs의 loss는 {loss[i]:.4f}, accuracy는 {acc_per[i]:.2f}%\")\n",
    "    i += 1"
   ]
  },
  {
   "cell_type": "markdown",
   "id": "d810a486",
   "metadata": {},
   "source": [
    "## 결론\n",
    "\n",
    "- pretrained embedded layer를 통해서 성능 향상을 도모했으나 내 단순한 모델과 잘 어울리지 못한 것인지 바닐라 모델의 성능에 못 미치는 모습을 보였다.\n",
    "\n",
    "- 내 생각에는 pretrained embedded layer를 사용해야하는 경우는 복잡한 모델을 구성하고 그 성능을 끝까지 뽑아 내고나서 마지막에 fine-tunning의 stage에서 사용하는것이 옳은것 같다\n",
    "\n",
    "- 어울리지 못한 해결책은 오히려 기존 모델의 성능을 깎아 먹는다. \n",
    "\n",
    "- goal이 85%라면 vanila model에 epoch 3번 하는 정도로도 도달 할 수 있다."
   ]
  },
  {
   "cell_type": "code",
   "execution_count": null,
   "id": "3cfb1c04",
   "metadata": {},
   "outputs": [],
   "source": []
  }
 ],
 "metadata": {
  "kernelspec": {
   "display_name": "Python 3 (ipykernel)",
   "language": "python",
   "name": "python3"
  },
  "language_info": {
   "codemirror_mode": {
    "name": "ipython",
    "version": 3
   },
   "file_extension": ".py",
   "mimetype": "text/x-python",
   "name": "python",
   "nbconvert_exporter": "python",
   "pygments_lexer": "ipython3",
   "version": "3.9.7"
  }
 },
 "nbformat": 4,
 "nbformat_minor": 5
}
