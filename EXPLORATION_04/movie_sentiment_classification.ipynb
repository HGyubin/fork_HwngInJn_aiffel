{
 "cells": [
  {
   "cell_type": "markdown",
   "id": "d565985e",
   "metadata": {},
   "source": [
    "# Project 4: Naver movie sentiment classification\n",
    "\n",
    "\n",
    "- Rubric\n",
    "\n",
    "1. 다양한 방법으로 Text Classification 태스크를 성공적으로 구현하였다.\t3가지 이상의 모델이 성공적으로 시도됨\n",
    "2. gensim을 활용하여 자체학습된 혹은 사전학습된 임베딩 레이어를 분석하였다.\tgensim의 유사단어 찾기를 활용하여 자체학습한 임베딩과 사전학습 임베딩을 비교 분석함\n",
    "3. 한국어 Word2Vec을 활용하여 가시적인 성능향상을 달성했다.\t네이버 영화리뷰 데이터 감성분석 정확도를 85% 이상 달성함"
   ]
  },
  {
   "cell_type": "markdown",
   "id": "c859b76c",
   "metadata": {},
   "source": [
    "## Version check"
   ]
  },
  {
   "cell_type": "code",
   "execution_count": 76,
   "id": "6ad2c37e",
   "metadata": {},
   "outputs": [
    {
     "name": "stdout",
     "output_type": "stream",
     "text": [
      "1.3.3\n",
      "0.5.2\n",
      "4.1.2\n"
     ]
    }
   ],
   "source": [
    "import pandas as pd\n",
    "import konlpy\n",
    "import gensim\n",
    "\n",
    "print(pandas.__version__)\n",
    "print(konlpy.__version__)\n",
    "print(gensim.__version__)"
   ]
  },
  {
   "cell_type": "markdown",
   "id": "5d50086a",
   "metadata": {},
   "source": [
    "## 1) Data check"
   ]
  },
  {
   "cell_type": "code",
   "execution_count": 77,
   "id": "c0bd05a4",
   "metadata": {},
   "outputs": [
    {
     "data": {
      "text/html": [
       "<div>\n",
       "<style scoped>\n",
       "    .dataframe tbody tr th:only-of-type {\n",
       "        vertical-align: middle;\n",
       "    }\n",
       "\n",
       "    .dataframe tbody tr th {\n",
       "        vertical-align: top;\n",
       "    }\n",
       "\n",
       "    .dataframe thead th {\n",
       "        text-align: right;\n",
       "    }\n",
       "</style>\n",
       "<table border=\"1\" class=\"dataframe\">\n",
       "  <thead>\n",
       "    <tr style=\"text-align: right;\">\n",
       "      <th></th>\n",
       "      <th>id</th>\n",
       "      <th>document</th>\n",
       "      <th>label</th>\n",
       "    </tr>\n",
       "  </thead>\n",
       "  <tbody>\n",
       "    <tr>\n",
       "      <th>0</th>\n",
       "      <td>9976970</td>\n",
       "      <td>아 더빙.. 진짜 짜증나네요 목소리</td>\n",
       "      <td>0</td>\n",
       "    </tr>\n",
       "    <tr>\n",
       "      <th>1</th>\n",
       "      <td>3819312</td>\n",
       "      <td>흠...포스터보고 초딩영화줄....오버연기조차 가볍지 않구나</td>\n",
       "      <td>1</td>\n",
       "    </tr>\n",
       "    <tr>\n",
       "      <th>2</th>\n",
       "      <td>10265843</td>\n",
       "      <td>너무재밓었다그래서보는것을추천한다</td>\n",
       "      <td>0</td>\n",
       "    </tr>\n",
       "    <tr>\n",
       "      <th>3</th>\n",
       "      <td>9045019</td>\n",
       "      <td>교도소 이야기구먼 ..솔직히 재미는 없다..평점 조정</td>\n",
       "      <td>0</td>\n",
       "    </tr>\n",
       "    <tr>\n",
       "      <th>4</th>\n",
       "      <td>6483659</td>\n",
       "      <td>사이몬페그의 익살스런 연기가 돋보였던 영화!스파이더맨에서 늙어보이기만 했던 커스틴 ...</td>\n",
       "      <td>1</td>\n",
       "    </tr>\n",
       "  </tbody>\n",
       "</table>\n",
       "</div>"
      ],
      "text/plain": [
       "         id                                           document  label\n",
       "0   9976970                                아 더빙.. 진짜 짜증나네요 목소리      0\n",
       "1   3819312                  흠...포스터보고 초딩영화줄....오버연기조차 가볍지 않구나      1\n",
       "2  10265843                                  너무재밓었다그래서보는것을추천한다      0\n",
       "3   9045019                      교도소 이야기구먼 ..솔직히 재미는 없다..평점 조정      0\n",
       "4   6483659  사이몬페그의 익살스런 연기가 돋보였던 영화!스파이더맨에서 늙어보이기만 했던 커스틴 ...      1"
      ]
     },
     "execution_count": 77,
     "metadata": {},
     "output_type": "execute_result"
    }
   ],
   "source": [
    "# Read data\n",
    "\n",
    "train_data = pd.read_table('~/aiffel/sentiment_classification/data/ratings_train.txt')\n",
    "test_data = pd.read_table('~/aiffel/sentiment_classification/data/ratings_test.txt')\n",
    "\n",
    "train_data.head()"
   ]
  },
  {
   "cell_type": "code",
   "execution_count": 78,
   "id": "03324144",
   "metadata": {},
   "outputs": [
    {
     "name": "stdout",
     "output_type": "stream",
     "text": [
      "<class 'pandas.core.frame.DataFrame'>\n",
      "RangeIndex: 150000 entries, 0 to 149999\n",
      "Data columns (total 3 columns):\n",
      " #   Column    Non-Null Count   Dtype \n",
      "---  ------    --------------   ----- \n",
      " 0   id        150000 non-null  int64 \n",
      " 1   document  149995 non-null  object\n",
      " 2   label     150000 non-null  int64 \n",
      "dtypes: int64(2), object(1)\n",
      "memory usage: 3.4+ MB\n"
     ]
    }
   ],
   "source": [
    "train_data.info() # there are 5 nulls on document column"
   ]
  },
  {
   "cell_type": "markdown",
   "id": "1b7937b3",
   "metadata": {},
   "source": [
    "## 2) Create data loader\n",
    "* What it should contain\n",
    " #### data pre-pre-process part\n",
    " \n",
    "    - 데이터의 중복 제거\n",
    "    - NaN 결측치 제거\n",
    "    - 한국어 토크나이저로 토큰화\n",
    "    - 불용어(Stopwords) 제거\n",
    "    \n",
    " #### string to dictionary part\n",
    " \n",
    "    - 사전word_to_index 구성\n",
    "    - 텍스트 스트링을 사전 인덱스 스트링으로 변환\n",
    "    - X_train, y_train, X_test, y_test, word_to_index 리턴"
   ]
  },
  {
   "cell_type": "code",
   "execution_count": 79,
   "id": "e196311f",
   "metadata": {},
   "outputs": [],
   "source": [
    "# tools for tokenizer and stopwords\n",
    "from collections import Counter\n",
    "from konlpy.tag import Mecab\n",
    "import numpy as np\n",
    "\n",
    "tokenizer = Mecab()\n",
    "stopwords = ['의','가','이','은','들','는','좀','잘','걍','과','도','를','으로','자','에','와','한','하다']"
   ]
  },
  {
   "cell_type": "code",
   "execution_count": 80,
   "id": "1eafd7c8",
   "metadata": {},
   "outputs": [],
   "source": [
    "# data pre-pre-process part\n",
    "\n",
    "def process_data(data):\n",
    "    data.drop_duplicates(subset=['document'], inplace=True)  # 데이터 중복 제거\n",
    "    data = data.dropna(how = 'any')  # NaN 결측치 제거\n",
    "    processed_data = []   \n",
    "    for comment in data['document']:      # for each comments,\n",
    "        tokenized_comment = tokenizer.morphs(comment)  # 한국어 토크나이저로 토큰화\n",
    "        tokenized_comment = [token for token in tokenized_comment if not token in stopwords]  # 불용어(Stopwords) 제거\n",
    "        processed_data.append(tokenized_comment)   # gather processed data\n",
    "    return processed_data, np.array(list(data['label']))     # return words & target\n",
    "\n",
    "\n",
    "# string to dictionary part & load\n",
    "\n",
    "def load_data(train_data, test_data, num_words=10000):\n",
    "    \n",
    "    X_train, y_train = process_data(train_data)   # train data 전처리\n",
    "    X_test, y_test = process_data(test_data)      # test data 전처리\n",
    "    \n",
    "    words = np.concatenate(X_train).tolist()\n",
    "    counter = Counter(words)\n",
    "    counter = counter.most_common(num_words-4) # 가장 빈번한 단어 계산 + 특수 단어 4개 제외\n",
    "    vocab = ['<PAD>', '<BOS>', '<UNK>', '<UNUSED>'] + [key for key, _ in counter]\n",
    "    word_to_index = {word:index for index, word in enumerate(vocab)}\n",
    "    \n",
    "    def wordlist_to_indexlist(wordlist):    # 사전word_to_index 구성\n",
    "        return [word_to_index[word] if word in word_to_index else word_to_index['<UNK>'] for word in wordlist]  #unknown으로 반환\n",
    "        \n",
    "    X_train = list(map(wordlist_to_indexlist, X_train))\n",
    "    X_test = list(map(wordlist_to_indexlist, X_test))\n",
    "        \n",
    "    return X_train, y_train, X_test, y_test, word_to_index\n",
    "\n",
    "X_train, y_train, X_test, y_test, word_to_index = load_data(train_data, test_data)"
   ]
  },
  {
   "cell_type": "code",
   "execution_count": 81,
   "id": "87adba1f",
   "metadata": {},
   "outputs": [
    {
     "name": "stdout",
     "output_type": "stream",
     "text": [
      "146182 49157\n",
      "146182 49157\n",
      "[('<PAD>', 0), ('<BOS>', 1), ('<UNK>', 2), ('<UNUSED>', 3), ('.', 4), ('영화', 5), ('다', 6), ('고', 7), ('하', 8), ('을', 9)]\n"
     ]
    }
   ],
   "source": [
    " # X_train : type -list, y_train : type - np.array\n",
    "\n",
    "print(len(X_train), len(X_test)) \n",
    "print(len(y_train), len(y_test))\n",
    "print(list(word_to_index.items())[:10]) # stopwords에 '다','하','을'이 없어서 살아남은걸 볼 수 있다"
   ]
  },
  {
   "cell_type": "markdown",
   "id": "f39e9a45",
   "metadata": {},
   "source": [
    "## Word-index dict -> index-Word dict"
   ]
  },
  {
   "cell_type": "code",
   "execution_count": 82,
   "id": "de551871",
   "metadata": {},
   "outputs": [
    {
     "name": "stdout",
     "output_type": "stream",
     "text": [
      "[(0, '<PAD>'), (1, '<BOS>'), (2, '<UNK>'), (3, '<UNUSED>'), (4, '.'), (5, '영화'), (6, '다'), (7, '고'), (8, '하'), (9, '을')]\n"
     ]
    }
   ],
   "source": [
    "# key - contents 의 역전\n",
    "index_to_word = {index:word for word, index in word_to_index.items()}\n",
    "\n",
    "print(list(index_to_word.items())[:10]) "
   ]
  },
  {
   "cell_type": "markdown",
   "id": "6130283a",
   "metadata": {},
   "source": [
    "## Encoding & Decoding functions for comments"
   ]
  },
  {
   "cell_type": "code",
   "execution_count": 83,
   "id": "74ebbca5",
   "metadata": {},
   "outputs": [],
   "source": [
    "# 문장 1개를 활용할 딕셔너리와 함께 주면, 단어 인덱스 리스트 벡터로 변환해 주는 함수입니다. \n",
    "# 단, 모든 문장은 <BOS>로 시작하는 것으로 합니다. \n",
    "def get_encoded_sentence(sentence, word_to_index):\n",
    "    return [word_to_index['<BOS>']]+[word_to_index[word] if word in word_to_index else word_to_index['<UNK>'] for word in sentence.split()]\n",
    "\n",
    "# 여러 개의 문장 리스트를 한꺼번에 단어 인덱스 리스트 벡터로 encode해 주는 함수입니다. \n",
    "def get_encoded_sentences(sentences, word_to_index):\n",
    "    return [get_encoded_sentence(sentence, word_to_index) for sentence in sentences]\n",
    "\n",
    "# 숫자 벡터로 encode된 문장을 원래대로 decode하는 함수입니다. \n",
    "def get_decoded_sentence(encoded_sentence, index_to_word):\n",
    "    return ' '.join(index_to_word[index] if index in index_to_word else '<UNK>' for index in encoded_sentence[1:])  #[1:]를 통해 <BOS>를 제외\n",
    "\n",
    "# 여러 개의 숫자 벡터로 encode된 문장을 한꺼번에 원래대로 decode하는 함수입니다. \n",
    "def get_decoded_sentences(encoded_sentences, index_to_word):\n",
    "    return [get_decoded_sentence(encoded_sentence, index_to_word) for encoded_sentence in encoded_sentences]"
   ]
  },
  {
   "cell_type": "markdown",
   "id": "907f35d9",
   "metadata": {},
   "source": [
    "## 3) Data analysis and engineering\n",
    "\n",
    "- 데이터셋 내 문장 길이 분포\n",
    "- 적절한 최대 문장 길이 지정\n",
    "- keras.preprocessing.sequence.pad_sequences 을 활용한 패딩 추가"
   ]
  },
  {
   "cell_type": "code",
   "execution_count": 84,
   "id": "144531cf",
   "metadata": {},
   "outputs": [
    {
     "name": "stdout",
     "output_type": "stream",
     "text": [
      "max number of words:  116\n",
      "[(7, 12441), (8, 11822), (6, 11741), (9, 10907), (10, 10287), (5, 9580), (11, 9531), (12, 8928), (13, 8253), (14, 7868), (15, 7440), (4, 6936), (16, 6823), (17, 6258), (18, 5535), (3, 4951), (19, 4869), (20, 4312), (21, 3746), (22, 3136), (23, 2653), (2, 2554), (24, 2242), (25, 1993), (26, 1688), (27, 1512), (28, 1376), (29, 1270), (30, 1241), (31, 1108), (32, 1074), (1, 1015), (34, 951), (33, 947), (35, 927), (37, 854), (36, 814), (38, 763), (40, 728), (39, 714)]\n"
     ]
    },
    {
     "data": {
      "image/png": "[encoded data removed]",
      "text/plain": [
       "<Figure size 432x288 with 1 Axes>"
      ]
     },
     "metadata": {
      "needs_background": "light"
     },
     "output_type": "display_data"
    }
   ],
   "source": [
    "import seaborn as sns\n",
    "import matplotlib.pyplot as plt\n",
    "\n",
    "total_list = X_train + X_test\n",
    "words_in_X = [len(s) for s in total_list]\n",
    "print('max number of words: ', max(words_in_X))\n",
    "print(Counter(words_in_X).most_common(40))\n",
    "\n",
    "plt.title('word # in each sentence')\n",
    "sns.kdeplot(data= words_in_X)\n",
    "plt.annotate('Select Here', xy=(40, 0), xytext=(50, 0.01), arrowprops=dict(facecolor='black', shrink=0.05))\n",
    "plt.show()\n"
   ]
  },
  {
   "cell_type": "markdown",
   "id": "c78ee2d8",
   "metadata": {},
   "source": [
    "- max token selection : 40"
   ]
  },
  {
   "cell_type": "code",
   "execution_count": 85,
   "id": "c8cecfee",
   "metadata": {},
   "outputs": [],
   "source": [
    "max_tokens = 40"
   ]
  },
  {
   "cell_type": "markdown",
   "id": "42495f63",
   "metadata": {},
   "source": [
    "### Set sentences into length of max_tokens"
   ]
  },
  {
   "cell_type": "code",
   "execution_count": 86,
   "id": "251d575d",
   "metadata": {},
   "outputs": [
    {
     "name": "stdout",
     "output_type": "stream",
     "text": [
      "(146182, 40)\n",
      "<class 'numpy.ndarray'>\n",
      "[[   0    0    0    0    0    0    0    0    0    0    0    0    0    0\n",
      "     0    0    0    0    0    0    0    0    0    0    0    0    0    0\n",
      "     0    0   32   74  919    4    4   39  228   20   33  748]\n",
      " [   0    0    0    0    0    0    0    0    0    0    0    0    0    0\n",
      "     0    0    0    0    0    0    0    0    0 1028    4   11  519  549\n",
      "   687    5  120    4   70 1639   52  925 1006   15   44  391]\n",
      " [   0    0    0    0    0    0    0    0    0    0    0    0    0    0\n",
      "     0    0    0    0    0    0    0    0    0    0    0    0    0    0\n",
      "     0    0    0    0    0    0    0    0    0   24  205    2]\n",
      " [   0    0    0    0    0    0    0    0    0    0    0    0    0    0\n",
      "     0    0    0    0    0    0    0    0    0    0    0    0    0 8409\n",
      "   158 3925    4    4  298   94   17    6    4    4   58 3479]\n",
      " [   0    0    0    0    0    0    0    0    0    0    0    0    0    0\n",
      "     0    0    0    2 8894 1108   52 2832   60    5   14 2758   41 1188\n",
      "    35  351   42   22   40   60    2    2  427 3102 1766    6]\n",
      " [   0    0    0    0    0    0    0    0    0    0    0    0    0    0\n",
      "     0    0  675    2    2  131  420  185 1547  712   65 1694  715   53\n",
      "   375  192  271    5    4   69    4   11 2179  122  750    4]\n",
      " [   0    0    0    0    0    0    0    0    0    0    0    0    0    0\n",
      "     0    0    0    0    0    0    0    0    0    0    0    0    0    0\n",
      "     0    0  253  381    9  384 2012   55   15  817    6    4]\n",
      " [   6  425  756    2    2   52 1532  290   99  250    4    4   28  855\n",
      "    29  353  652  540  509  583    6 3318    4 8895   22 1460 1460    4\n",
      "     4   71  304   17    6   52  104    8   77   22    2   43]\n",
      " [   0    0    0    0    0    0    0    0    0    0    0    0    0    0\n",
      "     0    0    0    0    0    0    0    0    0    0    0    0    0    0\n",
      "     0    0    0  128   17   23   94   16  290   27   48    5]\n",
      " [   0    0    0    0    0    0    0    0    0    0    0    0    0    0\n",
      "     0    0    0    0    0   63  656   58  240  760   18  574   89    2\n",
      "     4    4 1482  637  736   81   22   24    2   16   20   18]]\n"
     ]
    }
   ],
   "source": [
    "# 최대길이(max_tokens)에 맞춰서 긴 문장은 잘라내고, 부족한 것은 앞에 공백 덭대기\n",
    "from tensorflow.keras.preprocessing.sequence import pad_sequences\n",
    "\n",
    "X_train = pad_sequences(X_train, value=word_to_index[\"<PAD>\"], padding='pre', maxlen=max_tokens)\n",
    "\n",
    "X_test = pad_sequences(X_test, value=word_to_index[\"<PAD>\"], padding='pre', maxlen=max_tokens)\n",
    "\n",
    "print(X_train.shape)\n",
    "print(type(X_train))\n",
    "print(X_train[:10])\n",
    "# 'pre' 에 pad를 덭대는 이유는 rnn계열의 신경망은 나중에 들어오는 \n",
    "# input에 대해서 강하게 영향 받기 때문"
   ]
  },
  {
   "cell_type": "markdown",
   "id": "076543fc",
   "metadata": {},
   "source": [
    "## 4) 모델 구성 및 validation set 구성\n",
    "\n"
   ]
  },
  {
   "cell_type": "code",
   "execution_count": null,
   "id": "8722df5d",
   "metadata": {},
   "outputs": [],
   "source": [
    "vocab_size = 10000       # 단어 주머니 10000개\n",
    "word_vector_dim = 50     # 각 토큰별 특성 갯수"
   ]
  },
  {
   "cell_type": "markdown",
   "id": "70c27d3d",
   "metadata": {},
   "source": [
    "### 1. RNN model (LSTM)"
   ]
  },
  {
   "cell_type": "code",
   "execution_count": 158,
   "id": "58bbee7f",
   "metadata": {},
   "outputs": [],
   "source": [
    "import tensorflow as tf\n",
    "\n",
    "class RNN(tf.keras.Model):\n",
    "    def __init__(self):\n",
    "        super(RNN, self).__init__()\n",
    "        \n",
    "        self.embedding_layer = tf.keras.layers.Embedding(vocab_size, word_vector_dim)\n",
    "        self.lstm_layer = tf.keras.layers.LSTM(8)\n",
    "        self.dense_layer1 = tf.keras.layers.Dense(8, activation='relu')\n",
    "        self.dense_layer2 = tf.keras.layers.Dense(1, activation='sigmoid')\n",
    "        \n",
    "    def call(self, inputs):\n",
    "        x = self.embedding_layer(inputs)\n",
    "        x = self.lstm_layer(x)\n",
    "        x = self.dense_layer1(x)\n",
    "        x = self.dense_layer2(x)\n",
    "        return x"
   ]
  },
  {
   "cell_type": "markdown",
   "id": "a7e169e7",
   "metadata": {},
   "source": [
    "### 2. 1-D CNN model"
   ]
  },
  {
   "cell_type": "code",
   "execution_count": 159,
   "id": "92aca626",
   "metadata": {},
   "outputs": [],
   "source": [
    "class CNN(tf.keras.Model):\n",
    "    def __init__(self):\n",
    "        super(CNN, self).__init__()\n",
    "        \n",
    "        self.embedding_layer = tf.keras.layers.Embedding(vocab_size, word_vector_dim, input_shape=(None,))\n",
    "        self.conv1d_layer1 = tf.keras.layers.Conv1D(16, 6, strides=1, activation='relu')\n",
    "        self.maxpooling1d_layer = tf.keras.layers.MaxPooling1D(5)\n",
    "        self.conv1d_layer2 = tf.keras.layers.Conv1D(32, 6, strides=1, activation='relu')\n",
    "        self.globalmaxpooling1d_layer = tf.keras.layers.GlobalMaxPooling1D()\n",
    "        self.dense_layer1 = tf.keras.layers.Dense(32, activation='relu')\n",
    "        self.dense_layer2 = tf.keras.layers.Dense(1, activation='sigmoid')\n",
    "        \n",
    "    def call(self, inputs):\n",
    "        x = self.embedding_layer(inputs)\n",
    "        x = self.conv1d_layer1(x)\n",
    "        x = self.maxpooling1d_layer(x)\n",
    "        x = self.conv1d_layer2(x)\n",
    "        x = self.globalmaxpooling1d_layer(x)\n",
    "        x = self.dense_layer1(x)\n",
    "        x = self.dense_layer2(x)\n",
    "        return x"
   ]
  },
  {
   "cell_type": "markdown",
   "id": "fcd8218a",
   "metadata": {},
   "source": [
    "### 3. GlobalMaxPooling1D"
   ]
  },
  {
   "cell_type": "code",
   "execution_count": 160,
   "id": "ebdd25e9",
   "metadata": {},
   "outputs": [],
   "source": [
    "class GlobalMaxPooling(tf.keras.Model):\n",
    "    def __init__(self):\n",
    "        super(GlobalMaxPooling, self).__init__()\n",
    "        \n",
    "        self.embedding_layer = tf.keras.layers.Embedding(vocab_size, word_vector_dim, input_shape=(None,))\n",
    "        self.globalmaxpooling1d_layer = tf.keras.layers.GlobalMaxPooling1D()\n",
    "        self.dense_layer1 = tf.keras.layers.Dense(8, activation='relu')\n",
    "        self.dense_layer2 = tf.keras.layers.Dense(1, activation='sigmoid')\n",
    "        \n",
    "    def call(self, inputs):\n",
    "        x = self.embedding_layer(inputs)\n",
    "        x = self.globalmaxpooling1d_layer(x)\n",
    "        x = self.dense_layer1(x)\n",
    "        x = self.dense_layer2(x)\n",
    "        return x"
   ]
  },
  {
   "cell_type": "markdown",
   "id": "56cff961",
   "metadata": {},
   "source": [
    "### Validation set 구성\n",
    "훈련용 데이터셋 25000건 중 10000건을 분리하여 검증셋(validation set)으로 사용"
   ]
  },
  {
   "cell_type": "code",
   "execution_count": 161,
   "id": "ede211b8",
   "metadata": {},
   "outputs": [
    {
     "name": "stdout",
     "output_type": "stream",
     "text": [
      "(136182, 40)\n",
      "(136182,)\n"
     ]
    }
   ],
   "source": [
    "# validation set 10000건 분리\n",
    "X_val = X_train[:10000]   \n",
    "y_val = y_train[:10000]\n",
    "\n",
    "# validation set을 제외한 나머지 15000건\n",
    "partial_X_train = X_train[10000:]  \n",
    "partial_y_train = y_train[10000:]\n",
    "\n",
    "print(partial_X_train.shape)\n",
    "print(partial_y_train.shape)"
   ]
  },
  {
   "cell_type": "markdown",
   "id": "c55e1f8c",
   "metadata": {},
   "source": [
    "## 5) 모델 훈련 개시"
   ]
  },
  {
   "cell_type": "code",
   "execution_count": 162,
   "id": "41f7a3bb",
   "metadata": {},
   "outputs": [
    {
     "name": "stdout",
     "output_type": "stream",
     "text": [
      "Model: \"rnn_6\"\n",
      "_________________________________________________________________\n",
      "Layer (type)                 Output Shape              Param #   \n",
      "=================================================================\n",
      "embedding_18 (Embedding)     multiple                  1000000   \n",
      "_________________________________________________________________\n",
      "lstm_6 (LSTM)                multiple                  3488      \n",
      "_________________________________________________________________\n",
      "dense_36 (Dense)             multiple                  72        \n",
      "_________________________________________________________________\n",
      "dense_37 (Dense)             multiple                  9         \n",
      "=================================================================\n",
      "Total params: 1,003,569\n",
      "Trainable params: 1,003,569\n",
      "Non-trainable params: 0\n",
      "_________________________________________________________________\n",
      "Model: \"cnn_6\"\n",
      "_________________________________________________________________\n",
      "Layer (type)                 Output Shape              Param #   \n",
      "=================================================================\n",
      "embedding_19 (Embedding)     multiple                  1000000   \n",
      "_________________________________________________________________\n",
      "conv1d_12 (Conv1D)           multiple                  9616      \n",
      "_________________________________________________________________\n",
      "max_pooling1d_6 (MaxPooling1 multiple                  0         \n",
      "_________________________________________________________________\n",
      "conv1d_13 (Conv1D)           multiple                  3104      \n",
      "_________________________________________________________________\n",
      "global_max_pooling1d_12 (Glo multiple                  0         \n",
      "_________________________________________________________________\n",
      "dense_38 (Dense)             multiple                  1056      \n",
      "_________________________________________________________________\n",
      "dense_39 (Dense)             multiple                  33        \n",
      "=================================================================\n",
      "Total params: 1,013,809\n",
      "Trainable params: 1,013,809\n",
      "Non-trainable params: 0\n",
      "_________________________________________________________________\n",
      "Model: \"global_max_pooling_6\"\n",
      "_________________________________________________________________\n",
      "Layer (type)                 Output Shape              Param #   \n",
      "=================================================================\n",
      "embedding_20 (Embedding)     multiple                  1000000   \n",
      "_________________________________________________________________\n",
      "global_max_pooling1d_13 (Glo multiple                  0         \n",
      "_________________________________________________________________\n",
      "dense_40 (Dense)             multiple                  808       \n",
      "_________________________________________________________________\n",
      "dense_41 (Dense)             multiple                  9         \n",
      "=================================================================\n",
      "Total params: 1,000,817\n",
      "Trainable params: 1,000,817\n",
      "Non-trainable params: 0\n",
      "_________________________________________________________________\n"
     ]
    }
   ],
   "source": [
    "RNN_model = RNN()\n",
    "CNN_model = CNN()\n",
    "GlobalMaxPooling_model = GlobalMaxPooling()\n",
    "\n",
    "models = [RNN_model, CNN_model, GlobalMaxPooling_model]  # 모델 다발 생성\n",
    "\n",
    "for model in models:\n",
    "    model.build(input_shape=(512, 40))  # input_shape (batch size, token length)\n",
    "    model.summary()"
   ]
  },
  {
   "cell_type": "code",
   "execution_count": 163,
   "id": "25ecdb8c",
   "metadata": {},
   "outputs": [
    {
     "name": "stdout",
     "output_type": "stream",
     "text": [
      "Epoch 1/20\n",
      "266/266 [==============================] - 4s 7ms/step - loss: 0.4480 - accuracy: 0.7972 - val_loss: 0.3476 - val_accuracy: 0.8497\n",
      "Epoch 2/20\n",
      "266/266 [==============================] - 2s 6ms/step - loss: 0.3276 - accuracy: 0.8630 - val_loss: 0.3367 - val_accuracy: 0.8511\n",
      "Epoch 3/20\n",
      "266/266 [==============================] - 2s 6ms/step - loss: 0.3012 - accuracy: 0.8752 - val_loss: 0.3398 - val_accuracy: 0.8553\n",
      "Epoch 4/20\n",
      "266/266 [==============================] - 2s 6ms/step - loss: 0.2809 - accuracy: 0.8855 - val_loss: 0.3424 - val_accuracy: 0.8556\n",
      "Epoch 5/20\n",
      "266/266 [==============================] - 2s 6ms/step - loss: 0.2625 - accuracy: 0.8941 - val_loss: 0.3434 - val_accuracy: 0.8552\n",
      "Epoch 6/20\n",
      "266/266 [==============================] - 2s 6ms/step - loss: 0.2449 - accuracy: 0.9012 - val_loss: 0.3527 - val_accuracy: 0.8563\n",
      "Epoch 7/20\n",
      "266/266 [==============================] - 2s 6ms/step - loss: 0.2273 - accuracy: 0.9089 - val_loss: 0.3591 - val_accuracy: 0.8546\n",
      "Epoch 8/20\n",
      "266/266 [==============================] - 2s 6ms/step - loss: 0.2103 - accuracy: 0.9162 - val_loss: 0.3795 - val_accuracy: 0.8521\n",
      "Epoch 9/20\n",
      "266/266 [==============================] - 2s 6ms/step - loss: 0.1960 - accuracy: 0.9230 - val_loss: 0.3826 - val_accuracy: 0.8523\n",
      "Epoch 10/20\n",
      "266/266 [==============================] - 2s 6ms/step - loss: 0.1810 - accuracy: 0.9300 - val_loss: 0.4096 - val_accuracy: 0.8498\n",
      "Epoch 11/20\n",
      "266/266 [==============================] - 2s 6ms/step - loss: 0.1688 - accuracy: 0.9358 - val_loss: 0.4237 - val_accuracy: 0.8477\n",
      "Epoch 12/20\n",
      "266/266 [==============================] - 2s 6ms/step - loss: 0.1558 - accuracy: 0.9413 - val_loss: 0.4699 - val_accuracy: 0.8460\n",
      "Epoch 13/20\n",
      "266/266 [==============================] - 2s 6ms/step - loss: 0.1453 - accuracy: 0.9461 - val_loss: 0.4874 - val_accuracy: 0.8447\n",
      "Epoch 14/20\n",
      "266/266 [==============================] - 2s 6ms/step - loss: 0.1342 - accuracy: 0.9511 - val_loss: 0.5125 - val_accuracy: 0.8429\n",
      "Epoch 15/20\n",
      "266/266 [==============================] - 2s 6ms/step - loss: 0.1259 - accuracy: 0.9547 - val_loss: 0.5402 - val_accuracy: 0.8430\n",
      "Epoch 16/20\n",
      "266/266 [==============================] - 2s 6ms/step - loss: 0.1184 - accuracy: 0.9576 - val_loss: 0.5736 - val_accuracy: 0.8429\n",
      "Epoch 17/20\n",
      "266/266 [==============================] - 2s 6ms/step - loss: 0.1115 - accuracy: 0.9606 - val_loss: 0.5990 - val_accuracy: 0.8398\n",
      "Epoch 18/20\n",
      "266/266 [==============================] - 2s 6ms/step - loss: 0.1052 - accuracy: 0.9632 - val_loss: 0.6243 - val_accuracy: 0.8394\n",
      "Epoch 19/20\n",
      "266/266 [==============================] - 2s 6ms/step - loss: 0.0974 - accuracy: 0.9661 - val_loss: 0.6489 - val_accuracy: 0.8387\n",
      "Epoch 20/20\n",
      "266/266 [==============================] - 2s 6ms/step - loss: 0.0924 - accuracy: 0.9676 - val_loss: 0.6443 - val_accuracy: 0.8380\n",
      "Epoch 1/20\n",
      "266/266 [==============================] - 4s 7ms/step - loss: 0.4390 - accuracy: 0.7826 - val_loss: 0.3359 - val_accuracy: 0.8515\n",
      "Epoch 2/20\n",
      "266/266 [==============================] - 1s 5ms/step - loss: 0.2980 - accuracy: 0.8757 - val_loss: 0.3198 - val_accuracy: 0.8625\n",
      "Epoch 3/20\n",
      "266/266 [==============================] - 1s 5ms/step - loss: 0.2404 - accuracy: 0.9046 - val_loss: 0.3281 - val_accuracy: 0.8627\n",
      "Epoch 4/20\n",
      "266/266 [==============================] - 1s 5ms/step - loss: 0.1756 - accuracy: 0.9356 - val_loss: 0.3781 - val_accuracy: 0.8558\n",
      "Epoch 5/20\n",
      "266/266 [==============================] - 1s 5ms/step - loss: 0.1161 - accuracy: 0.9603 - val_loss: 0.4484 - val_accuracy: 0.8507\n",
      "Epoch 6/20\n",
      "266/266 [==============================] - 1s 5ms/step - loss: 0.0760 - accuracy: 0.9754 - val_loss: 0.5328 - val_accuracy: 0.8426\n",
      "Epoch 7/20\n",
      "266/266 [==============================] - 1s 5ms/step - loss: 0.0527 - accuracy: 0.9834 - val_loss: 0.6127 - val_accuracy: 0.8428\n",
      "Epoch 8/20\n",
      "266/266 [==============================] - 1s 5ms/step - loss: 0.0382 - accuracy: 0.9881 - val_loss: 0.7006 - val_accuracy: 0.8377\n",
      "Epoch 9/20\n",
      "266/266 [==============================] - 1s 5ms/step - loss: 0.0294 - accuracy: 0.9907 - val_loss: 0.7702 - val_accuracy: 0.8403\n",
      "Epoch 10/20\n",
      "266/266 [==============================] - 1s 5ms/step - loss: 0.0262 - accuracy: 0.9913 - val_loss: 0.8337 - val_accuracy: 0.8373\n",
      "Epoch 11/20\n",
      "266/266 [==============================] - 1s 5ms/step - loss: 0.0236 - accuracy: 0.9918 - val_loss: 0.9242 - val_accuracy: 0.8346\n",
      "Epoch 12/20\n",
      "266/266 [==============================] - 1s 5ms/step - loss: 0.0223 - accuracy: 0.9919 - val_loss: 0.9740 - val_accuracy: 0.8353\n",
      "Epoch 13/20\n",
      "266/266 [==============================] - 1s 5ms/step - loss: 0.0251 - accuracy: 0.9909 - val_loss: 1.0031 - val_accuracy: 0.8363\n",
      "Epoch 14/20\n",
      "266/266 [==============================] - 1s 5ms/step - loss: 0.0258 - accuracy: 0.9906 - val_loss: 1.0078 - val_accuracy: 0.8283\n",
      "Epoch 15/20\n",
      "266/266 [==============================] - 1s 5ms/step - loss: 0.0219 - accuracy: 0.9920 - val_loss: 1.0710 - val_accuracy: 0.8332\n",
      "Epoch 16/20\n",
      "266/266 [==============================] - 1s 5ms/step - loss: 0.0178 - accuracy: 0.9936 - val_loss: 1.1077 - val_accuracy: 0.8334\n",
      "Epoch 17/20\n",
      "266/266 [==============================] - 1s 5ms/step - loss: 0.0146 - accuracy: 0.9945 - val_loss: 1.1512 - val_accuracy: 0.8304\n",
      "Epoch 18/20\n",
      "266/266 [==============================] - 1s 5ms/step - loss: 0.0129 - accuracy: 0.9952 - val_loss: 1.2048 - val_accuracy: 0.8329\n",
      "Epoch 19/20\n",
      "266/266 [==============================] - 1s 5ms/step - loss: 0.0122 - accuracy: 0.9952 - val_loss: 1.2577 - val_accuracy: 0.8382\n",
      "Epoch 20/20\n",
      "266/266 [==============================] - 1s 5ms/step - loss: 0.0129 - accuracy: 0.9951 - val_loss: 1.2878 - val_accuracy: 0.8364\n",
      "Epoch 1/20\n",
      "266/266 [==============================] - 2s 4ms/step - loss: 0.4812 - accuracy: 0.7974 - val_loss: 0.3482 - val_accuracy: 0.8456\n",
      "Epoch 2/20\n",
      "266/266 [==============================] - 1s 4ms/step - loss: 0.3203 - accuracy: 0.8639 - val_loss: 0.3323 - val_accuracy: 0.8556\n",
      "Epoch 3/20\n",
      "266/266 [==============================] - 1s 4ms/step - loss: 0.2776 - accuracy: 0.8858 - val_loss: 0.3366 - val_accuracy: 0.8564\n",
      "Epoch 4/20\n",
      "266/266 [==============================] - 1s 4ms/step - loss: 0.2438 - accuracy: 0.9025 - val_loss: 0.3457 - val_accuracy: 0.8557\n",
      "Epoch 5/20\n",
      "266/266 [==============================] - 1s 4ms/step - loss: 0.2114 - accuracy: 0.9185 - val_loss: 0.3620 - val_accuracy: 0.8521\n",
      "Epoch 6/20\n",
      "266/266 [==============================] - 1s 4ms/step - loss: 0.1792 - accuracy: 0.9337 - val_loss: 0.3850 - val_accuracy: 0.8508\n",
      "Epoch 7/20\n",
      "266/266 [==============================] - 1s 4ms/step - loss: 0.1484 - accuracy: 0.9477 - val_loss: 0.4172 - val_accuracy: 0.8484\n",
      "Epoch 8/20\n",
      "266/266 [==============================] - 1s 4ms/step - loss: 0.1200 - accuracy: 0.9607 - val_loss: 0.4500 - val_accuracy: 0.8411\n",
      "Epoch 9/20\n",
      "266/266 [==============================] - 1s 4ms/step - loss: 0.0952 - accuracy: 0.9710 - val_loss: 0.4892 - val_accuracy: 0.8398\n",
      "Epoch 10/20\n",
      "266/266 [==============================] - 1s 4ms/step - loss: 0.0753 - accuracy: 0.9782 - val_loss: 0.5281 - val_accuracy: 0.8388\n",
      "Epoch 11/20\n",
      "266/266 [==============================] - 1s 4ms/step - loss: 0.0586 - accuracy: 0.9842 - val_loss: 0.5742 - val_accuracy: 0.8339\n",
      "Epoch 12/20\n",
      "266/266 [==============================] - 1s 4ms/step - loss: 0.0462 - accuracy: 0.9878 - val_loss: 0.6156 - val_accuracy: 0.8338\n",
      "Epoch 13/20\n",
      "266/266 [==============================] - 1s 4ms/step - loss: 0.0367 - accuracy: 0.9905 - val_loss: 0.6597 - val_accuracy: 0.8318\n",
      "Epoch 14/20\n",
      "266/266 [==============================] - 1s 4ms/step - loss: 0.0294 - accuracy: 0.9927 - val_loss: 0.6990 - val_accuracy: 0.8302\n",
      "Epoch 15/20\n",
      "266/266 [==============================] - 1s 4ms/step - loss: 0.0235 - accuracy: 0.9937 - val_loss: 0.7385 - val_accuracy: 0.8287\n",
      "Epoch 16/20\n",
      "266/266 [==============================] - 1s 4ms/step - loss: 0.0193 - accuracy: 0.9948 - val_loss: 0.7743 - val_accuracy: 0.8283\n",
      "Epoch 17/20\n",
      "266/266 [==============================] - 1s 4ms/step - loss: 0.0162 - accuracy: 0.9954 - val_loss: 0.8108 - val_accuracy: 0.8277\n",
      "Epoch 18/20\n"
     ]
    },
    {
     "name": "stdout",
     "output_type": "stream",
     "text": [
      "266/266 [==============================] - 1s 4ms/step - loss: 0.0139 - accuracy: 0.9958 - val_loss: 0.8488 - val_accuracy: 0.8270\n",
      "Epoch 19/20\n",
      "266/266 [==============================] - 1s 4ms/step - loss: 0.0125 - accuracy: 0.9960 - val_loss: 0.8794 - val_accuracy: 0.8248\n",
      "Epoch 20/20\n",
      "266/266 [==============================] - 1s 4ms/step - loss: 0.0110 - accuracy: 0.9962 - val_loss: 0.9066 - val_accuracy: 0.8274\n"
     ]
    }
   ],
   "source": [
    "epochs=20\n",
    "rnn_history = None\n",
    "cnn_history = None\n",
    "max_history = None\n",
    "for model in models:\n",
    "    \n",
    "    model.compile(optimizer='adam', loss='binary_crossentropy', metrics=['accuracy'])\n",
    "    history = model.fit(partial_X_train, partial_y_train, epochs=epochs, batch_size=512, validation_data=(X_val, y_val), verbose=1)\n",
    "    if model == RNN_model:\n",
    "        rnn_history = history.history.copy()\n",
    "    elif model == CNN_model:\n",
    "        cnn_history = history.history.copy()\n",
    "    else:\n",
    "        max_history = history.history.copy()"
   ]
  },
  {
   "cell_type": "markdown",
   "id": "586d7df2",
   "metadata": {},
   "source": [
    "### 각 모델에 대한 평가 (evaluation)"
   ]
  },
  {
   "cell_type": "code",
   "execution_count": 174,
   "id": "c4a43eff",
   "metadata": {},
   "outputs": [
    {
     "name": "stdout",
     "output_type": "stream",
     "text": [
      "1537/1537 - 3s - loss: 0.6253 - accuracy: 0.8397\n",
      "1537/1537 - 3s - loss: 1.3340 - accuracy: 0.8292\n",
      "1537/1537 - 2s - loss: 0.8945 - accuracy: 0.8262\n",
      "RNN의 loss는 0.6253, accuracy는 83.97%\n",
      "CNN의 loss는 1.3340, accuracy는 82.92%\n",
      "GlobalMaxPooling의 loss는 0.8945, accuracy는 82.62%\n"
     ]
    }
   ],
   "source": [
    "loss = []\n",
    "accuracy = []\n",
    "i = 0\n",
    "\n",
    "for model in models:\n",
    "    results = model.evaluate(X_test, y_test, verbose=2)\n",
    "    loss.append(results[0])\n",
    "    accuracy.append(results[1])\n",
    "\n",
    "acc_per = np.array(accuracy) * 100\n",
    "\n",
    "for model in models:\n",
    "    model_name = type(model).__name__\n",
    "    print(f\"{model_name}의 loss는 {loss[i]:.4f}, accuracy는 {acc_per[i]:.2f}%\")\n",
    "    i += 1"
   ]
  },
  {
   "cell_type": "markdown",
   "id": "7a1686a2",
   "metadata": {},
   "source": [
    "- RNN(LSTM) loss는 0.6253, accuracy는 83.97%\n",
    "- CNN(1-D) loss는 1.3340, accuracy는 82.92%\n",
    "- GlobalMaxPooling(1-D)의 loss는 0.8945, accuracy는 82.62%\n",
    "\n",
    "accuracy < 85% (need better model)"
   ]
  },
  {
   "cell_type": "markdown",
   "id": "93a59b96",
   "metadata": {},
   "source": [
    "## 6) Loss, Accuracy 그래프 시각화"
   ]
  },
  {
   "cell_type": "code",
   "execution_count": 175,
   "id": "16441432",
   "metadata": {},
   "outputs": [],
   "source": [
    "histories = [rnn_history, cnn_history, max_history]"
   ]
  },
  {
   "cell_type": "code",
   "execution_count": 184,
   "id": "99da8067",
   "metadata": {},
   "outputs": [
    {
     "data": {
      "image/png": "[encoded data removed]",
      "text/plain": [
       "<Figure size 720x360 with 2 Axes>"
      ]
     },
     "metadata": {
      "needs_background": "light"
     },
     "output_type": "display_data"
    },
    {
     "data": {
      "image/png": "[encoded data removed]",
      "text/plain": [
       "<Figure size 720x360 with 2 Axes>"
      ]
     },
     "metadata": {
      "needs_background": "light"
     },
     "output_type": "display_data"
    },
    {
     "data": {
      "image/png": "[encoded data removed]",
      "text/plain": [
       "<Figure size 720x360 with 2 Axes>"
      ]
     },
     "metadata": {
      "needs_background": "light"
     },
     "output_type": "display_data"
    }
   ],
   "source": [
    "titles = ['RNN', 'CNN', 'MaxPooling']\n",
    "for i, history in enumerate(histories):\n",
    "    acc = history['accuracy']\n",
    "    val_acc = history['val_accuracy']\n",
    "    loss = history['loss']\n",
    "    val_loss = history['val_loss']\n",
    "\n",
    "    epochs = range(1, len(acc) + 1)\n",
    "\n",
    "     # 그래프 크기를 조절\n",
    "    plt.figure(figsize=(10, 5))\n",
    "\n",
    "    \n",
    "    plt.subplot(1, 2, 1)\n",
    "    # \"bo\" 파란점\n",
    "    plt.plot(epochs, loss, 'bo', label='Training loss')\n",
    "    # \"b\" 파란선\n",
    "    plt.plot(epochs, val_loss, 'b', label='Validation loss')\n",
    "    plt.title(titles[i] + ' Training and validation loss')\n",
    "    plt.xlabel('Epochs')\n",
    "    plt.ylabel('Loss')\n",
    "    plt.xticks(range(1, len(epochs) + 1))  # 에포크를 정수로 표시\n",
    "    plt.legend()\n",
    "\n",
    "    plt.subplot(1, 2, 2)\n",
    "    # \"bo\" 파란점\n",
    "    plt.plot(epochs, acc, 'bo', label='Training accuracy')\n",
    "    # \"b\" 파란선\n",
    "    plt.plot(epochs, val_acc, 'b', label='Validation accuracy')\n",
    "    plt.title(titles[i] + ' Training and validation accuracy')\n",
    "    plt.xlabel('Epochs')\n",
    "    plt.ylabel('Accuracy')\n",
    "    plt.xticks(range(1, len(epochs) + 1))  # 에포크를 정수로 표시\n",
    "    plt.legend()\n",
    "\n",
    "    plt.tight_layout()\n",
    "    plt.show()\n"
   ]
  },
  {
   "cell_type": "markdown",
   "id": "c7306a85",
   "metadata": {},
   "source": [
    "이미 에포크 2~3 쯤에서 train과 validation이 이별하고 있다, 괴리가 커지고 있다, overfitting 되고 있다"
   ]
  },
  {
   "cell_type": "markdown",
   "id": "5c2d7e29",
   "metadata": {},
   "source": [
    "## 7) 학습된 Embedding 레이어 분석"
   ]
  },
  {
   "cell_type": "code",
   "execution_count": 189,
   "id": "9c334ad7",
   "metadata": {},
   "outputs": [
    {
     "name": "stdout",
     "output_type": "stream",
     "text": [
      "embedding layer RNN :  (10000, 100)\n",
      "embedding layer CNN :  (10000, 100)\n",
      "embedding layer GlobalMaxPooling :  (10000, 100)\n"
     ]
    }
   ],
   "source": [
    "for model in models:\n",
    "    embedding_layer = model.layers[0]\n",
    "    weights = embedding_layer.get_weights()[0]\n",
    "    model_name = type(model).__name__\n",
    "    print('embedding layer', model_name , ': ',weights.shape)"
   ]
  },
  {
   "cell_type": "code",
   "execution_count": 192,
   "id": "a0fea1de",
   "metadata": {},
   "outputs": [],
   "source": [
    "def save_embedding_parameters(models, titles, index_to_word, vocab_size, word_vector_dim):\n",
    "    for i, model in enumerate(models):\n",
    "        # 학습한 Embedding 파라미터를 파일에 써서 저장합니다.\n",
    "        word2vec_file_path = f'./data/word2vec_{titles[i]}.txt'\n",
    "        f = open(word2vec_file_path, 'w')\n",
    "        f.write('{} {}\\n'.format(vocab_size-4, word_vector_dim))  # 몇개의 벡터를 얼마 사이즈로 기재할지 타이틀을 씁니다.\n",
    "\n",
    "        # 단어 개수(에서 특수문자 4개는 제외하고)만큼의 워드 벡터를 파일에 기록합니다.\n",
    "        vectors = model.get_weights()[0]\n",
    "        for i in range(4, vocab_size):\n",
    "            f.write('{} {}\\n'.format(index_to_word[i], ' '.join(map(str, list(vectors[i, :])))))\n",
    "        f.close()\n",
    "        \n",
    "save_embedding_parameters(models, titles, index_to_word, vocab_size, word_vector_dim)"
   ]
  },
  {
   "cell_type": "code",
   "execution_count": 197,
   "id": "6ca51899",
   "metadata": {},
   "outputs": [
    {
     "name": "stdout",
     "output_type": "stream",
     "text": [
      "RNN <- 꿈\n",
      "[('쩔', 0.7698253393173218), ('구름', 0.7562309503555298), ('탁월', 0.7550910115242004), ('프리퀄', 0.7510617971420288), ('작살', 0.7483425736427307), ('인피니트', 0.7482423186302185), ('기다려', 0.7480387687683105), ('오스카', 0.7460688352584839), ('귀여워', 0.7449714541435242), ('작인', 0.7439958453178406)]\n",
      "CNN <- 꿈\n",
      "[('훈훈', 0.5020228624343872), ('광해', 0.4880295693874359), ('해적', 0.4731029272079468), ('헷', 0.46603095531463623), ('무장', 0.45536357164382935), ('계속', 0.4504358470439911), ('기에', 0.44984549283981323), ('저희', 0.44813358783721924), ('이제훈', 0.4414142370223999), ('미남', 0.4412880837917328)]\n",
      "MaxPooling <- 꿈\n",
      "[('최근', 0.6569418907165527), ('박진감', 0.6500723958015442), ('서', 0.633328914642334), ('기억', 0.6247753500938416), ('것', 0.6033563017845154), ('예요', 0.597682774066925), ('역사', 0.5888252854347229), ('대한', 0.5834084749221802), ('캐릭터', 0.5804548859596252), ('영상미', 0.5776968598365784)]\n"
     ]
    }
   ],
   "source": [
    "from gensim.models.keyedvectors import Word2VecKeyedVectors\n",
    "\n",
    "# 각 모델들이 생각하는 '꿈'과 근접한 단어들 찾기\n",
    "for title in titles:\n",
    "    word2vec_file_path = f'./data/word2vec_{title}.txt'\n",
    "    word_vectors = Word2VecKeyedVectors.load_word2vec_format(word2vec_file_path, binary=False)\n",
    "    print(title, '<- 꿈')  \n",
    "    print(word_vectors.similar_by_word(\"꿈\"))"
   ]
  },
  {
   "cell_type": "markdown",
   "id": "c3f4afd9",
   "metadata": {},
   "source": [
    "- 통일성, 유사성이 떨어진다는것을 확인"
   ]
  },
  {
   "cell_type": "markdown",
   "id": "45337107",
   "metadata": {},
   "source": [
    "## 8) 한국어 Word2Vec 임베딩 활용하여 성능 개선\n"
   ]
  },
  {
   "cell_type": "code",
   "execution_count": 103,
   "id": "33aed5b0",
   "metadata": {},
   "outputs": [
    {
     "data": {
      "text/plain": [
       "(100,)"
      ]
     },
     "execution_count": 103,
     "metadata": {},
     "output_type": "execute_result"
    }
   ],
   "source": [
    "from gensim.models import Word2Vec\n",
    "\n",
    "word2vec_file_path = './data/word2vec_ko.model'\n",
    "\n",
    "word_vectors = Word2Vec.load(word2vec_file_path)  # pretrained embedding model load\n"
   ]
  },
  {
   "cell_type": "code",
   "execution_count": 104,
   "id": "ae620d9b",
   "metadata": {},
   "outputs": [
    {
     "data": {
      "text/plain": [
       "(100,)"
      ]
     },
     "execution_count": 104,
     "metadata": {},
     "output_type": "execute_result"
    }
   ],
   "source": [
    "vector = word_vectors.wv['잠']\n",
    "vector.shape \n",
    "\n",
    "# 각 단어는 100개의 차원으로 vectorize 됨을 확인"
   ]
  },
  {
   "cell_type": "code",
   "execution_count": 105,
   "id": "2489f910",
   "metadata": {},
   "outputs": [],
   "source": [
    "from tensorflow.keras.initializers import Constant\n",
    "\n",
    "vocab_size = 10000    # 어휘 사전의 크기(10,000개의 단어)\n",
    "word_vector_dim = 100  # 워드 벡터의 차원수 \n",
    "embedding_matrix = np.random.rand(vocab_size, word_vector_dim)\n",
    "\n",
    "# embedding_matrix에 Word2Vec 워드 벡터를 단어 하나씩마다 차례차례 카피한다.\n",
    "for i in range(4,vocab_size):\n",
    "    if index_to_word[i] in word_vectors.wv:\n",
    "        embedding_matrix[i] = word_vectors.wv[index_to_word[i]]"
   ]
  },
  {
   "cell_type": "code",
   "execution_count": 106,
   "id": "101d44f4",
   "metadata": {},
   "outputs": [
    {
     "data": {
      "text/plain": [
       "(10000, 100)"
      ]
     },
     "execution_count": 106,
     "metadata": {},
     "output_type": "execute_result"
    }
   ],
   "source": [
    "embedding_matrix.shape         "
   ]
  },
  {
   "cell_type": "code",
   "execution_count": 128,
   "id": "03dfa3e5",
   "metadata": {},
   "outputs": [
    {
     "name": "stdout",
     "output_type": "stream",
     "text": [
      ". \n",
      " [ 1.0148797  -0.50785506 -3.01209021  0.45532331  1.18936408  1.16196549\n",
      "  2.0690465  -0.4041273  -3.67824864  5.15002871 -4.90728283 -1.17444587\n",
      " -2.04329658 -0.27965945 -3.60060024  3.71831751  1.4845506   0.3471984\n",
      "  3.05809855 -2.98130846 -2.75871563  1.69519937 -0.62313354 -2.48172998\n",
      "  1.7739619   0.90663171  3.50179338 -4.62058544 -2.70127892  0.75214028\n",
      " -6.49481773  3.31358528  0.79373801  3.56094408  0.5049091   2.51798296\n",
      "  1.08281338  2.22650957 -0.54819411 -2.45683312  5.82740164 -0.48938593\n",
      "  7.21801424 -0.25775084 -0.69435704 -0.57397074 -0.9460867   3.64878941\n",
      " -0.61506265 -4.03338385  0.41044739 -0.03049513  0.09765369 -5.68309593\n",
      "  1.61000216  1.61402714 -0.35847089  0.99730688  1.03616691 -3.59692454\n",
      "  0.92260575  0.27273268  1.30361199 -0.35995319 -2.94048095 -1.03001702\n",
      "  3.20227623 -5.205935    2.38758183 -3.1253984   1.00584948 -1.81666231\n",
      "  4.36685753 -4.05125952 -0.36159644 -0.69638383  1.12456954 -0.62755346\n",
      "  0.2120384  -4.40245962 -2.05257916 -3.70964599 -0.58846456  0.15994826\n",
      "  1.86214948  0.41658938  2.62384629  2.27760291  0.24286105  2.43245959\n",
      "  0.93387848 -2.56353784  2.40364861  0.75417507  5.33042002 -0.97711253\n",
      "  1.52398312  3.5433259   2.85789919  0.83078951]\n"
     ]
    }
   ],
   "source": [
    "print(index_to_word[4], '\\n' ,embedding_matrix[4])    # '.' 이 벡터로 변한 형태"
   ]
  },
  {
   "cell_type": "code",
   "execution_count": 125,
   "id": "88c19975",
   "metadata": {},
   "outputs": [
    {
     "name": "stdout",
     "output_type": "stream",
     "text": [
      "영화 \n",
      " [-1.80073893 -1.1790098  -2.4066596   2.13841558 -0.3537603   1.37495267\n",
      " -4.89461184 -3.65171981  0.44114441  0.78153926 -2.69688797 -1.78128517\n",
      " -2.15146542 -4.81323624  2.74659181 -2.16203237 -0.11467794 -1.24311709\n",
      "  2.39793086 -1.10606277 -0.41043055  1.95003915  0.7821002   1.58999777\n",
      "  1.6447444  -2.12650347 -1.79815948  1.7535795   0.53717697 -1.21212101\n",
      " -4.46631622  4.54883242  1.33444095 -0.90702713  1.19318891  4.15632153\n",
      "  1.97583067 -0.94375622 -0.25927249  0.34935686  1.85628748 -3.32496452\n",
      "  1.12216246  1.28365242  3.92113757  3.8023994   2.76626897  0.67293745\n",
      "  2.28536439 -5.11317158  0.32525915 -3.3079958   5.30435133 -3.88137579\n",
      " -0.32960036 -1.95275044  3.88650751 -3.54703784 -0.21991685  0.82119733\n",
      " -0.94924921  3.54721069  1.32204795 -0.70640826  0.52253807  1.46832347\n",
      " -1.10186887  2.26294088 -0.72046852 -1.76620102  5.22375774  3.0748682\n",
      "  1.09775758  3.31917334 -0.41004229 -1.7022891  -0.78379875  0.82586575\n",
      " -0.54520637  1.23553824  2.02674007 -0.65244699  1.08660543  0.89776409\n",
      "  0.79283422  3.77706265  3.02748632  5.16600227  2.64616442  2.89268684\n",
      "  1.97094405 -3.37465429 -5.26565933 -1.10414851  2.35754704 -2.35708237\n",
      " -4.81723833  3.72902226  4.62329006  1.50046134]\n"
     ]
    }
   ],
   "source": [
    "print(index_to_word[5], '\\n' ,embedding_matrix[5])    # '영화' 가 벡터로 변한 형태"
   ]
  },
  {
   "cell_type": "code",
   "execution_count": 200,
   "id": "b390620c",
   "metadata": {},
   "outputs": [],
   "source": [
    "#RNN에 사전 훈련된 embedding layer 적용\n",
    "RNN_with_embedding = RNN()\n",
    "\n",
    "fake_input = np.zeros((1, 40))\n",
    "# 가짜 입력 데이터를 통과시켜 모델을 초기화합니다\n",
    "RNN_with_embedding.predict(fake_input)\n",
    "# 사전 훈련된 임베딩을 임베딩 레이어에 적용합니다\n",
    "RNN_with_embedding.embedding_layer.set_weights([embedding_matrix])\n",
    "# 임베딩 레이어를 학습 불가능 상태로 설정합니다\n",
    "RNN_with_embedding.embedding_layer.trainable = False\n",
    "\n",
    "\n",
    "#CNN에 사전 훈련된 embedding layer 적용\n",
    "CNN_with_embedding = CNN()\n",
    "\n",
    "fake_input = np.zeros((1, 40))\n",
    "# 가짜 입력 데이터를 통과시켜 모델을 초기화합니다\n",
    "CNN_with_embedding.predict(fake_input)\n",
    "# 사전 훈련된 임베딩을 임베딩 레이어에 적용합니다\n",
    "CNN_with_embedding.embedding_layer.set_weights([embedding_matrix])\n",
    "# 임베딩 레이어를 학습 불가능 상태로 설정합니다\n",
    "CNN_with_embedding.embedding_layer.trainable = False\n",
    "\n",
    "\n",
    "#GlobalMaxPooling에 사전 훈련된 embedding layer 적용\n",
    "Maxpooling_with_embedding = GlobalMaxPooling()\n",
    "\n",
    "fake_input = np.zeros((1, 40))\n",
    "# 가짜 입력 데이터를 통과시켜 모델을 초기화합니다\n",
    "Maxpooling_with_embedding.predict(fake_input)\n",
    "# 사전 훈련된 임베딩을 임베딩 레이어에 적용합니다\n",
    "Maxpooling_with_embedding.embedding_layer.set_weights([embedding_matrix])\n",
    "# 임베딩 레이어를 학습 불가능 상태로 설정합니다\n",
    "Maxpooling_with_embedding.embedding_layer.trainable = False\n"
   ]
  },
  {
   "cell_type": "code",
   "execution_count": 202,
   "id": "a9ee5843",
   "metadata": {},
   "outputs": [
    {
     "name": "stdout",
     "output_type": "stream",
     "text": [
      "Epoch 1/20\n",
      "266/266 [==============================] - 3s 6ms/step - loss: 0.6256 - accuracy: 0.6433 - val_loss: 0.5355 - val_accuracy: 0.7357\n",
      "Epoch 2/20\n",
      "266/266 [==============================] - 1s 5ms/step - loss: 0.5021 - accuracy: 0.7583 - val_loss: 0.4803 - val_accuracy: 0.7718\n",
      "Epoch 3/20\n",
      "266/266 [==============================] - 1s 5ms/step - loss: 0.4682 - accuracy: 0.7799 - val_loss: 0.4574 - val_accuracy: 0.7820\n",
      "Epoch 4/20\n",
      "266/266 [==============================] - 1s 5ms/step - loss: 0.4506 - accuracy: 0.7891 - val_loss: 0.4422 - val_accuracy: 0.7916\n",
      "Epoch 5/20\n",
      "266/266 [==============================] - 1s 5ms/step - loss: 0.4395 - accuracy: 0.7953 - val_loss: 0.4353 - val_accuracy: 0.7958\n",
      "Epoch 6/20\n",
      "266/266 [==============================] - 1s 5ms/step - loss: 0.4306 - accuracy: 0.8015 - val_loss: 0.4299 - val_accuracy: 0.7974\n",
      "Epoch 7/20\n",
      "266/266 [==============================] - 1s 5ms/step - loss: 0.4244 - accuracy: 0.8051 - val_loss: 0.4215 - val_accuracy: 0.8026\n",
      "Epoch 8/20\n",
      "266/266 [==============================] - 1s 5ms/step - loss: 0.4185 - accuracy: 0.8093 - val_loss: 0.4179 - val_accuracy: 0.8042\n",
      "Epoch 9/20\n",
      "266/266 [==============================] - 1s 5ms/step - loss: 0.4137 - accuracy: 0.8117 - val_loss: 0.4126 - val_accuracy: 0.8058\n",
      "Epoch 10/20\n",
      "266/266 [==============================] - 1s 5ms/step - loss: 0.4095 - accuracy: 0.8132 - val_loss: 0.4113 - val_accuracy: 0.8078\n",
      "Epoch 11/20\n",
      "266/266 [==============================] - 1s 5ms/step - loss: 0.4060 - accuracy: 0.8157 - val_loss: 0.4119 - val_accuracy: 0.8074\n",
      "Epoch 12/20\n",
      "266/266 [==============================] - 1s 5ms/step - loss: 0.4031 - accuracy: 0.8171 - val_loss: 0.4079 - val_accuracy: 0.8083\n",
      "Epoch 13/20\n",
      "266/266 [==============================] - 1s 5ms/step - loss: 0.4000 - accuracy: 0.8191 - val_loss: 0.4055 - val_accuracy: 0.8108\n",
      "Epoch 14/20\n",
      "266/266 [==============================] - 1s 5ms/step - loss: 0.3975 - accuracy: 0.8202 - val_loss: 0.4046 - val_accuracy: 0.8112\n",
      "Epoch 15/20\n",
      "266/266 [==============================] - 1s 5ms/step - loss: 0.3950 - accuracy: 0.8224 - val_loss: 0.4017 - val_accuracy: 0.8137\n",
      "Epoch 16/20\n",
      "266/266 [==============================] - 1s 5ms/step - loss: 0.3926 - accuracy: 0.8232 - val_loss: 0.4007 - val_accuracy: 0.8142\n",
      "Epoch 17/20\n",
      "266/266 [==============================] - 1s 5ms/step - loss: 0.3916 - accuracy: 0.8236 - val_loss: 0.4000 - val_accuracy: 0.8113\n",
      "Epoch 18/20\n",
      "266/266 [==============================] - 1s 5ms/step - loss: 0.3893 - accuracy: 0.8246 - val_loss: 0.3978 - val_accuracy: 0.8162\n",
      "Epoch 19/20\n",
      "266/266 [==============================] - 1s 5ms/step - loss: 0.3885 - accuracy: 0.8253 - val_loss: 0.3997 - val_accuracy: 0.8159\n",
      "Epoch 20/20\n",
      "266/266 [==============================] - 1s 5ms/step - loss: 0.3862 - accuracy: 0.8268 - val_loss: 0.3983 - val_accuracy: 0.8160\n",
      "Epoch 1/20\n",
      "266/266 [==============================] - 2s 5ms/step - loss: 0.6076 - accuracy: 0.6580 - val_loss: 0.5411 - val_accuracy: 0.7304\n",
      "Epoch 2/20\n",
      "266/266 [==============================] - 1s 4ms/step - loss: 0.5069 - accuracy: 0.7519 - val_loss: 0.5012 - val_accuracy: 0.7613\n",
      "Epoch 3/20\n",
      "266/266 [==============================] - 1s 4ms/step - loss: 0.4749 - accuracy: 0.7727 - val_loss: 0.4844 - val_accuracy: 0.7711\n",
      "Epoch 4/20\n",
      "266/266 [==============================] - 1s 4ms/step - loss: 0.4566 - accuracy: 0.7844 - val_loss: 0.4684 - val_accuracy: 0.7775\n",
      "Epoch 5/20\n",
      "266/266 [==============================] - 1s 4ms/step - loss: 0.4386 - accuracy: 0.7953 - val_loss: 0.4593 - val_accuracy: 0.7808\n",
      "Epoch 6/20\n",
      "266/266 [==============================] - 1s 4ms/step - loss: 0.4279 - accuracy: 0.8018 - val_loss: 0.4528 - val_accuracy: 0.7838\n",
      "Epoch 7/20\n",
      "266/266 [==============================] - 1s 4ms/step - loss: 0.4183 - accuracy: 0.8067 - val_loss: 0.4480 - val_accuracy: 0.7877\n",
      "Epoch 8/20\n",
      "266/266 [==============================] - 1s 4ms/step - loss: 0.4111 - accuracy: 0.8104 - val_loss: 0.4494 - val_accuracy: 0.7869\n",
      "Epoch 9/20\n",
      "266/266 [==============================] - 1s 4ms/step - loss: 0.4029 - accuracy: 0.8149 - val_loss: 0.4456 - val_accuracy: 0.7930\n",
      "Epoch 10/20\n",
      "266/266 [==============================] - 1s 4ms/step - loss: 0.3996 - accuracy: 0.8168 - val_loss: 0.4432 - val_accuracy: 0.7903\n",
      "Epoch 11/20\n",
      "266/266 [==============================] - 1s 4ms/step - loss: 0.3934 - accuracy: 0.8211 - val_loss: 0.4441 - val_accuracy: 0.7917\n",
      "Epoch 12/20\n",
      "266/266 [==============================] - 1s 4ms/step - loss: 0.3895 - accuracy: 0.8220 - val_loss: 0.4439 - val_accuracy: 0.7893\n",
      "Epoch 13/20\n",
      "266/266 [==============================] - 1s 4ms/step - loss: 0.3846 - accuracy: 0.8251 - val_loss: 0.4499 - val_accuracy: 0.7895\n",
      "Epoch 14/20\n",
      "266/266 [==============================] - 1s 4ms/step - loss: 0.3800 - accuracy: 0.8274 - val_loss: 0.4398 - val_accuracy: 0.7949\n",
      "Epoch 15/20\n",
      "266/266 [==============================] - 1s 4ms/step - loss: 0.3775 - accuracy: 0.8292 - val_loss: 0.4420 - val_accuracy: 0.7949\n",
      "Epoch 16/20\n",
      "266/266 [==============================] - 1s 4ms/step - loss: 0.3733 - accuracy: 0.8311 - val_loss: 0.4492 - val_accuracy: 0.7971\n",
      "Epoch 17/20\n",
      "266/266 [==============================] - 1s 4ms/step - loss: 0.3699 - accuracy: 0.8331 - val_loss: 0.4457 - val_accuracy: 0.7937\n",
      "Epoch 18/20\n",
      "266/266 [==============================] - 1s 4ms/step - loss: 0.3682 - accuracy: 0.8345 - val_loss: 0.4396 - val_accuracy: 0.7969\n",
      "Epoch 19/20\n",
      "266/266 [==============================] - 1s 4ms/step - loss: 0.3646 - accuracy: 0.8361 - val_loss: 0.4483 - val_accuracy: 0.7962\n",
      "Epoch 20/20\n",
      "266/266 [==============================] - 1s 4ms/step - loss: 0.3627 - accuracy: 0.8372 - val_loss: 0.4476 - val_accuracy: 0.7979\n",
      "Epoch 1/20\n",
      "266/266 [==============================] - 1s 3ms/step - loss: 0.7689 - accuracy: 0.5501 - val_loss: 0.6717 - val_accuracy: 0.5942\n",
      "Epoch 2/20\n",
      "266/266 [==============================] - 1s 3ms/step - loss: 0.6526 - accuracy: 0.6196 - val_loss: 0.6399 - val_accuracy: 0.6323\n",
      "Epoch 3/20\n",
      "266/266 [==============================] - 1s 3ms/step - loss: 0.6300 - accuracy: 0.6451 - val_loss: 0.6267 - val_accuracy: 0.6459\n",
      "Epoch 4/20\n",
      "266/266 [==============================] - 1s 3ms/step - loss: 0.6190 - accuracy: 0.6565 - val_loss: 0.6202 - val_accuracy: 0.6534\n",
      "Epoch 5/20\n",
      "266/266 [==============================] - 1s 3ms/step - loss: 0.6125 - accuracy: 0.6621 - val_loss: 0.6170 - val_accuracy: 0.6564\n",
      "Epoch 6/20\n",
      "266/266 [==============================] - 1s 3ms/step - loss: 0.6096 - accuracy: 0.6658 - val_loss: 0.6144 - val_accuracy: 0.6576\n",
      "Epoch 7/20\n",
      "266/266 [==============================] - 1s 3ms/step - loss: 0.6078 - accuracy: 0.6668 - val_loss: 0.6171 - val_accuracy: 0.6548\n",
      "Epoch 8/20\n",
      "266/266 [==============================] - 1s 3ms/step - loss: 0.6066 - accuracy: 0.6689 - val_loss: 0.6127 - val_accuracy: 0.6611\n",
      "Epoch 9/20\n",
      "266/266 [==============================] - 1s 3ms/step - loss: 0.6061 - accuracy: 0.6690 - val_loss: 0.6157 - val_accuracy: 0.6617\n",
      "Epoch 10/20\n",
      "266/266 [==============================] - 1s 3ms/step - loss: 0.6055 - accuracy: 0.6683 - val_loss: 0.6122 - val_accuracy: 0.6604\n",
      "Epoch 11/20\n",
      "266/266 [==============================] - 1s 3ms/step - loss: 0.6050 - accuracy: 0.6693 - val_loss: 0.6123 - val_accuracy: 0.6643\n",
      "Epoch 12/20\n",
      "266/266 [==============================] - 1s 3ms/step - loss: 0.6040 - accuracy: 0.6705 - val_loss: 0.6123 - val_accuracy: 0.6621\n",
      "Epoch 13/20\n",
      "266/266 [==============================] - 1s 3ms/step - loss: 0.6035 - accuracy: 0.6700 - val_loss: 0.6135 - val_accuracy: 0.6595\n",
      "Epoch 14/20\n",
      "266/266 [==============================] - 1s 3ms/step - loss: 0.6035 - accuracy: 0.6705 - val_loss: 0.6108 - val_accuracy: 0.6638\n",
      "Epoch 15/20\n",
      "266/266 [==============================] - 1s 3ms/step - loss: 0.6036 - accuracy: 0.6698 - val_loss: 0.6105 - val_accuracy: 0.6624\n",
      "Epoch 16/20\n",
      "266/266 [==============================] - 1s 3ms/step - loss: 0.6028 - accuracy: 0.6722 - val_loss: 0.6096 - val_accuracy: 0.6644\n",
      "Epoch 17/20\n",
      "266/266 [==============================] - 1s 3ms/step - loss: 0.6023 - accuracy: 0.6720 - val_loss: 0.6120 - val_accuracy: 0.6660\n",
      "Epoch 18/20\n"
     ]
    },
    {
     "name": "stdout",
     "output_type": "stream",
     "text": [
      "266/266 [==============================] - 1s 3ms/step - loss: 0.6018 - accuracy: 0.6718 - val_loss: 0.6110 - val_accuracy: 0.6649\n",
      "Epoch 19/20\n",
      "266/266 [==============================] - 1s 3ms/step - loss: 0.6014 - accuracy: 0.6722 - val_loss: 0.6101 - val_accuracy: 0.6644\n",
      "Epoch 20/20\n",
      "266/266 [==============================] - 1s 3ms/step - loss: 0.6015 - accuracy: 0.6725 - val_loss: 0.6086 - val_accuracy: 0.6662\n"
     ]
    }
   ],
   "source": [
    "embedded_models = [RNN_with_embedding, CNN_with_embedding, Maxpooling_with_embedding]\n",
    "\n",
    "epochs=20 \n",
    "e_rnn_history = None\n",
    "e_cnn_history = None\n",
    "e_max_history = None\n",
    "\n",
    "for model in embedded_models:\n",
    "    \n",
    "    model.compile(optimizer='adam', loss='binary_crossentropy', metrics=['accuracy'])\n",
    "    history = model.fit(partial_X_train, partial_y_train, epochs=epochs, batch_size=512, validation_data=(X_val, y_val), verbose=1)\n",
    "    if model == RNN_with_embedding:\n",
    "        e_rnn_history = history.history.copy()\n",
    "    elif model == CNN_with_embedding:\n",
    "        e_cnn_history = history.history.copy()\n",
    "    else:\n",
    "        e_max_history = history.history.copy()"
   ]
  },
  {
   "cell_type": "code",
   "execution_count": 203,
   "id": "67bedb76",
   "metadata": {},
   "outputs": [
    {
     "name": "stdout",
     "output_type": "stream",
     "text": [
      "1537/1537 - 3s - loss: 0.4067 - accuracy: 0.8142\n",
      "1537/1537 - 3s - loss: 0.4568 - accuracy: 0.7926\n",
      "1537/1537 - 2s - loss: 0.6029 - accuracy: 0.6734\n",
      "embedded RNN의 loss는 0.4067, accuracy는 81.42%\n",
      "embedded CNN의 loss는 0.4568, accuracy는 79.26%\n",
      "embedded GlobalMaxPooling의 loss는 0.6029, accuracy는 67.34%\n"
     ]
    }
   ],
   "source": [
    "loss = []\n",
    "accuracy = []\n",
    "i = 0\n",
    "\n",
    "for model in embedded_models:\n",
    "    results = model.evaluate(X_test, y_test, verbose=2)\n",
    "    loss.append(results[0])\n",
    "    accuracy.append(results[1])\n",
    "\n",
    "acc_per = np.array(accuracy) * 100\n",
    "\n",
    "for model in embedded_models:\n",
    "    model_name = type(model).__name__\n",
    "    print(f\"embedded {model_name}의 loss는 {loss[i]:.4f}, accuracy는 {acc_per[i]:.2f}%\")\n",
    "    i += 1"
   ]
  },
  {
   "cell_type": "markdown",
   "id": "5b7672a4",
   "metadata": {},
   "source": [
    "임베딩을 하고나서 오히려 동일조건 대비 20에포크 까지에서는 정확도가 모든 모델에서 떨어졌다\n",
    "\n",
    "validation을 확인해 봐야겠다"
   ]
  },
  {
   "cell_type": "code",
   "execution_count": 206,
   "id": "16d89954",
   "metadata": {},
   "outputs": [],
   "source": [
    "e_histories = [e_rnn_history, e_cnn_history, e_max_history]"
   ]
  },
  {
   "cell_type": "code",
   "execution_count": 207,
   "id": "e501e7fc",
   "metadata": {},
   "outputs": [
    {
     "data": {
      "image/png": "[encoded data removed]",
      "text/plain": [
       "<Figure size 720x360 with 2 Axes>"
      ]
     },
     "metadata": {
      "needs_background": "light"
     },
     "output_type": "display_data"
    },
    {
     "data": {
      "image/png": "[encoded data removed]",
      "text/plain": [
       "<Figure size 720x360 with 2 Axes>"
      ]
     },
     "metadata": {
      "needs_background": "light"
     },
     "output_type": "display_data"
    },
    {
     "data": {
      "image/png": "[encoded data removed]",
      "text/plain": [
       "<Figure size 720x360 with 2 Axes>"
      ]
     },
     "metadata": {
      "needs_background": "light"
     },
     "output_type": "display_data"
    }
   ],
   "source": [
    "e_titles = ['e-RNN', 'e-CNN', 'e-MaxPooling']\n",
    "for i, history in enumerate(e_histories):\n",
    "    acc = history['accuracy']\n",
    "    val_acc = history['val_accuracy']\n",
    "    loss = history['loss']\n",
    "    val_loss = history['val_loss']\n",
    "\n",
    "    epochs = range(1, len(acc) + 1)\n",
    "\n",
    "     # 그래프 크기를 조절\n",
    "    plt.figure(figsize=(10, 5))\n",
    "\n",
    "    \n",
    "    plt.subplot(1, 2, 1)\n",
    "    # \"bo\" 파란점\n",
    "    plt.plot(epochs, loss, 'bo', label='Training loss')\n",
    "    # \"b\" 파란선\n",
    "    plt.plot(epochs, val_loss, 'b', label='Validation loss')\n",
    "    plt.title(e_titles[i] + ' Training and validation loss')\n",
    "    plt.xlabel('Epochs')\n",
    "    plt.ylabel('Loss')\n",
    "    plt.xticks(range(1, len(epochs) + 1))  # 에포크를 정수로 표시\n",
    "    plt.legend()\n",
    "\n",
    "    plt.subplot(1, 2, 2)\n",
    "    # \"bo\" 파란점\n",
    "    plt.plot(epochs, acc, 'bo', label='Training accuracy')\n",
    "    # \"b\" 파란선\n",
    "    plt.plot(epochs, val_acc, 'b', label='Validation accuracy')\n",
    "    plt.title(e_titles[i] + ' Training and validation accuracy')\n",
    "    plt.xlabel('Epochs')\n",
    "    plt.ylabel('Accuracy')\n",
    "    plt.xticks(range(1, len(epochs) + 1))  # 에포크를 정수로 표시\n",
    "    plt.legend()\n",
    "\n",
    "    plt.tight_layout()\n",
    "    plt.show()"
   ]
  },
  {
   "cell_type": "markdown",
   "id": "21905734",
   "metadata": {},
   "source": [
    "embedded layer가 포함된 RNN과 GlobalMaxpooling 모델은 validation 이 train 을 잘 따라왔다. \n",
    "\n",
    "-> 에포크를 늘려서 성능 향상을 기대할 수 있겠다"
   ]
  },
  {
   "cell_type": "code",
   "execution_count": null,
   "id": "7bb4b919",
   "metadata": {},
   "outputs": [],
   "source": []
  }
 ],
 "metadata": {
  "kernelspec": {
   "display_name": "Python 3 (ipykernel)",
   "language": "python",
   "name": "python3"
  },
  "language_info": {
   "codemirror_mode": {
    "name": "ipython",
    "version": 3
   },
   "file_extension": ".py",
   "mimetype": "text/x-python",
   "name": "python",
   "nbconvert_exporter": "python",
   "pygments_lexer": "ipython3",
   "version": "3.9.7"
  }
 },
 "nbformat": 4,
 "nbformat_minor": 5
}
