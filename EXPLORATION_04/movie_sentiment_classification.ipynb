{
 "cells": [
  {
   "cell_type": "markdown",
   "id": "d081ac73",
   "metadata": {},
   "source": [
    "# Project 4: Naver movie sentiment classification\n",
    "\n",
    "\n",
    "- Rubric\n",
    "\n",
    "1. 다양한 방법으로 Text Classification 태스크를 성공적으로 구현하였다.\t3가지 이상의 모델이 성공적으로 시도됨\n",
    "2. gensim을 활용하여 자체학습된 혹은 사전학습된 임베딩 레이어를 분석하였다.\tgensim의 유사단어 찾기를 활용하여 자체학습한 임베딩과 사전학습 임베딩을 비교 분석함\n",
    "3. 한국어 Word2Vec을 활용하여 가시적인 성능향상을 달성했다.\t네이버 영화리뷰 데이터 감성분석 정확도를 85% 이상 달성함"
   ]
  },
  {
   "cell_type": "markdown",
   "id": "61604f0f",
   "metadata": {},
   "source": [
    "## Version check"
   ]
  },
  {
   "cell_type": "code",
   "execution_count": 1,
   "id": "3053b4da",
   "metadata": {},
   "outputs": [
    {
     "name": "stdout",
     "output_type": "stream",
     "text": [
      "1.3.3\n",
      "0.5.2\n",
      "4.1.2\n"
     ]
    }
   ],
   "source": [
    "import pandas as pd\n",
    "import konlpy\n",
    "import gensim\n",
    "\n",
    "print(pd.__version__)\n",
    "print(konlpy.__version__)\n",
    "print(gensim.__version__)"
   ]
  },
  {
   "cell_type": "markdown",
   "id": "0dffaffd",
   "metadata": {},
   "source": [
    "## 1) Data check"
   ]
  },
  {
   "cell_type": "code",
   "execution_count": 2,
   "id": "09014411",
   "metadata": {},
   "outputs": [
    {
     "data": {
      "text/html": [
       "<div>\n",
       "<style scoped>\n",
       "    .dataframe tbody tr th:only-of-type {\n",
       "        vertical-align: middle;\n",
       "    }\n",
       "\n",
       "    .dataframe tbody tr th {\n",
       "        vertical-align: top;\n",
       "    }\n",
       "\n",
       "    .dataframe thead th {\n",
       "        text-align: right;\n",
       "    }\n",
       "</style>\n",
       "<table border=\"1\" class=\"dataframe\">\n",
       "  <thead>\n",
       "    <tr style=\"text-align: right;\">\n",
       "      <th></th>\n",
       "      <th>id</th>\n",
       "      <th>document</th>\n",
       "      <th>label</th>\n",
       "    </tr>\n",
       "  </thead>\n",
       "  <tbody>\n",
       "    <tr>\n",
       "      <th>0</th>\n",
       "      <td>9976970</td>\n",
       "      <td>아 더빙.. 진짜 짜증나네요 목소리</td>\n",
       "      <td>0</td>\n",
       "    </tr>\n",
       "    <tr>\n",
       "      <th>1</th>\n",
       "      <td>3819312</td>\n",
       "      <td>흠...포스터보고 초딩영화줄....오버연기조차 가볍지 않구나</td>\n",
       "      <td>1</td>\n",
       "    </tr>\n",
       "    <tr>\n",
       "      <th>2</th>\n",
       "      <td>10265843</td>\n",
       "      <td>너무재밓었다그래서보는것을추천한다</td>\n",
       "      <td>0</td>\n",
       "    </tr>\n",
       "    <tr>\n",
       "      <th>3</th>\n",
       "      <td>9045019</td>\n",
       "      <td>교도소 이야기구먼 ..솔직히 재미는 없다..평점 조정</td>\n",
       "      <td>0</td>\n",
       "    </tr>\n",
       "    <tr>\n",
       "      <th>4</th>\n",
       "      <td>6483659</td>\n",
       "      <td>사이몬페그의 익살스런 연기가 돋보였던 영화!스파이더맨에서 늙어보이기만 했던 커스틴 ...</td>\n",
       "      <td>1</td>\n",
       "    </tr>\n",
       "  </tbody>\n",
       "</table>\n",
       "</div>"
      ],
      "text/plain": [
       "         id                                           document  label\n",
       "0   9976970                                아 더빙.. 진짜 짜증나네요 목소리      0\n",
       "1   3819312                  흠...포스터보고 초딩영화줄....오버연기조차 가볍지 않구나      1\n",
       "2  10265843                                  너무재밓었다그래서보는것을추천한다      0\n",
       "3   9045019                      교도소 이야기구먼 ..솔직히 재미는 없다..평점 조정      0\n",
       "4   6483659  사이몬페그의 익살스런 연기가 돋보였던 영화!스파이더맨에서 늙어보이기만 했던 커스틴 ...      1"
      ]
     },
     "execution_count": 2,
     "metadata": {},
     "output_type": "execute_result"
    }
   ],
   "source": [
    "# Read data\n",
    "\n",
    "train_data = pd.read_table('~/aiffel/sentiment_classification/data/ratings_train.txt')\n",
    "test_data = pd.read_table('~/aiffel/sentiment_classification/data/ratings_test.txt')\n",
    "\n",
    "train_data.head()"
   ]
  },
  {
   "cell_type": "code",
   "execution_count": 3,
   "id": "b867cea5",
   "metadata": {},
   "outputs": [
    {
     "name": "stdout",
     "output_type": "stream",
     "text": [
      "<class 'pandas.core.frame.DataFrame'>\n",
      "RangeIndex: 150000 entries, 0 to 149999\n",
      "Data columns (total 3 columns):\n",
      " #   Column    Non-Null Count   Dtype \n",
      "---  ------    --------------   ----- \n",
      " 0   id        150000 non-null  int64 \n",
      " 1   document  149995 non-null  object\n",
      " 2   label     150000 non-null  int64 \n",
      "dtypes: int64(2), object(1)\n",
      "memory usage: 3.4+ MB\n"
     ]
    }
   ],
   "source": [
    "train_data.info() # there are 5 nulls on document column"
   ]
  },
  {
   "cell_type": "markdown",
   "id": "f210e16e",
   "metadata": {},
   "source": [
    "## 2) Create data loader\n",
    "* What it should contain\n",
    " #### data pre-pre-process part\n",
    " \n",
    "    - 데이터의 중복 제거\n",
    "    - NaN 결측치 제거\n",
    "    - 한국어 토크나이저로 토큰화\n",
    "    - 불용어(Stopwords) 제거\n",
    "    \n",
    " #### string to dictionary part\n",
    " \n",
    "    - 사전word_to_index 구성\n",
    "    - 텍스트 스트링을 사전 인덱스 스트링으로 변환\n",
    "    - X_train, y_train, X_test, y_test, word_to_index 리턴"
   ]
  },
  {
   "cell_type": "code",
   "execution_count": 4,
   "id": "699c1357",
   "metadata": {},
   "outputs": [],
   "source": [
    "# tools for tokenizer and stopwords\n",
    "from collections import Counter\n",
    "from konlpy.tag import Mecab\n",
    "import numpy as np\n",
    "\n",
    "tokenizer = Mecab()\n",
    "stopwords = ['의','가','이','은','들','는','좀','잘','걍','과','도','를','으로','자','에','와','한','하다']"
   ]
  },
  {
   "cell_type": "code",
   "execution_count": 5,
   "id": "bf783505",
   "metadata": {},
   "outputs": [],
   "source": [
    "# data pre-pre-process part\n",
    "\n",
    "def process_data(data):\n",
    "    data.drop_duplicates(subset=['document'], inplace=True)  # 데이터 중복 제거\n",
    "    data = data.dropna(how = 'any')  # NaN 결측치 제거\n",
    "    processed_data = []   \n",
    "    for comment in data['document']:      # for each comments,\n",
    "        tokenized_comment = tokenizer.morphs(comment)  # 한국어 토크나이저로 토큰화\n",
    "        tokenized_comment = [token for token in tokenized_comment if not token in stopwords]  # 불용어(Stopwords) 제거\n",
    "        processed_data.append(tokenized_comment)   # gather processed data\n",
    "    return processed_data, np.array(list(data['label']))     # return words & target\n",
    "\n",
    "\n",
    "# string to dictionary part & load\n",
    "\n",
    "def load_data(train_data, test_data, num_words=10000):\n",
    "    \n",
    "    X_train, y_train = process_data(train_data)   # train data 전처리\n",
    "    X_test, y_test = process_data(test_data)      # test data 전처리\n",
    "    \n",
    "    words = np.concatenate(X_train).tolist()\n",
    "    counter = Counter(words)\n",
    "    counter = counter.most_common(num_words-4) # 가장 빈번한 단어 계산 + 특수 단어 4개 제외\n",
    "    vocab = ['<PAD>', '<BOS>', '<UNK>', '<UNUSED>'] + [key for key, _ in counter]\n",
    "    word_to_index = {word:index for index, word in enumerate(vocab)}\n",
    "    \n",
    "    def wordlist_to_indexlist(wordlist):    # 사전word_to_index 구성\n",
    "        return [word_to_index[word] if word in word_to_index else word_to_index['<UNK>'] for word in wordlist]  #unknown으로 반환\n",
    "        \n",
    "    X_train = list(map(wordlist_to_indexlist, X_train))\n",
    "    X_test = list(map(wordlist_to_indexlist, X_test))\n",
    "        \n",
    "    return X_train, y_train, X_test, y_test, word_to_index\n",
    "\n",
    "X_train, y_train, X_test, y_test, word_to_index = load_data(train_data, test_data)"
   ]
  },
  {
   "cell_type": "code",
   "execution_count": 6,
   "id": "22da70c0",
   "metadata": {},
   "outputs": [
    {
     "name": "stdout",
     "output_type": "stream",
     "text": [
      "146182 49157\n",
      "146182 49157\n",
      "[('<PAD>', 0), ('<BOS>', 1), ('<UNK>', 2), ('<UNUSED>', 3), ('.', 4), ('영화', 5), ('다', 6), ('고', 7), ('하', 8), ('을', 9)]\n"
     ]
    }
   ],
   "source": [
    " # X_train : type -list, y_train : type - np.array\n",
    "\n",
    "print(len(X_train), len(X_test)) \n",
    "print(len(y_train), len(y_test))\n",
    "print(list(word_to_index.items())[:10]) # stopwords에 '다','하','을'이 없어서 살아남은걸 볼 수 있다"
   ]
  },
  {
   "cell_type": "markdown",
   "id": "fa457d07",
   "metadata": {},
   "source": [
    "## Word-index dict -> index-Word dict"
   ]
  },
  {
   "cell_type": "code",
   "execution_count": 7,
   "id": "e087550b",
   "metadata": {},
   "outputs": [
    {
     "name": "stdout",
     "output_type": "stream",
     "text": [
      "[(0, '<PAD>'), (1, '<BOS>'), (2, '<UNK>'), (3, '<UNUSED>'), (4, '.'), (5, '영화'), (6, '다'), (7, '고'), (8, '하'), (9, '을')]\n"
     ]
    }
   ],
   "source": [
    "# key - contents 의 역전\n",
    "index_to_word = {index:word for word, index in word_to_index.items()}\n",
    "\n",
    "print(list(index_to_word.items())[:10]) "
   ]
  },
  {
   "cell_type": "markdown",
   "id": "ebee6bd1",
   "metadata": {},
   "source": [
    "## Encoding & Decoding functions for comments"
   ]
  },
  {
   "cell_type": "code",
   "execution_count": 8,
   "id": "9e8f4540",
   "metadata": {},
   "outputs": [],
   "source": [
    "# 문장 1개를 활용할 딕셔너리와 함께 주면, 단어 인덱스 리스트 벡터로 변환해 주는 함수입니다. \n",
    "# 단, 모든 문장은 <BOS>로 시작하는 것으로 합니다. \n",
    "def get_encoded_sentence(sentence, word_to_index):\n",
    "    return [word_to_index['<BOS>']]+[word_to_index[word] if word in word_to_index else word_to_index['<UNK>'] for word in sentence.split()]\n",
    "\n",
    "# 여러 개의 문장 리스트를 한꺼번에 단어 인덱스 리스트 벡터로 encode해 주는 함수입니다. \n",
    "def get_encoded_sentences(sentences, word_to_index):\n",
    "    return [get_encoded_sentence(sentence, word_to_index) for sentence in sentences]\n",
    "\n",
    "# 숫자 벡터로 encode된 문장을 원래대로 decode하는 함수입니다. \n",
    "def get_decoded_sentence(encoded_sentence, index_to_word):\n",
    "    return ' '.join(index_to_word[index] if index in index_to_word else '<UNK>' for index in encoded_sentence[1:])  #[1:]를 통해 <BOS>를 제외\n",
    "\n",
    "# 여러 개의 숫자 벡터로 encode된 문장을 한꺼번에 원래대로 decode하는 함수입니다. \n",
    "def get_decoded_sentences(encoded_sentences, index_to_word):\n",
    "    return [get_decoded_sentence(encoded_sentence, index_to_word) for encoded_sentence in encoded_sentences]"
   ]
  },
  {
   "cell_type": "markdown",
   "id": "a9e47b68",
   "metadata": {},
   "source": [
    "## 3) Data analysis and engineering\n",
    "\n",
    "- 데이터셋 내 문장 길이 분포\n",
    "- 적절한 최대 문장 길이 지정\n",
    "- keras.preprocessing.sequence.pad_sequences 을 활용한 패딩 추가"
   ]
  },
  {
   "cell_type": "code",
   "execution_count": 9,
   "id": "5b00f532",
   "metadata": {},
   "outputs": [
    {
     "name": "stdout",
     "output_type": "stream",
     "text": [
      "max number of words:  116\n",
      "[(7, 12441), (8, 11822), (6, 11741), (9, 10907), (10, 10287), (5, 9580), (11, 9531), (12, 8928), (13, 8253), (14, 7868), (15, 7440), (4, 6936), (16, 6823), (17, 6258), (18, 5535), (3, 4951), (19, 4869), (20, 4312), (21, 3746), (22, 3136), (23, 2653), (2, 2554), (24, 2242), (25, 1993), (26, 1688), (27, 1512), (28, 1376), (29, 1270), (30, 1241), (31, 1108), (32, 1074), (1, 1015), (34, 951), (33, 947), (35, 927), (37, 854), (36, 814), (38, 763), (40, 728), (39, 714)]\n"
     ]
    },
    {
     "data": {
      "image/png": "[encoded data removed]",
      "text/plain": [
       "<Figure size 432x288 with 1 Axes>"
      ]
     },
     "metadata": {
      "needs_background": "light"
     },
     "output_type": "display_data"
    }
   ],
   "source": [
    "import seaborn as sns\n",
    "import matplotlib.pyplot as plt\n",
    "\n",
    "total_list = X_train + X_test\n",
    "words_in_X = [len(s) for s in total_list]\n",
    "print('max number of words: ', max(words_in_X))\n",
    "print(Counter(words_in_X).most_common(40))\n",
    "\n",
    "plt.title('word # in each sentence')\n",
    "sns.kdeplot(data= words_in_X)\n",
    "plt.annotate('Select Here', xy=(40, 0), xytext=(50, 0.01), arrowprops=dict(facecolor='black', shrink=0.05))\n",
    "plt.show()\n"
   ]
  },
  {
   "cell_type": "markdown",
   "id": "38fbbf8a",
   "metadata": {},
   "source": [
    "- max token selection : 40"
   ]
  },
  {
   "cell_type": "code",
   "execution_count": 10,
   "id": "7fe037b5",
   "metadata": {},
   "outputs": [],
   "source": [
    "max_tokens = 40"
   ]
  },
  {
   "cell_type": "markdown",
   "id": "692dcb20",
   "metadata": {},
   "source": [
    "### Set sentences into length of max_tokens"
   ]
  },
  {
   "cell_type": "code",
   "execution_count": 11,
   "id": "457171bb",
   "metadata": {},
   "outputs": [
    {
     "name": "stdout",
     "output_type": "stream",
     "text": [
      "(146182, 40)\n",
      "<class 'numpy.ndarray'>\n",
      "[[   0    0    0    0    0    0    0    0    0    0    0    0    0    0\n",
      "     0    0    0    0    0    0    0    0    0    0    0    0    0    0\n",
      "     0    0   32   74  919    4    4   39  228   20   33  748]\n",
      " [   0    0    0    0    0    0    0    0    0    0    0    0    0    0\n",
      "     0    0    0    0    0    0    0    0    0 1028    4   11  519  549\n",
      "   687    5  120    4   70 1639   52  925 1006   15   44  391]\n",
      " [   0    0    0    0    0    0    0    0    0    0    0    0    0    0\n",
      "     0    0    0    0    0    0    0    0    0    0    0    0    0    0\n",
      "     0    0    0    0    0    0    0    0    0   24  205    2]\n",
      " [   0    0    0    0    0    0    0    0    0    0    0    0    0    0\n",
      "     0    0    0    0    0    0    0    0    0    0    0    0    0 8409\n",
      "   158 3925    4    4  298   94   17    6    4    4   58 3479]\n",
      " [   0    0    0    0    0    0    0    0    0    0    0    0    0    0\n",
      "     0    0    0    2 8894 1108   52 2832   60    5   14 2758   41 1188\n",
      "    35  351   42   22   40   60    2    2  427 3102 1766    6]\n",
      " [   0    0    0    0    0    0    0    0    0    0    0    0    0    0\n",
      "     0    0  675    2    2  131  420  185 1547  712   65 1694  715   53\n",
      "   375  192  271    5    4   69    4   11 2179  122  750    4]\n",
      " [   0    0    0    0    0    0    0    0    0    0    0    0    0    0\n",
      "     0    0    0    0    0    0    0    0    0    0    0    0    0    0\n",
      "     0    0  253  381    9  384 2012   55   15  817    6    4]\n",
      " [   6  425  756    2    2   52 1532  290   99  250    4    4   28  855\n",
      "    29  353  652  540  509  583    6 3318    4 8895   22 1460 1460    4\n",
      "     4   71  304   17    6   52  104    8   77   22    2   43]\n",
      " [   0    0    0    0    0    0    0    0    0    0    0    0    0    0\n",
      "     0    0    0    0    0    0    0    0    0    0    0    0    0    0\n",
      "     0    0    0  128   17   23   94   16  290   27   48    5]\n",
      " [   0    0    0    0    0    0    0    0    0    0    0    0    0    0\n",
      "     0    0    0    0    0   63  656   58  240  760   18  574   89    2\n",
      "     4    4 1482  637  736   81   22   24    2   16   20   18]]\n"
     ]
    }
   ],
   "source": [
    "# 최대길이(max_tokens)에 맞춰서 긴 문장은 잘라내고, 부족한 것은 앞에 공백 덭대기\n",
    "from tensorflow.keras.preprocessing.sequence import pad_sequences\n",
    "\n",
    "X_train = pad_sequences(X_train, value=word_to_index[\"<PAD>\"], padding='pre', maxlen=max_tokens)\n",
    "\n",
    "X_test = pad_sequences(X_test, value=word_to_index[\"<PAD>\"], padding='pre', maxlen=max_tokens)\n",
    "\n",
    "print(X_train.shape)\n",
    "print(type(X_train))\n",
    "print(X_train[:10])\n",
    "# 'pre' 에 pad를 덭대는 이유는 rnn계열의 신경망은 나중에 들어오는 \n",
    "# input에 대해서 강하게 영향 받기 때문"
   ]
  },
  {
   "cell_type": "markdown",
   "id": "5051376f",
   "metadata": {},
   "source": [
    "## 4) 모델 구성 및 validation set 구성\n",
    "\n"
   ]
  },
  {
   "cell_type": "code",
   "execution_count": 12,
   "id": "fdad4396",
   "metadata": {},
   "outputs": [],
   "source": [
    "vocab_size = 10000       # 단어 주머니 10000개\n",
    "word_vector_dim = 50     # 각 토큰별 특성 갯수"
   ]
  },
  {
   "cell_type": "markdown",
   "id": "7a49d635",
   "metadata": {},
   "source": [
    "### 1. RNN model (LSTM)"
   ]
  },
  {
   "cell_type": "code",
   "execution_count": 13,
   "id": "a44af8b7",
   "metadata": {},
   "outputs": [],
   "source": [
    "import tensorflow as tf\n",
    "\n",
    "class RNN(tf.keras.Model):\n",
    "    def __init__(self):\n",
    "        super(RNN, self).__init__()\n",
    "        \n",
    "        self.embedding_layer = tf.keras.layers.Embedding(vocab_size, word_vector_dim)\n",
    "        self.lstm_layer = tf.keras.layers.LSTM(8)\n",
    "        self.dense_layer1 = tf.keras.layers.Dense(8, activation='relu')\n",
    "        self.dense_layer2 = tf.keras.layers.Dense(1, activation='sigmoid')\n",
    "        \n",
    "    def call(self, inputs):\n",
    "        x = self.embedding_layer(inputs)\n",
    "        x = self.lstm_layer(x)\n",
    "        x = self.dense_layer1(x)\n",
    "        x = self.dense_layer2(x)\n",
    "        return x"
   ]
  },
  {
   "cell_type": "markdown",
   "id": "16fec1cc",
   "metadata": {},
   "source": [
    "### 2. 1-D CNN model"
   ]
  },
  {
   "cell_type": "code",
   "execution_count": 14,
   "id": "fb91d718",
   "metadata": {},
   "outputs": [],
   "source": [
    "class CNN(tf.keras.Model):\n",
    "    def __init__(self):\n",
    "        super(CNN, self).__init__()\n",
    "        \n",
    "        self.embedding_layer = tf.keras.layers.Embedding(vocab_size, word_vector_dim, input_shape=(None,))\n",
    "        self.conv1d_layer1 = tf.keras.layers.Conv1D(16, 6, strides=1, activation='relu')\n",
    "        self.maxpooling1d_layer = tf.keras.layers.MaxPooling1D(5)\n",
    "        self.conv1d_layer2 = tf.keras.layers.Conv1D(32, 6, strides=1, activation='relu')\n",
    "        self.globalmaxpooling1d_layer = tf.keras.layers.GlobalMaxPooling1D()\n",
    "        self.dense_layer1 = tf.keras.layers.Dense(32, activation='relu')\n",
    "        self.dense_layer2 = tf.keras.layers.Dense(1, activation='sigmoid')\n",
    "        \n",
    "    def call(self, inputs):\n",
    "        x = self.embedding_layer(inputs)\n",
    "        x = self.conv1d_layer1(x)\n",
    "        x = self.maxpooling1d_layer(x)\n",
    "        x = self.conv1d_layer2(x)\n",
    "        x = self.globalmaxpooling1d_layer(x)\n",
    "        x = self.dense_layer1(x)\n",
    "        x = self.dense_layer2(x)\n",
    "        return x"
   ]
  },
  {
   "cell_type": "markdown",
   "id": "fb9ee425",
   "metadata": {},
   "source": [
    "### 3. GlobalMaxPooling1D"
   ]
  },
  {
   "cell_type": "code",
   "execution_count": 15,
   "id": "14e7b42e",
   "metadata": {},
   "outputs": [],
   "source": [
    "class GlobalMaxPooling(tf.keras.Model):\n",
    "    def __init__(self):\n",
    "        super(GlobalMaxPooling, self).__init__()\n",
    "        \n",
    "        self.embedding_layer = tf.keras.layers.Embedding(vocab_size, word_vector_dim, input_shape=(None,))\n",
    "        self.globalmaxpooling1d_layer = tf.keras.layers.GlobalMaxPooling1D()\n",
    "        self.dense_layer1 = tf.keras.layers.Dense(8, activation='relu')\n",
    "        self.dense_layer2 = tf.keras.layers.Dense(1, activation='sigmoid')\n",
    "        \n",
    "    def call(self, inputs):\n",
    "        x = self.embedding_layer(inputs)\n",
    "        x = self.globalmaxpooling1d_layer(x)\n",
    "        x = self.dense_layer1(x)\n",
    "        x = self.dense_layer2(x)\n",
    "        return x"
   ]
  },
  {
   "cell_type": "markdown",
   "id": "b73339da",
   "metadata": {},
   "source": [
    "### Validation set 구성\n",
    "훈련용 데이터셋 25000건 중 10000건을 분리하여 검증셋(validation set)으로 사용"
   ]
  },
  {
   "cell_type": "code",
   "execution_count": 16,
   "id": "7237ac28",
   "metadata": {},
   "outputs": [
    {
     "name": "stdout",
     "output_type": "stream",
     "text": [
      "(136182, 40)\n",
      "(136182,)\n"
     ]
    }
   ],
   "source": [
    "# validation set 10000건 분리\n",
    "X_val = X_train[:10000]   \n",
    "y_val = y_train[:10000]\n",
    "\n",
    "# validation set을 제외한 나머지 15000건\n",
    "partial_X_train = X_train[10000:]  \n",
    "partial_y_train = y_train[10000:]\n",
    "\n",
    "print(partial_X_train.shape)\n",
    "print(partial_y_train.shape)"
   ]
  },
  {
   "cell_type": "markdown",
   "id": "cb853009",
   "metadata": {},
   "source": [
    "## 5) 모델 훈련 개시"
   ]
  },
  {
   "cell_type": "code",
   "execution_count": 17,
   "id": "67923ebb",
   "metadata": {},
   "outputs": [
    {
     "name": "stdout",
     "output_type": "stream",
     "text": [
      "Model: \"rnn\"\n",
      "_________________________________________________________________\n",
      "Layer (type)                 Output Shape              Param #   \n",
      "=================================================================\n",
      "embedding (Embedding)        multiple                  500000    \n",
      "_________________________________________________________________\n",
      "lstm (LSTM)                  multiple                  1888      \n",
      "_________________________________________________________________\n",
      "dense (Dense)                multiple                  72        \n",
      "_________________________________________________________________\n",
      "dense_1 (Dense)              multiple                  9         \n",
      "=================================================================\n",
      "Total params: 501,969\n",
      "Trainable params: 501,969\n",
      "Non-trainable params: 0\n",
      "_________________________________________________________________\n",
      "Model: \"cnn\"\n",
      "_________________________________________________________________\n",
      "Layer (type)                 Output Shape              Param #   \n",
      "=================================================================\n",
      "embedding_1 (Embedding)      multiple                  500000    \n",
      "_________________________________________________________________\n",
      "conv1d (Conv1D)              multiple                  4816      \n",
      "_________________________________________________________________\n",
      "max_pooling1d (MaxPooling1D) multiple                  0         \n",
      "_________________________________________________________________\n",
      "conv1d_1 (Conv1D)            multiple                  3104      \n",
      "_________________________________________________________________\n",
      "global_max_pooling1d (Global multiple                  0         \n",
      "_________________________________________________________________\n",
      "dense_2 (Dense)              multiple                  1056      \n",
      "_________________________________________________________________\n",
      "dense_3 (Dense)              multiple                  33        \n",
      "=================================================================\n",
      "Total params: 509,009\n",
      "Trainable params: 509,009\n",
      "Non-trainable params: 0\n",
      "_________________________________________________________________\n",
      "Model: \"global_max_pooling\"\n",
      "_________________________________________________________________\n",
      "Layer (type)                 Output Shape              Param #   \n",
      "=================================================================\n",
      "embedding_2 (Embedding)      multiple                  500000    \n",
      "_________________________________________________________________\n",
      "global_max_pooling1d_1 (Glob multiple                  0         \n",
      "_________________________________________________________________\n",
      "dense_4 (Dense)              multiple                  408       \n",
      "_________________________________________________________________\n",
      "dense_5 (Dense)              multiple                  9         \n",
      "=================================================================\n",
      "Total params: 500,417\n",
      "Trainable params: 500,417\n",
      "Non-trainable params: 0\n",
      "_________________________________________________________________\n"
     ]
    }
   ],
   "source": [
    "RNN_model = RNN()\n",
    "CNN_model = CNN()\n",
    "GlobalMaxPooling_model = GlobalMaxPooling()\n",
    "\n",
    "models = [RNN_model, CNN_model, GlobalMaxPooling_model]  # 모델 다발 생성\n",
    "\n",
    "for model in models:\n",
    "    model.build(input_shape=(512, 40))  # input_shape (batch size, token length)\n",
    "    model.summary()"
   ]
  },
  {
   "cell_type": "code",
   "execution_count": 18,
   "id": "486a9052",
   "metadata": {},
   "outputs": [
    {
     "name": "stdout",
     "output_type": "stream",
     "text": [
      "Epoch 1/20\n",
      "266/266 [==============================] - 5s 7ms/step - loss: 0.4583 - accuracy: 0.7938 - val_loss: 0.3462 - val_accuracy: 0.8498\n",
      "Epoch 2/20\n",
      "266/266 [==============================] - 1s 5ms/step - loss: 0.3313 - accuracy: 0.8608 - val_loss: 0.3413 - val_accuracy: 0.8534\n",
      "Epoch 3/20\n",
      "266/266 [==============================] - 1s 6ms/step - loss: 0.3095 - accuracy: 0.8711 - val_loss: 0.3396 - val_accuracy: 0.8539\n",
      "Epoch 4/20\n",
      "266/266 [==============================] - 1s 6ms/step - loss: 0.2928 - accuracy: 0.8797 - val_loss: 0.3426 - val_accuracy: 0.8516\n",
      "Epoch 5/20\n",
      "266/266 [==============================] - 1s 5ms/step - loss: 0.2771 - accuracy: 0.8865 - val_loss: 0.3410 - val_accuracy: 0.8563\n",
      "Epoch 6/20\n",
      "266/266 [==============================] - 1s 5ms/step - loss: 0.2633 - accuracy: 0.8934 - val_loss: 0.3538 - val_accuracy: 0.8530\n",
      "Epoch 7/20\n",
      "266/266 [==============================] - 1s 6ms/step - loss: 0.2515 - accuracy: 0.8983 - val_loss: 0.3547 - val_accuracy: 0.8547\n",
      "Epoch 8/20\n",
      "266/266 [==============================] - 1s 6ms/step - loss: 0.2382 - accuracy: 0.9050 - val_loss: 0.3600 - val_accuracy: 0.8550\n",
      "Epoch 9/20\n",
      "266/266 [==============================] - 1s 5ms/step - loss: 0.2268 - accuracy: 0.9106 - val_loss: 0.3687 - val_accuracy: 0.8514\n",
      "Epoch 10/20\n",
      "266/266 [==============================] - 1s 5ms/step - loss: 0.2162 - accuracy: 0.9152 - val_loss: 0.3789 - val_accuracy: 0.8504\n",
      "Epoch 11/20\n",
      "266/266 [==============================] - 1s 6ms/step - loss: 0.2054 - accuracy: 0.9199 - val_loss: 0.3797 - val_accuracy: 0.8539\n",
      "Epoch 12/20\n",
      "266/266 [==============================] - 1s 5ms/step - loss: 0.1942 - accuracy: 0.9258 - val_loss: 0.3979 - val_accuracy: 0.8507\n",
      "Epoch 13/20\n",
      "266/266 [==============================] - 1s 5ms/step - loss: 0.1843 - accuracy: 0.9303 - val_loss: 0.4097 - val_accuracy: 0.8499\n",
      "Epoch 14/20\n",
      "266/266 [==============================] - 1s 6ms/step - loss: 0.1758 - accuracy: 0.9336 - val_loss: 0.4222 - val_accuracy: 0.8473\n",
      "Epoch 15/20\n",
      "266/266 [==============================] - 1s 5ms/step - loss: 0.1660 - accuracy: 0.9383 - val_loss: 0.4413 - val_accuracy: 0.8492\n",
      "Epoch 16/20\n",
      "266/266 [==============================] - 1s 5ms/step - loss: 0.1585 - accuracy: 0.9412 - val_loss: 0.4647 - val_accuracy: 0.8485\n",
      "Epoch 17/20\n",
      "266/266 [==============================] - 1s 5ms/step - loss: 0.1509 - accuracy: 0.9450 - val_loss: 0.4709 - val_accuracy: 0.8450\n",
      "Epoch 18/20\n",
      "266/266 [==============================] - 1s 6ms/step - loss: 0.1444 - accuracy: 0.9476 - val_loss: 0.4962 - val_accuracy: 0.8437\n",
      "Epoch 19/20\n",
      "266/266 [==============================] - 1s 5ms/step - loss: 0.1365 - accuracy: 0.9510 - val_loss: 0.5147 - val_accuracy: 0.8473\n",
      "Epoch 20/20\n",
      "266/266 [==============================] - 1s 6ms/step - loss: 0.1304 - accuracy: 0.9534 - val_loss: 0.5354 - val_accuracy: 0.8433\n",
      "Epoch 1/20\n",
      "266/266 [==============================] - 3s 6ms/step - loss: 0.4374 - accuracy: 0.7943 - val_loss: 0.3363 - val_accuracy: 0.8545\n",
      "Epoch 2/20\n",
      "266/266 [==============================] - 1s 5ms/step - loss: 0.3008 - accuracy: 0.8736 - val_loss: 0.3282 - val_accuracy: 0.8594\n",
      "Epoch 3/20\n",
      "266/266 [==============================] - 1s 5ms/step - loss: 0.2477 - accuracy: 0.9010 - val_loss: 0.3363 - val_accuracy: 0.8589\n",
      "Epoch 4/20\n",
      "266/266 [==============================] - 1s 5ms/step - loss: 0.1851 - accuracy: 0.9307 - val_loss: 0.3695 - val_accuracy: 0.8557\n",
      "Epoch 5/20\n",
      "266/266 [==============================] - 1s 5ms/step - loss: 0.1272 - accuracy: 0.9563 - val_loss: 0.4424 - val_accuracy: 0.8458\n",
      "Epoch 6/20\n",
      "266/266 [==============================] - 1s 5ms/step - loss: 0.0870 - accuracy: 0.9718 - val_loss: 0.5179 - val_accuracy: 0.8447\n",
      "Epoch 7/20\n",
      "266/266 [==============================] - 1s 5ms/step - loss: 0.0615 - accuracy: 0.9808 - val_loss: 0.5914 - val_accuracy: 0.8397\n",
      "Epoch 8/20\n",
      "266/266 [==============================] - 1s 5ms/step - loss: 0.0458 - accuracy: 0.9858 - val_loss: 0.6575 - val_accuracy: 0.8398\n",
      "Epoch 9/20\n",
      "266/266 [==============================] - 1s 5ms/step - loss: 0.0364 - accuracy: 0.9887 - val_loss: 0.7586 - val_accuracy: 0.8348\n",
      "Epoch 10/20\n",
      "266/266 [==============================] - 1s 5ms/step - loss: 0.0296 - accuracy: 0.9906 - val_loss: 0.8162 - val_accuracy: 0.8390\n",
      "Epoch 11/20\n",
      "266/266 [==============================] - 1s 5ms/step - loss: 0.0258 - accuracy: 0.9915 - val_loss: 0.8669 - val_accuracy: 0.8336\n",
      "Epoch 12/20\n",
      "266/266 [==============================] - 1s 5ms/step - loss: 0.0260 - accuracy: 0.9911 - val_loss: 0.9488 - val_accuracy: 0.8344\n",
      "Epoch 13/20\n",
      "266/266 [==============================] - 1s 5ms/step - loss: 0.0272 - accuracy: 0.9907 - val_loss: 0.9935 - val_accuracy: 0.8339\n",
      "Epoch 14/20\n",
      "266/266 [==============================] - 1s 5ms/step - loss: 0.0284 - accuracy: 0.9904 - val_loss: 0.9981 - val_accuracy: 0.8328\n",
      "Epoch 15/20\n",
      "266/266 [==============================] - 1s 5ms/step - loss: 0.0245 - accuracy: 0.9913 - val_loss: 1.0141 - val_accuracy: 0.8360\n",
      "Epoch 16/20\n",
      "266/266 [==============================] - 1s 5ms/step - loss: 0.0214 - accuracy: 0.9926 - val_loss: 1.0407 - val_accuracy: 0.8324\n",
      "Epoch 17/20\n",
      "266/266 [==============================] - 1s 5ms/step - loss: 0.0186 - accuracy: 0.9935 - val_loss: 1.1255 - val_accuracy: 0.8320\n",
      "Epoch 18/20\n",
      "266/266 [==============================] - 1s 5ms/step - loss: 0.0164 - accuracy: 0.9942 - val_loss: 1.1383 - val_accuracy: 0.8298\n",
      "Epoch 19/20\n",
      "266/266 [==============================] - 1s 5ms/step - loss: 0.0149 - accuracy: 0.9948 - val_loss: 1.1808 - val_accuracy: 0.8294\n",
      "Epoch 20/20\n",
      "266/266 [==============================] - 1s 5ms/step - loss: 0.0153 - accuracy: 0.9945 - val_loss: 1.2699 - val_accuracy: 0.8289\n",
      "Epoch 1/20\n",
      "266/266 [==============================] - 1s 4ms/step - loss: 0.5229 - accuracy: 0.7760 - val_loss: 0.3649 - val_accuracy: 0.8392\n",
      "Epoch 2/20\n",
      "266/266 [==============================] - 1s 3ms/step - loss: 0.3346 - accuracy: 0.8570 - val_loss: 0.3387 - val_accuracy: 0.8495\n",
      "Epoch 3/20\n",
      "266/266 [==============================] - 1s 4ms/step - loss: 0.2918 - accuracy: 0.8790 - val_loss: 0.3371 - val_accuracy: 0.8530\n",
      "Epoch 4/20\n",
      "266/266 [==============================] - 1s 4ms/step - loss: 0.2627 - accuracy: 0.8931 - val_loss: 0.3464 - val_accuracy: 0.8532\n",
      "Epoch 5/20\n",
      "266/266 [==============================] - 1s 4ms/step - loss: 0.2373 - accuracy: 0.9057 - val_loss: 0.3595 - val_accuracy: 0.8515\n",
      "Epoch 6/20\n",
      "266/266 [==============================] - 1s 4ms/step - loss: 0.2141 - accuracy: 0.9165 - val_loss: 0.3708 - val_accuracy: 0.8492\n",
      "Epoch 7/20\n",
      "266/266 [==============================] - 1s 4ms/step - loss: 0.1918 - accuracy: 0.9272 - val_loss: 0.3947 - val_accuracy: 0.8455\n",
      "Epoch 8/20\n",
      "266/266 [==============================] - 1s 4ms/step - loss: 0.1703 - accuracy: 0.9378 - val_loss: 0.4156 - val_accuracy: 0.8426\n",
      "Epoch 9/20\n",
      "266/266 [==============================] - 1s 4ms/step - loss: 0.1501 - accuracy: 0.9473 - val_loss: 0.4404 - val_accuracy: 0.8400\n",
      "Epoch 10/20\n",
      "266/266 [==============================] - 1s 4ms/step - loss: 0.1314 - accuracy: 0.9550 - val_loss: 0.4727 - val_accuracy: 0.8348\n",
      "Epoch 11/20\n",
      "266/266 [==============================] - 1s 4ms/step - loss: 0.1148 - accuracy: 0.9626 - val_loss: 0.5009 - val_accuracy: 0.8344\n",
      "Epoch 12/20\n",
      "266/266 [==============================] - 1s 3ms/step - loss: 0.1004 - accuracy: 0.9681 - val_loss: 0.5378 - val_accuracy: 0.8283\n",
      "Epoch 13/20\n",
      "266/266 [==============================] - 1s 4ms/step - loss: 0.0873 - accuracy: 0.9734 - val_loss: 0.5708 - val_accuracy: 0.8306\n",
      "Epoch 14/20\n",
      "266/266 [==============================] - 1s 4ms/step - loss: 0.0765 - accuracy: 0.9770 - val_loss: 0.6113 - val_accuracy: 0.8267\n",
      "Epoch 15/20\n",
      "266/266 [==============================] - 1s 4ms/step - loss: 0.0669 - accuracy: 0.9806 - val_loss: 0.6384 - val_accuracy: 0.8289\n",
      "Epoch 16/20\n",
      "266/266 [==============================] - 1s 4ms/step - loss: 0.0590 - accuracy: 0.9836 - val_loss: 0.6743 - val_accuracy: 0.8249\n",
      "Epoch 17/20\n",
      "266/266 [==============================] - 1s 3ms/step - loss: 0.0518 - accuracy: 0.9860 - val_loss: 0.7097 - val_accuracy: 0.8228\n",
      "Epoch 18/20\n"
     ]
    },
    {
     "name": "stdout",
     "output_type": "stream",
     "text": [
      "266/266 [==============================] - 1s 3ms/step - loss: 0.0460 - accuracy: 0.9878 - val_loss: 0.7413 - val_accuracy: 0.8241\n",
      "Epoch 19/20\n",
      "266/266 [==============================] - 1s 4ms/step - loss: 0.0411 - accuracy: 0.9892 - val_loss: 0.7775 - val_accuracy: 0.8211\n",
      "Epoch 20/20\n",
      "266/266 [==============================] - 1s 4ms/step - loss: 0.0369 - accuracy: 0.9906 - val_loss: 0.8085 - val_accuracy: 0.8180\n"
     ]
    }
   ],
   "source": [
    "epochs=20\n",
    "rnn_history = None\n",
    "cnn_history = None\n",
    "max_history = None\n",
    "for model in models:\n",
    "    \n",
    "    model.compile(optimizer='adam', loss='binary_crossentropy', metrics=['accuracy'])\n",
    "    history = model.fit(partial_X_train, partial_y_train, epochs=epochs, batch_size=512, validation_data=(X_val, y_val), verbose=1)\n",
    "    if model == RNN_model:\n",
    "        rnn_history = history.history.copy()\n",
    "    elif model == CNN_model:\n",
    "        cnn_history = history.history.copy()\n",
    "    else:\n",
    "        max_history = history.history.copy()"
   ]
  },
  {
   "cell_type": "markdown",
   "id": "762f9fb8",
   "metadata": {},
   "source": [
    "### 각 모델에 대한 평가 (evaluation)"
   ]
  },
  {
   "cell_type": "code",
   "execution_count": 19,
   "id": "81da8962",
   "metadata": {},
   "outputs": [
    {
     "name": "stdout",
     "output_type": "stream",
     "text": [
      "1537/1537 - 3s - loss: 0.5523 - accuracy: 0.8397\n",
      "1537/1537 - 3s - loss: 1.3199 - accuracy: 0.8223\n",
      "1537/1537 - 2s - loss: 0.8031 - accuracy: 0.8218\n",
      "RNN의 loss는 0.5523, accuracy는 83.97%\n",
      "CNN의 loss는 1.3199, accuracy는 82.23%\n",
      "GlobalMaxPooling의 loss는 0.8031, accuracy는 82.18%\n"
     ]
    }
   ],
   "source": [
    "loss = []\n",
    "accuracy = []\n",
    "i = 0\n",
    "\n",
    "for model in models:\n",
    "    results = model.evaluate(X_test, y_test, verbose=2)\n",
    "    loss.append(results[0])\n",
    "    accuracy.append(results[1])\n",
    "\n",
    "acc_per = np.array(accuracy) * 100\n",
    "\n",
    "for model in models:\n",
    "    model_name = type(model).__name__\n",
    "    print(f\"{model_name}의 loss는 {loss[i]:.4f}, accuracy는 {acc_per[i]:.2f}%\")\n",
    "    i += 1"
   ]
  },
  {
   "cell_type": "markdown",
   "id": "7184a9c7",
   "metadata": {},
   "source": [
    "- RNN(LSTM) loss는 0.6051, accuracy는 83.97%\n",
    "- CNN(1-D) loss는 1.2218, accuracy는 82.23%\n",
    "- GlobalMaxPooling(1-D)의 loss는 0.7823, accuracy는 82.18%\n",
    "\n",
    "accuracy < 85% (need better model), or need to change parameters"
   ]
  },
  {
   "cell_type": "markdown",
   "id": "9aa0af7d",
   "metadata": {},
   "source": [
    "## 6) Loss, Accuracy 그래프 시각화"
   ]
  },
  {
   "cell_type": "code",
   "execution_count": 20,
   "id": "b39ead11",
   "metadata": {},
   "outputs": [],
   "source": [
    "histories = [rnn_history, cnn_history, max_history]"
   ]
  },
  {
   "cell_type": "code",
   "execution_count": 21,
   "id": "45989365",
   "metadata": {},
   "outputs": [
    {
     "data": {
      "image/png": "[encoded data removed]",
      "text/plain": [
       "<Figure size 720x360 with 2 Axes>"
      ]
     },
     "metadata": {
      "needs_background": "light"
     },
     "output_type": "display_data"
    },
    {
     "data": {
      "image/png": "[encoded data removed]",
      "text/plain": [
       "<Figure size 720x360 with 2 Axes>"
      ]
     },
     "metadata": {
      "needs_background": "light"
     },
     "output_type": "display_data"
    },
    {
     "data": {
      "image/png": "[encoded data removed]",
      "text/plain": [
       "<Figure size 720x360 with 2 Axes>"
      ]
     },
     "metadata": {
      "needs_background": "light"
     },
     "output_type": "display_data"
    }
   ],
   "source": [
    "titles = ['RNN', 'CNN', 'MaxPooling']\n",
    "for i, history in enumerate(histories):\n",
    "    acc = history['accuracy']\n",
    "    val_acc = history['val_accuracy']\n",
    "    loss = history['loss']\n",
    "    val_loss = history['val_loss']\n",
    "\n",
    "    epochs = range(1, len(acc) + 1)\n",
    "\n",
    "     # 그래프 크기를 조절\n",
    "    plt.figure(figsize=(10, 5))\n",
    "\n",
    "    \n",
    "    plt.subplot(1, 2, 1)\n",
    "    # \"bo\" 파란점\n",
    "    plt.plot(epochs, loss, 'bo', label='Training loss')\n",
    "    # \"b\" 파란선\n",
    "    plt.plot(epochs, val_loss, 'b', label='Validation loss')\n",
    "    plt.title(titles[i] + ' Training and validation loss')\n",
    "    plt.xlabel('Epochs')\n",
    "    plt.ylabel('Loss')\n",
    "    plt.xticks(range(1, len(epochs) + 1))  # 에포크를 정수로 표시\n",
    "    plt.legend()\n",
    "\n",
    "    plt.subplot(1, 2, 2)\n",
    "    # \"bo\" 파란점\n",
    "    plt.plot(epochs, acc, 'bo', label='Training accuracy')\n",
    "    # \"b\" 파란선\n",
    "    plt.plot(epochs, val_acc, 'b', label='Validation accuracy')\n",
    "    plt.title(titles[i] + ' Training and validation accuracy')\n",
    "    plt.xlabel('Epochs')\n",
    "    plt.ylabel('Accuracy')\n",
    "    plt.xticks(range(1, len(epochs) + 1))  # 에포크를 정수로 표시\n",
    "    plt.legend()\n",
    "\n",
    "    plt.tight_layout()\n",
    "    plt.show()\n"
   ]
  },
  {
   "cell_type": "markdown",
   "id": "89abdd1a",
   "metadata": {},
   "source": [
    "이미 epoch 2~3 쯤에서 train과 validation이 이별하고 있다, 괴리가 커지고 있다, overfitting 되고 있다\n",
    "\n",
    "초기(epoch 2~3)에 높은 성능을 보여주다가 성능이 떨어지고 있다 -> 3 epoch만 해보고 성능 파악 필요"
   ]
  },
  {
   "cell_type": "markdown",
   "id": "4446d2a0",
   "metadata": {},
   "source": [
    "## 7) 학습된 Embedding 레이어 분석"
   ]
  },
  {
   "cell_type": "code",
   "execution_count": 22,
   "id": "6b8eaedc",
   "metadata": {},
   "outputs": [
    {
     "name": "stdout",
     "output_type": "stream",
     "text": [
      "embedding layer RNN :  (10000, 50)\n",
      "embedding layer CNN :  (10000, 50)\n",
      "embedding layer GlobalMaxPooling :  (10000, 50)\n"
     ]
    }
   ],
   "source": [
    "for model in models:\n",
    "    embedding_layer = model.layers[0]\n",
    "    weights = embedding_layer.get_weights()[0]\n",
    "    model_name = type(model).__name__\n",
    "    print('embedding layer', model_name , ': ',weights.shape)"
   ]
  },
  {
   "cell_type": "code",
   "execution_count": 23,
   "id": "a98c3359",
   "metadata": {},
   "outputs": [],
   "source": [
    "def save_embedding_parameters(models, titles, index_to_word, vocab_size, word_vector_dim):\n",
    "    for i, model in enumerate(models):\n",
    "        # 학습한 Embedding 파라미터를 파일에 써서 저장합니다.\n",
    "        word2vec_file_path = f'./data/word2vec_{titles[i]}.txt'\n",
    "        f = open(word2vec_file_path, 'w')\n",
    "        f.write('{} {}\\n'.format(vocab_size-4, word_vector_dim))  # 몇개의 벡터를 얼마 사이즈로 기재할지 타이틀을 씁니다.\n",
    "\n",
    "        # 단어 개수(에서 특수문자 4개는 제외하고)만큼의 워드 벡터를 파일에 기록합니다.\n",
    "        vectors = model.get_weights()[0]\n",
    "        for i in range(4, vocab_size):\n",
    "            f.write('{} {}\\n'.format(index_to_word[i], ' '.join(map(str, list(vectors[i, :])))))\n",
    "        f.close()\n",
    "        \n",
    "save_embedding_parameters(models, titles, index_to_word, vocab_size, word_vector_dim)"
   ]
  },
  {
   "cell_type": "code",
   "execution_count": 24,
   "id": "83f9e7db",
   "metadata": {},
   "outputs": [
    {
     "name": "stdout",
     "output_type": "stream",
     "text": [
      "RNN <- 꿈\n",
      "[('조상', 0.8648788332939148), ('방학', 0.863608181476593), ('설레였', 0.850837767124176), ('ㅑ', 0.8501033186912537), ('느껴질', 0.8492550849914551), ('top', 0.8487622737884521), ('출근', 0.8466947078704834), ('석양', 0.8457915782928467), ('미장센', 0.8448550701141357), ('빌딩', 0.8440009951591492)]\n",
      "CNN <- 꿈\n",
      "[('♡♡', 0.6373936533927917), ('해냈', 0.6157087087631226), ('흑', 0.6125432848930359), ('균', 0.612472653388977), ('알모도바르', 0.6093553304672241), ('간지', 0.6012481451034546), ('각지', 0.57555091381073), ('남북', 0.5727257132530212), ('따듯', 0.5667501091957092), ('첫날', 0.5598188638687134)]\n",
      "MaxPooling <- 꿈\n",
      "[('자주', 0.7243245244026184), ('최근', 0.7045180797576904), ('기다려', 0.69212406873703), ('요', 0.6891720294952393), ('해요', 0.6671251654624939), ('에드워드', 0.6667137145996094), ('여왕', 0.6532805562019348), ('피아노', 0.6528352499008179), ('절정', 0.6468138098716736), ('오랫동안', 0.6453061103820801)]\n"
     ]
    }
   ],
   "source": [
    "from gensim.models.keyedvectors import Word2VecKeyedVectors\n",
    "\n",
    "# 각 모델들이 생각하는 '꿈'과 근접한 단어들 찾기\n",
    "for title in titles:\n",
    "    word2vec_file_path = f'./data/word2vec_{title}.txt'\n",
    "    word_vectors = Word2VecKeyedVectors.load_word2vec_format(word2vec_file_path, binary=False)\n",
    "    print(title, '<- 꿈')  \n",
    "    print(word_vectors.similar_by_word(\"꿈\"))"
   ]
  },
  {
   "cell_type": "markdown",
   "id": "2153f0f3",
   "metadata": {},
   "source": [
    "- 통일성, 유사성이 떨어진다는것을 확인"
   ]
  },
  {
   "cell_type": "markdown",
   "id": "332d6f07",
   "metadata": {},
   "source": [
    "## 8) 한국어 Word2Vec 임베딩 활용하여 성능 개선\n"
   ]
  },
  {
   "cell_type": "code",
   "execution_count": 25,
   "id": "fcb2beb2",
   "metadata": {},
   "outputs": [
    {
     "name": "stdout",
     "output_type": "stream",
     "text": [
      "pretrained embedding layer <- 꿈 \n",
      " [('인생', 0.7489830255508423), ('추억', 0.7478811144828796), ('악몽', 0.7333221435546875), ('운명', 0.7141579389572144), ('사랑', 0.7089294195175171), ('삶', 0.7056183815002441), ('세상', 0.7003714442253113), ('기쁨', 0.6934624910354614), ('마음', 0.6885642409324646), ('행복', 0.6853602528572083)]\n"
     ]
    }
   ],
   "source": [
    "from gensim.models import Word2Vec\n",
    "\n",
    "word2vec_file_path = './data/word2vec_ko.model'\n",
    "\n",
    "word_vectors = Word2Vec.load(word2vec_file_path)  # pretrained embedding model load\n",
    "print('pretrained embedding layer <- 꿈 \\n',word_vectors.wv.similar_by_word(\"꿈\"))"
   ]
  },
  {
   "cell_type": "code",
   "execution_count": 26,
   "id": "2dde23db",
   "metadata": {},
   "outputs": [
    {
     "data": {
      "text/plain": [
       "(100,)"
      ]
     },
     "execution_count": 26,
     "metadata": {},
     "output_type": "execute_result"
    }
   ],
   "source": [
    "vector = word_vectors.wv['꿈']\n",
    "vector.shape \n",
    "\n",
    "# 각 단어는 100개의 차원으로 vectorize 됨을 확인"
   ]
  },
  {
   "cell_type": "code",
   "execution_count": 27,
   "id": "ac04b587",
   "metadata": {},
   "outputs": [],
   "source": [
    "from tensorflow.keras.initializers import Constant\n",
    "\n",
    "vocab_size = 10000    # 어휘 사전의 크기(10,000개의 단어)\n",
    "word_vector_dim = 100  # 워드 벡터의 차원수 \n",
    "embedding_matrix = np.random.rand(vocab_size, word_vector_dim)\n",
    "\n",
    "# embedding_matrix에 Word2Vec 워드 벡터를 단어 하나씩마다 차례차례 카피한다.\n",
    "for i in range(4,vocab_size):\n",
    "    if index_to_word[i] in word_vectors.wv:\n",
    "        embedding_matrix[i] = word_vectors.wv[index_to_word[i]]"
   ]
  },
  {
   "cell_type": "code",
   "execution_count": 28,
   "id": "7c1aeca7",
   "metadata": {},
   "outputs": [
    {
     "data": {
      "text/plain": [
       "(10000, 100)"
      ]
     },
     "execution_count": 28,
     "metadata": {},
     "output_type": "execute_result"
    }
   ],
   "source": [
    "embedding_matrix.shape         "
   ]
  },
  {
   "cell_type": "code",
   "execution_count": 29,
   "id": "a2040ff5",
   "metadata": {},
   "outputs": [
    {
     "name": "stdout",
     "output_type": "stream",
     "text": [
      ". \n",
      " [ 1.0148797  -0.50785506 -3.01209021  0.45532331  1.18936408  1.16196549\n",
      "  2.0690465  -0.4041273  -3.67824864  5.15002871 -4.90728283 -1.17444587\n",
      " -2.04329658 -0.27965945 -3.60060024  3.71831751  1.4845506   0.3471984\n",
      "  3.05809855 -2.98130846 -2.75871563  1.69519937 -0.62313354 -2.48172998\n",
      "  1.7739619   0.90663171  3.50179338 -4.62058544 -2.70127892  0.75214028\n",
      " -6.49481773  3.31358528  0.79373801  3.56094408  0.5049091   2.51798296\n",
      "  1.08281338  2.22650957 -0.54819411 -2.45683312  5.82740164 -0.48938593\n",
      "  7.21801424 -0.25775084 -0.69435704 -0.57397074 -0.9460867   3.64878941\n",
      " -0.61506265 -4.03338385  0.41044739 -0.03049513  0.09765369 -5.68309593\n",
      "  1.61000216  1.61402714 -0.35847089  0.99730688  1.03616691 -3.59692454\n",
      "  0.92260575  0.27273268  1.30361199 -0.35995319 -2.94048095 -1.03001702\n",
      "  3.20227623 -5.205935    2.38758183 -3.1253984   1.00584948 -1.81666231\n",
      "  4.36685753 -4.05125952 -0.36159644 -0.69638383  1.12456954 -0.62755346\n",
      "  0.2120384  -4.40245962 -2.05257916 -3.70964599 -0.58846456  0.15994826\n",
      "  1.86214948  0.41658938  2.62384629  2.27760291  0.24286105  2.43245959\n",
      "  0.93387848 -2.56353784  2.40364861  0.75417507  5.33042002 -0.97711253\n",
      "  1.52398312  3.5433259   2.85789919  0.83078951]\n"
     ]
    }
   ],
   "source": [
    "print(index_to_word[4], '\\n' ,embedding_matrix[4])    # '.' 이 벡터로 변한 형태"
   ]
  },
  {
   "cell_type": "code",
   "execution_count": 30,
   "id": "07109f85",
   "metadata": {},
   "outputs": [
    {
     "name": "stdout",
     "output_type": "stream",
     "text": [
      "영화 \n",
      " [-1.80073893 -1.1790098  -2.4066596   2.13841558 -0.3537603   1.37495267\n",
      " -4.89461184 -3.65171981  0.44114441  0.78153926 -2.69688797 -1.78128517\n",
      " -2.15146542 -4.81323624  2.74659181 -2.16203237 -0.11467794 -1.24311709\n",
      "  2.39793086 -1.10606277 -0.41043055  1.95003915  0.7821002   1.58999777\n",
      "  1.6447444  -2.12650347 -1.79815948  1.7535795   0.53717697 -1.21212101\n",
      " -4.46631622  4.54883242  1.33444095 -0.90702713  1.19318891  4.15632153\n",
      "  1.97583067 -0.94375622 -0.25927249  0.34935686  1.85628748 -3.32496452\n",
      "  1.12216246  1.28365242  3.92113757  3.8023994   2.76626897  0.67293745\n",
      "  2.28536439 -5.11317158  0.32525915 -3.3079958   5.30435133 -3.88137579\n",
      " -0.32960036 -1.95275044  3.88650751 -3.54703784 -0.21991685  0.82119733\n",
      " -0.94924921  3.54721069  1.32204795 -0.70640826  0.52253807  1.46832347\n",
      " -1.10186887  2.26294088 -0.72046852 -1.76620102  5.22375774  3.0748682\n",
      "  1.09775758  3.31917334 -0.41004229 -1.7022891  -0.78379875  0.82586575\n",
      " -0.54520637  1.23553824  2.02674007 -0.65244699  1.08660543  0.89776409\n",
      "  0.79283422  3.77706265  3.02748632  5.16600227  2.64616442  2.89268684\n",
      "  1.97094405 -3.37465429 -5.26565933 -1.10414851  2.35754704 -2.35708237\n",
      " -4.81723833  3.72902226  4.62329006  1.50046134]\n"
     ]
    }
   ],
   "source": [
    "print(index_to_word[5], '\\n' ,embedding_matrix[5])    # '영화' 가 벡터로 변한 형태"
   ]
  },
  {
   "cell_type": "code",
   "execution_count": 31,
   "id": "1954c755",
   "metadata": {},
   "outputs": [],
   "source": [
    "#RNN에 사전 훈련된 embedding layer 적용\n",
    "RNN_with_embedding = RNN()\n",
    "\n",
    "fake_input = np.zeros((1, 40))\n",
    "# 가짜 입력 데이터를 통과시켜 모델을 초기화합니다\n",
    "RNN_with_embedding.predict(fake_input)\n",
    "# 사전 훈련된 임베딩을 임베딩 레이어에 적용합니다\n",
    "RNN_with_embedding.embedding_layer.set_weights([embedding_matrix])\n",
    "# 임베딩 레이어를 학습 불가능 상태로 설정합니다\n",
    "RNN_with_embedding.embedding_layer.trainable = False\n",
    "\n",
    "\n",
    "#CNN에 사전 훈련된 embedding layer 적용\n",
    "CNN_with_embedding = CNN()\n",
    "\n",
    "fake_input = np.zeros((1, 40))\n",
    "# 가짜 입력 데이터를 통과시켜 모델을 초기화합니다\n",
    "CNN_with_embedding.predict(fake_input)\n",
    "# 사전 훈련된 임베딩을 임베딩 레이어에 적용합니다\n",
    "CNN_with_embedding.embedding_layer.set_weights([embedding_matrix])\n",
    "# 임베딩 레이어를 학습 불가능 상태로 설정합니다\n",
    "CNN_with_embedding.embedding_layer.trainable = False\n",
    "\n",
    "\n",
    "#GlobalMaxPooling에 사전 훈련된 embedding layer 적용\n",
    "Maxpooling_with_embedding = GlobalMaxPooling()\n",
    "\n",
    "fake_input = np.zeros((1, 40))\n",
    "# 가짜 입력 데이터를 통과시켜 모델을 초기화합니다\n",
    "Maxpooling_with_embedding.predict(fake_input)\n",
    "# 사전 훈련된 임베딩을 임베딩 레이어에 적용합니다\n",
    "Maxpooling_with_embedding.embedding_layer.set_weights([embedding_matrix])\n",
    "# 임베딩 레이어를 학습 불가능 상태로 설정합니다\n",
    "Maxpooling_with_embedding.embedding_layer.trainable = False\n"
   ]
  },
  {
   "cell_type": "code",
   "execution_count": 32,
   "id": "d76dc810",
   "metadata": {},
   "outputs": [
    {
     "name": "stdout",
     "output_type": "stream",
     "text": [
      "Epoch 1/40\n",
      "266/266 [==============================] - 3s 6ms/step - loss: 0.6271 - accuracy: 0.6370 - val_loss: 0.5440 - val_accuracy: 0.7316\n",
      "Epoch 2/40\n",
      "266/266 [==============================] - 1s 5ms/step - loss: 0.5132 - accuracy: 0.7506 - val_loss: 0.4819 - val_accuracy: 0.7724\n",
      "Epoch 3/40\n",
      "266/266 [==============================] - 1s 5ms/step - loss: 0.4752 - accuracy: 0.7752 - val_loss: 0.4575 - val_accuracy: 0.7866\n",
      "Epoch 4/40\n",
      "266/266 [==============================] - 1s 5ms/step - loss: 0.4543 - accuracy: 0.7878 - val_loss: 0.4474 - val_accuracy: 0.7939\n",
      "Epoch 5/40\n",
      "266/266 [==============================] - 1s 5ms/step - loss: 0.4397 - accuracy: 0.7964 - val_loss: 0.4341 - val_accuracy: 0.7994\n",
      "Epoch 6/40\n",
      "266/266 [==============================] - 1s 5ms/step - loss: 0.4304 - accuracy: 0.8021 - val_loss: 0.4287 - val_accuracy: 0.8033\n",
      "Epoch 7/40\n",
      "266/266 [==============================] - 1s 5ms/step - loss: 0.4222 - accuracy: 0.8063 - val_loss: 0.4190 - val_accuracy: 0.8080\n",
      "Epoch 8/40\n",
      "266/266 [==============================] - 1s 5ms/step - loss: 0.4161 - accuracy: 0.8102 - val_loss: 0.4165 - val_accuracy: 0.8076\n",
      "Epoch 9/40\n",
      "266/266 [==============================] - 1s 5ms/step - loss: 0.4110 - accuracy: 0.8129 - val_loss: 0.4098 - val_accuracy: 0.8139\n",
      "Epoch 10/40\n",
      "266/266 [==============================] - 1s 5ms/step - loss: 0.4071 - accuracy: 0.8156 - val_loss: 0.4088 - val_accuracy: 0.8128\n",
      "Epoch 11/40\n",
      "266/266 [==============================] - 1s 5ms/step - loss: 0.4045 - accuracy: 0.8170 - val_loss: 0.4060 - val_accuracy: 0.8157\n",
      "Epoch 12/40\n",
      "266/266 [==============================] - 1s 5ms/step - loss: 0.4004 - accuracy: 0.8192 - val_loss: 0.4065 - val_accuracy: 0.8125\n",
      "Epoch 13/40\n",
      "266/266 [==============================] - 1s 5ms/step - loss: 0.3984 - accuracy: 0.8198 - val_loss: 0.4043 - val_accuracy: 0.8136\n",
      "Epoch 14/40\n",
      "266/266 [==============================] - 1s 5ms/step - loss: 0.3960 - accuracy: 0.8222 - val_loss: 0.4034 - val_accuracy: 0.8157\n",
      "Epoch 15/40\n",
      "266/266 [==============================] - 1s 5ms/step - loss: 0.3938 - accuracy: 0.8232 - val_loss: 0.4034 - val_accuracy: 0.8137\n",
      "Epoch 16/40\n",
      "266/266 [==============================] - 1s 5ms/step - loss: 0.3907 - accuracy: 0.8244 - val_loss: 0.3999 - val_accuracy: 0.8165\n",
      "Epoch 17/40\n",
      "266/266 [==============================] - 1s 5ms/step - loss: 0.3899 - accuracy: 0.8249 - val_loss: 0.4052 - val_accuracy: 0.8150\n",
      "Epoch 18/40\n",
      "266/266 [==============================] - 1s 5ms/step - loss: 0.3874 - accuracy: 0.8260 - val_loss: 0.4058 - val_accuracy: 0.8101\n",
      "Epoch 19/40\n",
      "266/266 [==============================] - 1s 5ms/step - loss: 0.3853 - accuracy: 0.8276 - val_loss: 0.3963 - val_accuracy: 0.8179\n",
      "Epoch 20/40\n",
      "266/266 [==============================] - 1s 5ms/step - loss: 0.3845 - accuracy: 0.8283 - val_loss: 0.3956 - val_accuracy: 0.8203\n",
      "Epoch 21/40\n",
      "266/266 [==============================] - 1s 5ms/step - loss: 0.3823 - accuracy: 0.8290 - val_loss: 0.3955 - val_accuracy: 0.8218\n",
      "Epoch 22/40\n",
      "266/266 [==============================] - 1s 5ms/step - loss: 0.3819 - accuracy: 0.8294 - val_loss: 0.3962 - val_accuracy: 0.8181\n",
      "Epoch 23/40\n",
      "266/266 [==============================] - 1s 5ms/step - loss: 0.3798 - accuracy: 0.8303 - val_loss: 0.3947 - val_accuracy: 0.8208\n",
      "Epoch 24/40\n",
      "266/266 [==============================] - 1s 5ms/step - loss: 0.3791 - accuracy: 0.8307 - val_loss: 0.3949 - val_accuracy: 0.8186\n",
      "Epoch 25/40\n",
      "266/266 [==============================] - 1s 5ms/step - loss: 0.3780 - accuracy: 0.8317 - val_loss: 0.3938 - val_accuracy: 0.8199\n",
      "Epoch 26/40\n",
      "266/266 [==============================] - 1s 5ms/step - loss: 0.3766 - accuracy: 0.8321 - val_loss: 0.3936 - val_accuracy: 0.8239\n",
      "Epoch 27/40\n",
      "266/266 [==============================] - 1s 5ms/step - loss: 0.3759 - accuracy: 0.8321 - val_loss: 0.3906 - val_accuracy: 0.8218\n",
      "Epoch 28/40\n",
      "266/266 [==============================] - 1s 5ms/step - loss: 0.3746 - accuracy: 0.8335 - val_loss: 0.3915 - val_accuracy: 0.8217\n",
      "Epoch 29/40\n",
      "266/266 [==============================] - 1s 5ms/step - loss: 0.3745 - accuracy: 0.8335 - val_loss: 0.3901 - val_accuracy: 0.8241\n",
      "Epoch 30/40\n",
      "266/266 [==============================] - 1s 5ms/step - loss: 0.3732 - accuracy: 0.8342 - val_loss: 0.3922 - val_accuracy: 0.8223\n",
      "Epoch 31/40\n",
      "266/266 [==============================] - 1s 5ms/step - loss: 0.3720 - accuracy: 0.8347 - val_loss: 0.3922 - val_accuracy: 0.8190\n",
      "Epoch 32/40\n",
      "266/266 [==============================] - 1s 5ms/step - loss: 0.3721 - accuracy: 0.8345 - val_loss: 0.3900 - val_accuracy: 0.8220\n",
      "Epoch 33/40\n",
      "266/266 [==============================] - 1s 5ms/step - loss: 0.3705 - accuracy: 0.8351 - val_loss: 0.3916 - val_accuracy: 0.8243\n",
      "Epoch 34/40\n",
      "266/266 [==============================] - 1s 5ms/step - loss: 0.3701 - accuracy: 0.8353 - val_loss: 0.3893 - val_accuracy: 0.8237\n",
      "Epoch 35/40\n",
      "266/266 [==============================] - 1s 5ms/step - loss: 0.3700 - accuracy: 0.8353 - val_loss: 0.3924 - val_accuracy: 0.8209\n",
      "Epoch 36/40\n",
      "266/266 [==============================] - 1s 5ms/step - loss: 0.3691 - accuracy: 0.8357 - val_loss: 0.3899 - val_accuracy: 0.8238\n",
      "Epoch 37/40\n",
      "266/266 [==============================] - 1s 5ms/step - loss: 0.3684 - accuracy: 0.8367 - val_loss: 0.3887 - val_accuracy: 0.8235\n",
      "Epoch 38/40\n",
      "266/266 [==============================] - 1s 5ms/step - loss: 0.3681 - accuracy: 0.8372 - val_loss: 0.3872 - val_accuracy: 0.8264\n",
      "Epoch 39/40\n",
      "266/266 [==============================] - 1s 5ms/step - loss: 0.3676 - accuracy: 0.8368 - val_loss: 0.3892 - val_accuracy: 0.8257\n",
      "Epoch 40/40\n",
      "266/266 [==============================] - 1s 5ms/step - loss: 0.3664 - accuracy: 0.8376 - val_loss: 0.3854 - val_accuracy: 0.8256\n",
      "Epoch 1/40\n",
      "266/266 [==============================] - 2s 5ms/step - loss: 0.5864 - accuracy: 0.6806 - val_loss: 0.5328 - val_accuracy: 0.7345\n",
      "Epoch 2/40\n",
      "266/266 [==============================] - 1s 4ms/step - loss: 0.5075 - accuracy: 0.7511 - val_loss: 0.5040 - val_accuracy: 0.7575\n",
      "Epoch 3/40\n",
      "266/266 [==============================] - 1s 4ms/step - loss: 0.4794 - accuracy: 0.7701 - val_loss: 0.4909 - val_accuracy: 0.7625\n",
      "Epoch 4/40\n",
      "266/266 [==============================] - 1s 4ms/step - loss: 0.4586 - accuracy: 0.7823 - val_loss: 0.4694 - val_accuracy: 0.7756\n",
      "Epoch 5/40\n",
      "266/266 [==============================] - 1s 4ms/step - loss: 0.4435 - accuracy: 0.7907 - val_loss: 0.4652 - val_accuracy: 0.7806\n",
      "Epoch 6/40\n",
      "266/266 [==============================] - 1s 4ms/step - loss: 0.4315 - accuracy: 0.7986 - val_loss: 0.4571 - val_accuracy: 0.7845\n",
      "Epoch 7/40\n",
      "266/266 [==============================] - 1s 4ms/step - loss: 0.4205 - accuracy: 0.8043 - val_loss: 0.4544 - val_accuracy: 0.7879\n",
      "Epoch 8/40\n",
      "266/266 [==============================] - 1s 4ms/step - loss: 0.4122 - accuracy: 0.8087 - val_loss: 0.4510 - val_accuracy: 0.7905\n",
      "Epoch 9/40\n",
      "266/266 [==============================] - 1s 4ms/step - loss: 0.4043 - accuracy: 0.8139 - val_loss: 0.4480 - val_accuracy: 0.7935\n",
      "Epoch 10/40\n",
      "266/266 [==============================] - 1s 4ms/step - loss: 0.3989 - accuracy: 0.8165 - val_loss: 0.4469 - val_accuracy: 0.7927\n",
      "Epoch 11/40\n",
      "266/266 [==============================] - 1s 4ms/step - loss: 0.3942 - accuracy: 0.8200 - val_loss: 0.4509 - val_accuracy: 0.7901\n",
      "Epoch 12/40\n",
      "266/266 [==============================] - 1s 4ms/step - loss: 0.3885 - accuracy: 0.8230 - val_loss: 0.4471 - val_accuracy: 0.7953\n",
      "Epoch 13/40\n",
      "266/266 [==============================] - 1s 4ms/step - loss: 0.3836 - accuracy: 0.8254 - val_loss: 0.4444 - val_accuracy: 0.7953\n",
      "Epoch 14/40\n",
      "266/266 [==============================] - 1s 4ms/step - loss: 0.3808 - accuracy: 0.8266 - val_loss: 0.4605 - val_accuracy: 0.7850\n",
      "Epoch 15/40\n",
      "266/266 [==============================] - 1s 4ms/step - loss: 0.3760 - accuracy: 0.8289 - val_loss: 0.4478 - val_accuracy: 0.7965\n",
      "Epoch 16/40\n",
      "266/266 [==============================] - 1s 4ms/step - loss: 0.3735 - accuracy: 0.8299 - val_loss: 0.4483 - val_accuracy: 0.7974\n",
      "Epoch 17/40\n",
      "266/266 [==============================] - 1s 4ms/step - loss: 0.3708 - accuracy: 0.8310 - val_loss: 0.4550 - val_accuracy: 0.7956\n",
      "Epoch 18/40\n"
     ]
    },
    {
     "name": "stdout",
     "output_type": "stream",
     "text": [
      "266/266 [==============================] - 1s 4ms/step - loss: 0.3665 - accuracy: 0.8335 - val_loss: 0.4532 - val_accuracy: 0.7944\n",
      "Epoch 19/40\n",
      "266/266 [==============================] - 1s 4ms/step - loss: 0.3648 - accuracy: 0.8346 - val_loss: 0.4652 - val_accuracy: 0.7871\n",
      "Epoch 20/40\n",
      "266/266 [==============================] - 1s 4ms/step - loss: 0.3625 - accuracy: 0.8353 - val_loss: 0.4596 - val_accuracy: 0.7959\n",
      "Epoch 21/40\n",
      "266/266 [==============================] - 1s 4ms/step - loss: 0.3613 - accuracy: 0.8359 - val_loss: 0.4628 - val_accuracy: 0.7933\n",
      "Epoch 22/40\n",
      "266/266 [==============================] - 1s 4ms/step - loss: 0.3583 - accuracy: 0.8377 - val_loss: 0.4509 - val_accuracy: 0.7942\n",
      "Epoch 23/40\n",
      "266/266 [==============================] - 1s 4ms/step - loss: 0.3562 - accuracy: 0.8388 - val_loss: 0.4583 - val_accuracy: 0.7933\n",
      "Epoch 24/40\n",
      "266/266 [==============================] - 1s 4ms/step - loss: 0.3553 - accuracy: 0.8400 - val_loss: 0.4633 - val_accuracy: 0.7919\n",
      "Epoch 25/40\n",
      "266/266 [==============================] - 1s 4ms/step - loss: 0.3531 - accuracy: 0.8414 - val_loss: 0.4637 - val_accuracy: 0.7892\n",
      "Epoch 26/40\n",
      "266/266 [==============================] - 1s 4ms/step - loss: 0.3510 - accuracy: 0.8418 - val_loss: 0.4630 - val_accuracy: 0.7886\n",
      "Epoch 27/40\n",
      "266/266 [==============================] - 1s 4ms/step - loss: 0.3492 - accuracy: 0.8431 - val_loss: 0.4737 - val_accuracy: 0.7924\n",
      "Epoch 28/40\n",
      "266/266 [==============================] - 1s 4ms/step - loss: 0.3473 - accuracy: 0.8444 - val_loss: 0.4665 - val_accuracy: 0.7910\n",
      "Epoch 29/40\n",
      "266/266 [==============================] - 1s 4ms/step - loss: 0.3465 - accuracy: 0.8444 - val_loss: 0.4670 - val_accuracy: 0.7938\n",
      "Epoch 30/40\n",
      "266/266 [==============================] - 1s 4ms/step - loss: 0.3438 - accuracy: 0.8458 - val_loss: 0.4657 - val_accuracy: 0.7938\n",
      "Epoch 31/40\n",
      "266/266 [==============================] - 1s 4ms/step - loss: 0.3439 - accuracy: 0.8458 - val_loss: 0.4705 - val_accuracy: 0.7917\n",
      "Epoch 32/40\n",
      "266/266 [==============================] - 1s 4ms/step - loss: 0.3428 - accuracy: 0.8462 - val_loss: 0.4676 - val_accuracy: 0.7902\n",
      "Epoch 33/40\n",
      "266/266 [==============================] - 1s 4ms/step - loss: 0.3401 - accuracy: 0.8468 - val_loss: 0.4736 - val_accuracy: 0.7922\n",
      "Epoch 34/40\n",
      "266/266 [==============================] - 1s 4ms/step - loss: 0.3393 - accuracy: 0.8478 - val_loss: 0.4733 - val_accuracy: 0.7930\n",
      "Epoch 35/40\n",
      "266/266 [==============================] - 1s 4ms/step - loss: 0.3375 - accuracy: 0.8489 - val_loss: 0.4722 - val_accuracy: 0.7930\n",
      "Epoch 36/40\n",
      "266/266 [==============================] - 1s 4ms/step - loss: 0.3364 - accuracy: 0.8501 - val_loss: 0.4792 - val_accuracy: 0.7928\n",
      "Epoch 37/40\n",
      "266/266 [==============================] - 1s 4ms/step - loss: 0.3357 - accuracy: 0.8499 - val_loss: 0.4756 - val_accuracy: 0.7936\n",
      "Epoch 38/40\n",
      "266/266 [==============================] - 1s 4ms/step - loss: 0.3338 - accuracy: 0.8508 - val_loss: 0.4835 - val_accuracy: 0.7890\n",
      "Epoch 39/40\n",
      "266/266 [==============================] - 1s 4ms/step - loss: 0.3336 - accuracy: 0.8509 - val_loss: 0.4812 - val_accuracy: 0.7930\n",
      "Epoch 40/40\n",
      "266/266 [==============================] - 1s 4ms/step - loss: 0.3326 - accuracy: 0.8514 - val_loss: 0.4848 - val_accuracy: 0.7922\n",
      "Epoch 1/40\n",
      "266/266 [==============================] - 1s 3ms/step - loss: 0.7753 - accuracy: 0.5798 - val_loss: 0.6748 - val_accuracy: 0.6145\n",
      "Epoch 2/40\n",
      "266/266 [==============================] - 1s 3ms/step - loss: 0.6441 - accuracy: 0.6367 - val_loss: 0.6349 - val_accuracy: 0.6468\n",
      "Epoch 3/40\n",
      "266/266 [==============================] - 1s 2ms/step - loss: 0.6225 - accuracy: 0.6546 - val_loss: 0.6276 - val_accuracy: 0.6517\n",
      "Epoch 4/40\n",
      "266/266 [==============================] - 1s 2ms/step - loss: 0.6149 - accuracy: 0.6612 - val_loss: 0.6182 - val_accuracy: 0.6602\n",
      "Epoch 5/40\n",
      "266/266 [==============================] - 1s 2ms/step - loss: 0.6118 - accuracy: 0.6644 - val_loss: 0.6238 - val_accuracy: 0.6548\n",
      "Epoch 6/40\n",
      "266/266 [==============================] - 1s 3ms/step - loss: 0.6104 - accuracy: 0.6649 - val_loss: 0.6152 - val_accuracy: 0.6609\n",
      "Epoch 7/40\n",
      "266/266 [==============================] - 1s 2ms/step - loss: 0.6089 - accuracy: 0.6672 - val_loss: 0.6164 - val_accuracy: 0.6587\n",
      "Epoch 8/40\n",
      "266/266 [==============================] - 1s 2ms/step - loss: 0.6092 - accuracy: 0.6666 - val_loss: 0.6145 - val_accuracy: 0.6595\n",
      "Epoch 9/40\n",
      "266/266 [==============================] - 1s 2ms/step - loss: 0.6075 - accuracy: 0.6696 - val_loss: 0.6216 - val_accuracy: 0.6584\n",
      "Epoch 10/40\n",
      "266/266 [==============================] - 1s 3ms/step - loss: 0.6074 - accuracy: 0.6694 - val_loss: 0.6119 - val_accuracy: 0.6625\n",
      "Epoch 11/40\n",
      "266/266 [==============================] - 1s 2ms/step - loss: 0.6064 - accuracy: 0.6706 - val_loss: 0.6126 - val_accuracy: 0.6606\n",
      "Epoch 12/40\n",
      "266/266 [==============================] - 1s 3ms/step - loss: 0.6063 - accuracy: 0.6714 - val_loss: 0.6117 - val_accuracy: 0.6626\n",
      "Epoch 13/40\n",
      "266/266 [==============================] - 1s 3ms/step - loss: 0.6056 - accuracy: 0.6711 - val_loss: 0.6195 - val_accuracy: 0.6638\n",
      "Epoch 14/40\n",
      "266/266 [==============================] - 1s 3ms/step - loss: 0.6050 - accuracy: 0.6710 - val_loss: 0.6103 - val_accuracy: 0.6653\n",
      "Epoch 15/40\n",
      "266/266 [==============================] - 1s 2ms/step - loss: 0.6045 - accuracy: 0.6718 - val_loss: 0.6125 - val_accuracy: 0.6659\n",
      "Epoch 16/40\n",
      "266/266 [==============================] - 1s 2ms/step - loss: 0.6050 - accuracy: 0.6710 - val_loss: 0.6127 - val_accuracy: 0.6664\n",
      "Epoch 17/40\n",
      "266/266 [==============================] - 1s 3ms/step - loss: 0.6038 - accuracy: 0.6726 - val_loss: 0.6102 - val_accuracy: 0.6657\n",
      "Epoch 18/40\n",
      "266/266 [==============================] - 1s 3ms/step - loss: 0.6041 - accuracy: 0.6718 - val_loss: 0.6107 - val_accuracy: 0.6671\n",
      "Epoch 19/40\n",
      "266/266 [==============================] - 1s 3ms/step - loss: 0.6038 - accuracy: 0.6723 - val_loss: 0.6080 - val_accuracy: 0.6676\n",
      "Epoch 20/40\n",
      "266/266 [==============================] - 1s 3ms/step - loss: 0.6044 - accuracy: 0.6711 - val_loss: 0.6123 - val_accuracy: 0.6623\n",
      "Epoch 21/40\n",
      "266/266 [==============================] - 1s 3ms/step - loss: 0.6036 - accuracy: 0.6724 - val_loss: 0.6076 - val_accuracy: 0.6665\n",
      "Epoch 22/40\n",
      "266/266 [==============================] - 1s 3ms/step - loss: 0.6031 - accuracy: 0.6722 - val_loss: 0.6084 - val_accuracy: 0.6698\n",
      "Epoch 23/40\n",
      "266/266 [==============================] - 1s 3ms/step - loss: 0.6031 - accuracy: 0.6733 - val_loss: 0.6102 - val_accuracy: 0.6681\n",
      "Epoch 24/40\n",
      "266/266 [==============================] - 1s 3ms/step - loss: 0.6028 - accuracy: 0.6728 - val_loss: 0.6089 - val_accuracy: 0.6652\n",
      "Epoch 25/40\n",
      "266/266 [==============================] - 1s 3ms/step - loss: 0.6023 - accuracy: 0.6726 - val_loss: 0.6070 - val_accuracy: 0.6660\n",
      "Epoch 26/40\n",
      "266/266 [==============================] - 1s 3ms/step - loss: 0.6029 - accuracy: 0.6721 - val_loss: 0.6083 - val_accuracy: 0.6652\n",
      "Epoch 27/40\n",
      "266/266 [==============================] - 1s 3ms/step - loss: 0.6019 - accuracy: 0.6732 - val_loss: 0.6105 - val_accuracy: 0.6608\n",
      "Epoch 28/40\n",
      "266/266 [==============================] - 1s 3ms/step - loss: 0.6015 - accuracy: 0.6737 - val_loss: 0.6055 - val_accuracy: 0.6680\n",
      "Epoch 29/40\n",
      "266/266 [==============================] - 1s 3ms/step - loss: 0.6020 - accuracy: 0.6738 - val_loss: 0.6066 - val_accuracy: 0.6686\n",
      "Epoch 30/40\n",
      "266/266 [==============================] - 1s 3ms/step - loss: 0.6012 - accuracy: 0.6737 - val_loss: 0.6057 - val_accuracy: 0.6675\n",
      "Epoch 31/40\n",
      "266/266 [==============================] - 1s 3ms/step - loss: 0.6007 - accuracy: 0.6749 - val_loss: 0.6075 - val_accuracy: 0.6699\n",
      "Epoch 32/40\n",
      "266/266 [==============================] - 1s 3ms/step - loss: 0.6011 - accuracy: 0.6744 - val_loss: 0.6053 - val_accuracy: 0.6702\n",
      "Epoch 33/40\n",
      "266/266 [==============================] - 1s 3ms/step - loss: 0.6007 - accuracy: 0.6752 - val_loss: 0.6057 - val_accuracy: 0.6691\n",
      "Epoch 34/40\n",
      "266/266 [==============================] - 1s 3ms/step - loss: 0.6005 - accuracy: 0.6752 - val_loss: 0.6049 - val_accuracy: 0.6702\n",
      "Epoch 35/40\n"
     ]
    },
    {
     "name": "stdout",
     "output_type": "stream",
     "text": [
      "266/266 [==============================] - 1s 3ms/step - loss: 0.6010 - accuracy: 0.6738 - val_loss: 0.6063 - val_accuracy: 0.6717\n",
      "Epoch 36/40\n",
      "266/266 [==============================] - 1s 3ms/step - loss: 0.6011 - accuracy: 0.6731 - val_loss: 0.6065 - val_accuracy: 0.6689\n",
      "Epoch 37/40\n",
      "266/266 [==============================] - 1s 2ms/step - loss: 0.5999 - accuracy: 0.6748 - val_loss: 0.6063 - val_accuracy: 0.6662\n",
      "Epoch 38/40\n",
      "266/266 [==============================] - 1s 3ms/step - loss: 0.6005 - accuracy: 0.6753 - val_loss: 0.6075 - val_accuracy: 0.6653\n",
      "Epoch 39/40\n",
      "266/266 [==============================] - 1s 3ms/step - loss: 0.6005 - accuracy: 0.6735 - val_loss: 0.6051 - val_accuracy: 0.6673\n",
      "Epoch 40/40\n",
      "266/266 [==============================] - 1s 2ms/step - loss: 0.6000 - accuracy: 0.6757 - val_loss: 0.6050 - val_accuracy: 0.6694\n"
     ]
    }
   ],
   "source": [
    "embedded_models = [RNN_with_embedding, CNN_with_embedding, Maxpooling_with_embedding]\n",
    "\n",
    "epochs=40 \n",
    "e_rnn_history = None\n",
    "e_cnn_history = None\n",
    "e_max_history = None\n",
    "\n",
    "for model in embedded_models:\n",
    "    \n",
    "    model.compile(optimizer='adam', loss='binary_crossentropy', metrics=['accuracy'])\n",
    "    history = model.fit(partial_X_train, partial_y_train, epochs=epochs, batch_size=512, validation_data=(X_val, y_val), verbose=1)\n",
    "    if model == RNN_with_embedding:\n",
    "        e_rnn_history = history.history.copy()\n",
    "    elif model == CNN_with_embedding:\n",
    "        e_cnn_history = history.history.copy()\n",
    "    else:\n",
    "        e_max_history = history.history.copy()"
   ]
  },
  {
   "cell_type": "code",
   "execution_count": 33,
   "id": "b1aea23c",
   "metadata": {},
   "outputs": [
    {
     "name": "stdout",
     "output_type": "stream",
     "text": [
      "1537/1537 - 3s - loss: 0.3937 - accuracy: 0.8234\n",
      "1537/1537 - 3s - loss: 0.4885 - accuracy: 0.7876\n",
      "1537/1537 - 2s - loss: 0.6012 - accuracy: 0.6752\n",
      "embedded RNN의 loss는 0.3937, accuracy는 82.34%\n",
      "embedded CNN의 loss는 0.4885, accuracy는 78.76%\n",
      "embedded GlobalMaxPooling의 loss는 0.6012, accuracy는 67.52%\n"
     ]
    }
   ],
   "source": [
    "loss = []\n",
    "accuracy = []\n",
    "i = 0\n",
    "\n",
    "for model in embedded_models:\n",
    "    results = model.evaluate(X_test, y_test, verbose=2)\n",
    "    loss.append(results[0])\n",
    "    accuracy.append(results[1])\n",
    "\n",
    "acc_per = np.array(accuracy) * 100\n",
    "\n",
    "for model in embedded_models:\n",
    "    model_name = type(model).__name__\n",
    "    print(f\"embedded {model_name}의 loss는 {loss[i]:.4f}, accuracy는 {acc_per[i]:.2f}%\")\n",
    "    i += 1"
   ]
  },
  {
   "cell_type": "markdown",
   "id": "94fe828a",
   "metadata": {},
   "source": [
    "임베딩을 하고나서 오히려 동일조건 대비 20에포크 까지에서는 정확도가 모든 모델에서 떨어졌다\n",
    "\n",
    "validation을 확인해 봐야겠다"
   ]
  },
  {
   "cell_type": "code",
   "execution_count": 34,
   "id": "e0d568a5",
   "metadata": {},
   "outputs": [],
   "source": [
    "e_histories = [e_rnn_history, e_cnn_history, e_max_history]"
   ]
  },
  {
   "cell_type": "code",
   "execution_count": 35,
   "id": "64bb33e9",
   "metadata": {},
   "outputs": [
    {
     "data": {
      "image/png": "[encoded data removed]",
      "text/plain": [
       "<Figure size 720x360 with 2 Axes>"
      ]
     },
     "metadata": {
      "needs_background": "light"
     },
     "output_type": "display_data"
    },
    {
     "data": {
      "image/png": "[encoded data removed]",
      "text/plain": [
       "<Figure size 720x360 with 2 Axes>"
      ]
     },
     "metadata": {
      "needs_background": "light"
     },
     "output_type": "display_data"
    },
    {
     "data": {
      "image/png": "[encoded data removed]",
      "text/plain": [
       "<Figure size 720x360 with 2 Axes>"
      ]
     },
     "metadata": {
      "needs_background": "light"
     },
     "output_type": "display_data"
    }
   ],
   "source": [
    "e_titles = ['e-RNN', 'e-CNN', 'e-MaxPooling']\n",
    "for i, history in enumerate(e_histories):\n",
    "    acc = history['accuracy']\n",
    "    val_acc = history['val_accuracy']\n",
    "    loss = history['loss']\n",
    "    val_loss = history['val_loss']\n",
    "\n",
    "    epochs = range(1, len(acc) + 1)\n",
    "\n",
    "     # 그래프 크기를 조절\n",
    "    plt.figure(figsize=(10, 5))\n",
    "\n",
    "    \n",
    "    plt.subplot(1, 2, 1)\n",
    "    # \"bo\" 파란점\n",
    "    plt.plot(epochs, loss, 'bo', label='Training loss')\n",
    "    # \"b\" 파란선\n",
    "    plt.plot(epochs, val_loss, 'b', label='Validation loss')\n",
    "    plt.title(e_titles[i] + ' Training and validation loss')\n",
    "    plt.xlabel('Epochs')\n",
    "    plt.ylabel('Loss')\n",
    "    plt.xticks(range(1, len(epochs) + 1))  # 에포크를 정수로 표시\n",
    "    plt.legend()\n",
    "\n",
    "    plt.subplot(1, 2, 2)\n",
    "    # \"bo\" 파란점\n",
    "    plt.plot(epochs, acc, 'bo', label='Training accuracy')\n",
    "    # \"b\" 파란선\n",
    "    plt.plot(epochs, val_acc, 'b', label='Validation accuracy')\n",
    "    plt.title(e_titles[i] + ' Training and validation accuracy')\n",
    "    plt.xlabel('Epochs')\n",
    "    plt.ylabel('Accuracy')\n",
    "    plt.xticks(range(1, len(epochs) + 1))  # 에포크를 정수로 표시\n",
    "    plt.legend()\n",
    "\n",
    "    plt.tight_layout()\n",
    "    plt.show()"
   ]
  },
  {
   "cell_type": "markdown",
   "id": "465d18c4",
   "metadata": {},
   "source": [
    "embedded layer가 포함된 RNN과 GlobalMaxpooling 모델은 validation 이 train 을 잘 따라왔다. \n",
    "\n",
    "- 하지만 epoch가 커짐에 따라 overfitting 되지 않는다 뿐이지 성능은 가장 잘 학습된 'e-RNN'(RNN with pretrained embedded layer' 기준으로도 83%에 못 미치는 성능을 보였다.\n",
    "\n",
    "- 생각해볼점: embedded layer의 값이 변하지 않도록 강제하는 행위가 학습률을 떨어뜨린것 같은데, 이렇게 함으로써 train data나 test data나 pre-trained model의 validation set처럼 작용했던것이 아닐까, 혹은 저 pre-trained layer가 생성 될때는 복잡한 후반 과정이 있었는데, 내 모델은 그에 못 미치는 복잡도를 갖고 있기 때문에 모델이 pre-trained layer의 깊은 뜻(예를들면, 단어의 유사도)을 이해하지 못하는 것이 아닌가 싶은 생각이 든다."
   ]
  },
  {
   "cell_type": "markdown",
   "id": "92459fc0",
   "metadata": {},
   "source": [
    "## ※ 가장 validation accuracy가 높았던 상황을 재현하고 성능을 알아보자"
   ]
  },
  {
   "cell_type": "markdown",
   "id": "17f486b9",
   "metadata": {},
   "source": [
    "### (1) vanila models with 2 epochs"
   ]
  },
  {
   "cell_type": "code",
   "execution_count": 38,
   "id": "ee6f9918",
   "metadata": {},
   "outputs": [
    {
     "name": "stdout",
     "output_type": "stream",
     "text": [
      "Epoch 1/2\n",
      "266/266 [==============================] - 3s 8ms/step - loss: 0.4494 - accuracy: 0.8033 - val_loss: 0.3455 - val_accuracy: 0.8485\n",
      "Epoch 2/2\n",
      "266/266 [==============================] - 2s 6ms/step - loss: 0.3241 - accuracy: 0.8630 - val_loss: 0.3323 - val_accuracy: 0.8558\n",
      "1537/1537 - 3s - loss: 0.3481 - accuracy: 0.8500\n",
      "Epoch 1/2\n",
      "266/266 [==============================] - 2s 6ms/step - loss: 0.4267 - accuracy: 0.8015 - val_loss: 0.3265 - val_accuracy: 0.8580\n",
      "Epoch 2/2\n",
      "266/266 [==============================] - 1s 5ms/step - loss: 0.2881 - accuracy: 0.8798 - val_loss: 0.3171 - val_accuracy: 0.8633\n",
      "1537/1537 - 3s - loss: 0.3328 - accuracy: 0.8586\n",
      "Epoch 1/2\n",
      "266/266 [==============================] - 2s 5ms/step - loss: 0.4997 - accuracy: 0.7813 - val_loss: 0.3511 - val_accuracy: 0.8462\n",
      "Epoch 2/2\n",
      "266/266 [==============================] - 1s 4ms/step - loss: 0.3241 - accuracy: 0.8627 - val_loss: 0.3312 - val_accuracy: 0.8526\n",
      "1537/1537 - 2s - loss: 0.3463 - accuracy: 0.8511\n",
      "RNN_with_2_epochs의 loss는 0.3481, accuracy는 85.00%\n",
      "CNN_with_2_epochs의 loss는 0.3328, accuracy는 85.86%\n",
      "GlobalMaxPooling_with_2_epochs의 loss는 0.3463, accuracy는 85.11%\n"
     ]
    }
   ],
   "source": [
    "epochs=2     \n",
    "\n",
    "RNN_model_2 = RNN()\n",
    "CNN_model_2 = CNN()\n",
    "GlobalMaxPooling_model_2 = GlobalMaxPooling()\n",
    "\n",
    "models_2 = [RNN_model_2, CNN_model_2, GlobalMaxPooling_model_2]  # 모델 다발 생성\n",
    "\n",
    "loss = []\n",
    "accuracy = []\n",
    "i = 0\n",
    "\n",
    "for model in models_2:\n",
    "    \n",
    "    model.compile(optimizer='adam', loss='binary_crossentropy', metrics=['accuracy'])\n",
    "    model.fit(partial_X_train, partial_y_train, epochs=epochs, batch_size=512, validation_data=(X_val, y_val), verbose=1)\n",
    "    results = model.evaluate(X_test, y_test, verbose=2)\n",
    "    loss.append(results[0])\n",
    "    accuracy.append(results[1])\n",
    "\n",
    "acc_per = np.array(accuracy) * 100\n",
    "\n",
    "for model in models_2:\n",
    "    model_name = type(model).__name__\n",
    "    print(f\"{model_name}_with_2_epochs의 loss는 {loss[i]:.4f}, accuracy는 {acc_per[i]:.2f}%\")\n",
    "    i += 1"
   ]
  },
  {
   "cell_type": "markdown",
   "id": "2d6b39c6",
   "metadata": {},
   "source": [
    "### (2) vanila models with 3 epochs"
   ]
  },
  {
   "cell_type": "code",
   "execution_count": 39,
   "id": "1abba04a",
   "metadata": {},
   "outputs": [
    {
     "name": "stdout",
     "output_type": "stream",
     "text": [
      "Epoch 1/3\n",
      "266/266 [==============================] - 3s 8ms/step - loss: 0.4479 - accuracy: 0.8043 - val_loss: 0.3481 - val_accuracy: 0.8488\n",
      "Epoch 2/3\n",
      "266/266 [==============================] - 2s 6ms/step - loss: 0.3243 - accuracy: 0.8621 - val_loss: 0.3308 - val_accuracy: 0.8539\n",
      "Epoch 3/3\n",
      "266/266 [==============================] - 2s 6ms/step - loss: 0.2994 - accuracy: 0.8733 - val_loss: 0.3279 - val_accuracy: 0.8558\n",
      "1537/1537 - 3s - loss: 0.3411 - accuracy: 0.8513\n",
      "Epoch 1/3\n",
      "266/266 [==============================] - 2s 6ms/step - loss: 0.4366 - accuracy: 0.7908 - val_loss: 0.3369 - val_accuracy: 0.8479\n",
      "Epoch 2/3\n",
      "266/266 [==============================] - 1s 5ms/step - loss: 0.2960 - accuracy: 0.8755 - val_loss: 0.3193 - val_accuracy: 0.8592\n",
      "Epoch 3/3\n",
      "266/266 [==============================] - 1s 5ms/step - loss: 0.2325 - accuracy: 0.9071 - val_loss: 0.3363 - val_accuracy: 0.8597\n",
      "1537/1537 - 3s - loss: 0.3451 - accuracy: 0.8546\n",
      "Epoch 1/3\n",
      "266/266 [==============================] - 2s 4ms/step - loss: 0.4902 - accuracy: 0.7772 - val_loss: 0.3474 - val_accuracy: 0.8466\n",
      "Epoch 2/3\n",
      "266/266 [==============================] - 1s 4ms/step - loss: 0.3208 - accuracy: 0.8635 - val_loss: 0.3308 - val_accuracy: 0.8562\n",
      "Epoch 3/3\n",
      "266/266 [==============================] - 1s 4ms/step - loss: 0.2783 - accuracy: 0.8852 - val_loss: 0.3346 - val_accuracy: 0.8561\n",
      "1537/1537 - 2s - loss: 0.3461 - accuracy: 0.8524\n",
      "RNN_with_3_epochs의 loss는 0.3411, accuracy는 85.13%\n",
      "CNN_with_3_epochs의 loss는 0.3451, accuracy는 85.46%\n",
      "GlobalMaxPooling_with_3_epochs의 loss는 0.3461, accuracy는 85.24%\n"
     ]
    }
   ],
   "source": [
    "epochs=3      # 놀랍게도 바닐라 버전 epoch 2~3에서 높은 성능들을 보여줬었다.\n",
    "\n",
    "RNN_model_3 = RNN()\n",
    "CNN_model_3 = CNN()\n",
    "GlobalMaxPooling_model_3 = GlobalMaxPooling()\n",
    "\n",
    "models_3 = [RNN_model_3, CNN_model_3, GlobalMaxPooling_model_3]  # 모델 다발 생성\n",
    "\n",
    "loss = []\n",
    "accuracy = []\n",
    "i = 0\n",
    "\n",
    "for model in models_3:\n",
    "    \n",
    "    model.compile(optimizer='adam', loss='binary_crossentropy', metrics=['accuracy'])\n",
    "    model.fit(partial_X_train, partial_y_train, epochs=epochs, batch_size=512, validation_data=(X_val, y_val), verbose=1)\n",
    "    results = model.evaluate(X_test, y_test, verbose=2)\n",
    "    loss.append(results[0])\n",
    "    accuracy.append(results[1])\n",
    "\n",
    "acc_per = np.array(accuracy) * 100\n",
    "\n",
    "for model in models_3:\n",
    "    model_name = type(model).__name__\n",
    "    print(f\"{model_name}_with_3_epochs의 loss는 {loss[i]:.4f}, accuracy는 {acc_per[i]:.2f}%\")\n",
    "    i += 1"
   ]
  },
  {
   "cell_type": "markdown",
   "id": "a23c5640",
   "metadata": {},
   "source": [
    "## 결론\n",
    "\n",
    "- pretrained embedded layer를 통해서 성능 향상을 도모했으나 내 단순한 모델과 잘 어울리지 못한 것인지 바닐라 모델의 성능에 못 미치는 모습을 보였다.\n",
    "\n",
    "- 내 생각에는 pretrained embedded layer를 사용해야하는 경우는 복잡한 모델을 구성하고 그 성능을 끝까지 뽑아 내고나서 마지막에 fine-tunning의 stage에서 사용하는것이 옳은것 같다\n",
    "\n",
    "- 어울리지 못한 해결책은 오히려 기존 모델의 성능을 깎아 먹는다. \n",
    "\n",
    "- goal이 85%라면 vanila model에 epoch 3번 하는 정도로도 도달 할 수 있다."
   ]
  },
  {
   "cell_type": "code",
   "execution_count": null,
   "id": "a9afdf38",
   "metadata": {},
   "outputs": [],
   "source": []
  }
 ],
 "metadata": {
  "kernelspec": {
   "display_name": "Python 3 (ipykernel)",
   "language": "python",
   "name": "python3"
  },
  "language_info": {
   "codemirror_mode": {
    "name": "ipython",
    "version": 3
   },
   "file_extension": ".py",
   "mimetype": "text/x-python",
   "name": "python",
   "nbconvert_exporter": "python",
   "pygments_lexer": "ipython3",
   "version": "3.9.7"
  }
 },
 "nbformat": 4,
 "nbformat_minor": 5
}
