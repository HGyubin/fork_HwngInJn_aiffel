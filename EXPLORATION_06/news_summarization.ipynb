{
 "cells": [
  {
   "cell_type": "markdown",
   "id": "97efa4ed",
   "metadata": {},
   "source": [
    "# Project 6: News Summarization\n",
    "\n",
    "### Rubric :\n",
    "\n",
    "#### 1. Abstractive 모델 구성을 위한 텍스트 전처리 단계가 체계적으로 진행되었다.\n",
    "    - 분석단계, 정제단계, 정규화와 불용어 제거, 데이터셋 분리, 인코딩 과정이 빠짐없이 체계적으로 진행되었다.\n",
    "    \n",
    "#### 2. 텍스트 요약모델이 성공적으로 학습되었음을 확인하였다. \n",
    "    - 모델 학습이 진행되면서 train loss와 validation loss가 감소하는 경향을 그래프를 통해 확인했으며, 실제 요약문에 있는 핵심 단어들이 요약 문장 안에 포함되었다.\n",
    "    \n",
    "#### 3. Extractive 요약을 시도해 보고 Abstractive 요약 결과과 함께 비교해 보았다. \n",
    "     - 두 요약 결과를 문법완성도 측면과 핵심단어 포함 측면으로 나누어 비교하고 분석 결과를 표로 정리하여 제시하였다."
   ]
  },
  {
   "cell_type": "code",
   "execution_count": 1,
   "id": "6582bf0b",
   "metadata": {},
   "outputs": [
    {
     "name": "stderr",
     "output_type": "stream",
     "text": [
      "[nltk_data] Downloading package stopwords to /aiffel/nltk_data...\n",
      "[nltk_data]   Package stopwords is already up-to-date!\n"
     ]
    },
    {
     "name": "stdout",
     "output_type": "stream",
     "text": [
      "3.6.5\n",
      "2.6.0\n",
      "1.3.3\n",
      "1.2.0\n"
     ]
    }
   ],
   "source": [
    "# import & check version\n",
    "\n",
    "from importlib.metadata import version\n",
    "import nltk\n",
    "nltk.download('stopwords')  # download general stopwords\n",
    "\n",
    "\n",
    "import tensorflow as tf\n",
    "from summa.summarizer import summarize\n",
    "import numpy as np\n",
    "import pandas as pd\n",
    "import os\n",
    "import re\n",
    "import matplotlib.pyplot as plt\n",
    "from nltk.corpus import stopwords\n",
    "from bs4 import BeautifulSoup \n",
    "from tensorflow.keras.preprocessing.text import Tokenizer \n",
    "from tensorflow.keras.preprocessing.sequence import pad_sequences\n",
    "import urllib.request\n",
    "import warnings\n",
    "warnings.filterwarnings(\"ignore\", category=UserWarning, module='bs4')\n",
    "\n",
    "\n",
    "print(nltk.__version__)\n",
    "print(tf.__version__)\n",
    "print(pd.__version__)\n",
    "print(version('summa'))"
   ]
  },
  {
   "cell_type": "markdown",
   "id": "d8028fea",
   "metadata": {},
   "source": [
    "### Load data"
   ]
  },
  {
   "cell_type": "code",
   "execution_count": 52,
   "id": "02bbc9ce",
   "metadata": {},
   "outputs": [],
   "source": [
    "# request data\n",
    "\n",
    "import urllib.request\n",
    "urllib.request.urlretrieve(\"https://raw.githubusercontent.com/sunnysai12345/News_Summary/master/news_summary_more.csv\", filename=\"news_summary_more.csv\")\n",
    "data = pd.read_csv('news_summary_more.csv', encoding='iso-8859-1')\n"
   ]
  },
  {
   "cell_type": "code",
   "execution_count": 3,
   "id": "033d0204",
   "metadata": {},
   "outputs": [
    {
     "name": "stdout",
     "output_type": "stream",
     "text": [
      "<bound method DataFrame.info of                                                headlines  \\\n",
      "0      upGrad learner switches to career in ML & Al w...   \n",
      "1      Delhi techie wins free food from Swiggy for on...   \n",
      "2      New Zealand end Rohit Sharma-led India's 12-ma...   \n",
      "3      Aegon life iTerm insurance plan helps customer...   \n",
      "4      Have known Hirani for yrs, what if MeToo claim...   \n",
      "...                                                  ...   \n",
      "98396  CRPF jawan axed to death by Maoists in Chhatti...   \n",
      "98397  First song from Sonakshi Sinha's 'Noor' titled...   \n",
      "98398         'The Matrix' film to get a reboot: Reports   \n",
      "98399  Snoop Dogg aims gun at clown dressed as Trump ...   \n",
      "98400  Madhesi Morcha withdraws support to Nepalese g...   \n",
      "\n",
      "                                                    text  \n",
      "0      Saurav Kant, an alumnus of upGrad and IIIT-B's...  \n",
      "1      Kunal Shah's credit card bill payment platform...  \n",
      "2      New Zealand defeated India by 8 wickets in the...  \n",
      "3      With Aegon Life iTerm Insurance plan, customer...  \n",
      "4      Speaking about the sexual harassment allegatio...  \n",
      "...                                                  ...  \n",
      "98396  A CRPF jawan was on Tuesday axed to death with...  \n",
      "98397  'Uff Yeh', the first song from the Sonakshi Si...  \n",
      "98398  According to reports, a new version of the 199...  \n",
      "98399  A new music video shows rapper Snoop Dogg aimi...  \n",
      "98400  Madhesi Morcha, an alliance of seven political...  \n",
      "\n",
      "[98401 rows x 2 columns]>\n"
     ]
    },
    {
     "data": {
      "text/html": [
       "<div>\n",
       "<style scoped>\n",
       "    .dataframe tbody tr th:only-of-type {\n",
       "        vertical-align: middle;\n",
       "    }\n",
       "\n",
       "    .dataframe tbody tr th {\n",
       "        vertical-align: top;\n",
       "    }\n",
       "\n",
       "    .dataframe thead th {\n",
       "        text-align: right;\n",
       "    }\n",
       "</style>\n",
       "<table border=\"1\" class=\"dataframe\">\n",
       "  <thead>\n",
       "    <tr style=\"text-align: right;\">\n",
       "      <th></th>\n",
       "      <th>headlines</th>\n",
       "      <th>text</th>\n",
       "    </tr>\n",
       "  </thead>\n",
       "  <tbody>\n",
       "    <tr>\n",
       "      <th>64831</th>\n",
       "      <td>Bots behind Rahul Gandhi's popularity on Twitt...</td>\n",
       "      <td>Automated bots with a Russian, Kazakh or Indon...</td>\n",
       "    </tr>\n",
       "    <tr>\n",
       "      <th>51620</th>\n",
       "      <td>India register 2nd straight 10-wicket win in I...</td>\n",
       "      <td>The Indian team beat Zimbabwe and registered t...</td>\n",
       "    </tr>\n",
       "    <tr>\n",
       "      <th>13619</th>\n",
       "      <td>Sajid said 'If I like what I see, you might ge...</td>\n",
       "      <td>Actress Mandana Karimi has alleged that filmma...</td>\n",
       "    </tr>\n",
       "    <tr>\n",
       "      <th>95182</th>\n",
       "      <td>Drunk airline pilot who passed out before take...</td>\n",
       "      <td>A drunk airline pilot who passed out in the co...</td>\n",
       "    </tr>\n",
       "    <tr>\n",
       "      <th>50844</th>\n",
       "      <td>Fan hacks India pacer's FB account, sends 'I l...</td>\n",
       "      <td>A fan allegedly hacked Facebook and other soci...</td>\n",
       "    </tr>\n",
       "    <tr>\n",
       "      <th>21441</th>\n",
       "      <td>Former PM Atal Bihari Vajpayee's condition cri...</td>\n",
       "      <td>Former Prime Minister Atal Bihari Vajpayee's c...</td>\n",
       "    </tr>\n",
       "    <tr>\n",
       "      <th>16585</th>\n",
       "      <td>Officer slammed my passport, yelled: Richa cla...</td>\n",
       "      <td>Actress Richa Chadha has claimed she faced rac...</td>\n",
       "    </tr>\n",
       "    <tr>\n",
       "      <th>6428</th>\n",
       "      <td>Former Army chief JJ Singh resigns from Shirom...</td>\n",
       "      <td>Former Army chief JJ Singh has resigned from t...</td>\n",
       "    </tr>\n",
       "    <tr>\n",
       "      <th>90110</th>\n",
       "      <td>Comedian to be investigated over sexual joke o...</td>\n",
       "      <td>American comedian Stephen Colbert will be inve...</td>\n",
       "    </tr>\n",
       "    <tr>\n",
       "      <th>84267</th>\n",
       "      <td>Aryan gets excited telling me about gaalis he'...</td>\n",
       "      <td>Shah Rukh Khan has revealed that his eldest so...</td>\n",
       "    </tr>\n",
       "  </tbody>\n",
       "</table>\n",
       "</div>"
      ],
      "text/plain": [
       "                                               headlines  \\\n",
       "64831  Bots behind Rahul Gandhi's popularity on Twitt...   \n",
       "51620  India register 2nd straight 10-wicket win in I...   \n",
       "13619  Sajid said 'If I like what I see, you might ge...   \n",
       "95182  Drunk airline pilot who passed out before take...   \n",
       "50844  Fan hacks India pacer's FB account, sends 'I l...   \n",
       "21441  Former PM Atal Bihari Vajpayee's condition cri...   \n",
       "16585  Officer slammed my passport, yelled: Richa cla...   \n",
       "6428   Former Army chief JJ Singh resigns from Shirom...   \n",
       "90110  Comedian to be investigated over sexual joke o...   \n",
       "84267  Aryan gets excited telling me about gaalis he'...   \n",
       "\n",
       "                                                    text  \n",
       "64831  Automated bots with a Russian, Kazakh or Indon...  \n",
       "51620  The Indian team beat Zimbabwe and registered t...  \n",
       "13619  Actress Mandana Karimi has alleged that filmma...  \n",
       "95182  A drunk airline pilot who passed out in the co...  \n",
       "50844  A fan allegedly hacked Facebook and other soci...  \n",
       "21441  Former Prime Minister Atal Bihari Vajpayee's c...  \n",
       "16585  Actress Richa Chadha has claimed she faced rac...  \n",
       "6428   Former Army chief JJ Singh has resigned from t...  \n",
       "90110  American comedian Stephen Colbert will be inve...  \n",
       "84267  Shah Rukh Khan has revealed that his eldest so...  "
      ]
     },
     "execution_count": 3,
     "metadata": {},
     "output_type": "execute_result"
    }
   ],
   "source": [
    "# data info\n",
    "\n",
    "print(data.info)  # [98401 rows x 2 columns]\n",
    "data.sample(10)   # columns - > headlines, text"
   ]
  },
  {
   "cell_type": "markdown",
   "id": "61a648be",
   "metadata": {},
   "source": [
    "### Remove duplicates & nulls"
   ]
  },
  {
   "cell_type": "code",
   "execution_count": 4,
   "id": "937cd0ec",
   "metadata": {},
   "outputs": [
    {
     "name": "stdout",
     "output_type": "stream",
     "text": [
      "text 열에서 중복을 배제한 유일한 샘플의 수 : 98360\n",
      "headlines 열에서 중복을 배제한 유일한 샘플의 수 : 98280\n"
     ]
    }
   ],
   "source": [
    "# check uniqueness\n",
    "\n",
    "print('text 열에서 중복을 배제한 유일한 샘플의 수 :', data['text'].nunique())\n",
    "print('headlines 열에서 중복을 배제한 유일한 샘플의 수 :', data['headlines'].nunique())  # target"
   ]
  },
  {
   "cell_type": "code",
   "execution_count": 40,
   "id": "0a80e83e",
   "metadata": {},
   "outputs": [
    {
     "name": "stdout",
     "output_type": "stream",
     "text": [
      "전체 샘플수 : 98360\n"
     ]
    }
   ],
   "source": [
    "# drop duplicates only for text -> could have same headlines with different text\n",
    "\n",
    "data.drop_duplicates(subset = ['text'], inplace=True)\n",
    "data_orig = data.copy()\n",
    "print('전체 샘플수 :', (len(data)))"
   ]
  },
  {
   "cell_type": "code",
   "execution_count": 41,
   "id": "2d82dd5d",
   "metadata": {},
   "outputs": [
    {
     "name": "stdout",
     "output_type": "stream",
     "text": [
      "headlines    0\n",
      "text         0\n",
      "dtype: int64\n"
     ]
    }
   ],
   "source": [
    "print(data.isnull().sum())  # null cell check"
   ]
  },
  {
   "cell_type": "markdown",
   "id": "45767958",
   "metadata": {},
   "source": [
    "### Preprocessing data\n",
    "- text normalization\n",
    "- remove stopwords"
   ]
  },
  {
   "cell_type": "markdown",
   "id": "7b2dccdc",
   "metadata": {},
   "source": [
    "#### text normalization dictionary\n",
    "\n",
    "[ref](https://stackoverflow.com/questions/19790188/expanding-english-language-contractions-in-python)"
   ]
  },
  {
   "cell_type": "code",
   "execution_count": 7,
   "id": "5978823c",
   "metadata": {},
   "outputs": [
    {
     "name": "stdout",
     "output_type": "stream",
     "text": [
      "정규화 사전의 수:  120\n"
     ]
    }
   ],
   "source": [
    "contractions = {\"ain't\": \"is not\", \"aren't\": \"are not\",\"can't\": \"cannot\", \"'cause\": \"because\", \"could've\": \"could have\", \"couldn't\": \"could not\",\n",
    "                           \"didn't\": \"did not\",  \"doesn't\": \"does not\", \"don't\": \"do not\", \"hadn't\": \"had not\", \"hasn't\": \"has not\", \"haven't\": \"have not\",\n",
    "                           \"he'd\": \"he would\",\"he'll\": \"he will\", \"he's\": \"he is\", \"how'd\": \"how did\", \"how'd'y\": \"how do you\", \"how'll\": \"how will\", \"how's\": \"how is\",\n",
    "                           \"I'd\": \"I would\", \"I'd've\": \"I would have\", \"I'll\": \"I will\", \"I'll've\": \"I will have\",\"I'm\": \"I am\", \"I've\": \"I have\", \"i'd\": \"i would\",\n",
    "                           \"i'd've\": \"i would have\", \"i'll\": \"i will\",  \"i'll've\": \"i will have\",\"i'm\": \"i am\", \"i've\": \"i have\", \"isn't\": \"is not\", \"it'd\": \"it would\",\n",
    "                           \"it'd've\": \"it would have\", \"it'll\": \"it will\", \"it'll've\": \"it will have\",\"it's\": \"it is\", \"let's\": \"let us\", \"ma'am\": \"madam\",\n",
    "                           \"mayn't\": \"may not\", \"might've\": \"might have\",\"mightn't\": \"might not\",\"mightn't've\": \"might not have\", \"must've\": \"must have\",\n",
    "                           \"mustn't\": \"must not\", \"mustn't've\": \"must not have\", \"needn't\": \"need not\", \"needn't've\": \"need not have\",\"o'clock\": \"of the clock\",\n",
    "                           \"oughtn't\": \"ought not\", \"oughtn't've\": \"ought not have\", \"shan't\": \"shall not\", \"sha'n't\": \"shall not\", \"shan't've\": \"shall not have\",\n",
    "                           \"she'd\": \"she would\", \"she'd've\": \"she would have\", \"she'll\": \"she will\", \"she'll've\": \"she will have\", \"she's\": \"she is\",\n",
    "                           \"should've\": \"should have\", \"shouldn't\": \"should not\", \"shouldn't've\": \"should not have\", \"so've\": \"so have\",\"so's\": \"so as\",\n",
    "                           \"this's\": \"this is\",\"that'd\": \"that would\", \"that'd've\": \"that would have\", \"that's\": \"that is\", \"there'd\": \"there would\",\n",
    "                           \"there'd've\": \"there would have\", \"there's\": \"there is\", \"here's\": \"here is\",\"they'd\": \"they would\", \"they'd've\": \"they would have\",\n",
    "                           \"they'll\": \"they will\", \"they'll've\": \"they will have\", \"they're\": \"they are\", \"they've\": \"they have\", \"to've\": \"to have\",\n",
    "                           \"wasn't\": \"was not\", \"we'd\": \"we would\", \"we'd've\": \"we would have\", \"we'll\": \"we will\", \"we'll've\": \"we will have\", \"we're\": \"we are\",\n",
    "                           \"we've\": \"we have\", \"weren't\": \"were not\", \"what'll\": \"what will\", \"what'll've\": \"what will have\", \"what're\": \"what are\",\n",
    "                           \"what's\": \"what is\", \"what've\": \"what have\", \"when's\": \"when is\", \"when've\": \"when have\", \"where'd\": \"where did\", \"where's\": \"where is\",\n",
    "                           \"where've\": \"where have\", \"who'll\": \"who will\", \"who'll've\": \"who will have\", \"who's\": \"who is\", \"who've\": \"who have\",\n",
    "                           \"why's\": \"why is\", \"why've\": \"why have\", \"will've\": \"will have\", \"won't\": \"will not\", \"won't've\": \"will not have\",\n",
    "                           \"would've\": \"would have\", \"wouldn't\": \"would not\", \"wouldn't've\": \"would not have\", \"y'all\": \"you all\",\n",
    "                           \"y'all'd\": \"you all would\",\"y'all'd've\": \"you all would have\",\"y'all're\": \"you all are\",\"y'all've\": \"you all have\",\n",
    "                           \"you'd\": \"you would\", \"you'd've\": \"you would have\", \"you'll\": \"you will\", \"you'll've\": \"you will have\",\n",
    "                           \"you're\": \"you are\", \"you've\": \"you have\"}\n",
    "\n",
    "print(\"정규화 사전의 수: \", len(contractions))"
   ]
  },
  {
   "cell_type": "code",
   "execution_count": 8,
   "id": "3c9b8e22",
   "metadata": {},
   "outputs": [],
   "source": [
    "# 데이터 전처리 함수\n",
    "def preprocess_sentence(sentence, remove_stopwords=True):\n",
    "    sentence = sentence.lower() # 텍스트 소문자화\n",
    "    sentence = BeautifulSoup(sentence, \"lxml\").text # <br />, <a href = ...> 등의 html 태그 제거\n",
    "    sentence = re.sub(r'\\([^)]*\\)', '', sentence) # 괄호로 닫힌 문자열 (...) 제거 Ex) my husband (and myself!) for => my husband for\n",
    "    sentence = re.sub('\"','', sentence) # 쌍따옴표 \" 제거\n",
    "    sentence = ' '.join([contractions[t] if t in contractions else t for t in sentence.split(\" \")]) # 약어 정규화\n",
    "    sentence = re.sub(r\"'s\\b\",\"\", sentence) # 소유격 제거. Ex) roland's -> roland\n",
    "    sentence = re.sub(\"[^a-zA-Z]\", \" \", sentence) # 영어 외 문자(숫자, 특수문자 등) 공백으로 변환\n",
    "    sentence = re.sub('[m]{2,}', 'mm', sentence) # m이 3개 이상이면 2개로 변경. Ex) ummmmmmm yeah -> umm yeah\n",
    "    \n",
    "    # 불용어 제거 (Text)\n",
    "    if remove_stopwords:\n",
    "        tokens = ' '.join(word for word in sentence.split() if not word in stopwords.words('english') if len(word) > 1)\n",
    "    # 불용어 미제거 (headline)\n",
    "    else:\n",
    "        tokens = ' '.join(word for word in sentence.split() if len(word) > 1)\n",
    "    return tokens"
   ]
  },
  {
   "cell_type": "code",
   "execution_count": 12,
   "id": "26e482f3",
   "metadata": {},
   "outputs": [
    {
     "name": "stdout",
     "output_type": "stream",
     "text": [
      "Text 전처리 후 결과:  ['saurav kant alumnus upgrad iiit pg program machine learning artificial intelligence sr systems engineer infosys almost years work experience program upgrad degree career support helped transition data scientist tech mahindra salary hike upgrad online power learning powered lakh careers', 'kunal shah credit card bill payment platform cred gave users chance win free food swiggy one year pranav kaushik delhi techie bagged reward spending cred coins users get one cred coin per rupee bill paid used avail rewards brands like ixigo bookmyshow ubereats cult fit', 'new zealand defeated india wickets fourth odi hamilton thursday win first match five match odi series india lost international match rohit sharma captaincy consecutive victories dating back march match witnessed india getting seventh lowest total odi cricket history', 'aegon life iterm insurance plan customers enjoy tax benefits premiums paid save taxes plan provides life cover age years also customers options insure critical illnesses disability accidental death benefit rider life cover age years', 'speaking sexual harassment allegations rajkumar hirani sonam kapoor said known hirani many years true metoo movement get derailed metoo movement always believe woman case need reserve judgment added hirani accused assistant worked sanju']\n"
     ]
    }
   ],
   "source": [
    "# preprocess text column\n",
    "\n",
    "clean_text = []\n",
    "\n",
    "for text in data['text']:\n",
    "    clean_text.append(preprocess_sentence(text))\n",
    "    \n",
    "\n",
    "# 전처리 후 출력\n",
    "print(\"Text 전처리 후 결과: \", clean_text[:5])"
   ]
  },
  {
   "cell_type": "code",
   "execution_count": 13,
   "id": "6ebcf1a6",
   "metadata": {},
   "outputs": [
    {
     "name": "stdout",
     "output_type": "stream",
     "text": [
      "headlines 전처리 후 결과:  ['upgrad learner switches to career in ml al with salary hike', 'delhi techie wins free food from swiggy for one year on cred', 'new zealand end rohit sharma led india match winning streak', 'aegon life iterm insurance plan helps customers save tax', 'have known hirani for yrs what if metoo claims are not true sonam']\n"
     ]
    }
   ],
   "source": [
    "# preprocess headlines column\n",
    "\n",
    "clean_headlines = []\n",
    "\n",
    "for headline in data['headlines']:\n",
    "    clean_headlines.append(preprocess_sentence(headline, False))  # False: not to remove stopwords\n",
    "\n",
    "print(\"headlines 전처리 후 결과: \", clean_headlines[:5])"
   ]
  },
  {
   "cell_type": "code",
   "execution_count": 14,
   "id": "ed45c3ba",
   "metadata": {},
   "outputs": [],
   "source": [
    "# preprocessing took so long..., so I saved preprocessed ones\n",
    "\n",
    "import json\n",
    "\n",
    "with open('clean_text.json', 'w') as file:\n",
    "    json.dump(clean_text, file)\n",
    "    \n",
    "with open('clean_headlines.json', 'w') as file:\n",
    "    json.dump(clean_headlines, file)"
   ]
  },
  {
   "cell_type": "code",
   "execution_count": 9,
   "id": "3a6fa2f5",
   "metadata": {},
   "outputs": [],
   "source": [
    "import json\n",
    "\n",
    "with open('clean_text.json', 'r') as file:\n",
    "    loaded_text = json.load(file)\n",
    "    \n",
    "with open('clean_headlines.json', 'r') as file:\n",
    "    loaded_headlines = json.load(file)"
   ]
  },
  {
   "cell_type": "code",
   "execution_count": 10,
   "id": "0aef7e62",
   "metadata": {},
   "outputs": [
    {
     "ename": "NameError",
     "evalue": "name 'clean_headlines' is not defined",
     "output_type": "error",
     "traceback": [
      "\u001b[0;31m---------------------------------------------------------------------------\u001b[0m",
      "\u001b[0;31mNameError\u001b[0m                                 Traceback (most recent call last)",
      "\u001b[0;32m/tmp/ipykernel_96/3935238625.py\u001b[0m in \u001b[0;36m<module>\u001b[0;34m\u001b[0m\n\u001b[0;32m----> 1\u001b[0;31m \u001b[0mprint\u001b[0m\u001b[0;34m(\u001b[0m\u001b[0mclean_headlines\u001b[0m\u001b[0;34m[\u001b[0m\u001b[0;34m:\u001b[0m\u001b[0;36m5\u001b[0m\u001b[0;34m]\u001b[0m\u001b[0;34m)\u001b[0m\u001b[0;34m\u001b[0m\u001b[0;34m\u001b[0m\u001b[0m\n\u001b[0m\u001b[1;32m      2\u001b[0m \u001b[0mprint\u001b[0m\u001b[0;34m(\u001b[0m\u001b[0mloaded_headlines\u001b[0m\u001b[0;34m[\u001b[0m\u001b[0;34m:\u001b[0m\u001b[0;36m5\u001b[0m\u001b[0;34m]\u001b[0m\u001b[0;34m)\u001b[0m\u001b[0;34m\u001b[0m\u001b[0;34m\u001b[0m\u001b[0m\n",
      "\u001b[0;31mNameError\u001b[0m: name 'clean_headlines' is not defined"
     ]
    }
   ],
   "source": [
    "print(clean_headlines[:5])\n",
    "print(loaded_headlines[:5])"
   ]
  },
  {
   "cell_type": "code",
   "execution_count": 10,
   "id": "d2cd8ede",
   "metadata": {},
   "outputs": [
    {
     "name": "stdout",
     "output_type": "stream",
     "text": [
      "전체 샘플수 : 98360\n"
     ]
    }
   ],
   "source": [
    "data['text'] = loaded_text\n",
    "data['headlines'] = loaded_headlines\n",
    "\n",
    "data.replace('', np.nan, inplace=True)  # There could be some blanks due to preprocessing\n",
    "data.isnull().sum()\n",
    "\n",
    "data.dropna(axis=0, inplace=True)\n",
    "print('전체 샘플수 :', (len(data)))"
   ]
  },
  {
   "cell_type": "markdown",
   "id": "f010aab7",
   "metadata": {},
   "source": [
    "### Max token length selection"
   ]
  },
  {
   "cell_type": "code",
   "execution_count": 11,
   "id": "af9576c4",
   "metadata": {},
   "outputs": [
    {
     "name": "stdout",
     "output_type": "stream",
     "text": [
      "텍스트의 최소 길이 : 1\n",
      "텍스트의 최대 길이 : 60\n",
      "텍스트의 평균 길이 : 35.09968483123221\n",
      "헤드라인의 최소 길이 : 1\n",
      "헤드라인의 최대 길이 : 16\n",
      "헤드라인의 평균 길이 : 9.299532330215534\n"
     ]
    },
    {
     "data": {
      "image/png": "[encoded data removed]",
      "text/plain": [
       "<Figure size 432x288 with 2 Axes>"
      ]
     },
     "metadata": {
      "needs_background": "light"
     },
     "output_type": "display_data"
    },
    {
     "data": {
      "image/png": "[encoded data removed]",
      "text/plain": [
       "<Figure size 432x288 with 1 Axes>"
      ]
     },
     "metadata": {
      "needs_background": "light"
     },
     "output_type": "display_data"
    },
    {
     "data": {
      "image/png": "[encoded data removed]",
      "text/plain": [
       "<Figure size 432x288 with 1 Axes>"
      ]
     },
     "metadata": {
      "needs_background": "light"
     },
     "output_type": "display_data"
    }
   ],
   "source": [
    "# 길이 분포 출력\n",
    "\n",
    "text_len = [len(s.split()) for s in data['text']]\n",
    "headline_len = [len(s.split()) for s in data['headlines']]\n",
    "\n",
    "print('텍스트의 최소 길이 : {}'.format(np.min(text_len)))\n",
    "print('텍스트의 최대 길이 : {}'.format(np.max(text_len)))\n",
    "print('텍스트의 평균 길이 : {}'.format(np.mean(text_len)))\n",
    "print('헤드라인의 최소 길이 : {}'.format(np.min(headline_len)))\n",
    "print('헤드라인의 최대 길이 : {}'.format(np.max(headline_len)))\n",
    "print('헤드라인의 평균 길이 : {}'.format(np.mean(headline_len)))\n",
    "\n",
    "plt.subplot(1,2,1)\n",
    "plt.boxplot(text_len)\n",
    "plt.title('text')\n",
    "plt.subplot(1,2,2)\n",
    "plt.boxplot(headline_len)\n",
    "plt.title('headline')\n",
    "plt.tight_layout()\n",
    "plt.show()\n",
    "\n",
    "plt.title('text')\n",
    "plt.hist(text_len, bins = 15)\n",
    "plt.xlabel('length of samples')\n",
    "plt.ylabel('number of samples')\n",
    "plt.show()\n",
    "\n",
    "plt.title('headline')\n",
    "plt.hist(headline_len, bins = 15)\n",
    "plt.xlabel('length of samples')\n",
    "plt.ylabel('number of samples')\n",
    "plt.show()"
   ]
  },
  {
   "cell_type": "code",
   "execution_count": 12,
   "id": "4d39bfbb",
   "metadata": {},
   "outputs": [
    {
     "name": "stdout",
     "output_type": "stream",
     "text": [
      "전체 샘플 중 길이가 40 이하인 샘플의 비율: 0.9238714924766165\n",
      "전체 샘플 중 길이가 10 이하인 샘플의 비율: 0.8162972753151687\n"
     ]
    }
   ],
   "source": [
    "text_max_len = 40\n",
    "headline_max_len = 10\n",
    "\n",
    "def below_threshold_len(max_len, nested_list):\n",
    "  cnt = 0\n",
    "  for s in nested_list:\n",
    "    if(len(s.split()) <= max_len):\n",
    "        cnt = cnt + 1\n",
    "  print('전체 샘플 중 길이가 %s 이하인 샘플의 비율: %s'%(max_len, (cnt / len(nested_list))))\n",
    "\n",
    "below_threshold_len(text_max_len, data['text'])\n",
    "below_threshold_len(headline_max_len,  data['headlines'])\n"
   ]
  },
  {
   "cell_type": "code",
   "execution_count": 13,
   "id": "24cdda11",
   "metadata": {},
   "outputs": [
    {
     "name": "stdout",
     "output_type": "stream",
     "text": [
      "전체 샘플수 : 74102\n"
     ]
    }
   ],
   "source": [
    "filtered_data = data[data['text'].apply(lambda x: len(x.split()) <= text_max_len) \n",
    "                     & data['headlines'].apply(lambda x: len(x.split()) <= headline_max_len)]\n",
    "\n",
    "print('전체 샘플수 :', (len(filtered_data)))"
   ]
  },
  {
   "cell_type": "markdown",
   "id": "6405f8fd",
   "metadata": {},
   "source": [
    "### insert start, end token"
   ]
  },
  {
   "cell_type": "code",
   "execution_count": 14,
   "id": "58a929f8",
   "metadata": {},
   "outputs": [
    {
     "name": "stderr",
     "output_type": "stream",
     "text": [
      "/tmp/ipykernel_119/1202646252.py:1: SettingWithCopyWarning: \n",
      "A value is trying to be set on a copy of a slice from a DataFrame.\n",
      "Try using .loc[row_indexer,col_indexer] = value instead\n",
      "\n",
      "See the caveats in the documentation: https://pandas.pydata.org/pandas-docs/stable/user_guide/indexing.html#returning-a-view-versus-a-copy\n",
      "  filtered_data['decoder_input'] = filtered_data['headlines'].apply(lambda x : 'sostoken '+ x)\n",
      "/tmp/ipykernel_119/1202646252.py:2: SettingWithCopyWarning: \n",
      "A value is trying to be set on a copy of a slice from a DataFrame.\n",
      "Try using .loc[row_indexer,col_indexer] = value instead\n",
      "\n",
      "See the caveats in the documentation: https://pandas.pydata.org/pandas-docs/stable/user_guide/indexing.html#returning-a-view-versus-a-copy\n",
      "  filtered_data['decoder_target'] = filtered_data['headlines'].apply(lambda x : x + ' eostoken')\n"
     ]
    },
    {
     "data": {
      "text/html": [
       "<div>\n",
       "<style scoped>\n",
       "    .dataframe tbody tr th:only-of-type {\n",
       "        vertical-align: middle;\n",
       "    }\n",
       "\n",
       "    .dataframe tbody tr th {\n",
       "        vertical-align: top;\n",
       "    }\n",
       "\n",
       "    .dataframe thead th {\n",
       "        text-align: right;\n",
       "    }\n",
       "</style>\n",
       "<table border=\"1\" class=\"dataframe\">\n",
       "  <thead>\n",
       "    <tr style=\"text-align: right;\">\n",
       "      <th></th>\n",
       "      <th>headlines</th>\n",
       "      <th>text</th>\n",
       "      <th>decoder_input</th>\n",
       "      <th>decoder_target</th>\n",
       "    </tr>\n",
       "  </thead>\n",
       "  <tbody>\n",
       "    <tr>\n",
       "      <th>2</th>\n",
       "      <td>new zealand end rohit sharma led india match w...</td>\n",
       "      <td>new zealand defeated india wickets fourth odi ...</td>\n",
       "      <td>sostoken new zealand end rohit sharma led indi...</td>\n",
       "      <td>new zealand end rohit sharma led india match w...</td>\n",
       "    </tr>\n",
       "    <tr>\n",
       "      <th>3</th>\n",
       "      <td>aegon life iterm insurance plan helps customer...</td>\n",
       "      <td>aegon life iterm insurance plan customers enjo...</td>\n",
       "      <td>sostoken aegon life iterm insurance plan helps...</td>\n",
       "      <td>aegon life iterm insurance plan helps customer...</td>\n",
       "    </tr>\n",
       "    <tr>\n",
       "      <th>5</th>\n",
       "      <td>rahat fateh ali khan denies getting notice for...</td>\n",
       "      <td>pakistani singer rahat fateh ali khan denied r...</td>\n",
       "      <td>sostoken rahat fateh ali khan denies getting n...</td>\n",
       "      <td>rahat fateh ali khan denies getting notice for...</td>\n",
       "    </tr>\n",
       "    <tr>\n",
       "      <th>9</th>\n",
       "      <td>cong wins ramgarh bypoll in rajasthan takes to...</td>\n",
       "      <td>congress candidate shafia zubair ramgarh assem...</td>\n",
       "      <td>sostoken cong wins ramgarh bypoll in rajasthan...</td>\n",
       "      <td>cong wins ramgarh bypoll in rajasthan takes to...</td>\n",
       "    </tr>\n",
       "    <tr>\n",
       "      <th>10</th>\n",
       "      <td>up cousins fed human excreta for friendship wi...</td>\n",
       "      <td>two minor cousins uttar pradesh gorakhpur alle...</td>\n",
       "      <td>sostoken up cousins fed human excreta for frie...</td>\n",
       "      <td>up cousins fed human excreta for friendship wi...</td>\n",
       "    </tr>\n",
       "  </tbody>\n",
       "</table>\n",
       "</div>"
      ],
      "text/plain": [
       "                                            headlines  \\\n",
       "2   new zealand end rohit sharma led india match w...   \n",
       "3   aegon life iterm insurance plan helps customer...   \n",
       "5   rahat fateh ali khan denies getting notice for...   \n",
       "9   cong wins ramgarh bypoll in rajasthan takes to...   \n",
       "10  up cousins fed human excreta for friendship wi...   \n",
       "\n",
       "                                                 text  \\\n",
       "2   new zealand defeated india wickets fourth odi ...   \n",
       "3   aegon life iterm insurance plan customers enjo...   \n",
       "5   pakistani singer rahat fateh ali khan denied r...   \n",
       "9   congress candidate shafia zubair ramgarh assem...   \n",
       "10  two minor cousins uttar pradesh gorakhpur alle...   \n",
       "\n",
       "                                        decoder_input  \\\n",
       "2   sostoken new zealand end rohit sharma led indi...   \n",
       "3   sostoken aegon life iterm insurance plan helps...   \n",
       "5   sostoken rahat fateh ali khan denies getting n...   \n",
       "9   sostoken cong wins ramgarh bypoll in rajasthan...   \n",
       "10  sostoken up cousins fed human excreta for frie...   \n",
       "\n",
       "                                       decoder_target  \n",
       "2   new zealand end rohit sharma led india match w...  \n",
       "3   aegon life iterm insurance plan helps customer...  \n",
       "5   rahat fateh ali khan denies getting notice for...  \n",
       "9   cong wins ramgarh bypoll in rajasthan takes to...  \n",
       "10  up cousins fed human excreta for friendship wi...  "
      ]
     },
     "execution_count": 14,
     "metadata": {},
     "output_type": "execute_result"
    }
   ],
   "source": [
    "filtered_data['decoder_input'] = filtered_data['headlines'].apply(lambda x : 'sostoken '+ x)\n",
    "filtered_data['decoder_target'] = filtered_data['headlines'].apply(lambda x : x + ' eostoken')\n",
    "filtered_data.head()"
   ]
  },
  {
   "cell_type": "code",
   "execution_count": 15,
   "id": "fcc59599",
   "metadata": {},
   "outputs": [],
   "source": [
    "encoder_input = np.array(filtered_data['text']) # 인코더의 입력\n",
    "decoder_input = np.array(filtered_data['decoder_input']) # 디코더의 입력\n",
    "decoder_target = np.array(filtered_data['decoder_target']) # 디코더의 레이블"
   ]
  },
  {
   "cell_type": "markdown",
   "id": "1bc359fe",
   "metadata": {},
   "source": [
    "### data random shuffling & 20% validation split"
   ]
  },
  {
   "cell_type": "code",
   "execution_count": 16,
   "id": "841dcbd1",
   "metadata": {},
   "outputs": [],
   "source": [
    "# random shuffle\n",
    "\n",
    "indices = np.arange(encoder_input.shape[0])\n",
    "np.random.shuffle(indices)\n",
    "\n",
    "encoder_input = encoder_input[indices]\n",
    "decoder_input = decoder_input[indices]\n",
    "decoder_target = decoder_target[indices]"
   ]
  },
  {
   "cell_type": "code",
   "execution_count": 17,
   "id": "2f0b9938",
   "metadata": {},
   "outputs": [
    {
     "name": "stdout",
     "output_type": "stream",
     "text": [
      "훈련 데이터의 개수 : 59282\n",
      "훈련 레이블의 개수 : 59282\n",
      "테스트 데이터의 개수 : 14820\n",
      "테스트 레이블의 개수 : 14820\n"
     ]
    }
   ],
   "source": [
    "n_of_val = int(len(encoder_input)*0.2)\n",
    "\n",
    "encoder_input_train = encoder_input[:-n_of_val]\n",
    "decoder_input_train = decoder_input[:-n_of_val]\n",
    "decoder_target_train = decoder_target[:-n_of_val]\n",
    "\n",
    "encoder_input_test = encoder_input[-n_of_val:]\n",
    "decoder_input_test = decoder_input[-n_of_val:]\n",
    "decoder_target_test = decoder_target[-n_of_val:]\n",
    "\n",
    "print('훈련 데이터의 개수 :', len(encoder_input_train))\n",
    "print('훈련 레이블의 개수 :', len(decoder_input_train))\n",
    "print('테스트 데이터의 개수 :', len(encoder_input_test))\n",
    "print('테스트 레이블의 개수 :', len(decoder_input_test))"
   ]
  },
  {
   "cell_type": "code",
   "execution_count": 18,
   "id": "c8629357",
   "metadata": {},
   "outputs": [],
   "source": [
    "src_tokenizer = Tokenizer() # 토크나이저 정의\n",
    "src_tokenizer.fit_on_texts(encoder_input_train) # 입력된 데이터로부터 단어 집합 생성"
   ]
  },
  {
   "cell_type": "code",
   "execution_count": 19,
   "id": "743a55ab",
   "metadata": {},
   "outputs": [
    {
     "name": "stdout",
     "output_type": "stream",
     "text": [
      "단어 집합(vocabulary)의 크기 : 61663\n",
      "등장 빈도가 6번 이하인 희귀 단어의 수: 42374\n",
      "단어 집합에서 희귀 단어를 제외시킬 경우의 단어 집합의 크기 19289\n",
      "단어 집합에서 희귀 단어의 비율: 68.71868057019607\n",
      "전체 등장 빈도에서 희귀 단어 등장 빈도 비율: 4.192155074227543\n"
     ]
    }
   ],
   "source": [
    "threshold = 7\n",
    "total_cnt = len(src_tokenizer.word_index) # 단어의 수\n",
    "rare_cnt = 0 # 등장 빈도수가 threshold보다 작은 단어의 개수를 카운트\n",
    "total_freq = 0 # 훈련 데이터의 전체 단어 빈도수 총 합\n",
    "rare_freq = 0 # 등장 빈도수가 threshold보다 작은 단어의 등장 빈도수의 총 합\n",
    "\n",
    "# 단어와 빈도수의 쌍(pair)을 key와 value로 받는다.\n",
    "for key, value in src_tokenizer.word_counts.items():\n",
    "    total_freq = total_freq + value\n",
    "\n",
    "    # 단어의 등장 빈도수가 threshold보다 작으면\n",
    "    if(value < threshold):\n",
    "        rare_cnt = rare_cnt + 1\n",
    "        rare_freq = rare_freq + value\n",
    "\n",
    "print('단어 집합(vocabulary)의 크기 :', total_cnt)\n",
    "print('등장 빈도가 %s번 이하인 희귀 단어의 수: %s'%(threshold - 1, rare_cnt))\n",
    "print('단어 집합에서 희귀 단어를 제외시킬 경우의 단어 집합의 크기 %s'%(total_cnt - rare_cnt))\n",
    "print(\"단어 집합에서 희귀 단어의 비율:\", (rare_cnt / total_cnt)*100)\n",
    "print(\"전체 등장 빈도에서 희귀 단어 등장 빈도 비율:\", (rare_freq / total_freq)*100)"
   ]
  },
  {
   "cell_type": "code",
   "execution_count": 20,
   "id": "b39c96b6",
   "metadata": {},
   "outputs": [],
   "source": [
    "src_vocab = 19000\n",
    "src_tokenizer = Tokenizer(num_words=src_vocab) # 단어 집합의 크기를 8,000으로 제한\n",
    "src_tokenizer.fit_on_texts(encoder_input_train) # 단어 집합 재생성"
   ]
  },
  {
   "cell_type": "code",
   "execution_count": 21,
   "id": "ea7503b7",
   "metadata": {},
   "outputs": [],
   "source": [
    "encoder_input_train = src_tokenizer.texts_to_sequences(encoder_input_train) \n",
    "encoder_input_test = src_tokenizer.texts_to_sequences(encoder_input_test)"
   ]
  },
  {
   "cell_type": "code",
   "execution_count": 22,
   "id": "72131c4f",
   "metadata": {},
   "outputs": [],
   "source": [
    "tar_tokenizer = Tokenizer()\n",
    "tar_tokenizer.fit_on_texts(decoder_input_train)"
   ]
  },
  {
   "cell_type": "code",
   "execution_count": 23,
   "id": "d64f1724",
   "metadata": {},
   "outputs": [
    {
     "name": "stdout",
     "output_type": "stream",
     "text": [
      "단어 집합(vocabulary)의 크기 : 27294\n",
      "등장 빈도가 4번 이하인 희귀 단어의 수: 17148\n",
      "단어 집합에서 희귀 단어를 제외시킬 경우의 단어 집합의 크기 10146\n",
      "단어 집합에서 희귀 단어의 비율: 62.826994943943724\n",
      "전체 등장 빈도에서 희귀 단어 등장 빈도 비율: 5.050397586681447\n"
     ]
    }
   ],
   "source": [
    "threshold = 5\n",
    "total_cnt = len(tar_tokenizer.word_index) # 단어의 수\n",
    "rare_cnt = 0 # 등장 빈도수가 threshold보다 작은 단어의 개수를 카운트\n",
    "total_freq = 0 # 훈련 데이터의 전체 단어 빈도수 총 합\n",
    "rare_freq = 0 # 등장 빈도수가 threshold보다 작은 단어의 등장 빈도수의 총 합\n",
    "\n",
    "# 단어와 빈도수의 쌍(pair)을 key와 value로 받는다.\n",
    "for key, value in tar_tokenizer.word_counts.items():\n",
    "    total_freq = total_freq + value\n",
    "\n",
    "    # 단어의 등장 빈도수가 threshold보다 작으면\n",
    "    if(value < threshold):\n",
    "        rare_cnt = rare_cnt + 1\n",
    "        rare_freq = rare_freq + value\n",
    "\n",
    "print('단어 집합(vocabulary)의 크기 :', total_cnt)\n",
    "print('등장 빈도가 %s번 이하인 희귀 단어의 수: %s'%(threshold - 1, rare_cnt))\n",
    "print('단어 집합에서 희귀 단어를 제외시킬 경우의 단어 집합의 크기 %s'%(total_cnt - rare_cnt))\n",
    "print(\"단어 집합에서 희귀 단어의 비율:\", (rare_cnt / total_cnt)*100)\n",
    "print(\"전체 등장 빈도에서 희귀 단어 등장 빈도 비율:\", (rare_freq / total_freq)*100)"
   ]
  },
  {
   "cell_type": "code",
   "execution_count": 24,
   "id": "32362be9",
   "metadata": {},
   "outputs": [],
   "source": [
    "tar_vocab = 10000\n",
    "tar_tokenizer = Tokenizer(num_words=tar_vocab) \n",
    "tar_tokenizer.fit_on_texts(decoder_input_train)\n",
    "tar_tokenizer.fit_on_texts(decoder_target_train)\n",
    "\n",
    "# 텍스트 시퀀스를 정수 시퀀스로 변환\n",
    "decoder_input_train = tar_tokenizer.texts_to_sequences(decoder_input_train) \n",
    "decoder_target_train = tar_tokenizer.texts_to_sequences(decoder_target_train)\n",
    "decoder_input_test = tar_tokenizer.texts_to_sequences(decoder_input_test)\n",
    "decoder_target_test = tar_tokenizer.texts_to_sequences(decoder_target_test)"
   ]
  },
  {
   "cell_type": "code",
   "execution_count": 25,
   "id": "ca359291",
   "metadata": {},
   "outputs": [
    {
     "name": "stdout",
     "output_type": "stream",
     "text": [
      "삭제할 훈련 데이터의 개수 : 0\n",
      "삭제할 테스트 데이터의 개수 : 1\n",
      "훈련 데이터의 개수 : 59282\n",
      "훈련 레이블의 개수 : 59282\n",
      "테스트 데이터의 개수 : 14819\n",
      "테스트 레이블의 개수 : 14819\n"
     ]
    }
   ],
   "source": [
    "drop_train = [index for index, sentence in enumerate(decoder_input_train) if len(sentence) == 1]\n",
    "drop_test = [index for index, sentence in enumerate(decoder_input_test) if len(sentence) == 1]\n",
    "\n",
    "print('삭제할 훈련 데이터의 개수 :', len(drop_train))\n",
    "print('삭제할 테스트 데이터의 개수 :', len(drop_test))\n",
    "\n",
    "encoder_input_train = [sentence for index, sentence in enumerate(encoder_input_train) if index not in drop_train]\n",
    "decoder_input_train = [sentence for index, sentence in enumerate(decoder_input_train) if index not in drop_train]\n",
    "decoder_target_train = [sentence for index, sentence in enumerate(decoder_target_train) if index not in drop_train]\n",
    "\n",
    "encoder_input_test = [sentence for index, sentence in enumerate(encoder_input_test) if index not in drop_test]\n",
    "decoder_input_test = [sentence for index, sentence in enumerate(decoder_input_test) if index not in drop_test]\n",
    "decoder_target_test = [sentence for index, sentence in enumerate(decoder_target_test) if index not in drop_test]\n",
    "\n",
    "print('훈련 데이터의 개수 :', len(encoder_input_train))\n",
    "print('훈련 레이블의 개수 :', len(decoder_input_train))\n",
    "print('테스트 데이터의 개수 :', len(encoder_input_test))\n",
    "print('테스트 레이블의 개수 :', len(decoder_input_test))"
   ]
  },
  {
   "cell_type": "code",
   "execution_count": 26,
   "id": "0ba46455",
   "metadata": {},
   "outputs": [],
   "source": [
    "encoder_input_train = pad_sequences(encoder_input_train, maxlen=text_max_len, padding='pre')\n",
    "encoder_input_test = pad_sequences(encoder_input_test, maxlen=text_max_len, padding='pre')\n",
    "decoder_input_train = pad_sequences(decoder_input_train, maxlen=headline_max_len, padding='pre')\n",
    "decoder_target_train = pad_sequences(decoder_target_train, maxlen=headline_max_len, padding='pre')\n",
    "decoder_input_test = pad_sequences(decoder_input_test, maxlen=headline_max_len, padding='pre')\n",
    "decoder_target_test = pad_sequences(decoder_target_test, maxlen=headline_max_len, padding='pre')"
   ]
  },
  {
   "cell_type": "code",
   "execution_count": 27,
   "id": "71baf41c",
   "metadata": {},
   "outputs": [],
   "source": [
    "from tensorflow.keras.layers import Input, LSTM, Embedding, Dense, Concatenate, TimeDistributed\n",
    "from tensorflow.keras.models import Model\n",
    "from tensorflow.keras.callbacks import EarlyStopping, ModelCheckpoint\n",
    "\n",
    "\n",
    "# 인코더 설계 시작\n",
    "embedding_dim = 128\n",
    "hidden_size = 256\n",
    "\n",
    "# 인코더\n",
    "encoder_inputs = Input(shape=(text_max_len,))\n",
    "\n",
    "# 인코더의 임베딩 층\n",
    "enc_emb = Embedding(src_vocab, embedding_dim)(encoder_inputs)\n",
    "\n",
    "# 인코더의 LSTM 1\n",
    "# encoder_lstm1 = LSTM(hidden_size, return_sequences=True, return_state=True ,dropout = 0.4, recurrent_dropout = 0.4)\n",
    "encoder_lstm1 = LSTM(hidden_size, return_sequences=True, return_state=True ,dropout = 0.4)\n",
    "encoder_output1, state_h1, state_c1 = encoder_lstm1(enc_emb)\n",
    "\n",
    "# 인코더의 LSTM 2\n",
    "\n",
    "encoder_lstm2 = LSTM(hidden_size, return_sequences=True, return_state=True ,dropout = 0.4)\n",
    "encoder_output2, state_h2, state_c2 = encoder_lstm2(encoder_output1)\n",
    "\n",
    "# 인코더의 LSTM 3\n",
    "\n",
    "encoder_lstm3 = LSTM(hidden_size, return_sequences=True, return_state=True ,dropout = 0.4)\n",
    "encoder_outputs, state_h, state_c = encoder_lstm3(encoder_output2)"
   ]
  },
  {
   "cell_type": "code",
   "execution_count": 28,
   "id": "bdf2f365",
   "metadata": {},
   "outputs": [],
   "source": [
    "# 디코더 설계\n",
    "decoder_inputs = Input(shape=(None,))\n",
    "\n",
    "# 디코더의 임베딩 층\n",
    "dec_emb_layer = Embedding(tar_vocab, embedding_dim)\n",
    "dec_emb = dec_emb_layer(decoder_inputs)\n",
    "\n",
    "# 디코더의 LSTM\n",
    "# decoder_lstm = LSTM(hidden_size, return_sequences=True, return_state=True, dropout=0.4, recurrent_dropout=0.2)\n",
    "decoder_lstm = LSTM(hidden_size, return_sequences=True, return_state=True, dropout=0.4)\n",
    "decoder_outputs, _, _ = decoder_lstm(dec_emb, initial_state=[state_h, state_c])"
   ]
  },
  {
   "cell_type": "code",
   "execution_count": 29,
   "id": "041870d5",
   "metadata": {},
   "outputs": [
    {
     "name": "stdout",
     "output_type": "stream",
     "text": [
      "Model: \"model\"\n",
      "__________________________________________________________________________________________________\n",
      "Layer (type)                    Output Shape         Param #     Connected to                     \n",
      "==================================================================================================\n",
      "input_1 (InputLayer)            [(None, 40)]         0                                            \n",
      "__________________________________________________________________________________________________\n",
      "embedding (Embedding)           (None, 40, 128)      2432000     input_1[0][0]                    \n",
      "__________________________________________________________________________________________________\n",
      "lstm (LSTM)                     [(None, 40, 256), (N 394240      embedding[0][0]                  \n",
      "__________________________________________________________________________________________________\n",
      "input_2 (InputLayer)            [(None, None)]       0                                            \n",
      "__________________________________________________________________________________________________\n",
      "lstm_1 (LSTM)                   [(None, 40, 256), (N 525312      lstm[0][0]                       \n",
      "__________________________________________________________________________________________________\n",
      "embedding_1 (Embedding)         (None, None, 128)    1280000     input_2[0][0]                    \n",
      "__________________________________________________________________________________________________\n",
      "lstm_2 (LSTM)                   [(None, 40, 256), (N 525312      lstm_1[0][0]                     \n",
      "__________________________________________________________________________________________________\n",
      "lstm_3 (LSTM)                   [(None, None, 256),  394240      embedding_1[0][0]                \n",
      "                                                                 lstm_2[0][1]                     \n",
      "                                                                 lstm_2[0][2]                     \n",
      "__________________________________________________________________________________________________\n",
      "dense (Dense)                   (None, None, 10000)  2570000     lstm_3[0][0]                     \n",
      "==================================================================================================\n",
      "Total params: 8,121,104\n",
      "Trainable params: 8,121,104\n",
      "Non-trainable params: 0\n",
      "__________________________________________________________________________________________________\n"
     ]
    }
   ],
   "source": [
    "# 디코더의 출력층\n",
    "decoder_softmax_layer = Dense(tar_vocab, activation='softmax')\n",
    "decoder_softmax_outputs = decoder_softmax_layer(decoder_outputs) \n",
    "\n",
    "# 모델 정의\n",
    "model = Model([encoder_inputs, decoder_inputs], decoder_softmax_outputs)\n",
    "model.summary()"
   ]
  },
  {
   "cell_type": "code",
   "execution_count": 30,
   "id": "f132a520",
   "metadata": {},
   "outputs": [
    {
     "name": "stdout",
     "output_type": "stream",
     "text": [
      "Model: \"model_1\"\n",
      "__________________________________________________________________________________________________\n",
      "Layer (type)                    Output Shape         Param #     Connected to                     \n",
      "==================================================================================================\n",
      "input_1 (InputLayer)            [(None, 40)]         0                                            \n",
      "__________________________________________________________________________________________________\n",
      "embedding (Embedding)           (None, 40, 128)      2432000     input_1[0][0]                    \n",
      "__________________________________________________________________________________________________\n",
      "lstm (LSTM)                     [(None, 40, 256), (N 394240      embedding[0][0]                  \n",
      "__________________________________________________________________________________________________\n",
      "input_2 (InputLayer)            [(None, None)]       0                                            \n",
      "__________________________________________________________________________________________________\n",
      "lstm_1 (LSTM)                   [(None, 40, 256), (N 525312      lstm[0][0]                       \n",
      "__________________________________________________________________________________________________\n",
      "embedding_1 (Embedding)         (None, None, 128)    1280000     input_2[0][0]                    \n",
      "__________________________________________________________________________________________________\n",
      "lstm_2 (LSTM)                   [(None, 40, 256), (N 525312      lstm_1[0][0]                     \n",
      "__________________________________________________________________________________________________\n",
      "lstm_3 (LSTM)                   [(None, None, 256),  394240      embedding_1[0][0]                \n",
      "                                                                 lstm_2[0][1]                     \n",
      "                                                                 lstm_2[0][2]                     \n",
      "__________________________________________________________________________________________________\n",
      "attention_layer (AdditiveAttent (None, None, 256)    256         lstm_3[0][0]                     \n",
      "                                                                 lstm_2[0][0]                     \n",
      "__________________________________________________________________________________________________\n",
      "concat_layer (Concatenate)      (None, None, 512)    0           lstm_3[0][0]                     \n",
      "                                                                 attention_layer[0][0]            \n",
      "__________________________________________________________________________________________________\n",
      "dense_1 (Dense)                 (None, None, 10000)  5130000     concat_layer[0][0]               \n",
      "==================================================================================================\n",
      "Total params: 10,681,360\n",
      "Trainable params: 10,681,360\n",
      "Non-trainable params: 0\n",
      "__________________________________________________________________________________________________\n"
     ]
    }
   ],
   "source": [
    "from tensorflow.keras.layers import AdditiveAttention\n",
    "\n",
    "# 어텐션 층(어텐션 함수)\n",
    "attn_layer = AdditiveAttention(name='attention_layer')\n",
    "\n",
    "# 인코더와 디코더의 모든 time step의 hidden state를 어텐션 층에 전달하고 결과를 리턴\n",
    "attn_out = attn_layer([decoder_outputs, encoder_outputs])\n",
    "\n",
    "\n",
    "# 어텐션의 결과와 디코더의 hidden state들을 연결\n",
    "decoder_concat_input = Concatenate(axis=-1, name='concat_layer')([decoder_outputs, attn_out])\n",
    "\n",
    "# 디코더의 출력층\n",
    "decoder_softmax_layer = Dense(tar_vocab, activation='softmax')\n",
    "decoder_softmax_outputs = decoder_softmax_layer(decoder_concat_input)\n",
    "\n",
    "# 모델 정의\n",
    "model = Model([encoder_inputs, decoder_inputs], decoder_softmax_outputs)\n",
    "model.summary()"
   ]
  },
  {
   "cell_type": "code",
   "execution_count": 31,
   "id": "0fe5330c",
   "metadata": {},
   "outputs": [
    {
     "name": "stdout",
     "output_type": "stream",
     "text": [
      "Epoch 1/50\n",
      "232/232 [==============================] - 57s 85ms/step - loss: 6.3357 - val_loss: 5.9446\n",
      "Epoch 2/50\n",
      "232/232 [==============================] - 19s 81ms/step - loss: 5.9782 - val_loss: 5.8373\n",
      "Epoch 3/50\n",
      "232/232 [==============================] - 19s 83ms/step - loss: 5.8399 - val_loss: 5.7305\n",
      "Epoch 4/50\n",
      "232/232 [==============================] - 20s 84ms/step - loss: 5.5818 - val_loss: 5.4201\n",
      "Epoch 5/50\n",
      "232/232 [==============================] - 20s 86ms/step - loss: 5.3341 - val_loss: 5.4053\n",
      "Epoch 6/50\n",
      "232/232 [==============================] - 20s 87ms/step - loss: 5.0887 - val_loss: 5.0223\n",
      "Epoch 7/50\n",
      "232/232 [==============================] - 20s 87ms/step - loss: 4.8819 - val_loss: 5.1681\n",
      "Epoch 8/50\n",
      "232/232 [==============================] - 20s 87ms/step - loss: 4.7066 - val_loss: 4.7506\n",
      "Epoch 9/50\n",
      "232/232 [==============================] - 20s 86ms/step - loss: 4.5434 - val_loss: 4.6687\n",
      "Epoch 10/50\n",
      "232/232 [==============================] - 20s 87ms/step - loss: 4.3907 - val_loss: 4.5746\n",
      "Epoch 11/50\n",
      "232/232 [==============================] - 20s 87ms/step - loss: 4.2473 - val_loss: 4.4952\n",
      "Epoch 12/50\n",
      "232/232 [==============================] - 20s 87ms/step - loss: 4.1194 - val_loss: 4.4349\n",
      "Epoch 13/50\n",
      "232/232 [==============================] - 20s 87ms/step - loss: 4.0026 - val_loss: 4.3854\n",
      "Epoch 14/50\n",
      "232/232 [==============================] - 20s 87ms/step - loss: 3.8917 - val_loss: 4.3464\n",
      "Epoch 15/50\n",
      "232/232 [==============================] - 20s 87ms/step - loss: 3.7938 - val_loss: 4.3143\n",
      "Epoch 16/50\n",
      "232/232 [==============================] - 20s 87ms/step - loss: 3.7030 - val_loss: 4.2907\n",
      "Epoch 17/50\n",
      "232/232 [==============================] - 20s 87ms/step - loss: 3.6112 - val_loss: 4.2614\n",
      "Epoch 18/50\n",
      "232/232 [==============================] - 20s 87ms/step - loss: 3.5336 - val_loss: 4.2445\n",
      "Epoch 19/50\n",
      "232/232 [==============================] - 20s 87ms/step - loss: 3.4577 - val_loss: 4.2377\n",
      "Epoch 20/50\n",
      "232/232 [==============================] - 20s 87ms/step - loss: 3.3878 - val_loss: 4.2210\n",
      "Epoch 21/50\n",
      "232/232 [==============================] - 20s 87ms/step - loss: 3.3172 - val_loss: 4.2139\n",
      "Epoch 22/50\n",
      "232/232 [==============================] - 20s 87ms/step - loss: 3.2512 - val_loss: 4.2048\n",
      "Epoch 23/50\n",
      "232/232 [==============================] - 20s 87ms/step - loss: 3.1942 - val_loss: 4.2048\n",
      "Epoch 24/50\n",
      "232/232 [==============================] - 20s 87ms/step - loss: 3.1420 - val_loss: 4.2073\n",
      "Epoch 25/50\n",
      "232/232 [==============================] - 20s 87ms/step - loss: 3.0884 - val_loss: 4.1958\n",
      "Epoch 26/50\n",
      "232/232 [==============================] - 20s 87ms/step - loss: 3.0359 - val_loss: 4.2028\n",
      "Epoch 27/50\n",
      "232/232 [==============================] - 20s 87ms/step - loss: 2.9871 - val_loss: 4.2058\n",
      "Epoch 00027: early stopping\n"
     ]
    }
   ],
   "source": [
    "model.compile(optimizer='rmsprop', loss='sparse_categorical_crossentropy')\n",
    "es = EarlyStopping(monitor='val_loss', patience=2, verbose=1)\n",
    "history = model.fit(x=[encoder_input_train, decoder_input_train], y=decoder_target_train, \\\n",
    "          validation_data=([encoder_input_test, decoder_input_test], decoder_target_test), \\\n",
    "          batch_size=256, callbacks=[es], epochs=50)"
   ]
  },
  {
   "cell_type": "code",
   "execution_count": 32,
   "id": "48891025",
   "metadata": {},
   "outputs": [
    {
     "data": {
      "image/png": "[encoded data removed]",
      "text/plain": [
       "<Figure size 432x288 with 1 Axes>"
      ]
     },
     "metadata": {
      "needs_background": "light"
     },
     "output_type": "display_data"
    }
   ],
   "source": [
    "plt.plot(history.history['loss'], label='train')\n",
    "plt.plot(history.history['val_loss'], label='test')\n",
    "plt.legend()\n",
    "plt.show()"
   ]
  },
  {
   "cell_type": "code",
   "execution_count": 33,
   "id": "01694a31",
   "metadata": {},
   "outputs": [],
   "source": [
    "src_index_to_word = src_tokenizer.index_word # 원문 단어 집합에서 정수 -> 단어를 얻음\n",
    "tar_word_to_index = tar_tokenizer.word_index # 요약 단어 집합에서 단어 -> 정수를 얻음\n",
    "tar_index_to_word = tar_tokenizer.index_word # 요약 단어 집합에서 정수 -> 단어를 얻음\n"
   ]
  },
  {
   "cell_type": "code",
   "execution_count": 34,
   "id": "91a9caa8",
   "metadata": {},
   "outputs": [],
   "source": [
    "# 인코더 설계\n",
    "encoder_model = Model(inputs=encoder_inputs, outputs=[encoder_outputs, state_h, state_c])\n",
    "\n",
    "# 이전 시점의 상태들을 저장하는 텐서\n",
    "decoder_state_input_h = Input(shape=(hidden_size,))\n",
    "decoder_state_input_c = Input(shape=(hidden_size,))\n",
    "\n",
    "dec_emb2 = dec_emb_layer(decoder_inputs)\n",
    "\n",
    "# 문장의 다음 단어를 예측하기 위해서 초기 상태(initial_state)를 이전 시점의 상태로 사용. 이는 뒤의 함수 decode_sequence()에 구현\n",
    "# 훈련 과정에서와 달리 LSTM의 리턴하는 은닉 상태와 셀 상태인 state_h와 state_c를 버리지 않음.\n",
    "decoder_outputs2, state_h2, state_c2 = decoder_lstm(dec_emb2, initial_state=[decoder_state_input_h, decoder_state_input_c])"
   ]
  },
  {
   "cell_type": "code",
   "execution_count": 35,
   "id": "33a91efb",
   "metadata": {},
   "outputs": [],
   "source": [
    "# 어텐션 함수\n",
    "decoder_hidden_state_input = Input(shape=(text_max_len, hidden_size))\n",
    "attn_out_inf = attn_layer([decoder_outputs2, decoder_hidden_state_input])\n",
    "decoder_inf_concat = Concatenate(axis=-1, name='concat')([decoder_outputs2, attn_out_inf])\n",
    "\n",
    "# 디코더의 출력층\n",
    "decoder_outputs2 = decoder_softmax_layer(decoder_inf_concat) \n",
    "\n",
    "# 최종 디코더 모델\n",
    "decoder_model = Model(\n",
    "    [decoder_inputs] + [decoder_hidden_state_input,decoder_state_input_h, decoder_state_input_c],\n",
    "    [decoder_outputs2] + [state_h2, state_c2])"
   ]
  },
  {
   "cell_type": "code",
   "execution_count": 36,
   "id": "0cbdc2e4",
   "metadata": {},
   "outputs": [],
   "source": [
    "def decode_sequence(input_seq):\n",
    "    # 입력으로부터 인코더의 상태를 얻음\n",
    "    e_out, e_h, e_c = encoder_model.predict(input_seq)\n",
    "\n",
    "     # <SOS>에 해당하는 토큰 생성\n",
    "    target_seq = np.zeros((1,1))\n",
    "    target_seq[0, 0] = tar_word_to_index['sostoken']\n",
    "\n",
    "    stop_condition = False\n",
    "    decoded_sentence = ''\n",
    "    while not stop_condition: # stop_condition이 True가 될 때까지 루프 반복\n",
    "\n",
    "        output_tokens, h, c = decoder_model.predict([target_seq] + [e_out, e_h, e_c])\n",
    "        sampled_token_index = np.argmax(output_tokens[0, -1, :])\n",
    "        sampled_token = tar_index_to_word[sampled_token_index]\n",
    "\n",
    "        if (sampled_token!='eostoken'):\n",
    "            decoded_sentence += ' '+sampled_token\n",
    "\n",
    "        #  <eos>에 도달하거나 최대 길이를 넘으면 중단.\n",
    "        if (sampled_token == 'eostoken'  or len(decoded_sentence.split()) >= (headline_max_len-1)):\n",
    "            stop_condition = True\n",
    "\n",
    "        # 길이가 1인 타겟 시퀀스를 업데이트\n",
    "        target_seq = np.zeros((1,1))\n",
    "        target_seq[0, 0] = sampled_token_index\n",
    "\n",
    "        # 상태를 업데이트 합니다.\n",
    "        e_h, e_c = h, c\n",
    "\n",
    "    return decoded_sentence"
   ]
  },
  {
   "cell_type": "code",
   "execution_count": 37,
   "id": "d230a630",
   "metadata": {},
   "outputs": [],
   "source": [
    "# 원문의 정수 시퀀스를 텍스트 시퀀스로 변환\n",
    "def seq2text(input_seq):\n",
    "    temp=''\n",
    "    for i in input_seq:\n",
    "        if (i!=0):\n",
    "            temp = temp + src_index_to_word[i]+' '\n",
    "    return temp\n",
    "\n",
    "# 헤드라인의 정수 시퀀스를 텍스트 시퀀스로 변환\n",
    "def seq2headline(input_seq):\n",
    "    temp=''\n",
    "    for i in input_seq:\n",
    "        if((i!=0 and i!=tar_word_to_index['sostoken']) and i!=tar_word_to_index['eostoken']):\n",
    "            temp = temp + tar_index_to_word[i] + ' '\n",
    "    return temp"
   ]
  },
  {
   "cell_type": "code",
   "execution_count": 51,
   "id": "38e660d5",
   "metadata": {},
   "outputs": [
    {
     "name": "stdout",
     "output_type": "stream",
     "text": [
      "원문 : team researchers china used gene editing technique get produce spider silk team replaced part genome golden orb web spider spider silk used create micro delivering cancer drugs repair damaged nerves create better bullet proof vests \n",
      "실제 headline : gene editing allows to create spider silk \n",
      "예측 headline :  scientists find new zealand museum to get cr from\n",
      "\n",
      "\n",
      "원문 : indian rounder hardik pandya shared selfie entire indian team visiting indian summer festival held melbourne ahead rd india australia test photo caption read best selfie ever indian team official instagram account cricket australia official twitter account shared posts event \n",
      "실제 headline : pandya shares best selfie ever as team india attends festival \n",
      "예측 headline :  india first indian cricketer to play in india cricket\n",
      "\n",
      "\n",
      "원문 : manchester united crashed champions league pre quarterfinals losing sevilla old trafford wednesday first time sevilla five time europa league champions reached champions league quarterfinals barcelona chelsea played draw first leg play second leg last tie today \n",
      "실제 headline : manchester united knocked out of champions league \n",
      "예측 headline :  chelsea lose their own pl match in last years\n",
      "\n",
      "\n",
      "원문 : monthly ticket holders two popular maharashtra inter city express trains queen express borrow books free cost libraries set board initiative central railway library wheels inaugurated occasion birth anniversary former president apj abdul kalam borrowed books returned \n",
      "실제 headline : two maharashtra inter city trains start library on wheels \n",
      "예측 headline :  mumbai to get new mumbai mumbai mumbai passenger site\n",
      "\n",
      "\n",
      "원문 : eiffel tower condition made public may con artist victor devised plan government official sell tower scrap iron dealers selling highest bidder fled austria six months later returned paris sold eiffel tower manner \n",
      "실제 headline : man had sold the eiffel tower twice \n",
      "예측 headline :  sale of selling for sale of its own house\n",
      "\n",
      "\n",
      "원문 : world expensive commercially available watch super ice cube switzerland retails crore according guinness world records watch diamonds including different cut diamonds centre stones brilliant cut diamonds part range includes watches black diamonds \n",
      "실제 headline : most expensive available watch costs crore \n",
      "예측 headline :  world most expensive printed bike in world world record\n",
      "\n",
      "\n",
      "원문 : least students killed school bus fell metre deep gorge himachal pradesh kangra monday least others injured accident national disaster response force team rushed spot reports said seater bus carrying school students \n",
      "실제 headline : students killed as school bus falls into gorge in himachal \n",
      "예측 headline :  killed injured as bus falls into gorge in himachal\n",
      "\n",
      "\n",
      "원문 : pakistani woman nawab facing death sentence killing family acquitted years prison nawab fiance farhan convicted alleged crime basis family given couple permission marry nawab released sufficient evidence \n",
      "실제 headline : pak woman facing death row released after yrs in prison \n",
      "예측 headline :  man kills wife over yrs for killing his wife\n",
      "\n",
      "\n",
      "원문 : train ran people watching dussehra celebrations punjab amritsar railway board chairman ashwani lohani said would wrong say railways responsible accident two manned level crossings track railway administration informed dussehra celebration people watching railway tracks added \n",
      "실제 headline : wrong to blame railways for amritsar accident rail board chief \n",
      "예측 headline :  mumbai police to get sanitary pads at mumbai airport\n",
      "\n",
      "\n",
      "원문 : uk banking major announced setting aside million compensate customers lost money fraud scandal lender said compensate economic losses distress inconvenience assist victims comes staff owned jailed carrying loans scam \n",
      "실제 headline : uk bank to pay crore as compensation to fraud victims \n",
      "예측 headline :  pnb to sell stake in pnb fraud case reports\n",
      "\n",
      "\n",
      "원문 : shikhar dhawan thursday posted tweet shahid afridi statement calling india regime shooting kashmir earlier cricket legend sachin tendulkar said outsider needs know tell us need gautam gambhir called afridi statement \n",
      "실제 headline : desh ki dhawan on afridi tweet \n",
      "예측 headline :  sachin responds to sachin for his tweet on diwali\n",
      "\n",
      "\n",
      "원문 : gujarat high court monday said marital rape made illegal teach societies treatment women tolerated court said partly quashing fir man accused raping wife directed police instead investigate husband cruelty sexual harassment \n",
      "실제 headline : marital rape should be made illegal gujarat high court \n",
      "예측 headline :  rape accused of rape case against minors in rajasthan\n",
      "\n",
      "\n",
      "원문 : archaeologists andhra pradesh discovered ancient buddhist site dates back st century ad found buddhist site atop hill locally called area broken pillars front dilapidated venkateswara temple structures date back rule senior said \n",
      "실제 headline : ancient buddhist site from st century discovered in andhra \n",
      "예측 headline :  year old boy found in bottle of the beach\n",
      "\n",
      "\n",
      "원문 : year old woman bengaluru accused ola driver watching porn holding phone manner could see ride woman complaint police said driver masturbated well refused stop ride despite asked repeatedly driver currently absconding \n",
      "실제 headline : ola driver shows porn to woman masturbates during ride \n",
      "예측 headline :  woman driver arrested for stealing driving with driver in\n",
      "\n",
      "\n",
      "원문 : marcus extra time goal sent manchester united europa league semi finals following win old trafford thursday th minute opener cancelled nd minute taking game extra time united advanced aggregate playing draw first leg \n",
      "실제 headline : goal takes manchester utd to europa league semis \n",
      "예측 headline :  player scores from th goal in goal with him\n",
      "\n",
      "\n",
      "원문 : year old boy died drowning pond navi mumbai monday police said parents informed police missing son found clothes near village pond bank gone swim school fire brigade officials body case accidental death registered \n",
      "실제 headline : year old boy drowns in navi mumbai pond \n",
      "예측 headline :  year old girl dies after being hit by noida\n",
      "\n",
      "\n",
      "원문 : former president pranab mukherjee agreed attend event organised rss union minister nitin gadkari said rss nationalist organisation pakistan isi adding mukherjee decision accept invite good start gadkari said political good rss cadres attend event scheduled next month \n",
      "실제 headline : rss organisation of it is not pak isi gadkari \n",
      "예측 headline :  ex prez mukherjee slammed for calling rss ex prez\n",
      "\n",
      "\n",
      "원문 : prime minister narendra modi tuesday reprimanded bjp mps low attendance parliament said bills getting stuck complete either house pm modi pointed especially fridays show many members post lunch conduct acceptable \n",
      "실제 headline : pm modi bjp mps for parliament sessions \n",
      "예측 headline :  pm modi mps to be made by ganga made\n",
      "\n",
      "\n",
      "원문 : industry body coai termed launch jiophone effective zero price marketing position move help company save licence fee government levies coai director general rajan mathews termed phone launch clearly big win jio put pressure incumbent telecom operators \n",
      "실제 headline : jiophone at marketing industry body \n",
      "예측 headline :  gst council offers to launch gst with gst rates\n",
      "\n",
      "\n",
      "원문 : actor nawazuddin siddiqui set make debut tamil film industry upcoming movie stars rajinikanth film production house sun pictures tweeted happy announce first time nawazuddin acting superstar directed karthik film also star simran vijay \n",
      "실제 headline : nawazuddin to debut in tamil industry with rajinikanth film \n",
      "예측 headline :  akshay kumar to star in akshay kumar film film\n",
      "\n",
      "\n",
      "원문 : infosys filed settlement plea market regulator sebi probe former chief financial officer rajiv bansal crore severance offer deal based undertaking infosys would neither admit deny findings sebi investigation company said added settlement deal sebi confidential \n",
      "실제 headline : infosys files settlement plea with sebi on former cfo pay \n",
      "예측 headline :  infosys to sell stake in tata steel deal deal\n",
      "\n",
      "\n",
      "원문 : peter year old boy caught american tennis player jack towel wimbledon last tuesday forcibly taken away older spectator given replacement towel american player peter come watch doubles match wimbledon friday given replacement towel player \n",
      "실제 headline : boy cheated of player wimbledon towel gets replacement \n",
      "예측 headline :  player calls his teammate on his teammate gets him\n",
      "\n",
      "\n",
      "원문 : bangalore metro rail corporation limited officials covered hindi words signboards outside metro stations pro kannada organisations issued warning regard expressing displeasure activists started online campaign remove hindi took step cover hindi words order avoid trouble \n",
      "실제 headline : hindi words on at luru metro stations covered \n"
     ]
    },
    {
     "name": "stdout",
     "output_type": "stream",
     "text": [
      "예측 headline :  bengaluru metro to install bengaluru metro stations for hindi\n",
      "\n",
      "\n",
      "원문 : congress spokesperson randeep surjewala tuesday said new slogan pm narendra modi led government ka vikas aur ka saath slamming pm modi finance minister arun jaitley silence surjewala added scams worth around carried nda rule \n",
      "실제 headline : govt slogan is ka vikas ka cong \n",
      "예측 headline :  pm modi should be removed from congress cong leader\n",
      "\n",
      "\n",
      "원문 : camera maker gopro ceo nick best compensated us executive paid cash compensation pay totalled million company shares soared ipo boosting value equity grant according bloomberg company also announced plans cut workforce \n",
      "실제 headline : ceo who once had mn salary to get for \n",
      "예측 headline :  bitcoin ceo mark net worth cr from last year\n",
      "\n",
      "\n",
      "원문 : rjd leader tejashwi yadav sunday met bsp chief mayawati lucknow day latter announced alliance akhilesh yadav samajwadi party said father jailed rjd chief lalu prasad yadav wanted grand alliance uttar pradesh bsp sp contest seats upcoming lok sabha elections \n",
      "실제 headline : lalu wanted sp bsp alliance tejashwi meets mayawati in up \n",
      "예측 headline :  lalu prasad yadav to be in bihar lalu yadav\n",
      "\n",
      "\n",
      "원문 : minimum overs bowled day four day tests compared overs five day tests accommodate additional eight overs four day tests play extended minutes per day four day tests run first innings lead enough enforce follow compared five day tests \n",
      "실제 headline : how are rules for day tests different from day tests \n",
      "예측 headline :  england end day after day after day after day\n",
      "\n",
      "\n",
      "원문 : sweety tera drama first song kriti sanon ayushmann khurrana rajkummar rao starrer bareilly ki barfi released composed tanishk sung dev negi pandey shraddha pandit lyrics ahmed directed ashwiny iyer tiwari film scheduled release august \n",
      "실제 headline : bareilly ki barfi first song drama released \n",
      "예측 headline :  song from diljit dosanjh song from song from song\n",
      "\n",
      "\n",
      "원문 : delhi high court tuesday directed police ensure stage loudspeakers used puja ground located delhi nagar public address system used police court added hearing petition seeking prohibit granting license puja organiser \n",
      "실제 headline : delhi hc bans stage at puja ground \n",
      "예측 headline :  delhi hc issues notice to delhi over security drive\n",
      "\n",
      "\n",
      "원문 : us border patrol agent charged murdering four women texas described authorities serial killer one victim another juan david arrested fifth woman escaped approached police spent years border patrol agent \n",
      "실제 headline : us serial killer border agent charged with murders \n",
      "예측 headline :  us man admits to death over child abuse murder\n",
      "\n",
      "\n",
      "원문 : taking dig maharashtra government installing safety nets series suicides building shiv sena said government mind become unstable suicides people thought state would work towards welfare farmers people putting safety nets instead party added \n",
      "실제 headline : maha govt mind sena on safety nets in \n",
      "예측 headline :  maha cm orders to stop on road in delhi\n",
      "\n",
      "\n",
      "원문 : aap mla kapil mishra alleged saw delhi health minister satyendar jain giving crore cash cm arvind kejriwal delhi deputy cm manish sisodia said allegations even worth responding absurd without facts sisodia added mishra levelled charge kejriwal day sacked delhi minister \n",
      "실제 headline : sisodia rejects aap mla mishra claims against kejriwal \n",
      "예측 headline :  delhi govt to get crore kejriwal after cr deal\n",
      "\n",
      "\n",
      "원문 : union minister mukhtar abbas naqvi sister naqvi alleged group men tried kidnap near uttar pradesh bareilly claimed returning home men stopped car tried pull inside kidnapping bid reportedly foiled group women rescued \n",
      "실제 headline : minister sister alleges men in car tried to kidnap her \n",
      "예측 headline :  tv minister calls his family of his family wife\n",
      "\n",
      "\n",
      "원문 : janata dal northeastern political parties including bjp allies oppose citizenship bill meghalaya cm conrad sangma said tuesday decision taken meeting political parties guwahati political parties region protesting bill states decided come together sangma added \n",
      "실제 headline : parties from northeast to oppose citizenship bill meghalaya cm \n",
      "예측 headline :  bjp demands support for seats in gujarat assembly elections\n",
      "\n",
      "\n",
      "원문 : ranveer singh baraat arrived boat dancing govinda anil kapoor songs per reports ranveer got married deepika padukone wednesday per konkani customs couple another wedding thursday according sindhi customs wedding held italy two take place bengaluru mumbai \n",
      "실제 headline : ranveer baraat came in boat dancing to govinda songs report \n",
      "예측 headline :  ranveer ranveer to get married in ranveer wedding reports\n",
      "\n",
      "\n",
      "원문 : french president emmanuel macron facing criticism picture two men one showed middle finger emerged online one men macron reportedly convicted robber picture taken macron visit island saint martin hit hurricane irma last year \n",
      "실제 headline : french prez pic with man showing middle finger sparks row \n",
      "예측 headline :  french prez macron his president macron to walk down\n",
      "\n",
      "\n",
      "원문 : delhi police booked bsf constable woman alleged staring winking traveling bus delhi brought police station examined found inebriated state fir registered case investigation underway \n",
      "실제 headline : bsf constable held for at woman on bus \n",
      "예측 headline :  delhi man arrested for molesting woman in delhi bus\n",
      "\n",
      "\n",
      "원문 : delhi high court friday sought replies journalist arnab goswami channel republic tv asking respect shashi tharoor right silence wife sunanda pushkar death tharoor filed plea asking channel refrain wife death already filed crore defamation case goswami channel \n",
      "실제 headline : respect tharoor right to silence hc to arnab goswami \n",
      "예측 headline :  hc rejects fir against husband over alleged sexual harassment\n",
      "\n",
      "\n",
      "원문 : french owner gucci luxury brand owes billion italy back taxes according government audit swiss subsidiary luxury goods international investigation allegedly failing pay taxes due italy said disputes outcome audit report grounds amount \n",
      "실제 headline : gucci owner owes billion in taxes to italy audit finds \n",
      "예측 headline :  us to pay mn for crore in black money\n",
      "\n",
      "\n",
      "원문 : total trainee police constables bihar dismissed service officers suspended transferred indulging large scale violence vandalism violence occurred death female constable suffering dengue allegedly denied leave brought control bihar military police intervention \n",
      "실제 headline : bihar police officers dismissed for violence vandalism \n",
      "예측 headline :  cops arrested for cow slaughter in bihar police station\n",
      "\n",
      "\n",
      "원문 : year old girl set become britain youngest mother police investigating circumstances pregnancy father baby believed another minor years older girl notably teenage pregnancies united kingdom dropped lowest level almost years \n",
      "실제 headline : girl aged set to become britain youngest mother \n",
      "예측 headline :  woman kills mother after losing birth to help her\n",
      "\n",
      "\n",
      "원문 : facial masks featuring north korean leader kim jong un sparked row south korea several stores halting sales following backlash cosmetics company said sold special series nuclear bomb masks since june said wanted celebrate lifetime inter korean earlier year \n",
      "실제 headline : kim jong un face mask sparks row in south korea \n",
      "예측 headline :  korea bans north korea nuclear deal with north korea\n",
      "\n",
      "\n",
      "원문 : facebook rolled sleep mode feature messenger kids chat platform children aged control time spent app feature allow parents set times app cannot used child device sleep mode enabled children cannot send messages get notifications \n",
      "실제 headline : facebook launches sleep mode feature in messenger kids app \n",
      "예측 headline :  facebook adds feature to prevent fake news on whatsapp\n",
      "\n",
      "\n",
      "원문 : life ban imposed fast bowler sreesanth bcci continue kerala high court ruled comes bcci appealed august verdict court ordered lifting ban year old sreesanth banned alleged involvement ipl spot fixing scam \n",
      "실제 headline : kerala high court restores life ban on sreesanth \n",
      "예측 headline :  bcci demands notice over sreesanth over sreesanth tweet remark\n",
      "\n",
      "\n",
      "원문 : bombay high court wednesday ordered police release actor nawazuddin siddiqui advocate rizwan siddiqui five days arrested call data records case order came rizwan wife filed petition alleging illegally detained police rizwan accused obtaining nawazuddin wife private \n",
      "실제 headline : hc orders release of advocate in call data records case \n"
     ]
    },
    {
     "name": "stdout",
     "output_type": "stream",
     "text": [
      "예측 headline :  hc rejects plea against police for arrest of women\n",
      "\n",
      "\n",
      "원문 : speaking television chat show actor zac recalled incident almost died cycling trip london actor hugh jackman zac said followed hugh around cars suddenly double decker bus right front slammed brakes went front narrowly missed death \n",
      "실제 headline : almost died on cycling trip with hugh jackman \n",
      "예측 headline :  tv actor passes away after being stabbed by him\n",
      "\n",
      "\n",
      "원문 : meth addicted snake spent seven months corrective services wildlife care centre australia set released rehab reptile seized raid drug lab reportedly developed habit fumes particles manufacturing ice lab skin nn \n",
      "실제 headline : meth snake to be released from \n",
      "예측 headline :  indians are the most number of the year in\n",
      "\n",
      "\n",
      "원문 : former un secretary general nobel peace prize winner passed away saturday aged hospital switzerland diplomat ghana worked combat hiv especially africa advocated expansion un security council also served un special representative tasked resolving conflict syria \n",
      "실제 headline : nobel laureate and former un chief passes away \n",
      "예측 headline :  former himachal pradesh passes away from cancer in himachal\n",
      "\n",
      "\n",
      "원문 : rejecting allegations supported khalistan canadian defence minister singh sajjan tuesday said proud born india want sucked internal politics nation asserted comes punjab cm amarinder singh dubbed sajjan khalistan refused meet \n",
      "실제 headline : proud to have been born in india canada defence minister \n",
      "예측 headline :  will not be part of any age of karunanidhi\n",
      "\n",
      "\n",
      "원문 : national green tribunal friday imposed crore fine meghalaya government failing curb illegal mining state report submitted ngt stated mines state operating without license lease comes miners trapped illegal mine east hills meghalaya \n",
      "실제 headline : ngt imposes cr fine on meghalaya over illegal mining \n",
      "예측 headline :  govt to pay crore to settle over illegal deaths\n",
      "\n",
      "\n"
     ]
    }
   ],
   "source": [
    "for i in range(50, 100):  \n",
    "    print(\"원문 :\", seq2text(encoder_input_test[i]))\n",
    "    print(\"실제 headline :\", seq2headline(decoder_input_test[i]))\n",
    "    print(\"예측 headline :\", decode_sequence(encoder_input_test[i].reshape(1, text_max_len)))\n",
    "    print(\"\\n\")"
   ]
  },
  {
   "cell_type": "markdown",
   "id": "e32a6ea1",
   "metadata": {},
   "source": [
    "## Extractive Text Summarization with summa"
   ]
  },
  {
   "cell_type": "code",
   "execution_count": 58,
   "id": "d2000e88",
   "metadata": {},
   "outputs": [],
   "source": [
    "urllib.request.urlretrieve(\"https://raw.githubusercontent.com/sunnysai12345/News_Summary/master/news_summary_more.csv\", filename=\"news_summary_more.csv\")\n",
    "summa_data = pd.read_csv('news_summary_more.csv', encoding='iso-8859-1')"
   ]
  },
  {
   "cell_type": "code",
   "execution_count": 59,
   "id": "7fe4b9f1",
   "metadata": {},
   "outputs": [
    {
     "data": {
      "text/plain": [
       "'A team of researchers in China used a gene editing technique to get silkworms to produce spider silk. The team replaced a part of a silkworm genome with a snippet from a golden orb-web spider. Spider silk can be used to create micro-capsules for delivering cancer drugs, repair damaged nerves and create better bullet-proof vests.'"
      ]
     },
     "execution_count": 59,
     "metadata": {},
     "output_type": "execute_result"
    }
   ],
   "source": [
    "summa_data['text'][22578]"
   ]
  },
  {
   "cell_type": "code",
   "execution_count": 61,
   "id": "80b6fa22",
   "metadata": {},
   "outputs": [
    {
     "name": "stdout",
     "output_type": "stream",
     "text": [
      "Summary:\n",
      "A team of researchers in China used a gene editing technique to get silkworms to produce spider silk.\n"
     ]
    }
   ],
   "source": [
    "print('Summary:')\n",
    "print(summarize(summa_data['text'][22578], words=13))"
   ]
  },
  {
   "cell_type": "code",
   "execution_count": 62,
   "id": "b3f40261",
   "metadata": {},
   "outputs": [
    {
     "data": {
      "text/plain": [
       "'Indian all-rounder Hardik Pandya shared a selfie with the entire Indian team when they were visiting the Indian Summer Festival which was held in Melbourne ahead of the 3rd India-Australia Test. The photo\\'s caption read, \"Best selfie ever\". The Indian team\\'s official Instagram account and the Cricket Australia\\'s official Twitter account shared posts from the event.'"
      ]
     },
     "execution_count": 62,
     "metadata": {},
     "output_type": "execute_result"
    }
   ],
   "source": [
    "summa_data['text'][4980]"
   ]
  },
  {
   "cell_type": "code",
   "execution_count": 63,
   "id": "cdd84838",
   "metadata": {},
   "outputs": [
    {
     "name": "stdout",
     "output_type": "stream",
     "text": [
      "Summary:\n",
      "\n"
     ]
    }
   ],
   "source": [
    "print('Summary:')\n",
    "print(summarize(summa_data['text'][4980], words=13))"
   ]
  },
  {
   "cell_type": "code",
   "execution_count": 64,
   "id": "9abc2cd4",
   "metadata": {},
   "outputs": [
    {
     "data": {
      "text/plain": [
       "'Manchester United crashed out of the Champions League in the pre-quarterfinals after losing 1-2 to Sevilla at Old Trafford on Wednesday. This is the first time Sevilla, five-time Europa League champions, have reached Champions League quarterfinals. Barcelona and Chelsea, who played out a 1-1 draw in the first leg, will play the second leg of their last 16 tie today.'"
      ]
     },
     "execution_count": 64,
     "metadata": {},
     "output_type": "execute_result"
    }
   ],
   "source": [
    "summa_data['text'][43939]"
   ]
  },
  {
   "cell_type": "code",
   "execution_count": 65,
   "id": "c3408515",
   "metadata": {},
   "outputs": [
    {
     "name": "stdout",
     "output_type": "stream",
     "text": [
      "Summary:\n",
      "Manchester United crashed out of the Champions League in the pre-quarterfinals after losing 1-2 to Sevilla at Old Trafford on Wednesday.\n"
     ]
    }
   ],
   "source": [
    "print('Summary:')\n",
    "print(summarize(summa_data['text'][43939], words=13))"
   ]
  },
  {
   "cell_type": "markdown",
   "id": "34839087",
   "metadata": {},
   "source": [
    "|Text|실제 Headline|예측된 Headline|Summuarized text|\n",
    "|------|---|---|---|\n",
    "|A team of researchers in China used a gene editing technique to get silkworms to produce spider silk. The team replaced a part of a silkworm genome with a snippet from a golden orb-web spider. Spider silk can be used to create micro-capsules for delivering cancer drugs, repair damaged nerves and create better bullet-proof vests.|gene editing allows to create spider silk |scientists find new zealand museum to get cr from|A team of researchers in China used a gene editing technique to get silkworms to produce spider silk.|\n",
    "|Indian all-rounder Hardik Pandya shared a selfie with the entire Indian team when they were visiting the Indian Summer Festival which was held in Melbourne ahead of the 3rd India-Australia Test. The photo\\'s caption read, \"Best selfie ever\". The Indian team\\'s official Instagram account and the Cricket Australia\\'s official Twitter account shared posts from the event.|pandya shares best selfie ever as team india attends festival|india first indian cricketer to play in india cricket|-|\n",
    "|Manchester United crashed out of the Champions League in the pre-quarterfinals after losing 1-2 to Sevilla at Old Trafford on Wednesday. This is the first time Sevilla, five-time Europa League champions, have reached Champions League quarterfinals. Barcelona and Chelsea, who played out a 1-1 draw in the first leg, will play the second leg of their last 16 tie today.|manchester united knocked out of champions league|chelsea lose their own pl match in last years|Manchester United crashed out of the Champions League in the pre-quarterfinals after losing 1-2 to Sevilla at Old Trafford on Wednesday.|"
   ]
  },
  {
   "cell_type": "markdown",
   "id": "5d3a471c",
   "metadata": {},
   "source": [
    "## 분석"
   ]
  },
  {
   "cell_type": "markdown",
   "id": "12e1f86d",
   "metadata": {},
   "source": [
    "summa 패키지의 summarize를 사용한 경우가 내가 설계한 모델에 비해 텍스트의 키워드를 찾는데에는 더 우수한 성능을 보여줬다. 그러나 summarize는 때때로 요약을 하지 않는 경우가 있는데, 문장의 수가 적거나 키워드를 찾지 못할때 ''를 리턴한다. 이는 표의 두번째 예시에서 볼 수 있듯이 output이 없음을 확인 할 수 있다. summarize가 이번 프로젝트에서는 비교 우위의 성능을 보여주고 있으나, 내가 사용한 모델을 더 fine tunning 할 수 있다면 더 다양한 상황에서 동등하거나 더 높은 성능을 낼 수 있을거라 생각한다. \n"
   ]
  }
 ],
 "metadata": {
  "kernelspec": {
   "display_name": "Python 3 (ipykernel)",
   "language": "python",
   "name": "python3"
  },
  "language_info": {
   "codemirror_mode": {
    "name": "ipython",
    "version": 3
   },
   "file_extension": ".py",
   "mimetype": "text/x-python",
   "name": "python",
   "nbconvert_exporter": "python",
   "pygments_lexer": "ipython3",
   "version": "3.9.7"
  }
 },
 "nbformat": 4,
 "nbformat_minor": 5
}
