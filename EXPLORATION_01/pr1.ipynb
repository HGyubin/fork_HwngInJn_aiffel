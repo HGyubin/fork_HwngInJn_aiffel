{
 "cells": [
  {
   "cell_type": "code",
   "execution_count": 1,
   "id": "dc35f12e",
   "metadata": {},
   "outputs": [
    {
     "data": {
      "text/plain": [
       "6"
      ]
     },
     "execution_count": 1,
     "metadata": {},
     "output_type": "execute_result"
    }
   ],
   "source": [
    "#1 데이터 가져오기\n",
    "\n",
    "import pandas as pd\n",
    "#sklearn.datasets의 load_diabetes에서 데이터를 가져와주세요.\n",
    "from sklearn.datasets import load_diabetes\n",
    "\n",
    "#diabetes의 data를 df_X에, target을 df_y에 저장해주세요.\n",
    "diabetes = load_diabetes()\n",
    "df_X, df_y = pd.DataFrame(diabetes.data), pd.DataFrame(diabetes.target)\n",
    "\n",
    "df_X = df_X.drop([0,1,4,5], axis =1) # 4개의 컬럼 삭제\n",
    "\n",
    "df_X.shape[1]"
   ]
  },
  {
   "cell_type": "code",
   "execution_count": 2,
   "id": "09d9dfb7",
   "metadata": {},
   "outputs": [
    {
     "name": "stdout",
     "output_type": "stream",
     "text": [
      "done\n"
     ]
    }
   ],
   "source": [
    "#2,3 모델에 입력할 데이터 X,y 준비하기\n",
    "\n",
    "#값들을 numpy array로 변환해서 저장해주세요.\n",
    "import numpy as np\n",
    "\n",
    "df_X = np.array(df_X)\n",
    "df_y = np.array(df_y)\n",
    "\n",
    "print('done')"
   ]
  },
  {
   "cell_type": "code",
   "execution_count": 3,
   "id": "08dcd62b",
   "metadata": {},
   "outputs": [
    {
     "name": "stdout",
     "output_type": "stream",
     "text": [
      "(353, 6) (353, 1)\n",
      "(89, 6) (89, 1)\n",
      "done\n"
     ]
    }
   ],
   "source": [
    "#4 train 데이터와 test 데이터로 분리하기\n",
    "\n",
    "#X와 y 데이터를 각각 train 데이터와 test 데이터로 분리해주세요.\n",
    "from sklearn.model_selection import train_test_split  # train_test_split 함수 추가\n",
    "\n",
    "X_train, X_test, y_train, y_test = train_test_split(df_X, df_y, test_size=0.2, random_state=42)\n",
    "# 테스트 사이즈 20%, 랜덤 state 42\n",
    "print(X_train.shape, y_train.shape)\n",
    "print(X_test.shape, y_test.shape)\n",
    "print('done')"
   ]
  },
  {
   "cell_type": "code",
   "execution_count": 4,
   "id": "451c6e22",
   "metadata": {},
   "outputs": [
    {
     "name": "stdout",
     "output_type": "stream",
     "text": [
      "done\n"
     ]
    }
   ],
   "source": [
    "#5 모델 준비하기\n",
    "\n",
    "#입력 데이터 개수에 맞는 가중치 W와 b를 준비해주세요.\n",
    "\n",
    "W = np.random.rand(df_X.shape[1]) # weight는 x의 feature갯수만큼 생성\n",
    "b = np.random.rand() # bias 는 1개\n",
    "\n",
    "#모델 함수를 구현해주세요.\n",
    "\n",
    "def model(x, W, b):  # 선형회귀 모델\n",
    "    predictions = x.dot(W) + b\n",
    "    return predictions\n",
    "\n",
    "print('done')\n"
   ]
  },
  {
   "cell_type": "code",
   "execution_count": 5,
   "id": "0aea854b",
   "metadata": {},
   "outputs": [
    {
     "name": "stdout",
     "output_type": "stream",
     "text": [
      "done\n"
     ]
    }
   ],
   "source": [
    "#6 손실함수 loss 정의하기\n",
    "\n",
    "#손실함수를 MSE 함수로 정의해주세요.\n",
    "\n",
    "def MSE(y, predictions):     #mean square error 함수\n",
    "    mse = ((y-predictions) ** 2).mean()\n",
    "    return mse\n",
    "\n",
    "def loss(X, W, b, y):      #loss 함수 - mse 포함 \n",
    "    predictions = model(X, W, b)\n",
    "    L = MSE(predictions, y)\n",
    "    return L\n",
    "\n",
    "print('done')"
   ]
  },
  {
   "cell_type": "code",
   "execution_count": 6,
   "id": "34430c92",
   "metadata": {},
   "outputs": [],
   "source": [
    "#7 기울기를 구하는 gradient 함수 구현하기\n",
    "\n",
    "#기울기를 계산하는 gradient합수를 구현해주세요\n",
    "def gradient(X, W, b, y):\n",
    "    N = len(y)\n",
    "    y_pred = model(X, W, b)\n",
    "    \n",
    "\n",
    "    error = y_pred - y.reshape(-1,)\n",
    "\n",
    "    dW = 1/N * 2 * X.T.dot(error)\n",
    "    \n",
    "    db = 2 * error.mean()\n",
    "    return dW, db\n",
    "\n",
    "\n",
    "\n"
   ]
  },
  {
   "cell_type": "code",
   "execution_count": 7,
   "id": "998d3561",
   "metadata": {},
   "outputs": [
    {
     "name": "stdout",
     "output_type": "stream",
     "text": [
      "Iteration 0 : Loss 21021.4878\n",
      "Iteration 10 : Loss 6249.1576\n",
      "Iteration 20 : Loss 6080.8207\n",
      "Iteration 30 : Loss 6081.5091\n",
      "Iteration 40 : Loss 6084.9900\n",
      "Iteration 50 : Loss 6089.3339\n",
      "Iteration 60 : Loss 6094.4858\n",
      "Iteration 70 : Loss 6100.4108\n",
      "Iteration 80 : Loss 6107.0754\n",
      "Iteration 90 : Loss 6114.4471\n",
      "Iteration 100 : Loss 6122.4946\n",
      "Iteration 110 : Loss 6131.1872\n",
      "Iteration 120 : Loss 6140.4958\n",
      "Iteration 130 : Loss 6150.3917\n",
      "Iteration 140 : Loss 6160.8476\n",
      "Iteration 150 : Loss 6171.8367\n",
      "Iteration 160 : Loss 6183.3335\n",
      "Iteration 170 : Loss 6195.3130\n",
      "Iteration 180 : Loss 6207.7512\n",
      "Iteration 190 : Loss 6220.6250\n",
      "Iteration 200 : Loss 6233.9119\n",
      "Iteration 210 : Loss 6247.5902\n",
      "Iteration 220 : Loss 6261.6391\n",
      "Iteration 230 : Loss 6276.0383\n",
      "Iteration 240 : Loss 6290.7683\n",
      "Iteration 250 : Loss 6305.8103\n",
      "Iteration 260 : Loss 6321.1461\n",
      "Iteration 270 : Loss 6336.7581\n",
      "Iteration 280 : Loss 6352.6294\n",
      "Iteration 290 : Loss 6368.7436\n",
      "Iteration 300 : Loss 6385.0849\n",
      "Iteration 310 : Loss 6401.6382\n",
      "Iteration 320 : Loss 6418.3888\n",
      "Iteration 330 : Loss 6435.3226\n",
      "Iteration 340 : Loss 6452.4258\n",
      "Iteration 350 : Loss 6469.6854\n",
      "Iteration 360 : Loss 6487.0886\n",
      "Iteration 370 : Loss 6504.6234\n",
      "Iteration 380 : Loss 6522.2778\n",
      "Iteration 390 : Loss 6540.0407\n",
      "Iteration 400 : Loss 6557.9012\n",
      "Iteration 410 : Loss 6575.8486\n",
      "Iteration 420 : Loss 6593.8730\n",
      "Iteration 430 : Loss 6611.9647\n",
      "Iteration 440 : Loss 6630.1142\n",
      "Iteration 450 : Loss 6648.3127\n",
      "Iteration 460 : Loss 6666.5514\n",
      "Iteration 470 : Loss 6684.8222\n",
      "Iteration 480 : Loss 6703.1171\n",
      "Iteration 490 : Loss 6721.4283\n",
      "Iteration 500 : Loss 6739.7486\n",
      "Iteration 510 : Loss 6758.0709\n",
      "Iteration 520 : Loss 6776.3884\n",
      "Iteration 530 : Loss 6794.6948\n",
      "Iteration 540 : Loss 6812.9837\n",
      "Iteration 550 : Loss 6831.2492\n",
      "Iteration 560 : Loss 6849.4857\n",
      "Iteration 570 : Loss 6867.6877\n",
      "Iteration 580 : Loss 6885.8499\n",
      "Iteration 590 : Loss 6903.9674\n",
      "Iteration 600 : Loss 6922.0353\n",
      "Iteration 610 : Loss 6940.0493\n",
      "Iteration 620 : Loss 6958.0048\n",
      "Iteration 630 : Loss 6975.8978\n",
      "Iteration 640 : Loss 6993.7243\n",
      "Iteration 650 : Loss 7011.4805\n",
      "Iteration 660 : Loss 7029.1629\n",
      "Iteration 670 : Loss 7046.7680\n",
      "Iteration 680 : Loss 7064.2926\n",
      "Iteration 690 : Loss 7081.7336\n",
      "Iteration 700 : Loss 7099.0881\n",
      "Iteration 710 : Loss 7116.3533\n",
      "Iteration 720 : Loss 7133.5266\n",
      "Iteration 730 : Loss 7150.6055\n",
      "Iteration 740 : Loss 7167.5877\n",
      "Iteration 750 : Loss 7184.4709\n",
      "Iteration 760 : Loss 7201.2531\n",
      "Iteration 770 : Loss 7217.9323\n",
      "Iteration 780 : Loss 7234.5067\n",
      "Iteration 790 : Loss 7250.9745\n",
      "Iteration 800 : Loss 7267.3341\n",
      "Iteration 810 : Loss 7283.5841\n",
      "Iteration 820 : Loss 7299.7229\n",
      "Iteration 830 : Loss 7315.7493\n",
      "Iteration 840 : Loss 7331.6622\n",
      "Iteration 850 : Loss 7347.4603\n",
      "Iteration 860 : Loss 7363.1426\n",
      "Iteration 870 : Loss 7378.7082\n",
      "Iteration 880 : Loss 7394.1563\n",
      "Iteration 890 : Loss 7409.4860\n",
      "Iteration 900 : Loss 7424.6967\n",
      "Iteration 910 : Loss 7439.7876\n",
      "Iteration 920 : Loss 7454.7584\n",
      "Iteration 930 : Loss 7469.6083\n",
      "Iteration 940 : Loss 7484.3372\n",
      "Iteration 950 : Loss 7498.9444\n",
      "Iteration 960 : Loss 7513.4299\n",
      "Iteration 970 : Loss 7527.7933\n",
      "Iteration 980 : Loss 7542.0344\n",
      "Iteration 990 : Loss 7556.1531\n"
     ]
    },
    {
     "data": {
      "image/png": "[encoded data removed]",
      "text/plain": [
       "<Figure size 432x288 with 1 Axes>"
      ]
     },
     "metadata": {
      "needs_background": "light"
     },
     "output_type": "display_data"
    }
   ],
   "source": [
    "#8 하이퍼 파라미터인 학습률 설정하기\n",
    "\n",
    "#학습률, learning rate를 설정해주세요\n",
    "\n",
    "LEARNING_RATE = 0.1\n",
    "\n",
    "#9 모델 학습하기\n",
    "\n",
    "EPOCH = 1000\n",
    "\n",
    "losses = []\n",
    "\n",
    "for i in range(EPOCH):\n",
    "    dW, db = gradient(X_train, W, b, y_train)\n",
    "    W -= LEARNING_RATE * dW\n",
    "    b -= LEARNING_RATE * db\n",
    "    L = loss(X_train, W, b, y_train)\n",
    "    losses.append(L)\n",
    "    if i % 10 == 0:\n",
    "        print('Iteration %d : Loss %0.4f' % (i, L))\n",
    "        \n",
    "import matplotlib.pyplot as plt\n",
    "plt.plot(losses)\n",
    "plt.show()\n"
   ]
  },
  {
   "cell_type": "code",
   "execution_count": 8,
   "id": "d466c012",
   "metadata": {},
   "outputs": [
    {
     "name": "stdout",
     "output_type": "stream",
     "text": [
      "6757.532905127032\n"
     ]
    },
    {
     "data": {
      "image/png": "[encoded data removed]",
      "text/plain": [
       "<Figure size 432x288 with 1 Axes>"
      ]
     },
     "metadata": {
      "needs_background": "light"
     },
     "output_type": "display_data"
    }
   ],
   "source": [
    "#10 test 데이터에 대한 성능 확인하기\n",
    "\n",
    "prediction = model(X_test, W, b)\n",
    "mse = loss(X_test, W, b, y_test)\n",
    "print(mse)# 절대적인 loss값은 커보이지만, 트레이닝때와 비슷한 loss값을 얻었다 \n",
    "\n",
    "\n",
    "#11 정답 데이터와 예측한 데이터 시각화 하기\n",
    "\n",
    "# x축에는 X데이터의 첫번째컬럼, y축에는 정답인 target 데이터를 넣어서 모델이\n",
    "# 예측한 데이터를 시각화해 주세요\n",
    "plt.scatter(X_test[:, 0], y_test)\n",
    "plt.scatter(X_test[:, 0], prediction)\n",
    "plt.show()"
   ]
  },
  {
   "cell_type": "code",
   "execution_count": null,
   "id": "9a54c444",
   "metadata": {},
   "outputs": [],
   "source": []
  },
  {
   "cell_type": "code",
   "execution_count": null,
   "id": "78401f51",
   "metadata": {},
   "outputs": [],
   "source": []
  },
  {
   "cell_type": "code",
   "execution_count": null,
   "id": "9d551b8d",
   "metadata": {},
   "outputs": [],
   "source": []
  }
 ],
 "metadata": {
  "kernelspec": {
   "display_name": "Python 3 (ipykernel)",
   "language": "python",
   "name": "python3"
  },
  "language_info": {
   "codemirror_mode": {
    "name": "ipython",
    "version": 3
   },
   "file_extension": ".py",
   "mimetype": "text/x-python",
   "name": "python",
   "nbconvert_exporter": "python",
   "pygments_lexer": "ipython3",
   "version": "3.9.7"
  }
 },
 "nbformat": 4,
 "nbformat_minor": 5
}
