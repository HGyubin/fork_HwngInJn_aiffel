{
 "cells": [
  {
   "cell_type": "markdown",
   "id": "f791d160",
   "metadata": {},
   "source": [
    "# Project : Korean - English translator with seq2seq\n",
    "\n",
    "## Rubric\n",
    "\n",
    "### 1. 번역기 모델 학습에 필요한 텍스트 데이터 전처리가 한국어 포함하여 잘 이루어졌다.\t\n",
    "\n",
    "구두점, 대소문자, 띄어쓰기, 한글 형태소분석 등 번역기 모델에 요구되는 전처리가 정상적으로 진행되었다.\n",
    "\n",
    "### 2. Attentional Seq2seq 모델이 정상적으로 구동된다.\t\n",
    "\n",
    "seq2seq 모델 훈련 과정에서 training loss가 안정적으로 떨어지면서 학습이 진행됨이 확인되었다.\n",
    "\n",
    "### 3. 테스트 결과 의미가 통하는 수준의 번역문이 생성되었다.\t\n",
    "\n",
    "테스트용 디코더 모델이 정상적으로 만들어져서, 정답과 어느 정도 유사한 영어 번역이 진행됨을 확인하였다.\n"
   ]
  },
  {
   "cell_type": "code",
   "execution_count": 1,
   "id": "cfeeff62",
   "metadata": {},
   "outputs": [],
   "source": [
    "import tensorflow as tf\n",
    "import numpy as np\n",
    "\n",
    "from sklearn.model_selection import train_test_split\n",
    "\n",
    "import matplotlib.ticker as ticker\n",
    "import matplotlib.pyplot as plt\n",
    "\n",
    "import time\n",
    "import re\n",
    "import os\n",
    "import io\n",
    "import random"
   ]
  },
  {
   "cell_type": "code",
   "execution_count": 2,
   "id": "d6c95cef",
   "metadata": {},
   "outputs": [
    {
     "name": "stdout",
     "output_type": "stream",
     "text": [
      "/aiffel/aiffel/s2s_translation\n"
     ]
    }
   ],
   "source": [
    "file_path = os.getenv('HOME')+'/aiffel/s2s_translation'\n",
    "print(file_path)"
   ]
  },
  {
   "cell_type": "code",
   "execution_count": 3,
   "id": "e538ccac",
   "metadata": {},
   "outputs": [],
   "source": [
    "def load_file(file_name):\n",
    "    with open(file_path+'/{}'.format(file_name), \"r\") as f:\n",
    "        raw = f.read().splitlines()\n",
    "\n",
    "    print(\"Data Size:\", len(raw))\n",
    "    print(\"Example:\")\n",
    "\n",
    "    for sen in raw[0:100][::20]: \n",
    "        print(\">>\", sen)\n",
    "    \n",
    "    return raw"
   ]
  },
  {
   "cell_type": "code",
   "execution_count": 4,
   "id": "cf482963",
   "metadata": {},
   "outputs": [
    {
     "name": "stdout",
     "output_type": "stream",
     "text": [
      "Data Size: 94123\n",
      "Example:\n",
      ">> 개인용 컴퓨터 사용의 상당 부분은 \"이것보다 뛰어날 수 있느냐?\"\n",
      ">> 북한의 핵무기 계획을 포기하도록 하려는 압력이 거세지고 있는 가운데, 일본과 북한의 외교관들이 외교 관계를 정상화하려는 회담을 재개했다.\n",
      ">> \"경호 로보트가 침입자나 화재를 탐지하기 위해서 개인적으로, 그리고 전문적으로 사용되고 있습니다.\"\n",
      ">> 수자원부 당국은 논란이 되고 있고, 막대한 비용이 드는 이 사업에 대해 내년에 건설을 시작할 계획이다.\n",
      ">> 또한 근력 운동은 활발하게 걷는 것이나 최소한 20분 동안 뛰는 것과 같은 유산소 활동에서 얻는 운동 효과를 심장과 폐에 주지 않기 때문에, 연구학자들은 근력 운동이 심장에 큰 영향을 미치는지 여부에 대해 논쟁을 해왔다.\n",
      "total data size: 94123\n"
     ]
    }
   ],
   "source": [
    "raw_kor = load_file('korean-english-news-v1/korean-english-park.train.ko')\n",
    "print('total data size:', len(raw_kor))"
   ]
  },
  {
   "cell_type": "code",
   "execution_count": 5,
   "id": "a5c11cfb",
   "metadata": {},
   "outputs": [
    {
     "name": "stdout",
     "output_type": "stream",
     "text": [
      "Data Size: 94123\n",
      "Example:\n",
      ">> Much of personal computing is about \"can you top this?\"\n",
      ">> Amid mounting pressure on North Korea to abandon its nuclear weapons program Japanese and North Korean diplomats have resumed talks on normalizing diplomatic relations.\n",
      ">> “Guard robots are used privately and professionally to detect intruders or fire,” Karlsson said.\n",
      ">> Authorities from the Water Resources Ministry plan to begin construction next year on the controversial and hugely expensive project.\n",
      ">> Researchers also have debated whether weight-training has a big impact on the heart, since it does not give the heart and lungs the kind of workout they get from aerobic activities such as brisk walking or running for at least 20 minutes.\n",
      "total data size: 94123\n"
     ]
    }
   ],
   "source": [
    "raw_en = load_file('korean-english-news-v1/korean-english-park.train.en')\n",
    "print('total data size:', len(raw_en))"
   ]
  },
  {
   "cell_type": "code",
   "execution_count": 6,
   "id": "e4d3fce2",
   "metadata": {},
   "outputs": [
    {
     "name": "stdout",
     "output_type": "stream",
     "text": [
      "total data size after removing duplicates: 78968\n"
     ]
    }
   ],
   "source": [
    "# 문장 쌍을 튜플로 만들어 저장\n",
    "combined = zip(raw_kor, raw_en)\n",
    "\n",
    "# 중복 제거\n",
    "unique_combined = set(combined)\n",
    "\n",
    "# 분리\n",
    "cleaned_kor, cleaned_en = zip(*unique_combined)\n",
    "\n",
    "# 결과 확인\n",
    "print('total data size after removing duplicates:', len(cleaned_kor))\n"
   ]
  },
  {
   "cell_type": "code",
   "execution_count": 7,
   "id": "bbdaf97c",
   "metadata": {},
   "outputs": [],
   "source": [
    "def preprocess_sentence(sentence, s_token=False, e_token=False):\n",
    "    sentence = sentence.lower().strip()\n",
    "\n",
    "    sentence = re.sub(r\"([?.!,])\", r\" \\1 \", sentence) # for english text\n",
    "    sentence = re.sub(r'[\" \"]+', \" \", sentence)\n",
    "    sentence = re.sub(r\"[^a-zA-Z?.!가-힣ㄱ-ㅎㅏ-ㅣ]+\", \" \", sentence) # for korean text\n",
    "\n",
    "    sentence = sentence.strip()\n",
    "\n",
    "    if s_token:\n",
    "        sentence = '<start> ' + sentence\n",
    "\n",
    "    if e_token:\n",
    "        sentence += ' <end>'\n",
    "    \n",
    "    return sentence"
   ]
  },
  {
   "cell_type": "code",
   "execution_count": 8,
   "id": "f2372377",
   "metadata": {},
   "outputs": [
    {
     "name": "stdout",
     "output_type": "stream",
     "text": [
      "korean data size: 16514\n",
      "english data size: 16514\n",
      "Korean: 한국인들은 자신들이 정숙한 국민으로 알려지는 것을 좋아한다 .\n",
      "English: <start> koreans like to depict themselves as a chaste nation . <end>\n"
     ]
    }
   ],
   "source": [
    "kor_corpus = []\n",
    "eng_corpus = []\n",
    "\n",
    "for kor, eng in zip(cleaned_kor, cleaned_en):\n",
    "    temp_kor = preprocess_sentence(kor)\n",
    "    temp_eng = preprocess_sentence(eng, s_token=True, e_token=True)\n",
    "\n",
    "    if len(temp_kor) <= 40:\n",
    "        kor_corpus.append(temp_kor)\n",
    "        eng_corpus.append(temp_eng)\n",
    "    \n",
    "print('korean data size:', len(kor_corpus))\n",
    "print('english data size:', len(eng_corpus))\n",
    "print(\"Korean:\", kor_corpus[500])   \n",
    "print(\"English:\", eng_corpus[500]) "
   ]
  },
  {
   "cell_type": "code",
   "execution_count": 9,
   "id": "a66d0904",
   "metadata": {},
   "outputs": [],
   "source": [
    "from konlpy.tag import Mecab\n",
    "\n",
    "vocab_size = 15000\n",
    "def tokenize(corpus, kor=False, eng=False):\n",
    "    if kor:\n",
    "        mecab = Mecab()\n",
    "        morph = [\" \".join(mecab.morphs(sen)) for sen in corpus]\n",
    "        tokenizer = tf.keras.preprocessing.text.Tokenizer(filters='',\n",
    "                                                         num_words=vocab_size)\n",
    "        tokenizer.fit_on_texts(morph)\n",
    "\n",
    "        tensor = tokenizer.texts_to_sequences(morph)\n",
    "        tensor = tf.keras.preprocessing.sequence.pad_sequences(tensor, padding='pre')\n",
    "\n",
    "        \n",
    "    if eng:\n",
    "        tokenizer = tf.keras.preprocessing.text.Tokenizer(filters='',\n",
    "                                                         num_words=vocab_size)\n",
    "        tokenizer.fit_on_texts(corpus)\n",
    "\n",
    "        tensor = tokenizer.texts_to_sequences(corpus)\n",
    "        tensor = tf.keras.preprocessing.sequence.pad_sequences(tensor, padding='pre')\n",
    "\n",
    "    return tensor, tokenizer"
   ]
  },
  {
   "cell_type": "code",
   "execution_count": 10,
   "id": "c03647c2",
   "metadata": {},
   "outputs": [
    {
     "name": "stdout",
     "output_type": "stream",
     "text": [
      "Korean Vocab Size: 17597\n",
      "English Vocab Size: 17011\n"
     ]
    }
   ],
   "source": [
    "enc_tensor, enc_tokenizer = tokenize(kor_corpus, kor=True)\n",
    "dec_tensor, dec_tokenizer = tokenize(eng_corpus, eng=True)\n",
    "\n",
    "enc_train, enc_val, dec_train, dec_val = \\\n",
    "train_test_split(enc_tensor, dec_tensor, test_size=0.2)\n",
    "\n",
    "print(\"Korean Vocab Size:\", len(enc_tokenizer.index_word))\n",
    "print(\"English Vocab Size:\", len(dec_tokenizer.index_word))"
   ]
  },
  {
   "cell_type": "code",
   "execution_count": 11,
   "id": "c4d7976a",
   "metadata": {},
   "outputs": [],
   "source": [
    "class BahdanauAttention(tf.keras.layers.Layer):\n",
    "    def __init__(self, units):\n",
    "        super(BahdanauAttention, self).__init__()\n",
    "        self.w_dec = tf.keras.layers.Dense(units)\n",
    "        self.w_enc = tf.keras.layers.Dense(units)\n",
    "        self.w_com = tf.keras.layers.Dense(1)\n",
    "    \n",
    "    def call(self, h_enc, h_dec):\n",
    "        h_enc = self.w_enc(h_enc)\n",
    "        h_dec = tf.expand_dims(h_dec, 1)\n",
    "        h_dec = self.w_dec(h_dec)\n",
    "\n",
    "        score = self.w_com(tf.nn.tanh(h_dec + h_enc))\n",
    "        \n",
    "        attn = tf.nn.softmax(score, axis=1)\n",
    "\n",
    "        context_vec = attn * h_enc\n",
    "        context_vec = tf.reduce_sum(context_vec, axis=1)\n",
    "\n",
    "        return context_vec, attn"
   ]
  },
  {
   "cell_type": "code",
   "execution_count": 12,
   "id": "1417ccb0",
   "metadata": {},
   "outputs": [],
   "source": [
    "class Encoder(tf.keras.Model):\n",
    "    def __init__(self, vocab_size, embedding_dim, enc_units):\n",
    "        super(Encoder, self).__init__()\n",
    "\n",
    "        self.enc_units = enc_units\n",
    "        self.embedding = tf.keras.layers.Embedding(vocab_size, embedding_dim)\n",
    "        self.gru = tf.keras.layers.GRU(enc_units,\n",
    "                                       return_sequences=True)\n",
    "\n",
    "    def call(self, x):\n",
    "        out = self.embedding(x)\n",
    "        out = self.gru(out)\n",
    "\n",
    "        return out"
   ]
  },
  {
   "cell_type": "code",
   "execution_count": 13,
   "id": "18e84b31",
   "metadata": {},
   "outputs": [],
   "source": [
    "class Decoder(tf.keras.Model):\n",
    "    def __init__(self, vocab_size, embedding_dim, dec_units):\n",
    "        super(Decoder, self).__init__()\n",
    "        self.dec_units = dec_units\n",
    "        self.embedding = tf.keras.layers.Embedding(vocab_size, embedding_dim)\n",
    "        self.gru = tf.keras.layers.GRU(dec_units,\n",
    "                                       return_sequences=True,\n",
    "                                       return_state=True)\n",
    "        self.fc = tf.keras.layers.Dense(vocab_size)\n",
    "\n",
    "        self.attention = BahdanauAttention(self.dec_units)\n",
    "\n",
    "    def call(self, x, h_dec, enc_out):\n",
    "        context_vec, attn = self.attention(enc_out, h_dec)\n",
    "\n",
    "        out = self.embedding(x)\n",
    "        out = tf.concat([tf.expand_dims(context_vec, 1), out], axis=-1)\n",
    "\n",
    "        out, h_dec = self.gru(out)\n",
    "        out = tf.reshape(out, (-1, out.shape[2]))\n",
    "        out = self.fc(out)\n",
    "\n",
    "        return out, h_dec, attn"
   ]
  },
  {
   "cell_type": "code",
   "execution_count": 14,
   "id": "72f55c7f",
   "metadata": {},
   "outputs": [
    {
     "name": "stdout",
     "output_type": "stream",
     "text": [
      "Encoder Output: (64, 40, 128)\n",
      "Decoder Output: (64, 17012)\n",
      "Decoder Hidden State: (64, 128)\n",
      "Attention: (64, 40, 1)\n"
     ]
    }
   ],
   "source": [
    "BATCH_SIZE     = 64\n",
    "SRC_VOCAB_SIZE = len(enc_tokenizer.index_word) + 1 # 예: len(enc_tokenizer.index_word) + 1\n",
    "TGT_VOCAB_SIZE = len(dec_tokenizer.index_word) + 1 # 예: len(dec_tokenizer.index_word) + 1\n",
    "\n",
    "units         = 128\n",
    "embedding_dim = 128\n",
    "\n",
    "encoder = Encoder(SRC_VOCAB_SIZE, embedding_dim, units)\n",
    "decoder = Decoder(TGT_VOCAB_SIZE, embedding_dim, units)\n",
    "\n",
    "# sample input\n",
    "sequence_len = 40\n",
    "\n",
    "sample_enc = tf.random.uniform((BATCH_SIZE, sequence_len))\n",
    "sample_output = encoder(sample_enc)\n",
    "\n",
    "print ('Encoder Output:', sample_output.shape)\n",
    "\n",
    "sample_state = tf.random.uniform((BATCH_SIZE, units))\n",
    "\n",
    "sample_logits, h_dec, attn = decoder(tf.random.uniform((BATCH_SIZE, 1)),\n",
    "                                     sample_state, sample_output)\n",
    "\n",
    "print ('Decoder Output:', sample_logits.shape)\n",
    "print ('Decoder Hidden State:', h_dec.shape)\n",
    "print ('Attention:', attn.shape)"
   ]
  },
  {
   "cell_type": "code",
   "execution_count": 15,
   "id": "045a044b",
   "metadata": {},
   "outputs": [],
   "source": [
    "optimizer = tf.keras.optimizers.Adam()\n",
    "loss_object = tf.keras.losses.SparseCategoricalCrossentropy(\n",
    "    from_logits=True, reduction='none')\n",
    "\n",
    "def loss_function(real, pred):\n",
    "    mask = tf.math.logical_not(tf.math.equal(real, 0))\n",
    "    loss = loss_object(real, pred)\n",
    "    \n",
    "    mask = tf.cast(mask, dtype=loss.dtype)\n",
    "    loss *= mask\n",
    "    \n",
    "    return tf.reduce_mean(loss)"
   ]
  },
  {
   "cell_type": "code",
   "execution_count": 16,
   "id": "a2338cfa",
   "metadata": {},
   "outputs": [],
   "source": [
    "@tf.function\n",
    "def train_step(src, tgt, encoder, decoder, optimizer, dec_tok):\n",
    "    bsz = src.shape[0]\n",
    "    loss = 0\n",
    "\n",
    "    with tf.GradientTape() as tape:\n",
    "        enc_out = encoder(src)\n",
    "        h_dec = enc_out[:, -1]\n",
    "        \n",
    "        dec_src = tf.expand_dims([dec_tok.word_index['<start>']] * bsz, 1)\n",
    "\n",
    "        for t in range(1, tgt.shape[1]):\n",
    "            pred, h_dec, _ = decoder(dec_src, h_dec, enc_out)\n",
    "\n",
    "            loss += loss_function(tgt[:, t], pred)\n",
    "            dec_src = tf.expand_dims(tgt[:, t], 1)\n",
    "        \n",
    "    batch_loss = (loss / int(tgt.shape[1]))\n",
    "\n",
    "    variables = encoder.trainable_variables + decoder.trainable_variables\n",
    "    gradients = tape.gradient(loss, variables)\n",
    "    optimizer.apply_gradients(zip(gradients, variables))\n",
    "    \n",
    "    return batch_loss"
   ]
  },
  {
   "cell_type": "code",
   "execution_count": 17,
   "id": "d90e5915",
   "metadata": {},
   "outputs": [
    {
     "name": "stderr",
     "output_type": "stream",
     "text": [
      "Epoch  1: 100%|██████████| 207/207 [02:34<00:00,  1.34it/s, Loss 1.5524]\n",
      "Test Epoch  1: 100%|██████████| 52/52 [00:57<00:00,  1.11s/it, Test Loss 1.4776]\n",
      "Epoch  2: 100%|██████████| 207/207 [00:35<00:00,  5.81it/s, Loss 1.4667]\n",
      "Test Epoch  2: 100%|██████████| 52/52 [00:04<00:00, 11.84it/s, Test Loss 1.4845]\n",
      "Epoch  3: 100%|██████████| 207/207 [00:35<00:00,  5.76it/s, Loss 1.4660]\n",
      "Test Epoch  3: 100%|██████████| 52/52 [00:04<00:00, 11.57it/s, Test Loss 1.4889]\n",
      "Epoch  4: 100%|██████████| 207/207 [00:36<00:00,  5.75it/s, Loss 1.4660]\n",
      "Test Epoch  4: 100%|██████████| 52/52 [00:04<00:00, 11.72it/s, Test Loss 1.4919]\n",
      "Epoch  5: 100%|██████████| 207/207 [00:36<00:00,  5.74it/s, Loss 1.4660]\n",
      "Test Epoch  5: 100%|██████████| 52/52 [00:04<00:00, 11.65it/s, Test Loss 1.4938]\n",
      "Epoch  6: 100%|██████████| 207/207 [00:36<00:00,  5.71it/s, Loss 1.4663]\n",
      "Test Epoch  6: 100%|██████████| 52/52 [00:04<00:00, 11.54it/s, Test Loss 1.4953]\n",
      "Epoch  7: 100%|██████████| 207/207 [00:36<00:00,  5.71it/s, Loss 1.4661]\n",
      "Test Epoch  7: 100%|██████████| 52/52 [00:04<00:00, 11.60it/s, Test Loss 1.4981]\n",
      "Epoch  8: 100%|██████████| 207/207 [00:36<00:00,  5.69it/s, Loss 1.4662]\n",
      "Test Epoch  8: 100%|██████████| 52/52 [00:04<00:00, 11.72it/s, Test Loss 1.4990]\n",
      "Epoch  9: 100%|██████████| 207/207 [00:36<00:00,  5.71it/s, Loss 1.4660]\n",
      "Test Epoch  9: 100%|██████████| 52/52 [00:04<00:00, 11.73it/s, Test Loss 1.5008]\n",
      "Epoch 10: 100%|██████████| 207/207 [00:36<00:00,  5.73it/s, Loss 1.4654]\n",
      "Test Epoch 10: 100%|██████████| 52/52 [00:04<00:00, 11.75it/s, Test Loss 1.4973]\n",
      "Epoch 11: 100%|██████████| 207/207 [00:36<00:00,  5.70it/s, Loss 1.4095]\n",
      "Test Epoch 11: 100%|██████████| 52/52 [00:04<00:00, 11.72it/s, Test Loss 1.3731]\n",
      "Epoch 12: 100%|██████████| 207/207 [00:36<00:00,  5.70it/s, Loss 1.3123]\n",
      "Test Epoch 12: 100%|██████████| 52/52 [00:04<00:00, 11.76it/s, Test Loss 1.3273]\n",
      "Epoch 13: 100%|██████████| 207/207 [00:36<00:00,  5.70it/s, Loss 1.2713]\n",
      "Test Epoch 13: 100%|██████████| 52/52 [00:04<00:00, 11.74it/s, Test Loss 1.3003]\n",
      "Epoch 14: 100%|██████████| 207/207 [00:36<00:00,  5.69it/s, Loss 1.2373]\n",
      "Test Epoch 14: 100%|██████████| 52/52 [00:04<00:00, 11.90it/s, Test Loss 1.2839]\n",
      "Epoch 15: 100%|██████████| 207/207 [00:36<00:00,  5.67it/s, Loss 1.2087]\n",
      "Test Epoch 15: 100%|██████████| 52/52 [00:04<00:00, 11.56it/s, Test Loss 1.2682]\n",
      "Epoch 16: 100%|██████████| 207/207 [00:36<00:00,  5.69it/s, Loss 1.1833]\n",
      "Test Epoch 16: 100%|██████████| 52/52 [00:04<00:00, 11.69it/s, Test Loss 1.2587]\n",
      "Epoch 17: 100%|██████████| 207/207 [00:36<00:00,  5.68it/s, Loss 1.1610]\n",
      "Test Epoch 17: 100%|██████████| 52/52 [00:04<00:00, 11.57it/s, Test Loss 1.2504]\n",
      "Epoch 18: 100%|██████████| 207/207 [00:33<00:00,  6.22it/s, Loss 1.1403]\n",
      "Test Epoch 18: 100%|██████████| 52/52 [00:03<00:00, 17.23it/s, Test Loss 1.2442]\n",
      "Epoch 19: 100%|██████████| 207/207 [00:24<00:00,  8.29it/s, Loss 1.1207]\n",
      "Test Epoch 19: 100%|██████████| 52/52 [00:02<00:00, 17.98it/s, Test Loss 1.2400]\n",
      "Epoch 20: 100%|██████████| 207/207 [00:24<00:00,  8.33it/s, Loss 1.1022]\n",
      "Test Epoch 20: 100%|██████████| 52/52 [00:02<00:00, 17.42it/s, Test Loss 1.2382]\n"
     ]
    }
   ],
   "source": [
    "@tf.function\n",
    "def eval_step(src, tgt, encoder, decoder, dec_tok):\n",
    "    bsz = src.shape[0]\n",
    "    loss = 0\n",
    "\n",
    "    enc_out = encoder(src)\n",
    "\n",
    "    h_dec = enc_out[:, -1]\n",
    "\n",
    "    dec_src = tf.expand_dims([dec_tok.word_index['<start>']] * bsz, 1)\n",
    "\n",
    "    for t in range(1, tgt.shape[1]):\n",
    "        pred, h_dec, _ = decoder(dec_src, h_dec, enc_out)\n",
    "\n",
    "        loss += loss_function(tgt[:, t], pred)\n",
    "        dec_src = tf.expand_dims(tgt[:, t], 1)\n",
    "\n",
    "    batch_loss = (loss / int(tgt.shape[1]))\n",
    "\n",
    "    return batch_loss\n",
    "\n",
    "\n",
    "# Training Process\n",
    "\n",
    "from tqdm import tqdm\n",
    "\n",
    "EPOCHS = 20\n",
    "\n",
    "train_losses = []\n",
    "test_losses = []\n",
    "\n",
    "for epoch in range(EPOCHS):\n",
    "    total_loss = 0\n",
    "\n",
    "    idx_list = list(range(0, enc_train.shape[0], BATCH_SIZE))\n",
    "    random.shuffle(idx_list)\n",
    "    t = tqdm(idx_list)\n",
    "\n",
    "    for (batch, idx) in enumerate(t):\n",
    "        batch_loss = train_step(enc_train[idx:idx+BATCH_SIZE],\n",
    "                                dec_train[idx:idx+BATCH_SIZE],\n",
    "                                encoder,\n",
    "                                decoder,\n",
    "                                optimizer,\n",
    "                                dec_tokenizer)\n",
    "\n",
    "        total_loss += batch_loss\n",
    "\n",
    "        t.set_description_str('Epoch %2d' % (epoch + 1))\n",
    "        t.set_postfix_str('Loss %.4f' % (total_loss.numpy() / (batch + 1)))\n",
    "    \n",
    "    train_losses.append(total_loss.numpy() / len(idx_list))\n",
    "\n",
    "    test_loss = 0\n",
    "\n",
    "    idx_list = list(range(0, enc_val.shape[0], BATCH_SIZE))\n",
    "    random.shuffle(idx_list)\n",
    "    t = tqdm(idx_list)\n",
    "\n",
    "    for (test_batch, idx) in enumerate(t):\n",
    "        test_batch_loss = eval_step(enc_val[idx:idx+BATCH_SIZE],\n",
    "                                    dec_val[idx:idx+BATCH_SIZE],\n",
    "                                    encoder,\n",
    "                                    decoder,\n",
    "                                    dec_tokenizer)\n",
    "\n",
    "        test_loss += test_batch_loss\n",
    "\n",
    "        t.set_description_str('Test Epoch %2d' % (epoch + 1))\n",
    "        t.set_postfix_str('Test Loss %.4f' % (test_loss.numpy() / (test_batch + 1)))\n",
    "        \n",
    "    test_losses.append(test_loss.numpy() / len(idx_list))"
   ]
  },
  {
   "cell_type": "code",
   "execution_count": 18,
   "id": "c1ef789a",
   "metadata": {},
   "outputs": [],
   "source": [
    "def evaluate(sentence, encoder, decoder):\n",
    "    attention = np.zeros((dec_train.shape[-1], enc_train.shape[-1]))\n",
    "    \n",
    "    sentence = preprocess_sentence(sentence)\n",
    "    inputs = enc_tokenizer.texts_to_sequences([sentence.split()])\n",
    "    inputs = tf.keras.preprocessing.sequence.pad_sequences(inputs,\n",
    "                                                           maxlen=enc_train.shape[-1],\n",
    "                                                           padding='pre')\n",
    "\n",
    "    result = ''\n",
    "\n",
    "    enc_out = encoder(inputs)\n",
    "\n",
    "    dec_hidden = enc_out[:, -1]\n",
    "    dec_input = tf.expand_dims([dec_tokenizer.word_index['<start>']], 0)\n",
    "\n",
    "    for t in range(dec_train.shape[-1]):\n",
    "        predictions, dec_hidden, attention_weights = decoder(dec_input,\n",
    "                                                             dec_hidden,\n",
    "                                                             enc_out)\n",
    "\n",
    "        attention_weights = tf.reshape(attention_weights, (-1, ))\n",
    "        attention[t] = attention_weights.numpy()\n",
    "\n",
    "        predicted_id = \\\n",
    "        tf.argmax(tf.math.softmax(predictions, axis=-1)[0]).numpy()\n",
    "\n",
    "        result += dec_tokenizer.index_word[predicted_id] + ' '\n",
    "\n",
    "        if dec_tokenizer.index_word[predicted_id] == '<end>':\n",
    "            return result, sentence, attention\n",
    "\n",
    "        dec_input = tf.expand_dims([predicted_id], 0)\n",
    "\n",
    "    return result, sentence, attention\n",
    "\n",
    "\n",
    "def plot_attention(attention, sentence, predicted_sentence):\n",
    "    fig = plt.figure(figsize=(10,10))\n",
    "    ax = fig.add_subplot(1, 1, 1)\n",
    "    ax.matshow(attention, cmap='viridis')\n",
    "\n",
    "    fontdict = {'fontsize': 14}\n",
    "\n",
    "    ax.set_xticklabels([''] + sentence, fontdict=fontdict, rotation=90)\n",
    "    ax.set_yticklabels([''] + predicted_sentence, fontdict=fontdict)\n",
    "\n",
    "    ax.xaxis.set_major_locator(ticker.MultipleLocator(1))\n",
    "    ax.yaxis.set_major_locator(ticker.MultipleLocator(1))\n",
    "\n",
    "    plt.show()\n",
    "\n",
    "\n",
    "def translate(sentence, encoder, decoder):\n",
    "    result, sentence, attention = evaluate(sentence, encoder, decoder)\n",
    "\n",
    "    print('Input: %s' % (sentence))\n",
    "    print('Predicted translation: {}'.format(result))\n",
    "    \n",
    "    attention = attention[:len(result.split()), :len(sentence.split())]\n",
    "    plot_attention(attention, sentence.split(), result.split(' '))"
   ]
  },
  {
   "cell_type": "code",
   "execution_count": 19,
   "id": "bc4068fa",
   "metadata": {},
   "outputs": [],
   "source": [
    "import matplotlib.font_manager as fm\n",
    "import matplotlib as mpl\n",
    "\n",
    "fontpath = '/usr/share/fonts/truetype/nanum/NanumBarunGothic.ttf'\n",
    "font = fm.FontProperties(fname=fontpath, size=9)\n",
    "plt.rc('font', family='NanumBarunGothic')\n"
   ]
  },
  {
   "cell_type": "code",
   "execution_count": 20,
   "id": "c0ad7d3e",
   "metadata": {},
   "outputs": [
    {
     "name": "stderr",
     "output_type": "stream",
     "text": [
      "/tmp/ipykernel_231/2350234102.py:45: UserWarning: FixedFormatter should only be used together with FixedLocator\n",
      "  ax.set_xticklabels([''] + sentence, fontdict=fontdict, rotation=90)\n",
      "/tmp/ipykernel_231/2350234102.py:46: UserWarning: FixedFormatter should only be used together with FixedLocator\n",
      "  ax.set_yticklabels([''] + predicted_sentence, fontdict=fontdict)\n"
     ]
    },
    {
     "name": "stdout",
     "output_type": "stream",
     "text": [
      "Input: 오바마는 대통령이다 .\n",
      "Predicted translation: the government is a new york . <end> \n"
     ]
    },
    {
     "data": {
      "image/png": "[encoded data removed]",
      "text/plain": [
       "<Figure size 720x720 with 1 Axes>"
      ]
     },
     "metadata": {
      "needs_background": "light"
     },
     "output_type": "display_data"
    },
    {
     "name": "stdout",
     "output_type": "stream",
     "text": [
      "Input: 시민들은 도시 속에 산다 .\n",
      "Predicted translation: the government is a new york . <end> \n"
     ]
    },
    {
     "data": {
      "image/png": "[encoded data removed]",
      "text/plain": [
       "<Figure size 720x720 with 1 Axes>"
      ]
     },
     "metadata": {
      "needs_background": "light"
     },
     "output_type": "display_data"
    },
    {
     "name": "stdout",
     "output_type": "stream",
     "text": [
      "Input: 커피는 필요 없다 .\n",
      "Predicted translation: the u . s . m . <end> \n"
     ]
    },
    {
     "data": {
      "image/png": "[encoded data removed]",
      "text/plain": [
       "<Figure size 720x720 with 1 Axes>"
      ]
     },
     "metadata": {
      "needs_background": "light"
     },
     "output_type": "display_data"
    },
    {
     "name": "stdout",
     "output_type": "stream",
     "text": [
      "Input: 일곱 명의 사망자가 발생했다 .\n",
      "Predicted translation: the government is a new york . <end> \n"
     ]
    },
    {
     "data": {
      "image/png": "[encoded data removed]",
      "text/plain": [
       "<Figure size 720x720 with 1 Axes>"
      ]
     },
     "metadata": {
      "needs_background": "light"
     },
     "output_type": "display_data"
    }
   ],
   "source": [
    "sentences = [\n",
    "    \"오바마는 대통령이다.\",\n",
    "    \"시민들은 도시 속에 산다.\",\n",
    "    \"커피는 필요 없다.\",\n",
    "    \"일곱 명의 사망자가 발생했다.\"\n",
    "]\n",
    "\n",
    "for sentence in sentences:\n",
    "    translate(sentence, encoder, decoder)"
   ]
  },
  {
   "cell_type": "markdown",
   "id": "73254ba8",
   "metadata": {},
   "source": [
    "## Luong attention(General)"
   ]
  },
  {
   "cell_type": "code",
   "execution_count": 28,
   "id": "321612d9",
   "metadata": {},
   "outputs": [],
   "source": [
    "class LuongAttentionGeneral(tf.keras.layers.Layer):\n",
    "    def __init__(self, units):\n",
    "        super(LuongAttentionGeneral, self).__init__()\n",
    "        self.W_a = tf.keras.layers.Dense(units)\n",
    "        \n",
    "    def call(self, h_enc, h_dec):\n",
    "        # Applying W_a on encoder output for general score\n",
    "        h_enc_transformed = self.W_a(h_enc)\n",
    "\n",
    "        # Calculating score with general formula\n",
    "        score = tf.matmul(h_enc_transformed, tf.expand_dims(h_dec, 2))\n",
    "        \n",
    "        # Softmax to compute attention weights\n",
    "        attn = tf.nn.softmax(score, axis=1)\n",
    "\n",
    "        # Compute context vector\n",
    "        context_vec = attn * h_enc\n",
    "        context_vec = tf.reduce_sum(context_vec, axis=1)\n",
    "\n",
    "        return context_vec, attn\n",
    "\n",
    "# Replace BahdanauAttention with LuongAttentionGeneral in the Decoder class\n",
    "class DecoderWithLuongGeneral(tf.keras.Model):\n",
    "    def __init__(self, vocab_size, embedding_dim, dec_units):\n",
    "        super(DecoderWithLuongGeneral, self).__init__()\n",
    "        self.dec_units = dec_units\n",
    "        self.embedding = tf.keras.layers.Embedding(vocab_size, embedding_dim)\n",
    "        self.gru = tf.keras.layers.GRU(dec_units,\n",
    "                                       return_sequences=True,\n",
    "                                       return_state=True)\n",
    "        self.fc = tf.keras.layers.Dense(vocab_size)\n",
    "\n",
    "        self.attention = LuongAttentionGeneral(self.dec_units)\n",
    "\n",
    "    def call(self, x, h_dec, enc_out):\n",
    "        context_vec, attn = self.attention(enc_out, h_dec)\n",
    "\n",
    "        out = self.embedding(x)\n",
    "        out = tf.concat([tf.expand_dims(context_vec, 1), out], axis=-1)\n",
    "\n",
    "        out, h_dec = self.gru(out)\n",
    "        out = tf.reshape(out, (-1, out.shape[2]))\n",
    "        out = self.fc(out)\n",
    "\n",
    "        return out, h_dec, attn\n",
    "\n",
    "# Rest of the code remains the same. Replace \"Decoder\" with \"DecoderWithLuongGeneral\" during model creation and training.\n"
   ]
  },
  {
   "cell_type": "code",
   "execution_count": 29,
   "id": "f3b702c6",
   "metadata": {},
   "outputs": [
    {
     "name": "stdout",
     "output_type": "stream",
     "text": [
      "Encoder Output: (64, 40, 128)\n",
      "Decoder Output: (64, 17012)\n",
      "Decoder Hidden State: (64, 128)\n",
      "Attention: (64, 40, 1)\n"
     ]
    }
   ],
   "source": [
    "BATCH_SIZE     = 64\n",
    "SRC_VOCAB_SIZE = len(enc_tokenizer.index_word) + 1 # 예: len(enc_tokenizer.index_word) + 1\n",
    "TGT_VOCAB_SIZE = len(dec_tokenizer.index_word) + 1 # 예: len(dec_tokenizer.index_word) + 1\n",
    "\n",
    "units         = 128\n",
    "embedding_dim = 128\n",
    "\n",
    "encoder = Encoder(SRC_VOCAB_SIZE, embedding_dim, units)\n",
    "decoder = DecoderWithLuongGeneral(TGT_VOCAB_SIZE, embedding_dim, units)  # changed decoder\n",
    "\n",
    "# sample input\n",
    "sequence_len = 40\n",
    "\n",
    "sample_enc = tf.random.uniform((BATCH_SIZE, sequence_len))\n",
    "sample_output = encoder(sample_enc)\n",
    "\n",
    "print ('Encoder Output:', sample_output.shape)\n",
    "\n",
    "sample_state = tf.random.uniform((BATCH_SIZE, units))\n",
    "\n",
    "sample_logits, h_dec, attn = decoder(tf.random.uniform((BATCH_SIZE, 1)),\n",
    "                                     sample_state, sample_output)\n",
    "\n",
    "print ('Decoder Output:', sample_logits.shape)\n",
    "print ('Decoder Hidden State:', h_dec.shape)\n",
    "print ('Attention:', attn.shape)"
   ]
  },
  {
   "cell_type": "code",
   "execution_count": 30,
   "id": "16c9370a",
   "metadata": {},
   "outputs": [],
   "source": [
    "optimizer = tf.keras.optimizers.Adam()\n",
    "loss_object = tf.keras.losses.SparseCategoricalCrossentropy(\n",
    "    from_logits=True, reduction='none')"
   ]
  },
  {
   "cell_type": "code",
   "execution_count": 31,
   "id": "f8c66895",
   "metadata": {},
   "outputs": [],
   "source": [
    "@tf.function\n",
    "def train_step(src, tgt, encoder, decoder, optimizer, dec_tok):\n",
    "    bsz = src.shape[0]\n",
    "    loss = 0\n",
    "\n",
    "    with tf.GradientTape() as tape:\n",
    "        enc_out = encoder(src)\n",
    "        h_dec = enc_out[:, -1]\n",
    "        \n",
    "        dec_src = tf.expand_dims([dec_tok.word_index['<start>']] * bsz, 1)\n",
    "\n",
    "        for t in range(1, tgt.shape[1]):\n",
    "            pred, h_dec, _ = decoder(dec_src, h_dec, enc_out)\n",
    "\n",
    "            loss += loss_function(tgt[:, t], pred)\n",
    "            dec_src = tf.expand_dims(tgt[:, t], 1)\n",
    "        \n",
    "    batch_loss = (loss / int(tgt.shape[1]))\n",
    "\n",
    "    variables = encoder.trainable_variables + decoder.trainable_variables\n",
    "    gradients = tape.gradient(loss, variables)\n",
    "    optimizer.apply_gradients(zip(gradients, variables))\n",
    "    \n",
    "    return batch_loss"
   ]
  },
  {
   "cell_type": "code",
   "execution_count": 34,
   "id": "e1a8cc45",
   "metadata": {},
   "outputs": [
    {
     "name": "stderr",
     "output_type": "stream",
     "text": [
      "Epoch  1: 100%|██████████| 207/207 [02:08<00:00,  1.61it/s, Loss 1.5283]\n",
      "Test Epoch  1: 100%|██████████| 52/52 [00:39<00:00,  1.30it/s, Test Loss 1.3881]\n",
      "Epoch  2: 100%|██████████| 207/207 [00:22<00:00,  9.04it/s, Loss 1.3495]\n",
      "Test Epoch  2: 100%|██████████| 52/52 [00:02<00:00, 18.65it/s, Test Loss 1.3453]\n",
      "Epoch  3: 100%|██████████| 207/207 [00:22<00:00,  9.12it/s, Loss 1.3038]\n",
      "Test Epoch  3: 100%|██████████| 52/52 [00:02<00:00, 19.66it/s, Test Loss 1.3204]\n",
      "Epoch  4: 100%|██████████| 207/207 [00:22<00:00,  9.04it/s, Loss 1.2752]\n",
      "Test Epoch  4: 100%|██████████| 52/52 [00:02<00:00, 18.77it/s, Test Loss 1.3025]\n",
      "Epoch  5: 100%|██████████| 207/207 [00:22<00:00,  9.19it/s, Loss 1.2506]\n",
      "Test Epoch  5: 100%|██████████| 52/52 [00:02<00:00, 19.24it/s, Test Loss 1.2875]\n",
      "Epoch  6: 100%|██████████| 207/207 [00:22<00:00,  9.11it/s, Loss 1.2297]\n",
      "Test Epoch  6: 100%|██████████| 52/52 [00:02<00:00, 19.51it/s, Test Loss 1.2784]\n",
      "Epoch  7: 100%|██████████| 207/207 [00:22<00:00,  9.19it/s, Loss 1.2107]\n",
      "Test Epoch  7: 100%|██████████| 52/52 [00:02<00:00, 19.06it/s, Test Loss 1.2682]\n",
      "Epoch  8: 100%|██████████| 207/207 [00:22<00:00,  9.13it/s, Loss 1.1916]\n",
      "Test Epoch  8: 100%|██████████| 52/52 [00:02<00:00, 18.85it/s, Test Loss 1.2608]\n",
      "Epoch  9: 100%|██████████| 207/207 [00:22<00:00,  9.12it/s, Loss 1.1737]\n",
      "Test Epoch  9: 100%|██████████| 52/52 [00:02<00:00, 18.75it/s, Test Loss 1.2529]\n",
      "Epoch 10: 100%|██████████| 207/207 [00:22<00:00,  9.21it/s, Loss 1.1567]\n",
      "Test Epoch 10: 100%|██████████| 52/52 [00:02<00:00, 19.24it/s, Test Loss 1.2486]\n",
      "Epoch 11: 100%|██████████| 207/207 [00:22<00:00,  9.15it/s, Loss 1.1406]\n",
      "Test Epoch 11: 100%|██████████| 52/52 [00:02<00:00, 18.30it/s, Test Loss 1.2445]\n",
      "Epoch 12: 100%|██████████| 207/207 [00:22<00:00,  9.10it/s, Loss 1.1258]\n",
      "Test Epoch 12: 100%|██████████| 52/52 [00:02<00:00, 18.96it/s, Test Loss 1.2443]\n",
      "Epoch 13: 100%|██████████| 207/207 [00:22<00:00,  9.16it/s, Loss 1.1117]\n",
      "Test Epoch 13: 100%|██████████| 52/52 [00:02<00:00, 18.54it/s, Test Loss 1.2436]\n",
      "Epoch 14: 100%|██████████| 207/207 [00:22<00:00,  9.22it/s, Loss 1.0980]\n",
      "Test Epoch 14: 100%|██████████| 52/52 [00:02<00:00, 18.81it/s, Test Loss 1.2448]\n",
      "Epoch 15: 100%|██████████| 207/207 [00:22<00:00,  9.12it/s, Loss 1.0842]\n",
      "Test Epoch 15: 100%|██████████| 52/52 [00:02<00:00, 18.47it/s, Test Loss 1.2470]\n",
      "Epoch 16: 100%|██████████| 207/207 [00:22<00:00,  9.09it/s, Loss 1.0702]\n",
      "Test Epoch 16: 100%|██████████| 52/52 [00:02<00:00, 19.12it/s, Test Loss 1.2489]\n",
      "Epoch 17: 100%|██████████| 207/207 [00:22<00:00,  9.16it/s, Loss 1.0562]\n",
      "Test Epoch 17: 100%|██████████| 52/52 [00:02<00:00, 18.76it/s, Test Loss 1.2518]\n",
      "Epoch 18: 100%|██████████| 207/207 [00:22<00:00,  9.20it/s, Loss 1.0448]\n",
      "Test Epoch 18: 100%|██████████| 52/52 [00:02<00:00, 19.08it/s, Test Loss 1.2558]\n",
      "Epoch 19: 100%|██████████| 207/207 [00:22<00:00,  9.25it/s, Loss 1.0300]\n",
      "Test Epoch 19: 100%|██████████| 52/52 [00:02<00:00, 19.57it/s, Test Loss 1.2589]\n",
      "Epoch 20: 100%|██████████| 207/207 [00:22<00:00,  9.18it/s, Loss 1.0159]\n",
      "Test Epoch 20: 100%|██████████| 52/52 [00:02<00:00, 19.47it/s, Test Loss 1.2635]\n"
     ]
    }
   ],
   "source": [
    "@tf.function\n",
    "def eval_step(src, tgt, encoder, decoder, dec_tok):\n",
    "    bsz = src.shape[0]\n",
    "    loss = 0\n",
    "\n",
    "    enc_out = encoder(src)\n",
    "\n",
    "    h_dec = enc_out[:, -1]\n",
    "\n",
    "    dec_src = tf.expand_dims([dec_tok.word_index['<start>']] * bsz, 1)\n",
    "\n",
    "    for t in range(1, tgt.shape[1]):\n",
    "        pred, h_dec, _ = decoder(dec_src, h_dec, enc_out)\n",
    "\n",
    "        loss += loss_function(tgt[:, t], pred)\n",
    "        dec_src = tf.expand_dims(tgt[:, t], 1)\n",
    "\n",
    "    batch_loss = (loss / int(tgt.shape[1]))\n",
    "\n",
    "    return batch_loss\n",
    "\n",
    "\n",
    "# Training Process\n",
    "\n",
    "from tqdm import tqdm\n",
    "\n",
    "train_losses_g = []\n",
    "test_losses_g = []\n",
    "\n",
    "EPOCHS = 20\n",
    "\n",
    "for epoch in range(EPOCHS):\n",
    "    total_loss = 0\n",
    "\n",
    "    idx_list = list(range(0, enc_train.shape[0], BATCH_SIZE))\n",
    "    random.shuffle(idx_list)\n",
    "    t = tqdm(idx_list)\n",
    "\n",
    "    for (batch, idx) in enumerate(t):\n",
    "        batch_loss = train_step(enc_train[idx:idx+BATCH_SIZE],\n",
    "                                dec_train[idx:idx+BATCH_SIZE],\n",
    "                                encoder,\n",
    "                                decoder,\n",
    "                                optimizer,\n",
    "                                dec_tokenizer)\n",
    "\n",
    "        total_loss += batch_loss\n",
    "\n",
    "        t.set_description_str('Epoch %2d' % (epoch + 1))\n",
    "        t.set_postfix_str('Loss %.4f' % (total_loss.numpy() / (batch + 1)))\n",
    "        \n",
    "    train_losses_g.append(total_loss.numpy() / len(idx_list))\n",
    "\n",
    "    test_loss = 0\n",
    "\n",
    "    idx_list = list(range(0, enc_val.shape[0], BATCH_SIZE))\n",
    "    random.shuffle(idx_list)\n",
    "    t = tqdm(idx_list)\n",
    "\n",
    "    for (test_batch, idx) in enumerate(t):\n",
    "        test_batch_loss = eval_step(enc_val[idx:idx+BATCH_SIZE],\n",
    "                                    dec_val[idx:idx+BATCH_SIZE],\n",
    "                                    encoder,\n",
    "                                    decoder,\n",
    "                                    dec_tokenizer)\n",
    "\n",
    "        test_loss += test_batch_loss\n",
    "\n",
    "        t.set_description_str('Test Epoch %2d' % (epoch + 1))\n",
    "        t.set_postfix_str('Test Loss %.4f' % (test_loss.numpy() / (test_batch + 1)))\n",
    "        \n",
    "    test_losses_g.append(test_loss.numpy() / len(idx_list))"
   ]
  },
  {
   "cell_type": "code",
   "execution_count": 35,
   "id": "97363d80",
   "metadata": {},
   "outputs": [
    {
     "name": "stderr",
     "output_type": "stream",
     "text": [
      "/tmp/ipykernel_231/2350234102.py:45: UserWarning: FixedFormatter should only be used together with FixedLocator\n",
      "  ax.set_xticklabels([''] + sentence, fontdict=fontdict, rotation=90)\n",
      "/tmp/ipykernel_231/2350234102.py:46: UserWarning: FixedFormatter should only be used together with FixedLocator\n",
      "  ax.set_yticklabels([''] + predicted_sentence, fontdict=fontdict)\n"
     ]
    },
    {
     "name": "stdout",
     "output_type": "stream",
     "text": [
      "Input: 오바마는 대통령이다 .\n",
      "Predicted translation: the u . <end> \n"
     ]
    },
    {
     "data": {
      "image/png": "[encoded data removed]",
      "text/plain": [
       "<Figure size 720x720 with 1 Axes>"
      ]
     },
     "metadata": {
      "needs_background": "light"
     },
     "output_type": "display_data"
    },
    {
     "name": "stdout",
     "output_type": "stream",
     "text": [
      "Input: 시민들은 도시 속에 산다 .\n",
      "Predicted translation: the first time . <end> \n"
     ]
    },
    {
     "data": {
      "image/png": "[encoded data removed]",
      "text/plain": [
       "<Figure size 720x720 with 1 Axes>"
      ]
     },
     "metadata": {
      "needs_background": "light"
     },
     "output_type": "display_data"
    },
    {
     "name": "stdout",
     "output_type": "stream",
     "text": [
      "Input: 커피는 필요 없다 .\n",
      "Predicted translation: the first time . <end> \n"
     ]
    },
    {
     "data": {
      "image/png": "[encoded data removed]",
      "text/plain": [
       "<Figure size 720x720 with 1 Axes>"
      ]
     },
     "metadata": {
      "needs_background": "light"
     },
     "output_type": "display_data"
    },
    {
     "name": "stdout",
     "output_type": "stream",
     "text": [
      "Input: 일곱 명의 사망자가 발생했다 .\n",
      "Predicted translation: the u . <end> \n"
     ]
    },
    {
     "data": {
      "image/png": "[encoded data removed]",
      "text/plain": [
       "<Figure size 720x720 with 1 Axes>"
      ]
     },
     "metadata": {
      "needs_background": "light"
     },
     "output_type": "display_data"
    }
   ],
   "source": [
    "sentences = [\n",
    "    \"오바마는 대통령이다.\",\n",
    "    \"시민들은 도시 속에 산다.\",\n",
    "    \"커피는 필요 없다.\",\n",
    "    \"일곱 명의 사망자가 발생했다.\"\n",
    "]\n",
    "\n",
    "for sentence in sentences:\n",
    "    translate(sentence, encoder, decoder)"
   ]
  },
  {
   "cell_type": "code",
   "execution_count": 37,
   "id": "073816c8",
   "metadata": {},
   "outputs": [
    {
     "data": {
      "image/png": "[encoded data removed]",
      "text/plain": [
       "<Figure size 720x432 with 1 Axes>"
      ]
     },
     "metadata": {
      "needs_background": "light"
     },
     "output_type": "display_data"
    }
   ],
   "source": [
    "plt.figure(figsize=(10, 6))\n",
    "\n",
    "# bahdanau attention (파란색)\n",
    "plt.plot(train_losses, 'b--', label='Training Loss (Bahdanau)')\n",
    "plt.plot(test_losses, 'b-', label='Validation Loss (Bahdanau)')\n",
    "\n",
    "# luong attention (빨간색)\n",
    "plt.plot(train_losses_g, 'r--', label='Training Loss (Luong)')\n",
    "plt.plot(test_losses_g, 'r-', label='Validation Loss (Luong)')\n",
    "\n",
    "plt.xlabel('Epochs')\n",
    "plt.ylabel('Loss')\n",
    "plt.legend()\n",
    "plt.title('Training and Validation Losses')\n",
    "plt.show()"
   ]
  },
  {
   "cell_type": "markdown",
   "id": "4374a046",
   "metadata": {},
   "source": [
    "## Summary\n",
    "\n",
    "Bahdanau attention, Luong attention(general) all didn't translate well.\n",
    "\n",
    "| Translation(korean -> english) | Bahdanau attention | Luong attention(general) |\n",
    "|----------|----------|----------|\n",
    "| 오바마는 대통령이다.   | the government is a new york . | the u .  |\n",
    "| 시민들은 도시 속에 산다.  | the government is a new york . | the first time .  |\n",
    "| 커피는 필요 없다. | the u . s . m .   | the first time .  |\n",
    "|일곱 명의 사망자가 발생했다.  |the government is a new york . | the u .  |\n",
    "\n",
    "\n",
    "They all overfitted\n",
    "\n",
    "Due to the small size of dataset, seq2seq didn't work well and they easily overfitted.\n",
    "Bahdanau attention model's val loss converged near 20 epoch and Luong attention(general) model converged near at 10 epoch.\n",
    "I think it is because general version has less weights to learn(compared to bahdanau), which leads to less complexity."
   ]
  },
  {
   "cell_type": "code",
   "execution_count": null,
   "id": "464eb0b8",
   "metadata": {},
   "outputs": [],
   "source": []
  }
 ],
 "metadata": {
  "kernelspec": {
   "display_name": "Python 3 (ipykernel)",
   "language": "python",
   "name": "python3"
  },
  "language_info": {
   "codemirror_mode": {
    "name": "ipython",
    "version": 3
   },
   "file_extension": ".py",
   "mimetype": "text/x-python",
   "name": "python",
   "nbconvert_exporter": "python",
   "pygments_lexer": "ipython3",
   "version": "3.9.7"
  }
 },
 "nbformat": 4,
 "nbformat_minor": 5
}
